{
 "cells": [
  {
   "cell_type": "markdown",
   "metadata": {},
   "source": [
    "## Imports"
   ]
  },
  {
   "cell_type": "code",
   "execution_count": 1,
   "metadata": {},
   "outputs": [],
   "source": [
    "from pulp import *\n",
    "import pandas as pd\n",
    "import os"
   ]
  },
  {
   "cell_type": "markdown",
   "metadata": {},
   "source": [
    "## Reading In Input File"
   ]
  },
  {
   "cell_type": "code",
   "execution_count": 2,
   "metadata": {},
   "outputs": [],
   "source": [
    "data = pd.read_excel('D:\\\\contents\\\\gtech_ms\\\\week_7\\\\week_7_data-summer\\\\data 15.2\\\\diet.xls')\n",
    "data = data[0:64].values.tolist()"
   ]
  },
  {
   "cell_type": "markdown",
   "metadata": {},
   "source": [
    "## Converting Food And Cost To Dict Format"
   ]
  },
  {
   "cell_type": "code",
   "execution_count": 3,
   "metadata": {},
   "outputs": [],
   "source": [
    "foods = [x[0] for x in data]\n",
    "cost = dict([(x[0], float(x[1])) for x in data])\n",
    "calories = dict([(x[0], float(x[3])) for x in data])\n",
    "chol = dict([(x[0], float(x[4])) for x in data])\n",
    "fat = dict([(x[0], float(x[5])) for x in data])\n",
    "sodium = dict([(x[0], float(x[6])) for x in data])\n",
    "carbs = dict([(x[0], float(x[7])) for x in data])\n",
    "fiber = dict([(x[0], float(x[8])) for x in data])\n",
    "protein = dict([(x[0], float(x[9])) for x in data])\n",
    "vitA = dict([(x[0], float(x[10])) for x in data])\n",
    "vitC = dict([(x[0], float(x[11])) for x in data])\n",
    "calcium = dict([(x[0], float(x[12])) for x in data])\n",
    "iron = dict([(x[0], float(x[13])) for x in data])"
   ]
  },
  {
   "cell_type": "markdown",
   "metadata": {},
   "source": [
    "## Initializing Objective Function And Variables"
   ]
  },
  {
   "cell_type": "code",
   "execution_count": 4,
   "metadata": {},
   "outputs": [],
   "source": [
    "diet = LpProblem(\"Diet Optimization\",LpMinimize)\n",
    "\n",
    "foodVars = LpVariable.dicts(\"Foods\", foods, lowBound = 0 )\n",
    "chosenVars = LpVariable.dicts(\"Chosen\", foods, lowBound = 0, upBound = 1, cat = \"Binary\")\n",
    "\n",
    "diet += lpSum([cost[f]*foodVars[f] for f in foods]), \"Total Cost\""
   ]
  },
  {
   "cell_type": "markdown",
   "metadata": {},
   "source": [
    "## Adding Contraint"
   ]
  },
  {
   "cell_type": "code",
   "execution_count": 5,
   "metadata": {},
   "outputs": [],
   "source": [
    "diet += lpSum([calories[f]*foodVars[f] for f in foods]) >= 1500, 'min Calories'\n",
    "diet += lpSum([calories[f]*foodVars[f] for f in foods]) <= 2500, 'max Calories'\n",
    "\n",
    "diet += lpSum([chol[f]*foodVars[f] for f in foods]) >= 30, 'min Cholesterol'\n",
    "diet += lpSum([chol[f]*foodVars[f] for f in foods]) <= 240, 'max Cholesterol'\n",
    "\n",
    "diet += lpSum([fat[f]*foodVars[f] for f in foods]) >= 20, 'min fat'\n",
    "diet += lpSum([fat[f]*foodVars[f] for f in foods]) <= 70, 'max fat'\n",
    "\n",
    "diet += lpSum([sodium[f]*foodVars[f] for f in foods]) >= 800, 'min sodium'\n",
    "diet += lpSum([sodium[f]*foodVars[f] for f in foods]) <= 2000, 'max sodium'\n",
    "\n",
    "diet += lpSum([carbs[f]*foodVars[f] for f in foods]) >= 130, 'min Carbs'\n",
    "diet += lpSum([carbs[f]*foodVars[f] for f in foods]) <= 450, 'max Carbs'\n",
    "\n",
    "diet += lpSum([fiber[f]*foodVars[f] for f in foods]) >= 125, 'min fiber'\n",
    "diet += lpSum([fiber[f]*foodVars[f] for f in foods]) <= 250, 'max fiber'\n",
    "\n",
    "diet += lpSum([protein[f]*foodVars[f] for f in foods]) >= 60, 'min protein'\n",
    "diet += lpSum([protein[f]*foodVars[f] for f in foods]) <= 100, 'max protein'\n",
    "\n",
    "diet += lpSum([vitA[f]*foodVars[f] for f in foods]) >= 1000, 'min vitA'\n",
    "diet += lpSum([vitA[f]*foodVars[f] for f in foods]) <= 10000, 'max vitA'\n",
    "\n",
    "diet += lpSum([vitC[f]*foodVars[f] for f in foods]) >= 400, 'min vitC'\n",
    "diet += lpSum([vitC[f]*foodVars[f] for f in foods]) <= 5000, 'max vitC'\n",
    "\n",
    "diet += lpSum([calcium[f]*foodVars[f] for f in foods]) >= 700, 'min calcium'\n",
    "diet += lpSum([calcium[f]*foodVars[f] for f in foods]) <= 1500, 'max calcium'\n",
    "\n",
    "diet += lpSum([iron[f]*foodVars[f] for f in foods]) >= 10, 'min iron'\n",
    "diet += lpSum([iron[f]*foodVars[f] for f in foods]) <= 40, 'max iron'"
   ]
  },
  {
   "cell_type": "markdown",
   "metadata": {},
   "source": [
    "## Solving For 15.2 \n",
    "### 1)"
   ]
  },
  {
   "cell_type": "code",
   "execution_count": 7,
   "metadata": {},
   "outputs": [
    {
     "name": "stdout",
     "output_type": "stream",
     "text": [
      "Status: Optimal\n",
      "Foods_Celery,_Raw = 52.64371\n",
      "Foods_Frozen_Broccoli = 0.25960653\n",
      "Foods_Lettuce,Iceberg,Raw = 63.988506\n",
      "Foods_Oranges = 2.2929389\n",
      "Foods_Poached_Eggs = 0.14184397\n",
      "Foods_Popcorn,Air_Popped = 13.869322\n",
      "Total Cost of food is $4.34\n"
     ]
    }
   ],
   "source": [
    "diet.solve()\n",
    "print (\"Status:\", LpStatus[diet.status])\n",
    "for v in diet.variables():\n",
    "    if v.varValue != 0.0: #Only print items that are not zero\n",
    "        print (v.name, \"=\", v.varValue)\n",
    "\n",
    "print (\"Total Cost of food is $%.2f\" % value(diet.objective))"
   ]
  },
  {
   "cell_type": "markdown",
   "metadata": {},
   "source": [
    "### It can be seen from the above results only the cheapest food items are chosen by optimizer. The optimizer chosen the cheapest food thereby satisfying the calorie requirements."
   ]
  },
  {
   "cell_type": "markdown",
   "metadata": {},
   "source": [
    "## Including Additional Contraints\n"
   ]
  },
  {
   "cell_type": "code",
   "execution_count": 10,
   "metadata": {},
   "outputs": [],
   "source": [
    "for f in foods:\n",
    "     diet += foodVars[f] <= 10000000*chosenVars[f]\n",
    "     diet += foodVars[f] >= .1*chosenVars[f]\n",
    "\n",
    "diet += chosenVars['Frozen Broccoli'] + chosenVars['Celery, Raw'] <=1\n",
    "\n",
    "diet += chosenVars['Tofu'] + chosenVars['Roasted Chicken'] + \\\n",
    "chosenVars['Poached Eggs']+chosenVars['Scrambled Eggs']+chosenVars['Bologna,Turkey'] \\\n",
    "+chosenVars['Frankfurter, Beef']+chosenVars['Ham,Sliced,Extralean'] \\\n",
    "+chosenVars['Kielbasa,Prk']+chosenVars['Hamburger W/Toppings'] \\\n",
    "+chosenVars['Hotdog, Plain']+chosenVars['Pork'] +chosenVars['Sardines in Oil'] \\\n",
    "+chosenVars['White Tuna in Water'] >= 3"
   ]
  },
  {
   "cell_type": "markdown",
   "metadata": {},
   "source": [
    "## Solving For 15.2 \n",
    "### 2)"
   ]
  },
  {
   "cell_type": "code",
   "execution_count": 11,
   "metadata": {},
   "outputs": [
    {
     "name": "stdout",
     "output_type": "stream",
     "text": [
      "Selected Food Items And Corresponding Calories\n",
      "\n",
      "Foods_Celery,_Raw = 42.399358\n",
      "Foods_Kielbasa,Prk = 0.1\n",
      "Foods_Lettuce,Iceberg,Raw = 82.802586\n",
      "Foods_Oranges = 3.0771841\n",
      "Foods_Peanut_Butter = 1.9429716\n",
      "Foods_Poached_Eggs = 0.1\n",
      "Foods_Popcorn,Air_Popped = 13.223294\n",
      "Foods_Scrambled_Eggs = 0.1\n",
      "\n",
      "Total Cost of food with additional constraints is 4.512543427000001\n"
     ]
    }
   ],
   "source": [
    "\n",
    "diet.solve()\n",
    "print(\"Selected Food Items And Corresponding Calories\\n\")\n",
    "for v in diet.variables():\n",
    "     if v.varValue != 0.0 and \"Chosen\" not in v.name: #Only print items that are not zero\n",
    "        print(v.name, \"=\", v.varValue)\n",
    "\n",
    "print (\"\\nTotal Cost of food with additional constraints is\",value(diet.objective))"
   ]
  },
  {
   "cell_type": "markdown",
   "metadata": {},
   "source": [
    "### This diet looks more convincing since it satisfies both cost and calories. And more importantly the above diet looks more palatable."
   ]
  },
  {
   "cell_type": "code",
   "execution_count": null,
   "metadata": {},
   "outputs": [],
   "source": []
  }
 ],
 "metadata": {
  "kernelspec": {
   "display_name": "Python 3",
   "language": "python",
   "name": "python3"
  },
  "language_info": {
   "codemirror_mode": {
    "name": "ipython",
    "version": 3
   },
   "file_extension": ".py",
   "mimetype": "text/x-python",
   "name": "python",
   "nbconvert_exporter": "python",
   "pygments_lexer": "ipython3",
   "version": "3.6.5"
  }
 },
 "nbformat": 4,
 "nbformat_minor": 2
}
