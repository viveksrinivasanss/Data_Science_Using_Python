{
 "cells": [
  {
   "cell_type": "markdown",
   "metadata": {},
   "source": [
    "### Global Imports"
   ]
  },
  {
   "cell_type": "code",
   "execution_count": 5,
   "metadata": {},
   "outputs": [],
   "source": [
    "import urllib.request\n",
    "from bs4 import BeautifulSoup\n",
    "import pandas\n",
    "import re\n",
    "from selenium import webdriver\n",
    "from selenium.webdriver.chrome.options import Options \n",
    "import os\n",
    "import time"
   ]
  },
  {
   "cell_type": "markdown",
   "metadata": {},
   "source": [
    "### Global Variables"
   ]
  },
  {
   "cell_type": "code",
   "execution_count": 8,
   "metadata": {},
   "outputs": [],
   "source": [
    "#extensionPath = '.\\Hola-Free-VPN-Proxy-Unblocker-Chrome Web Store_v1.159.227.crx'\n",
    "executable_path = \"chromedriver.exe\"\n",
    "inputFilePath = \"D:\\\\DSIL\\\\county_case_input.csv\"\n",
    "outputFilePath = \"D:\\\\DSIL\\\\oscn_details.csv\""
   ]
  },
  {
   "cell_type": "markdown",
   "metadata": {},
   "source": [
    "### Setting chrome option (if required)"
   ]
  },
  {
   "cell_type": "code",
   "execution_count": null,
   "metadata": {},
   "outputs": [],
   "source": [
    "#os.environ[\"webdriver.chrome.driver\"] = executable_path\n",
    "#chrome_options = Options()\n",
    "#chrome_options.add_extension(extensionPath)"
   ]
  },
  {
   "cell_type": "markdown",
   "metadata": {},
   "source": [
    "### Creating Driver"
   ]
  },
  {
   "cell_type": "code",
   "execution_count": 78,
   "metadata": {},
   "outputs": [],
   "source": [
    "driver = webdriver.Chrome(executable_path=executable_path)"
   ]
  },
  {
   "cell_type": "code",
   "execution_count": null,
   "metadata": {},
   "outputs": [],
   "source": [
    "driver.get(oscn_url)\n",
    "details = {}"
   ]
  },
  {
   "cell_type": "markdown",
   "metadata": {},
   "source": [
    "### Build OSCN Url"
   ]
  },
  {
   "cell_type": "code",
   "execution_count": 181,
   "metadata": {},
   "outputs": [],
   "source": [
    "def build_oscn_url(countyName,caseNumber):\n",
    "    oscnBaseUrl = \"https://www.oscn.net/dockets/GetCaseInformation.aspx\"\n",
    "    parsed = re.match(\"([^-]*)-([0-9]*)-([^-]*)(.*)$\",caseNumber)\n",
    "    caseType = parsed.groups()[0]\n",
    "    caseYear = parsed.groups()[1]\n",
    "    caseNum = parsed.groups()[2]\n",
    "    extra = parsed.groups()[3]\n",
    "\n",
    "    cn = caseType + '-' + caseYear + '-' + caseNum\n",
    "\n",
    "    s = oscnBaseUrl + \"?db=\" + countyName.lower() + \"&number=\" + cn;\n",
    "    return s\n",
    " "
   ]
  },
  {
   "cell_type": "markdown",
   "metadata": {},
   "source": [
    "### Getting Attorney Information"
   ]
  },
  {
   "cell_type": "code",
   "execution_count": 162,
   "metadata": {
    "scrolled": true
   },
   "outputs": [],
   "source": [
    "def get_attorney_info(driver):\n",
    "    attorneyDetails = {}\n",
    "    attorneyTable = driver.find_elements_by_css_selector(\"table[id='TABLE_2'] tr\")\n",
    "    for elem in attorneyTable[1:]:\n",
    "        attorneyList = elem.text.split(\"\\n\")[:-1]\n",
    "        attorneyDetails[\"attorney\" + \"_\" + str(attorneyTable.index(elem))] = \" \".join(attorneyList)\n",
    "        attorneyDetails[\"representedParties\" + \"_\" + str(attorneyTable.index(elem))] = elem.text.split(\"\\n\")[-1]\n",
    "    return attorneyDetails"
   ]
  },
  {
   "cell_type": "markdown",
   "metadata": {},
   "source": [
    "### Getting Events Information"
   ]
  },
  {
   "cell_type": "code",
   "execution_count": 163,
   "metadata": {},
   "outputs": [],
   "source": [
    "def get_events_info(driver):\n",
    "    eventsDetails = {}\n",
    "    eventsTable = driver.find_elements_by_css_selector(\"table[id='TABLE_3'] tr\")\n",
    "    for elem in eventsTable[1:]:\n",
    "        infoTd = elem.find_elements_by_css_selector(\"td\") \n",
    "        eventsDetails[\"event\" + \"_\" + str(eventsTable.index(elem))] = infoTd[0].text\n",
    "        eventsDetails[\"party\" + \"_\" + str(eventsTable.index(elem))] = infoTd[1].text\n",
    "        eventsDetails[\"docket\" + \"_\" + str(eventsTable.index(elem))] = infoTd[2].text\n",
    "        eventsDetails[\"reporter\" + \"_\" + str(eventsTable.index(elem))] = infoTd[3].text\n",
    "    return eventsDetails"
   ]
  },
  {
   "cell_type": "markdown",
   "metadata": {},
   "source": [
    "### Getting Docket Information"
   ]
  },
  {
   "cell_type": "code",
   "execution_count": 237,
   "metadata": {},
   "outputs": [],
   "source": [
    "def get_docket_info(driver):\n",
    "    docketDetails = {}\n",
    "    docketTable = driver.find_elements_by_css_selector(\"table[class='docketlist'] tr\")\n",
    "    for elem in docketTable[1:]:\n",
    "        if len(elem.text.split(\"\\n\")[0].strip()) ==  10:\n",
    "            docketDetails[\"docket_date\" + \"_\" + str(docketTable.index(elem))] = elem.text.split(\"\\n\")[0].split(\"  \")[0]\n",
    "            if len(elem.text.split(\"\\n\")[0].split(\"  \")) > 1:\n",
    "                docketDetails[\"docket_code\" + \"_\" + str(docketTable.index(elem))] = elem.text.split(\"\\n\")[0].split(\"  \")[1]\n",
    "            else:\n",
    "                docketDetails[\"docket_code\" + \"_\" + str(docketTable.index(elem))] = \"\"\n",
    "    return docketDetails"
   ]
  },
  {
   "cell_type": "markdown",
   "metadata": {},
   "source": [
    "### Main Flow"
   ]
  },
  {
   "cell_type": "code",
   "execution_count": 248,
   "metadata": {},
   "outputs": [],
   "source": [
    "inputFile = pandas.read_csv(inputFilePath)\n",
    "oscnDetailsList = []\n",
    "for row in inputFile[:10].itertuples():\n",
    "    oscnUrl = build_oscn_url(row[2],row[4])\n",
    "    driver.get(oscnUrl)\n",
    "    \n",
    "    baseInfo = {\"countyName\":row[2],\"caseNum\":row[4],\"oscnUrl\":oscnUrl}\n",
    "    attorneyInfo = get_attorney_info(driver)\n",
    "    eventsInfo = get_events_info(driver)\n",
    "    docketInfo = get_docket_info(driver)\n",
    "    \n",
    "    details =  {**baseInfo,**attorneyInfo, **eventsInfo, **docketInfo}\n",
    "    oscnDetailsList.append(details)\n",
    "\n"
   ]
  },
  {
   "cell_type": "markdown",
   "metadata": {},
   "source": [
    "## Writing Out"
   ]
  },
  {
   "cell_type": "code",
   "execution_count": 249,
   "metadata": {},
   "outputs": [],
   "source": [
    "output = pandas.DataFrame(oscnDetailsList)\n",
    "output.to_csv(outputFilePath,index=False)"
   ]
  },
  {
   "cell_type": "markdown",
   "metadata": {},
   "source": [
    "## Spydering Flow"
   ]
  },
  {
   "cell_type": "code",
   "execution_count": 39,
   "metadata": {},
   "outputs": [],
   "source": [
    "## Global Variables \n",
    "countyName = \"oklahoma\" # we have make this as list and iterate\n",
    "startDate = \"2016/12/31\"\n",
    "endDate = \"2018/01/01\"\n",
    "baseUrl = \"http://www.oscn.net/dockets/Results.aspx?\"\n",
    "\n",
    "\n",
    "## Constructing Spyder Url\n",
    "def construct_spyder_url(county,start,end):\n",
    "    spyderUrl = baseUrl + \"db=\" + county + \"&dcct=2\" + \"&FiledDateL=\" + start + \"&FiledDateH=\" + end\n",
    "    return spyderUrl\n",
    "\n",
    "## Getting case urls for given Spyder Url\n",
    "def get_case_urls(countyName,startDate,endDate,driver):\n",
    "    spyderUrl = construct_spyder_url(countyName,startDate,endDate)\n",
    "    driver.get(spyderUrl)\n",
    "    caseList = []\n",
    "    cases = driver.find_elements_by_css_selector(\"table[class='caseCourtTable'] tr[class*='resultTableRow']\")\n",
    "    for case in cases:\n",
    "        caseList.append(case.find_element_by_tag_name(\"a\").get_attribute(\"href\"))\n",
    "    return caseList\n",
    "\n",
    "\n",
    "## CaseList mainflow\n",
    "driver = webdriver.Chrome(executable_path=executable_path)\n",
    "caseList = get_case_urls(countyName,startDate,endDate,driver)"
   ]
  },
  {
   "cell_type": "code",
   "execution_count": 6,
   "metadata": {},
   "outputs": [],
   "source": []
  },
  {
   "cell_type": "code",
   "execution_count": 40,
   "metadata": {},
   "outputs": [],
   "source": [
    "\n"
   ]
  },
  {
   "cell_type": "code",
   "execution_count": 41,
   "metadata": {},
   "outputs": [
    {
     "data": {
      "text/plain": [
       "500"
      ]
     },
     "execution_count": 41,
     "metadata": {},
     "output_type": "execute_result"
    }
   ],
   "source": [
    "len(caseList)"
   ]
  }
 ],
 "metadata": {
  "kernelspec": {
   "display_name": "Python 3",
   "language": "python",
   "name": "python3"
  },
  "language_info": {
   "codemirror_mode": {
    "name": "ipython",
    "version": 3
   },
   "file_extension": ".py",
   "mimetype": "text/x-python",
   "name": "python",
   "nbconvert_exporter": "python",
   "pygments_lexer": "ipython3",
   "version": "3.7.3"
  }
 },
 "nbformat": 4,
 "nbformat_minor": 2
}
