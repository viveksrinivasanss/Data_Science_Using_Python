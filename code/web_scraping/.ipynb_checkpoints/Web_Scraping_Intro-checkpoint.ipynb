{
 "cells": [
  {
   "cell_type": "markdown",
   "metadata": {},
   "source": [
    "# Simple Scraper"
   ]
  },
  {
   "cell_type": "markdown",
   "metadata": {},
   "source": [
    "## Global Imports"
   ]
  },
  {
   "cell_type": "code",
   "execution_count": 9,
   "metadata": {},
   "outputs": [],
   "source": [
    "import urllib.request\n",
    "from bs4 import BeautifulSoup"
   ]
  },
  {
   "cell_type": "markdown",
   "metadata": {},
   "source": [
    "## Accessing Website"
   ]
  },
  {
   "cell_type": "code",
   "execution_count": 28,
   "metadata": {},
   "outputs": [
    {
     "data": {
      "text/plain": [
       "200"
      ]
     },
     "execution_count": 28,
     "metadata": {},
     "output_type": "execute_result"
    }
   ],
   "source": [
    "url = \"https://en.wikipedia.org/wiki/List_of_state_and_union_territory_capitals_in_India\"\n",
    "page = urllib.request.urlopen(url)\n",
    "page.status"
   ]
  },
  {
   "cell_type": "markdown",
   "metadata": {},
   "source": [
    "## Converting Webpage To bs4 Object"
   ]
  },
  {
   "cell_type": "code",
   "execution_count": 29,
   "metadata": {},
   "outputs": [],
   "source": [
    "soup = BeautifulSoup(page,\"lxml\")"
   ]
  },
  {
   "cell_type": "code",
   "execution_count": 33,
   "metadata": {},
   "outputs": [
    {
     "data": {
      "text/plain": [
       "<!DOCTYPE html>\n",
       "<html class=\"client-nojs\" dir=\"ltr\" lang=\"en\">\n",
       "<head>\n",
       "<meta charset=\"utf-8\"/>\n",
       "<title>List of state and union territory capitals in India - Wikipedia</title>\n",
       "<script>document.documentElement.className=document.documentElement.className.replace(/(^|\\s)client-nojs(\\s|$)/,\"$1client-js$2\");RLCONF={\"wgCanonicalNamespace\":\"\",\"wgCanonicalSpecialPageName\":!1,\"wgNamespaceNumber\":0,\"wgPageName\":\"List_of_state_and_union_territory_capitals_in_India\",\"wgTitle\":\"List of state and union territory capitals in India\",\"wgCurRevisionId\":904438853,\"wgRevisionId\":904438853,\"wgArticleId\":2371868,\"wgIsArticle\":!0,\"wgIsRedirect\":!1,\"wgAction\":\"view\",\"wgUserName\":null,\"wgUserGroups\":[\"*\"],\"wgCategories\":[\"Use dmy dates from November 2018\",\"Use Indian English from November 2018\",\"All Wikipedia articles written in Indian English\",\"States and union territories of India-related lists\",\"Indian capital cities\",\"Lists of cities in India\",\"Lists of capitals of country subdivisions\",\"Cities and towns in India by state or territory\"],\"wgBreakFrames\":!1,\"wgPageContentLanguage\":\"en\",\"wgPageContentModel\":\"wikitext\",\"wgSeparatorTransformTable\":[\"\",\"\"],\"wgDigitTransformTable\":\n",
       "[\"\",\"\"],\"wgDefaultDateFormat\":\"dmy\",\"wgMonthNames\":[\"\",\"January\",\"February\",\"March\",\"April\",\"May\",\"June\",\"July\",\"August\",\"September\",\"October\",\"November\",\"December\"],\"wgMonthNamesShort\":[\"\",\"Jan\",\"Feb\",\"Mar\",\"Apr\",\"May\",\"Jun\",\"Jul\",\"Aug\",\"Sep\",\"Oct\",\"Nov\",\"Dec\"],\"wgRelevantPageName\":\"List_of_state_and_union_territory_capitals_in_India\",\"wgRelevantArticleId\":2371868,\"wgRequestId\":\"XTdcHgpAMFsAAGOXhT4AAABH\",\"wgCSPNonce\":!1,\"wgIsProbablyEditable\":!0,\"wgRelevantPageIsProbablyEditable\":!0,\"wgRestrictionEdit\":[],\"wgRestrictionMove\":[],\"wgMediaViewerOnClick\":!0,\"wgMediaViewerEnabledByDefault\":!0,\"wgPopupsReferencePreviews\":!1,\"wgPopupsConflictsWithNavPopupGadget\":!1,\"wgVisualEditor\":{\"pageLanguageCode\":\"en\",\"pageLanguageDir\":\"ltr\",\"pageVariantFallbacks\":\"en\"},\"wgMFDisplayWikibaseDescriptions\":{\"search\":!0,\"nearby\":!0,\"watchlist\":!0,\"tagline\":!1},\"wgWMESchemaEditAttemptStepOversample\":!1,\"wgPoweredByHHVM\":!0,\"wgULSCurrentAutonym\":\"English\",\"wgNoticeProject\":\n",
       "\"wikipedia\",\"wgWikibaseItemId\":\"Q3518799\",\"wgCentralAuthMobileDomain\":!1,\"wgEditSubmitButtonLabelPublish\":!0};RLSTATE={\"ext.gadget.charinsert-styles\":\"ready\",\"ext.globalCssJs.user.styles\":\"ready\",\"ext.globalCssJs.site.styles\":\"ready\",\"site.styles\":\"ready\",\"noscript\":\"ready\",\"user.styles\":\"ready\",\"ext.globalCssJs.user\":\"ready\",\"ext.globalCssJs.site\":\"ready\",\"user\":\"ready\",\"user.options\":\"ready\",\"user.tokens\":\"loading\",\"ext.cite.styles\":\"ready\",\"mediawiki.legacy.shared\":\"ready\",\"mediawiki.legacy.commonPrint\":\"ready\",\"jquery.tablesorter.styles\":\"ready\",\"mediawiki.toc.styles\":\"ready\",\"wikibase.client.init\":\"ready\",\"ext.visualEditor.desktopArticleTarget.noscript\":\"ready\",\"ext.uls.interlanguage\":\"ready\",\"ext.wikimediaBadges\":\"ready\",\"ext.3d.styles\":\"ready\",\"mediawiki.skinning.interface\":\"ready\",\"skins.vector.styles\":\"ready\"};RLPAGEMODULES=[\"ext.cite.ux-enhancements\",\"site\",\"mediawiki.page.startup\",\"mediawiki.page.ready\",\"jquery.tablesorter\",\"mediawiki.toc\",\"mediawiki.searchSuggest\",\n",
       "\"ext.gadget.teahouse\",\"ext.gadget.ReferenceTooltips\",\"ext.gadget.watchlist-notice\",\"ext.gadget.DRN-wizard\",\"ext.gadget.charinsert\",\"ext.gadget.refToolbar\",\"ext.gadget.extra-toolbar-buttons\",\"ext.gadget.switcher\",\"ext.centralauth.centralautologin\",\"mmv.head\",\"mmv.bootstrap.autostart\",\"ext.popups\",\"ext.visualEditor.desktopArticleTarget.init\",\"ext.visualEditor.targetLoader\",\"ext.eventLogging\",\"ext.wikimediaEvents\",\"ext.navigationTiming\",\"ext.uls.compactlinks\",\"ext.uls.interface\",\"ext.quicksurveys.init\",\"ext.centralNotice.geoIP\",\"ext.centralNotice.startUp\",\"skins.vector.js\"];</script>\n",
       "<script>(RLQ=window.RLQ||[]).push(function(){mw.loader.implement(\"user.tokens@0tffind\",function($,jQuery,require,module){/*@nomin*/mw.user.tokens.set({\"editToken\":\"+\\\\\",\"patrolToken\":\"+\\\\\",\"watchToken\":\"+\\\\\",\"csrfToken\":\"+\\\\\"});\n",
       "});});</script>\n",
       "<link href=\"/w/load.php?lang=en&amp;modules=ext.3d.styles%7Cext.cite.styles%7Cext.uls.interlanguage%7Cext.visualEditor.desktopArticleTarget.noscript%7Cext.wikimediaBadges%7Cjquery.tablesorter.styles%7Cmediawiki.legacy.commonPrint%2Cshared%7Cmediawiki.skinning.interface%7Cmediawiki.toc.styles%7Cskins.vector.styles%7Cwikibase.client.init&amp;only=styles&amp;skin=vector\" rel=\"stylesheet\"/>\n",
       "<script async=\"\" src=\"/w/load.php?lang=en&amp;modules=startup&amp;only=scripts&amp;raw=1&amp;skin=vector\"></script>\n",
       "<meta content=\"\" name=\"ResourceLoaderDynamicStyles\"/>\n",
       "<link href=\"/w/load.php?lang=en&amp;modules=ext.gadget.charinsert-styles&amp;only=styles&amp;skin=vector\" rel=\"stylesheet\"/>\n",
       "<link href=\"/w/load.php?lang=en&amp;modules=site.styles&amp;only=styles&amp;skin=vector\" rel=\"stylesheet\"/>\n",
       "<meta content=\"MediaWiki 1.34.0-wmf.14\" name=\"generator\"/>\n",
       "<meta content=\"origin\" name=\"referrer\"/>\n",
       "<meta content=\"origin-when-crossorigin\" name=\"referrer\"/>\n",
       "<meta content=\"origin-when-cross-origin\" name=\"referrer\"/>\n",
       "<link href=\"android-app://org.wikipedia/http/en.m.wikipedia.org/wiki/List_of_state_and_union_territory_capitals_in_India\" rel=\"alternate\"/>\n",
       "<link href=\"/w/index.php?title=List_of_state_and_union_territory_capitals_in_India&amp;action=edit\" rel=\"alternate\" title=\"Edit this page\" type=\"application/x-wiki\"/>\n",
       "<link href=\"/w/index.php?title=List_of_state_and_union_territory_capitals_in_India&amp;action=edit\" rel=\"edit\" title=\"Edit this page\"/>\n",
       "<link href=\"/static/apple-touch/wikipedia.png\" rel=\"apple-touch-icon\"/>\n",
       "<link href=\"/static/favicon/wikipedia.ico\" rel=\"shortcut icon\"/>\n",
       "<link href=\"/w/opensearch_desc.php\" rel=\"search\" title=\"Wikipedia (en)\" type=\"application/opensearchdescription+xml\"/>\n",
       "<link href=\"//en.wikipedia.org/w/api.php?action=rsd\" rel=\"EditURI\" type=\"application/rsd+xml\"/>\n",
       "<link href=\"//creativecommons.org/licenses/by-sa/3.0/\" rel=\"license\"/>\n",
       "<link href=\"https://en.wikipedia.org/wiki/List_of_state_and_union_territory_capitals_in_India\" rel=\"canonical\"/>\n",
       "<link href=\"//login.wikimedia.org\" rel=\"dns-prefetch\"/>\n",
       "<link href=\"//meta.wikimedia.org\" rel=\"dns-prefetch\"/>\n",
       "<!--[if lt IE 9]><script src=\"/w/resources/lib/html5shiv/html5shiv.js\"></script><![endif]-->\n",
       "</head>\n",
       "<body class=\"mediawiki ltr sitedir-ltr mw-hide-empty-elt ns-0 ns-subject mw-editable page-List_of_state_and_union_territory_capitals_in_India rootpage-List_of_state_and_union_territory_capitals_in_India skin-vector action-view\">\n",
       "<div class=\"noprint\" id=\"mw-page-base\"></div>\n",
       "<div class=\"noprint\" id=\"mw-head-base\"></div>\n",
       "<div class=\"mw-body\" id=\"content\" role=\"main\">\n",
       "<a id=\"top\"></a>\n",
       "<div class=\"mw-body-content\" id=\"siteNotice\"><!-- CentralNotice --></div>\n",
       "<div class=\"mw-indicators mw-body-content\">\n",
       "</div>\n",
       "<h1 class=\"firstHeading\" id=\"firstHeading\" lang=\"en\">List of state and union territory capitals in India</h1>\n",
       "<div class=\"mw-body-content\" id=\"bodyContent\">\n",
       "<div class=\"noprint\" id=\"siteSub\">From Wikipedia, the free encyclopedia</div>\n",
       "<div id=\"contentSub\"></div>\n",
       "<div id=\"jump-to-nav\"></div>\n",
       "<a class=\"mw-jump-link\" href=\"#mw-head\">Jump to navigation</a>\n",
       "<a class=\"mw-jump-link\" href=\"#p-search\">Jump to search</a>\n",
       "<div class=\"mw-content-ltr\" dir=\"ltr\" id=\"mw-content-text\" lang=\"en\"><div class=\"mw-parser-output\"><p class=\"mw-empty-elt\">\n",
       "</p>\n",
       "<table class=\"vertical-navbox nowraplinks\" style=\"float:right;clear:right;width:22.0em;margin:0 0 1.0em 1.0em;background:#f9f9f9;border:1px solid #aaa;padding:0.2em;border-spacing:0.4em 0;text-align:center;line-height:1.4em;font-size:88%\"><tbody><tr><th style=\"padding:0.2em 0.4em 0.2em;font-size:145%;line-height:1.2em\"><a href=\"/wiki/States_and_union_territories_of_India\" title=\"States and union territories of India\">States and union <br/> territories of India</a> <br/> ordered by</th></tr><tr><td style=\"padding:0.2em 0 0.4em\"><div class=\"center\"><div class=\"floatnone\"><a class=\"image\" href=\"/wiki/File:Flag_of_India.svg\"><img alt=\"Flag of India.svg\" data-file-height=\"900\" data-file-width=\"1350\" decoding=\"async\" height=\"47\" src=\"//upload.wikimedia.org/wikipedia/en/thumb/4/41/Flag_of_India.svg/70px-Flag_of_India.svg.png\" srcset=\"//upload.wikimedia.org/wikipedia/en/thumb/4/41/Flag_of_India.svg/105px-Flag_of_India.svg.png 1.5x, //upload.wikimedia.org/wikipedia/en/thumb/4/41/Flag_of_India.svg/140px-Flag_of_India.svg.png 2x\" width=\"70\"/></a></div></div></td></tr><tr><td class=\"hlist\" style=\"padding:0 0.1em 0.4em\">\n",
       "<ul><li><a href=\"/wiki/List_of_states_and_union_territories_of_India_by_area\" title=\"List of states and union territories of India by area\">Area</a></li>\n",
       "<li><a href=\"/wiki/List_of_states_and_union_territories_of_India_by_population\" title=\"List of states and union territories of India by population\">Population</a></li>\n",
       "<li><a href=\"/wiki/List_of_Indian_states_and_union_territories_by_GDP\" title=\"List of Indian states and union territories by GDP\">GDP</a> (<a href=\"/wiki/List_of_Indian_states_and_union_territories_by_GDP_per_capita\" title=\"List of Indian states and union territories by GDP per capita\">per capita</a>)</li></ul>\n",
       "<hr/>\n",
       "<ul><li><a href=\"/wiki/ISO_3166-2:IN\" title=\"ISO 3166-2:IN\">Abbreviations</a></li>\n",
       "<li><a class=\"mw-selflink selflink\">Capitals</a></li>\n",
       "<li><a href=\"/wiki/List_of_Indian_states_by_Child_Nutrition\" title=\"List of Indian states by Child Nutrition\">Child nutrition</a></li>\n",
       "<li><a href=\"/wiki/List_of_states_and_union_territories_of_India_by_crime_rate\" title=\"List of states and union territories of India by crime rate\">Crime rate</a></li>\n",
       "<li><a href=\"/wiki/List_of_states_and_union_territories_of_India_by_households_having_electricity\" title=\"List of states and union territories of India by households having electricity\">Electricity penetration</a></li>\n",
       "<li><a href=\"/wiki/List_of_states_and_union_territories_of_India_by_fertility_rate\" title=\"List of states and union territories of India by fertility rate\">Fertility rate</a></li>\n",
       "<li><a href=\"/wiki/Forest_cover_by_state_in_India\" title=\"Forest cover by state in India\">Forest cover</a></li>\n",
       "<li><a href=\"/wiki/Ease_of_doing_business_ranking_of_states_of_India\" title=\"Ease of doing business ranking of states of India\">Ease of doing business rank</a></li>\n",
       "<li><a href=\"/wiki/List_of_Indian_states_and_territories_by_highest_point\" title=\"List of Indian states and territories by highest point\">Highest point</a></li>\n",
       "<li><a href=\"/wiki/Indian_states_ranked_by_HIV_awareness\" title=\"Indian states ranked by HIV awareness\">HIV awareness</a></li>\n",
       "<li><a href=\"/wiki/List_of_Indian_states_and_territories_by_Human_Development_Index\" title=\"List of Indian states and territories by Human Development Index\">HDI</a></li>\n",
       "<li><a href=\"/wiki/Indian_states_ranking_by_families_owning_house\" title=\"Indian states ranking by families owning house\">Home ownership</a></li>\n",
       "<li><a href=\"/wiki/Indian_states_ranking_by_household_size\" title=\"Indian states ranking by household size\">Household size</a></li>\n",
       "<li><a href=\"/wiki/Indian_states_and_territories_ranked_by_incidents_of_human_trafficking\" title=\"Indian states and territories ranked by incidents of human trafficking\">Human trafficking</a></li>\n",
       "<li><a href=\"/wiki/Indian_states_ranking_by_institutional_delivery\" title=\"Indian states ranking by institutional delivery\">Institutional delivery</a></li>\n",
       "<li><a href=\"/wiki/List_of_Indian_states_and_union_territories_by_internet_users\" title=\"List of Indian states and union territories by internet users\">Internet Users</a></li>\n",
       "<li><a href=\"/wiki/List_of_Indian_states_by_life_expectancy_at_birth\" title=\"List of Indian states by life expectancy at birth\">Life expectancy at birth</a></li>\n",
       "<li><a href=\"/wiki/List_of_Indian_states_and_union_territories_by_literacy_rate\" title=\"List of Indian states and union territories by literacy rate\">Literacy rate</a></li>\n",
       "<li><a href=\"/wiki/Indian_states_ranking_by_media_exposure\" title=\"Indian states ranking by media exposure\">Media exposure</a></li>\n",
       "<li><a href=\"/wiki/Indian_states_ranked_by_number_of_vehicles\" title=\"Indian states ranked by number of vehicles\">Number of vehicles</a></li>\n",
       "<li><a href=\"/wiki/List_of_states_and_union_territories_of_India_by_voters\" title=\"List of states and union territories of India by voters\">Number of voters</a></li>\n",
       "<li><a href=\"/wiki/Obesity_in_India\" title=\"Obesity in India\">Obesity</a></li>\n",
       "<li><a href=\"/wiki/Indian_states_and_union_territories_ranked_by_prevalence_of_open_defecation\" title=\"Indian states and union territories ranked by prevalence of open defecation\">Open defecation</a></li>\n",
       "<li><a href=\"/wiki/List_of_Indian_state_and_union_territory_name_etymologies\" title=\"List of Indian state and union territory name etymologies\">Origin of name</a></li>\n",
       "<li><a href=\"/wiki/List_of_states_and_territories_of_India_by_number_of_places_of_worship\" title=\"List of states and territories of India by number of places of worship\">Places of worship</a></li>\n",
       "<li><a href=\"/wiki/List_of_Indian_states_and_union_territories_by_poverty_rate\" title=\"List of Indian states and union territories by poverty rate\">Poverty</a></li>\n",
       "<li><a href=\"/wiki/States_of_India_by_installed_power_capacity\" title=\"States of India by installed power capacity\">Power capacity</a></li>\n",
       "<li><a href=\"/wiki/List_of_Indian_states_and_union_territories_by_access_to_safe_drinking_water\" title=\"List of Indian states and union territories by access to safe drinking water\">Access to safe drinking water</a></li>\n",
       "<li><a href=\"/wiki/Indian_states_and_territories_ranked_by_safety_of_women\" title=\"Indian states and territories ranked by safety of women\">Safety of women</a></li>\n",
       "<li><a href=\"/wiki/Indian_states_ranked_by_school_enrollment_rate\" title=\"Indian states ranked by school enrollment rate\">School enrollment rate</a></li>\n",
       "<li><a href=\"/wiki/List_of_states_and_union_territories_of_India_by_sex_ratio\" title=\"List of states and union territories of India by sex ratio\">Sex ratio</a></li>\n",
       "<li><a href=\"/wiki/List_of_states_and_union_territories_of_India_by_suicide_rate\" title=\"List of states and union territories of India by suicide rate\">Suicides</a></li>\n",
       "<li><a href=\"/wiki/List_of_states_and_union_territories_of_India_by_tax_revenues\" title=\"List of states and union territories of India by tax revenues\">Tax revenues</a></li>\n",
       "<li><a href=\"/wiki/List_of_states_and_union_territories_of_India_by_television_ownership\" title=\"List of states and union territories of India by television ownership\">TV ownership</a></li>\n",
       "<li><a href=\"/wiki/Indian_states_and_union_territories_ranked_by_availability_of_toilets\" title=\"Indian states and union territories ranked by availability of toilets\">Toilet availability</a></li>\n",
       "<li><a href=\"/wiki/List_of_states_and_union_territories_of_India_by_transport_network\" title=\"List of states and union territories of India by transport network\">Transport network</a></li>\n",
       "<li><a href=\"/wiki/Indian_states_ranking_by_underweight_people\" title=\"Indian states ranking by underweight people\">Underweight people</a></li>\n",
       "<li><a href=\"/wiki/List_of_states_and_union_territories_of_India_by_unemployment_rate\" title=\"List of states and union territories of India by unemployment rate\">Unemployment</a></li>\n",
       "<li><a href=\"/wiki/List_of_states_and_union_territories_of_India_by_vaccination_coverage\" title=\"List of states and union territories of India by vaccination coverage\">Vaccination coverage</a></li></ul></td>\n",
       "</tr><tr><td style=\"text-align:right;font-size:115%\"><div class=\"plainlinks hlist navbar mini\"><ul><li class=\"nv-view\"><a href=\"/wiki/Template:Lists_of_states_and_territories_of_India\" title=\"Template:Lists of states and territories of India\"><abbr title=\"View this template\">v</abbr></a></li><li class=\"nv-talk\"><a href=\"/wiki/Template_talk:Lists_of_states_and_territories_of_India\" title=\"Template talk:Lists of states and territories of India\"><abbr title=\"Discuss this template\">t</abbr></a></li><li class=\"nv-edit\"><a class=\"external text\" href=\"//en.wikipedia.org/w/index.php?title=Template:Lists_of_states_and_territories_of_India&amp;action=edit\"><abbr title=\"Edit this template\">e</abbr></a></li></ul></div></td></tr></tbody></table>\n",
       "<p><a href=\"/wiki/India\" title=\"India\">India</a> is a country located in southern Asia. With <a href=\"/wiki/Demographics_of_India\" title=\"Demographics of India\">over 1.3 billion people</a>, India is the most populous <a href=\"/wiki/Democracy\" title=\"Democracy\">democracy</a> in the world. It is a <a href=\"/wiki/Federalism\" title=\"Federalism\">federal</a> constitutional republic governed under a <a href=\"/wiki/Parliamentary_system\" title=\"Parliamentary system\">parliamentary system</a> consisting of <a class=\"mw-redirect\" href=\"/wiki/States_and_territories_of_India\" title=\"States and territories of India\">29 states and 7 union territories</a>.<sup class=\"reference\" id=\"cite_ref-FOOTNOTELibrary_of_Congress2004_1-0\"><a href=\"#cite_note-FOOTNOTELibrary_of_Congress2004-1\">[1]</a></sup> All states, as well as the union territories of <a href=\"/wiki/Puducherry\" title=\"Puducherry\">Puducherry</a> and the <a class=\"mw-redirect\" href=\"/wiki/National_Capital_Territory_of_Delhi\" title=\"National Capital Territory of Delhi\">National Capital Territory of Delhi</a>, have elected legislatures and governments, both patterned on the <a href=\"/wiki/Westminster_system\" title=\"Westminster system\">Westminster model</a>. The remaining five union territories are directly ruled by the central government through appointed administrators. In 1956, under the <a class=\"mw-redirect\" href=\"/wiki/States_Reorganisation_Act\" title=\"States Reorganisation Act\">States Reorganisation Act</a>, states were reorganised on a linguistic basis.<sup class=\"reference\" id=\"cite_ref-FOOTNOTESharma200749_2-0\"><a href=\"#cite_note-FOOTNOTESharma200749-2\">[2]</a></sup> Since then, their structure has remained largely unchanged. Each state or union territory is further divided into administrative districts.\n",
       "</p><p>The legislatures of three states, <a href=\"/wiki/Himachal_Pradesh\" title=\"Himachal Pradesh\">Himachal Pradesh</a>, <a href=\"/wiki/Jammu_and_Kashmir\" title=\"Jammu and Kashmir\">Jammu and Kashmir</a>, and <a href=\"/wiki/Maharashtra\" title=\"Maharashtra\">Maharashtra</a>, meet in different capitals for their summer and winter sessions.\n",
       "</p><p>The state and union territory capitals are sorted according to administrative, legislative and judicial capitals. The administrative capital is where the executive government offices are located, the legislative capital is where the <a class=\"mw-redirect\" href=\"/wiki/Vidhan_Sabha\" title=\"Vidhan Sabha\">state assembly</a> convenes, and the judicial capital is the location of the state or territorial <a class=\"mw-redirect\" href=\"/wiki/High_Courts_of_India\" title=\"High Courts of India\">High Courts</a>. Union territories are marked with  dagger (<img alt=\"dagger\" data-file-height=\"14\" data-file-width=\"9\" decoding=\"async\" height=\"14\" src=\"//upload.wikimedia.org/wikipedia/commons/3/37/Dagger-14-plain.png\" width=\"9\"/>).\n",
       "</p>\n",
       "<div class=\"toc\" id=\"toc\"><input class=\"toctogglecheckbox\" id=\"toctogglecheckbox\" role=\"button\" style=\"display:none\" type=\"checkbox\"/><div class=\"toctitle\" dir=\"ltr\" lang=\"en\"><h2>Contents</h2><span class=\"toctogglespan\"><label class=\"toctogglelabel\" for=\"toctogglecheckbox\"></label></span></div>\n",
       "<ul>\n",
       "<li class=\"toclevel-1 tocsection-1\"><a href=\"#List\"><span class=\"tocnumber\">1</span> <span class=\"toctext\">List</span></a></li>\n",
       "<li class=\"toclevel-1 tocsection-2\"><a href=\"#Notes\"><span class=\"tocnumber\">2</span> <span class=\"toctext\">Notes</span></a></li>\n",
       "<li class=\"toclevel-1 tocsection-3\"><a href=\"#Citations\"><span class=\"tocnumber\">3</span> <span class=\"toctext\">Citations</span></a></li>\n",
       "<li class=\"toclevel-1 tocsection-4\"><a href=\"#References\"><span class=\"tocnumber\">4</span> <span class=\"toctext\">References</span></a></li>\n",
       "<li class=\"toclevel-1 tocsection-5\"><a href=\"#External_links\"><span class=\"tocnumber\">5</span> <span class=\"toctext\">External links</span></a></li>\n",
       "</ul>\n",
       "</div>\n",
       "<h2><span class=\"mw-headline\" id=\"List\">List</span><span class=\"mw-editsection\"><span class=\"mw-editsection-bracket\">[</span><a href=\"/w/index.php?title=List_of_state_and_union_territory_capitals_in_India&amp;action=edit&amp;section=1\" title=\"Edit section: List\">edit</a><span class=\"mw-editsection-bracket\">]</span></span></h2>\n",
       "<table class=\"wikitable sortable plainrowheaders\">\n",
       "<tbody><tr>\n",
       "<th scope=\"col\">No.\n",
       "</th>\n",
       "<th scope=\"col\">State or<br/>union territory\n",
       "</th>\n",
       "<th scope=\"col\">Administrative capital\n",
       "</th>\n",
       "<th scope=\"col\">Legislative capital\n",
       "</th>\n",
       "<th scope=\"col\">Judicial capital\n",
       "</th>\n",
       "<th scope=\"col\">Year of establishment\n",
       "</th>\n",
       "<th scope=\"col\">Former capital\n",
       "</th></tr>\n",
       "<tr>\n",
       "<td>1\n",
       "</td>\n",
       "<th scope=\"row\"><a href=\"/wiki/Andaman_and_Nicobar_Islands\" title=\"Andaman and Nicobar Islands\">Andaman and Nicobar Islands</a> <img alt=\"union territory\" data-file-height=\"14\" data-file-width=\"9\" decoding=\"async\" height=\"14\" src=\"//upload.wikimedia.org/wikipedia/commons/3/37/Dagger-14-plain.png\" width=\"9\"/>\n",
       "</th>\n",
       "<td><a href=\"/wiki/Port_Blair\" title=\"Port Blair\">Port Blair</a>\n",
       "</td>\n",
       "<td> —\n",
       "</td>\n",
       "<td>Kolkata\n",
       "</td>\n",
       "<td>1955\n",
       "</td>\n",
       "<td>Calcutta (1945–1955)\n",
       "</td></tr>\n",
       "<tr>\n",
       "<td>2\n",
       "</td>\n",
       "<th scope=\"row\"><a href=\"/wiki/Andhra_Pradesh\" title=\"Andhra Pradesh\">Andhra Pradesh</a>\n",
       "</th>\n",
       "<td><a class=\"mw-redirect\" href=\"/wiki/Hyderabad,_India\" title=\"Hyderabad, India\">Hyderabad</a> <small>(<i>de jure</i> to 2024)</small><br/><a href=\"/wiki/Amaravati\" title=\"Amaravati\">Amaravati</a> <small>(<i>de facto</i> from 2017)</small><sup class=\"reference\" id=\"cite_ref-gulte.com_3-0\"><a href=\"#cite_note-gulte.com-3\">[3]</a></sup><sup class=\"reference\" id=\"cite_ref-4\"><a href=\"#cite_note-4\">[4]</a></sup><sup class=\"reference\" id=\"cite_ref-5\"><a href=\"#cite_note-5\">[a]</a></sup>\n",
       "</td>\n",
       "<td><a href=\"/wiki/Amaravati\" title=\"Amaravati\">Amaravati</a><sup class=\"reference\" id=\"cite_ref-gulte.com_3-1\"><a href=\"#cite_note-gulte.com-3\">[3]</a></sup>\n",
       "</td>\n",
       "<td><a href=\"/wiki/Andhra_Pradesh_High_Court\" title=\"Andhra Pradesh High Court\">Amaravati</a>\n",
       "</td>\n",
       "<td>1956<br/>2017\n",
       "</td>\n",
       "<td><a href=\"/wiki/Kurnool\" title=\"Kurnool\">Kurnool</a> (1953-1956)\n",
       "</td></tr>\n",
       "<tr>\n",
       "<td>3\n",
       "</td>\n",
       "<th scope=\"row\"><a href=\"/wiki/Arunachal_Pradesh\" title=\"Arunachal Pradesh\">Arunachal Pradesh</a>\n",
       "</th>\n",
       "<td><a href=\"/wiki/Itanagar\" title=\"Itanagar\">Itanagar</a>\n",
       "</td>\n",
       "<td>Itanagar\n",
       "</td>\n",
       "<td><a href=\"/wiki/Guwahati\" title=\"Guwahati\">Guwahati</a>\n",
       "</td>\n",
       "<td>1986\n",
       "</td>\n",
       "<td> —\n",
       "</td></tr>\n",
       "<tr>\n",
       "<td>4\n",
       "</td>\n",
       "<th scope=\"row\"><a href=\"/wiki/Assam\" title=\"Assam\">Assam</a>\n",
       "</th>\n",
       "<td><a href=\"/wiki/Dispur\" title=\"Dispur\">Dispur</a>\n",
       "</td>\n",
       "<td><a href=\"/wiki/Guwahati\" title=\"Guwahati\">Guwahati</a>\n",
       "</td>\n",
       "<td>Guwahati\n",
       "</td>\n",
       "<td>1975\n",
       "</td>\n",
       "<td><a href=\"/wiki/Shillong\" title=\"Shillong\">Shillong</a><sup class=\"reference\" id=\"cite_ref-7\"><a href=\"#cite_note-7\">[b]</a></sup> (1874–1952)\n",
       "</td></tr>\n",
       "<tr>\n",
       "<td>5\n",
       "</td>\n",
       "<th scope=\"row\"><a href=\"/wiki/Bihar\" title=\"Bihar\">Bihar</a>\n",
       "</th>\n",
       "<td><a href=\"/wiki/Patna\" title=\"Patna\">Patna</a>\n",
       "</td>\n",
       "<td>Patna\n",
       "</td>\n",
       "<td>Patna\n",
       "</td>\n",
       "<td>1912\n",
       "</td>\n",
       "<td> —\n",
       "</td></tr>\n",
       "<tr>\n",
       "<td>6\n",
       "</td>\n",
       "<th scope=\"row\"><a href=\"/wiki/Chandigarh\" title=\"Chandigarh\">Chandigarh</a> <img alt=\"union territory\" data-file-height=\"14\" data-file-width=\"9\" decoding=\"async\" height=\"14\" src=\"//upload.wikimedia.org/wikipedia/commons/3/37/Dagger-14-plain.png\" width=\"9\"/>\n",
       "</th>\n",
       "<td><a href=\"/wiki/Chandigarh\" title=\"Chandigarh\">Chandigarh</a><sup class=\"reference\" id=\"cite_ref-9\"><a href=\"#cite_note-9\">[c]</a></sup>\n",
       "</td>\n",
       "<td> —\n",
       "</td>\n",
       "<td>Chandigarh\n",
       "</td>\n",
       "<td>1966\n",
       "</td>\n",
       "<td> —\n",
       "</td></tr>\n",
       "<tr>\n",
       "<td>7\n",
       "</td>\n",
       "<th scope=\"row\"><a href=\"/wiki/Chhattisgarh\" title=\"Chhattisgarh\">Chhattisgarh</a>\n",
       "</th>\n",
       "<td><a href=\"/wiki/Raipur\" title=\"Raipur\">Raipur</a><sup class=\"reference\" id=\"cite_ref-10\"><a href=\"#cite_note-10\">[d]</a></sup>\n",
       "</td>\n",
       "<td>Raipur\n",
       "</td>\n",
       "<td><a href=\"/wiki/Bilaspur,_Chhattisgarh\" title=\"Bilaspur, Chhattisgarh\">Bilaspur</a>\n",
       "</td>\n",
       "<td>2000\n",
       "</td>\n",
       "<td> —\n",
       "</td></tr>\n",
       "<tr>\n",
       "<td>8\n",
       "</td>\n",
       "<th scope=\"row\"><a href=\"/wiki/Dadra_and_Nagar_Haveli\" title=\"Dadra and Nagar Haveli\">Dadra and Nagar Haveli</a> <img alt=\"union territory\" data-file-height=\"14\" data-file-width=\"9\" decoding=\"async\" height=\"14\" src=\"//upload.wikimedia.org/wikipedia/commons/3/37/Dagger-14-plain.png\" width=\"9\"/>\n",
       "</th>\n",
       "<td><a href=\"/wiki/Silvassa\" title=\"Silvassa\">Silvassa</a>\n",
       "</td>\n",
       "<td> —\n",
       "</td>\n",
       "<td><a href=\"/wiki/Mumbai\" title=\"Mumbai\">Mumbai</a>\n",
       "</td>\n",
       "<td>1945\n",
       "</td>\n",
       "<td>Mumbai (1954–1961) <br/> <a href=\"/wiki/Panaji\" title=\"Panaji\">Panaji</a> (1961–1987)\n",
       "</td></tr>\n",
       "<tr>\n",
       "<td>9\n",
       "</td>\n",
       "<th scope=\"row\"><a href=\"/wiki/Daman_and_Diu\" title=\"Daman and Diu\">Daman and Diu</a> <img alt=\"union territory\" data-file-height=\"14\" data-file-width=\"9\" decoding=\"async\" height=\"14\" src=\"//upload.wikimedia.org/wikipedia/commons/3/37/Dagger-14-plain.png\" width=\"9\"/>\n",
       "</th>\n",
       "<td><a href=\"/wiki/Daman,_Daman_and_Diu\" title=\"Daman, Daman and Diu\">Daman</a>\n",
       "</td>\n",
       "<td> —\n",
       "</td>\n",
       "<td><a href=\"/wiki/Mumbai\" title=\"Mumbai\">Mumbai</a>\n",
       "</td>\n",
       "<td>1987\n",
       "</td>\n",
       "<td><a href=\"/wiki/Ahmedabad\" title=\"Ahmedabad\">Ahmedabad</a> (1961–1963) <br/><a href=\"/wiki/Panaji\" title=\"Panaji\">Panaji</a> (1963–1987)\n",
       "</td></tr>\n",
       "<tr>\n",
       "<td>10\n",
       "</td>\n",
       "<th scope=\"row\"><a class=\"mw-redirect\" href=\"/wiki/Delhi_NCT\" title=\"Delhi NCT\">National Capital Territory of Delhi</a> <img alt=\"union territory\" data-file-height=\"14\" data-file-width=\"9\" decoding=\"async\" height=\"14\" src=\"//upload.wikimedia.org/wikipedia/commons/3/37/Dagger-14-plain.png\" width=\"9\"/>\n",
       "</th>\n",
       "<td><a href=\"/wiki/New_Delhi\" title=\"New Delhi\">New Delhi</a>\n",
       "</td>\n",
       "<td>New Delhi\n",
       "</td>\n",
       "<td>New Delhi\n",
       "</td>\n",
       "<td>1931\n",
       "</td>\n",
       "<td> —\n",
       "</td></tr>\n",
       "<tr>\n",
       "<td>11\n",
       "</td>\n",
       "<th scope=\"row\"><a href=\"/wiki/Goa\" title=\"Goa\">Goa</a>\n",
       "</th>\n",
       "<td><a href=\"/wiki/Panaji\" title=\"Panaji\">Panaji</a><sup class=\"reference\" id=\"cite_ref-12\"><a href=\"#cite_note-12\">[e]</a></sup>\n",
       "</td>\n",
       "<td><a href=\"/wiki/Porvorim\" title=\"Porvorim\">Porvorim</a>\n",
       "</td>\n",
       "<td><a href=\"/wiki/Mumbai\" title=\"Mumbai\">Mumbai</a>\n",
       "</td>\n",
       "<td>1961\n",
       "</td>\n",
       "<td>Panaji (1961–1987)\n",
       "</td></tr>\n",
       "<tr>\n",
       "<td>12\n",
       "</td>\n",
       "<th scope=\"row\"><a href=\"/wiki/Gujarat\" title=\"Gujarat\">Gujarat</a>\n",
       "</th>\n",
       "<td><a href=\"/wiki/Gandhinagar\" title=\"Gandhinagar\">Gandhinagar</a>\n",
       "</td>\n",
       "<td>Gandhinagar\n",
       "</td>\n",
       "<td><a href=\"/wiki/Ahmedabad\" title=\"Ahmedabad\">Ahmedabad</a>\n",
       "</td>\n",
       "<td>1960\n",
       "</td>\n",
       "<td><a href=\"/wiki/Ahmedabad\" title=\"Ahmedabad\">Ahmedabad</a> (1960–1970)\n",
       "</td></tr>\n",
       "<tr>\n",
       "<td>13\n",
       "</td>\n",
       "<th scope=\"row\"><a href=\"/wiki/Haryana\" title=\"Haryana\">Haryana</a>\n",
       "</th>\n",
       "<td><a href=\"/wiki/Chandigarh\" title=\"Chandigarh\">Chandigarh</a>\n",
       "</td>\n",
       "<td>Chandigarh\n",
       "</td>\n",
       "<td>Chandigarh\n",
       "</td>\n",
       "<td>1966\n",
       "</td>\n",
       "<td> —\n",
       "</td></tr>\n",
       "<tr>\n",
       "<td>14\n",
       "</td>\n",
       "<th scope=\"row\"><a href=\"/wiki/Himachal_Pradesh\" title=\"Himachal Pradesh\">Himachal Pradesh</a>\n",
       "</th>\n",
       "<td><a href=\"/wiki/Shimla\" title=\"Shimla\">Shimla</a>\n",
       "</td>\n",
       "<td>Shimla (Summer)<br/><a class=\"mw-redirect\" href=\"/wiki/Dharamsala\" title=\"Dharamsala\">Dharamsala</a> (Winter)<sup class=\"reference\" id=\"cite_ref-13\"><a href=\"#cite_note-13\">[8]</a></sup>\n",
       "</td>\n",
       "<td>Shimla \n",
       "</td>\n",
       "<td>1971<br/>2017\n",
       "</td>\n",
       "<td><a href=\"/wiki/Bilaspur,_Himachal_Pradesh\" title=\"Bilaspur, Himachal Pradesh\">Bilaspur</a> (1950–1956)\n",
       "</td></tr>\n",
       "<tr>\n",
       "<td>15\n",
       "</td>\n",
       "<th scope=\"row\"><a href=\"/wiki/Jammu_and_Kashmir\" title=\"Jammu and Kashmir\">Jammu and Kashmir</a>\n",
       "</th>\n",
       "<td><a href=\"/wiki/Srinagar\" title=\"Srinagar\">Srinagar</a> (Summer)<sup class=\"reference\" id=\"cite_ref-14\"><a href=\"#cite_note-14\">[9]</a></sup><br/><a href=\"/wiki/Jammu\" title=\"Jammu\">Jammu</a> (Winter)\n",
       "</td>\n",
       "<td>Srinagar (Summer)<br/>Jammu (Winter)\n",
       "</td>\n",
       "<td>Srinagar (Summer)<br/>Jammu (Winter)\n",
       "</td>\n",
       "<td>1947\n",
       "</td>\n",
       "<td> —\n",
       "</td></tr>\n",
       "<tr>\n",
       "<td>16\n",
       "</td>\n",
       "<th scope=\"row\"><a href=\"/wiki/Jharkhand\" title=\"Jharkhand\">Jharkhand</a>\n",
       "</th>\n",
       "<td><a href=\"/wiki/Ranchi\" title=\"Ranchi\">Ranchi</a>\n",
       "</td>\n",
       "<td>Ranchi\n",
       "</td>\n",
       "<td>Ranchi\n",
       "</td>\n",
       "<td>2000\n",
       "</td>\n",
       "<td> —\n",
       "</td></tr>\n",
       "<tr>\n",
       "<td>17\n",
       "</td>\n",
       "<th scope=\"row\"><a href=\"/wiki/Karnataka\" title=\"Karnataka\">Karnataka</a>\n",
       "</th>\n",
       "<td><a class=\"mw-redirect\" href=\"/wiki/Bengaluru\" title=\"Bengaluru\">Bengaluru</a>\n",
       "</td>\n",
       "<td>Bengaluru\n",
       "</td>\n",
       "<td>Bengaluru\n",
       "</td>\n",
       "<td>1940\n",
       "</td>\n",
       "<td>(Mysore)\n",
       "</td></tr>\n",
       "<tr>\n",
       "<td>18\n",
       "</td>\n",
       "<th scope=\"row\"><a href=\"/wiki/Kerala\" title=\"Kerala\">Kerala</a>\n",
       "</th>\n",
       "<td><a href=\"/wiki/Thiruvananthapuram\" title=\"Thiruvananthapuram\">Thiruvananthapuram</a>\n",
       "</td>\n",
       "<td>Thiruvananthapuram\n",
       "</td>\n",
       "<td><a href=\"/wiki/Kochi\" title=\"Kochi\">Kochi</a>\n",
       "</td>\n",
       "<td>1956\n",
       "</td>\n",
       "<td> —\n",
       "</td></tr>\n",
       "<tr>\n",
       "<td>19\n",
       "</td>\n",
       "<th scope=\"row\"><a href=\"/wiki/Lakshadweep\" title=\"Lakshadweep\">Lakshadweep</a> <img alt=\"union territory\" data-file-height=\"14\" data-file-width=\"9\" decoding=\"async\" height=\"14\" src=\"//upload.wikimedia.org/wikipedia/commons/3/37/Dagger-14-plain.png\" width=\"9\"/>\n",
       "</th>\n",
       "<td><a href=\"/wiki/Kavaratti\" title=\"Kavaratti\">Kavaratti</a>\n",
       "</td>\n",
       "<td> —\n",
       "</td>\n",
       "<td><a href=\"/wiki/Kochi\" title=\"Kochi\">Kochi</a>\n",
       "</td>\n",
       "<td>1956\n",
       "</td>\n",
       "<td> —\n",
       "</td></tr>\n",
       "<tr>\n",
       "<td>20\n",
       "</td>\n",
       "<th scope=\"row\"><a href=\"/wiki/Madhya_Pradesh\" title=\"Madhya Pradesh\">Madhya Pradesh</a>\n",
       "</th>\n",
       "<td><a href=\"/wiki/Bhopal\" title=\"Bhopal\">Bhopal</a>\n",
       "</td>\n",
       "<td>Bhopal\n",
       "</td>\n",
       "<td><a href=\"/wiki/Jabalpur\" title=\"Jabalpur\">Jabalpur</a>\n",
       "</td>\n",
       "<td>1956\n",
       "</td>\n",
       "<td><a href=\"/wiki/Nagpur\" title=\"Nagpur\">Nagpur</a><sup class=\"reference\" id=\"cite_ref-18\"><a href=\"#cite_note-18\">[f]</a></sup> (1861–1956)\n",
       "</td></tr>\n",
       "<tr>\n",
       "<td>21\n",
       "</td>\n",
       "<th scope=\"row\"><a href=\"/wiki/Maharashtra\" title=\"Maharashtra\">Maharashtra</a>\n",
       "</th>\n",
       "<td><a href=\"/wiki/Mumbai\" title=\"Mumbai\">Mumbai</a><sup class=\"reference\" id=\"cite_ref-19\"><a href=\"#cite_note-19\">[g]</a></sup>\n",
       "</td>\n",
       "<td>Mumbai (Summer)\n",
       "<p><a href=\"/wiki/Nagpur\" title=\"Nagpur\">Nagpur</a> (winter)\n",
       "</p>\n",
       "</td>\n",
       "<td>Mumbai\n",
       "</td>\n",
       "<td>1818\n",
       "</td>\n",
       "<td> —\n",
       "</td></tr>\n",
       "<tr>\n",
       "<td>22\n",
       "</td>\n",
       "<th scope=\"row\"><a href=\"/wiki/Manipur\" title=\"Manipur\">Manipur</a>\n",
       "</th>\n",
       "<td><a href=\"/wiki/Imphal\" title=\"Imphal\">Imphal</a>\n",
       "</td>\n",
       "<td>Imphal\n",
       "</td>\n",
       "<td>Imphal\n",
       "</td>\n",
       "<td>1947\n",
       "</td>\n",
       "<td> —\n",
       "</td></tr>\n",
       "<tr>\n",
       "<td>23\n",
       "</td>\n",
       "<th scope=\"row\"><a href=\"/wiki/Meghalaya\" title=\"Meghalaya\">Meghalaya</a>\n",
       "</th>\n",
       "<td><a href=\"/wiki/Shillong\" title=\"Shillong\">Shillong</a>\n",
       "</td>\n",
       "<td>Shillong\n",
       "</td>\n",
       "<td>Shillong\n",
       "</td>\n",
       "<td>1970\n",
       "</td>\n",
       "<td> —\n",
       "</td></tr>\n",
       "<tr>\n",
       "<td>24\n",
       "</td>\n",
       "<th scope=\"row\"><a href=\"/wiki/Mizoram\" title=\"Mizoram\">Mizoram</a>\n",
       "</th>\n",
       "<td><a href=\"/wiki/Aizawl\" title=\"Aizawl\">Aizawl</a>\n",
       "</td>\n",
       "<td>Aizawl\n",
       "</td>\n",
       "<td><a href=\"/wiki/Guwahati\" title=\"Guwahati\">Guwahati</a>\n",
       "</td>\n",
       "<td>1972\n",
       "</td>\n",
       "<td> —\n",
       "</td></tr>\n",
       "<tr>\n",
       "<td>25\n",
       "</td>\n",
       "<th scope=\"row\"><a href=\"/wiki/Nagaland\" title=\"Nagaland\">Nagaland</a>\n",
       "</th>\n",
       "<td><a href=\"/wiki/Kohima\" title=\"Kohima\">Kohima</a>\n",
       "</td>\n",
       "<td>Kohima\n",
       "</td>\n",
       "<td><a href=\"/wiki/Guwahati\" title=\"Guwahati\">Guwahati</a>\n",
       "</td>\n",
       "<td>1963\n",
       "</td>\n",
       "<td> —\n",
       "</td></tr>\n",
       "<tr>\n",
       "<td>26\n",
       "</td>\n",
       "<th scope=\"row\"><a href=\"/wiki/Odisha\" title=\"Odisha\">Odisha</a>\n",
       "</th>\n",
       "<td><a href=\"/wiki/Bhubaneswar\" title=\"Bhubaneswar\">Bhubaneswar</a>\n",
       "</td>\n",
       "<td>Bhubaneswar\n",
       "</td>\n",
       "<td><a href=\"/wiki/Cuttack\" title=\"Cuttack\">Cuttack</a>\n",
       "</td>\n",
       "<td>1948\n",
       "</td>\n",
       "<td><a href=\"/wiki/Cuttack\" title=\"Cuttack\">Cuttack</a> (1936–1948)\n",
       "</td></tr>\n",
       "<tr>\n",
       "<td>27\n",
       "</td>\n",
       "<th scope=\"row\"><a href=\"/wiki/Puducherry\" title=\"Puducherry\">Puducherry</a> <img alt=\"union territory\" data-file-height=\"14\" data-file-width=\"9\" decoding=\"async\" height=\"14\" src=\"//upload.wikimedia.org/wikipedia/commons/3/37/Dagger-14-plain.png\" width=\"9\"/>\n",
       "</th>\n",
       "<td><a href=\"/wiki/Puducherry\" title=\"Puducherry\">Puducherry</a>\n",
       "</td>\n",
       "<td>Puducherry\n",
       "</td>\n",
       "<td><a href=\"/wiki/Chennai\" title=\"Chennai\">Chennai</a>\n",
       "</td>\n",
       "<td>1954\n",
       "</td>\n",
       "<td><a class=\"mw-redirect\" href=\"/wiki/Madras\" title=\"Madras\">Madras</a> (1948–1954)\n",
       "</td></tr>\n",
       "<tr>\n",
       "<td>28\n",
       "</td>\n",
       "<th scope=\"row\"><a href=\"/wiki/Punjab,_India\" title=\"Punjab, India\">Punjab</a>\n",
       "</th>\n",
       "<td><a href=\"/wiki/Chandigarh\" title=\"Chandigarh\">Chandigarh</a>\n",
       "</td>\n",
       "<td>Chandigarh\n",
       "</td>\n",
       "<td>Chandigarh\n",
       "</td>\n",
       "<td>1966\n",
       "</td>\n",
       "<td> —\n",
       "</td></tr>\n",
       "<tr>\n",
       "<td>29\n",
       "</td>\n",
       "<th scope=\"row\"><a href=\"/wiki/Rajasthan\" title=\"Rajasthan\">Rajasthan</a>\n",
       "</th>\n",
       "<td><a href=\"/wiki/Jaipur\" title=\"Jaipur\">Jaipur</a>\n",
       "</td>\n",
       "<td>Jaipur\n",
       "</td>\n",
       "<td><a href=\"/wiki/Jodhpur\" title=\"Jodhpur\">Jodhpur</a>\n",
       "</td>\n",
       "<td>1950\n",
       "</td>\n",
       "<td> —\n",
       "</td></tr>\n",
       "<tr>\n",
       "<td>30\n",
       "</td>\n",
       "<th scope=\"row\"><a href=\"/wiki/Sikkim\" title=\"Sikkim\">Sikkim</a>\n",
       "</th>\n",
       "<td><a href=\"/wiki/Gangtok\" title=\"Gangtok\">Gangtok</a><sup class=\"reference\" id=\"cite_ref-21\"><a href=\"#cite_note-21\">[h]</a></sup>\n",
       "</td>\n",
       "<td>Gangtok\n",
       "</td>\n",
       "<td>Gangtok\n",
       "</td>\n",
       "<td>1890\n",
       "</td>\n",
       "<td> —\n",
       "</td></tr>\n",
       "<tr>\n",
       "<td>31\n",
       "</td>\n",
       "<th scope=\"row\"><a href=\"/wiki/Tamil_Nadu\" title=\"Tamil Nadu\">Tamil Nadu</a>\n",
       "</th>\n",
       "<td><a href=\"/wiki/Chennai\" title=\"Chennai\">Chennai</a><sup class=\"reference\" id=\"cite_ref-22\"><a href=\"#cite_note-22\">[i]</a></sup>\n",
       "</td>\n",
       "<td>Chennai\n",
       "</td>\n",
       "<td>Chennai\n",
       "</td>\n",
       "<td>1956\n",
       "</td>\n",
       "<td> —\n",
       "</td></tr>\n",
       "<tr>\n",
       "<td>32\n",
       "</td>\n",
       "<th scope=\"row\"><a href=\"/wiki/Telangana\" title=\"Telangana\">Telangana</a>\n",
       "</th>\n",
       "<td><a href=\"/wiki/Hyderabad\" title=\"Hyderabad\">Hyderabad</a><sup class=\"reference\" id=\"cite_ref-23\"><a href=\"#cite_note-23\">[j]</a></sup>\n",
       "</td>\n",
       "<td>Hyderabad\n",
       "</td>\n",
       "<td>Hyderabad\n",
       "</td>\n",
       "<td>2014\n",
       "</td>\n",
       "<td> —\n",
       "</td></tr>\n",
       "<tr>\n",
       "<td>33\n",
       "</td>\n",
       "<th scope=\"row\"><a href=\"/wiki/Tripura\" title=\"Tripura\">Tripura</a>\n",
       "</th>\n",
       "<td><a href=\"/wiki/Agartala\" title=\"Agartala\">Agartala</a>\n",
       "</td>\n",
       "<td>Agartala\n",
       "</td>\n",
       "<td>Agartala\n",
       "</td>\n",
       "<td>1956\n",
       "</td>\n",
       "<td> —\n",
       "</td></tr>\n",
       "<tr>\n",
       "<td>34\n",
       "</td>\n",
       "<th scope=\"row\"><a href=\"/wiki/Uttar_Pradesh\" title=\"Uttar Pradesh\">Uttar Pradesh</a>\n",
       "</th>\n",
       "<td><a href=\"/wiki/Lucknow\" title=\"Lucknow\">Lucknow</a>\n",
       "</td>\n",
       "<td>Lucknow\n",
       "</td>\n",
       "<td><a href=\"/wiki/Allahabad\" title=\"Allahabad\">Allahabad</a>\n",
       "</td>\n",
       "<td>1938\n",
       "</td>\n",
       "<td> —\n",
       "</td></tr>\n",
       "<tr>\n",
       "<td>35\n",
       "</td>\n",
       "<th scope=\"row\"><a href=\"/wiki/Uttarakhand\" title=\"Uttarakhand\">Uttarakhand</a>\n",
       "</th>\n",
       "<td><a href=\"/wiki/Dehradun\" title=\"Dehradun\">Dehradun</a><sup class=\"reference\" id=\"cite_ref-25\"><a href=\"#cite_note-25\">[k]</a></sup>\n",
       "</td>\n",
       "<td>Dehradun\n",
       "</td>\n",
       "<td><a href=\"/wiki/Nainital\" title=\"Nainital\">Nainital</a>\n",
       "</td>\n",
       "<td>2000\n",
       "</td>\n",
       "<td> —\n",
       "</td></tr>\n",
       "<tr>\n",
       "<td>36\n",
       "</td>\n",
       "<th scope=\"row\"><a href=\"/wiki/West_Bengal\" title=\"West Bengal\">West Bengal</a>\n",
       "</th>\n",
       "<td><a href=\"/wiki/Kolkata\" title=\"Kolkata\">Kolkata</a>\n",
       "</td>\n",
       "<td>Kolkata\n",
       "</td>\n",
       "<td>Kolkata\n",
       "</td>\n",
       "<td>1947\n",
       "</td>\n",
       "<td> —\n",
       "</td></tr></tbody></table>\n",
       "<h2><span class=\"mw-headline\" id=\"Notes\">Notes</span><span class=\"mw-editsection\"><span class=\"mw-editsection-bracket\">[</span><a href=\"/w/index.php?title=List_of_state_and_union_territory_capitals_in_India&amp;action=edit&amp;section=2\" title=\"Edit section: Notes\">edit</a><span class=\"mw-editsection-bracket\">]</span></span></h2>\n",
       "<div class=\"reflist\" style=\"list-style-type: lower-alpha;\">\n",
       "<div class=\"mw-references-wrap mw-references-columns\"><ol class=\"references\">\n",
       "<li id=\"cite_note-5\"><span class=\"mw-cite-backlink\"><b><a href=\"#cite_ref-5\">^</a></b></span> <span class=\"reference-text\">After the formation of Telangana, as per the <a href=\"/wiki/Andhra_Pradesh_Reorganisation_Act,_2014\" title=\"Andhra Pradesh Reorganisation Act, 2014\">Andhra Pradesh Reorganisation Act, 2014</a>, both states will share Hyderabad as their common capital for up to ten years. The new capital of Andhra Pradesh is going to be <a href=\"/wiki/Amaravati\" title=\"Amaravati\">Amaravati</a>, decided by the Andhra Pradesh government in April, 2016.</span>\n",
       "</li>\n",
       "<li id=\"cite_note-7\"><span class=\"mw-cite-backlink\"><b><a href=\"#cite_ref-7\">^</a></b></span> <span class=\"reference-text\">Shilong was the joint capital of Assam and Meghalaya until 1971.<sup class=\"reference\" id=\"cite_ref-FOOTNOTEBaruah1999xiii_6-0\"><a href=\"#cite_note-FOOTNOTEBaruah1999xiii-6\">[5]</a></sup></span>\n",
       "</li>\n",
       "<li id=\"cite_note-9\"><span class=\"mw-cite-backlink\"><b><a href=\"#cite_ref-9\">^</a></b></span> <span class=\"reference-text\">Chandigarh is the capital of the states of Punjab and Haryana, and is a Union Territory, separate from the two states.<sup class=\"reference\" id=\"cite_ref-FOOTNOTEMenonBanerjea20025_8-0\"><a href=\"#cite_note-FOOTNOTEMenonBanerjea20025-8\">[6]</a></sup></span>\n",
       "</li>\n",
       "<li id=\"cite_note-10\"><span class=\"mw-cite-backlink\"><b><a href=\"#cite_ref-10\">^</a></b></span> <span class=\"reference-text\">Raipur is the interim capital of <a href=\"/wiki/Chhattisgarh\" title=\"Chhattisgarh\">Chhattisgarh</a>. The town of <a class=\"mw-redirect\" href=\"/wiki/Atal_Nagar\" title=\"Atal Nagar\">Atal Nagar</a> 17 km from Raipur is envisaged as the state's new capital.</span>\n",
       "</li>\n",
       "<li id=\"cite_note-12\"><span class=\"mw-cite-backlink\"><b><a href=\"#cite_ref-12\">^</a></b></span> <span class=\"reference-text\">Panaji was the capital of Goa from 1843 when it was ruled by the <a href=\"/wiki/Portugal\" title=\"Portugal\">Portuguese</a>.<sup class=\"reference\" id=\"cite_ref-FOOTNOTERing1996288_11-0\"><a href=\"#cite_note-FOOTNOTERing1996288-11\">[7]</a></sup></span>\n",
       "</li>\n",
       "<li id=\"cite_note-18\"><span class=\"mw-cite-backlink\"><b><a href=\"#cite_ref-18\">^</a></b></span> <span class=\"reference-text\">Nagpur was the capital of <a href=\"/wiki/Central_Provinces_and_Berar\" title=\"Central Provinces and Berar\">Central Provinces and Berar</a> which was a province from 1861 until 1950.<sup class=\"reference\" id=\"cite_ref-FOOTNOTEBoland-CreweLea2002155_15-0\"><a href=\"#cite_note-FOOTNOTEBoland-CreweLea2002155-15\">[10]</a></sup> Central Province became the major constituent of <a href=\"/wiki/Madhya_Pradesh\" title=\"Madhya Pradesh\">Madhya Pradesh</a>, after it was formed in 1950.<sup class=\"reference\" id=\"cite_ref-FOOTNOTEBoland-CreweLea2002155_15-1\"><a href=\"#cite_note-FOOTNOTEBoland-CreweLea2002155-15\">[10]</a></sup> Nagpur remained the capital of the new state.<sup class=\"reference\" id=\"cite_ref-FOOTNOTEKumāra1998136_16-0\"><a href=\"#cite_note-FOOTNOTEKumāra1998136-16\">[11]</a></sup> In 1956, <a href=\"/wiki/Central_Provinces_and_Berar\" title=\"Central Provinces and Berar\">Berar</a> (<a href=\"/wiki/Vidarbha\" title=\"Vidarbha\">Vidarbha</a>) was separated from <a href=\"/wiki/Madhya_Pradesh\" title=\"Madhya Pradesh\">Madhya Pradesh</a>, and merged with the <a href=\"/wiki/Bombay_State\" title=\"Bombay State\">Bombay State</a>. Nagpur thus lost the status of a capital city. In 1960, under the Nagpur pact, Nagpur became the second capital of <a href=\"/wiki/Maharashtra\" title=\"Maharashtra\">Maharashtra</a>.<sup class=\"reference\" id=\"cite_ref-FOOTNOTEKini197434–35_17-0\"><a href=\"#cite_note-FOOTNOTEKini197434–35-17\">[12]</a></sup></span>\n",
       "</li>\n",
       "<li id=\"cite_note-19\"><span class=\"mw-cite-backlink\"><b><a href=\"#cite_ref-19\">^</a></b></span> <span class=\"reference-text\">Mumbai / Bombay was the capital of <a href=\"/wiki/Bombay_Presidency\" title=\"Bombay Presidency\">Bombay Presidency</a> which was a province until 1950. After that Bombay became the capital of <a href=\"/wiki/Bombay_State\" title=\"Bombay State\">Bombay State</a>. Subsequently, Bombay State was split into Gujarat and Maharashtra in 1960.</span>\n",
       "</li>\n",
       "<li id=\"cite_note-21\"><span class=\"mw-cite-backlink\"><b><a href=\"#cite_ref-21\">^</a></b></span> <span class=\"reference-text\">Gangtok has been the capital of Sikkim since 1890. Sikkim joined the Indian Union in 1975.<sup class=\"reference\" id=\"cite_ref-FOOTNOTESpate1953200_20-0\"><a href=\"#cite_note-FOOTNOTESpate1953200-20\">[13]</a></sup></span>\n",
       "</li>\n",
       "<li id=\"cite_note-22\"><span class=\"mw-cite-backlink\"><b><a href=\"#cite_ref-22\">^</a></b></span> <span class=\"reference-text\">Chennai (Madras) was the capital of the <a href=\"/wiki/Madras_Presidency\" title=\"Madras Presidency\">Madras Presidency</a> since 1839, which was redrawn as Madras State in 1956. Madras State was renamed as Tamil Nadu in 1968.</span>\n",
       "</li>\n",
       "<li id=\"cite_note-23\"><span class=\"mw-cite-backlink\"><b><a href=\"#cite_ref-23\">^</a></b></span> <span class=\"reference-text\">After the formation of Telangana, as per the <a href=\"/wiki/Andhra_Pradesh_Reorganisation_Act,_2014\" title=\"Andhra Pradesh Reorganisation Act, 2014\">Andhra Pradesh Reorganisation Act, 2014</a>, both states will share Hyderabad as their common capital for ten years. The new <a class=\"mw-redirect\" href=\"/wiki/Andhra_Pradesh_Capital_City\" title=\"Andhra Pradesh Capital City\">Andhra Pradesh Capital City</a> capital is going to be Amaravati, decided by the Andhra Pradesh government in April, 2016.</span>\n",
       "</li>\n",
       "<li id=\"cite_note-25\"><span class=\"mw-cite-backlink\"><b><a href=\"#cite_ref-25\">^</a></b></span> <span class=\"reference-text\">Dehradun is the interim capital of <a href=\"/wiki/Uttarakhand\" title=\"Uttarakhand\">Uttarakhand</a>. The town of <a href=\"/wiki/Gairsain\" title=\"Gairsain\">Gairsain</a> is envisaged as the state's new capital.<sup class=\"reference\" id=\"cite_ref-FOOTNOTESatiKumar20049–10_24-0\"><a href=\"#cite_note-FOOTNOTESatiKumar20049–10-24\">[14]</a></sup></span>\n",
       "</li>\n",
       "</ol></div></div>\n",
       "<h2><span class=\"mw-headline\" id=\"Citations\">Citations</span><span class=\"mw-editsection\"><span class=\"mw-editsection-bracket\">[</span><a href=\"/w/index.php?title=List_of_state_and_union_territory_capitals_in_India&amp;action=edit&amp;section=3\" title=\"Edit section: Citations\">edit</a><span class=\"mw-editsection-bracket\">]</span></span></h2>\n",
       "<div class=\"reflist\" style=\"list-style-type: decimal;\">\n",
       "<div class=\"mw-references-wrap mw-references-columns\"><ol class=\"references\">\n",
       "<li id=\"cite_note-FOOTNOTELibrary_of_Congress2004-1\"><span class=\"mw-cite-backlink\"><b><a href=\"#cite_ref-FOOTNOTELibrary_of_Congress2004_1-0\">^</a></b></span> <span class=\"reference-text\"><a href=\"#CITEREFLibrary_of_Congress2004\">Library of Congress 2004</a>.</span>\n",
       "</li>\n",
       "<li id=\"cite_note-FOOTNOTESharma200749-2\"><span class=\"mw-cite-backlink\"><b><a href=\"#cite_ref-FOOTNOTESharma200749_2-0\">^</a></b></span> <span class=\"reference-text\"><a href=\"#CITEREFSharma2007\">Sharma 2007</a>, p. 49.</span>\n",
       "</li>\n",
       "<li id=\"cite_note-gulte.com-3\"><span class=\"mw-cite-backlink\">^ <a href=\"#cite_ref-gulte.com_3-0\"><sup><i><b>a</b></i></sup></a> <a href=\"#cite_ref-gulte.com_3-1\"><sup><i><b>b</b></i></sup></a></span> <span class=\"reference-text\"><cite class=\"citation web\"><a class=\"external text\" href=\"http://www.gulte.com/news/56377/After-2200-Years-Amaravati-Gets-Back-Power\" rel=\"nofollow\">\"After 2200 Years, Amaravati Gets Back Power!\"</a>. <i>Gulte.com</i><span class=\"reference-accessdate\">. Retrieved <span class=\"nowrap\">4 August</span> 2017</span>.</cite><span class=\"Z3988\" title=\"ctx_ver=Z39.88-2004&amp;rft_val_fmt=info%3Aofi%2Ffmt%3Akev%3Amtx%3Ajournal&amp;rft.genre=unknown&amp;rft.jtitle=Gulte.com&amp;rft.atitle=After+2200+Years%2C+Amaravati+Gets+Back+Power%21&amp;rft_id=http%3A%2F%2Fwww.gulte.com%2Fnews%2F56377%2FAfter-2200-Years-Amaravati-Gets-Back-Power&amp;rfr_id=info%3Asid%2Fen.wikipedia.org%3AList+of+state+and+union+territory+capitals+in+India\"></span><style data-mw-deduplicate=\"TemplateStyles:r886058088\">.mw-parser-output cite.citation{font-style:inherit}.mw-parser-output .citation q{quotes:\"\\\"\"\"\\\"\"\"'\"\"'\"}.mw-parser-output .citation .cs1-lock-free a{background:url(\"//upload.wikimedia.org/wikipedia/commons/thumb/6/65/Lock-green.svg/9px-Lock-green.svg.png\")no-repeat;background-position:right .1em center}.mw-parser-output .citation .cs1-lock-limited a,.mw-parser-output .citation .cs1-lock-registration a{background:url(\"//upload.wikimedia.org/wikipedia/commons/thumb/d/d6/Lock-gray-alt-2.svg/9px-Lock-gray-alt-2.svg.png\")no-repeat;background-position:right .1em center}.mw-parser-output .citation .cs1-lock-subscription a{background:url(\"//upload.wikimedia.org/wikipedia/commons/thumb/a/aa/Lock-red-alt-2.svg/9px-Lock-red-alt-2.svg.png\")no-repeat;background-position:right .1em center}.mw-parser-output .cs1-subscription,.mw-parser-output .cs1-registration{color:#555}.mw-parser-output .cs1-subscription span,.mw-parser-output .cs1-registration span{border-bottom:1px dotted;cursor:help}.mw-parser-output .cs1-ws-icon a{background:url(\"//upload.wikimedia.org/wikipedia/commons/thumb/4/4c/Wikisource-logo.svg/12px-Wikisource-logo.svg.png\")no-repeat;background-position:right .1em center}.mw-parser-output code.cs1-code{color:inherit;background:inherit;border:inherit;padding:inherit}.mw-parser-output .cs1-hidden-error{display:none;font-size:100%}.mw-parser-output .cs1-visible-error{font-size:100%}.mw-parser-output .cs1-maint{display:none;color:#33aa33;margin-left:0.3em}.mw-parser-output .cs1-subscription,.mw-parser-output .cs1-registration,.mw-parser-output .cs1-format{font-size:95%}.mw-parser-output .cs1-kern-left,.mw-parser-output .cs1-kern-wl-left{padding-left:0.2em}.mw-parser-output .cs1-kern-right,.mw-parser-output .cs1-kern-wl-right{padding-right:0.2em}</style></span>\n",
       "</li>\n",
       "<li id=\"cite_note-4\"><span class=\"mw-cite-backlink\"><b><a href=\"#cite_ref-4\">^</a></b></span> <span class=\"reference-text\"><cite class=\"citation web\"><a class=\"external text\" href=\"https://web.archive.org/web/20170803065156/http://www.ap.gov.in/\" rel=\"nofollow\">\"AP Government Portal - Official Andhra Pradesh State Govt. Portal\"</a>. <i>Ap.gov.in</i>. Archived from <a class=\"external text\" href=\"http://www.ap.gov.in/\" rel=\"nofollow\">the original</a> on 3 August 2017<span class=\"reference-accessdate\">. Retrieved <span class=\"nowrap\">4 August</span> 2017</span>.</cite><span class=\"Z3988\" title=\"ctx_ver=Z39.88-2004&amp;rft_val_fmt=info%3Aofi%2Ffmt%3Akev%3Amtx%3Ajournal&amp;rft.genre=unknown&amp;rft.jtitle=Ap.gov.in&amp;rft.atitle=AP+Government+Portal+-+Official+Andhra+Pradesh+State+Govt.+Portal&amp;rft_id=http%3A%2F%2Fwww.ap.gov.in%2F&amp;rfr_id=info%3Asid%2Fen.wikipedia.org%3AList+of+state+and+union+territory+capitals+in+India\"></span><link href=\"mw-data:TemplateStyles:r886058088\" rel=\"mw-deduplicated-inline-style\"/></span>\n",
       "</li>\n",
       "<li id=\"cite_note-FOOTNOTEBaruah1999xiii-6\"><span class=\"mw-cite-backlink\"><b><a href=\"#cite_ref-FOOTNOTEBaruah1999xiii_6-0\">^</a></b></span> <span class=\"reference-text\"><a href=\"#CITEREFBaruah1999\">Baruah 1999</a>, p. xiii.</span>\n",
       "</li>\n",
       "<li id=\"cite_note-FOOTNOTEMenonBanerjea20025-8\"><span class=\"mw-cite-backlink\"><b><a href=\"#cite_ref-FOOTNOTEMenonBanerjea20025_8-0\">^</a></b></span> <span class=\"reference-text\"><a href=\"#CITEREFMenonBanerjea2002\">Menon &amp; Banerjea 2002</a>, p. 5.</span>\n",
       "</li>\n",
       "<li id=\"cite_note-FOOTNOTERing1996288-11\"><span class=\"mw-cite-backlink\"><b><a href=\"#cite_ref-FOOTNOTERing1996288_11-0\">^</a></b></span> <span class=\"reference-text\"><a href=\"#CITEREFRing1996\">Ring 1996</a>, p. 288.</span>\n",
       "</li>\n",
       "<li id=\"cite_note-13\"><span class=\"mw-cite-backlink\"><b><a href=\"#cite_ref-13\">^</a></b></span> <span class=\"reference-text\"><cite class=\"citation web\"><a class=\"external text\" href=\"http://www.hillpost.in/2017/01/dharamshala-declared-second-capital-of-himachal/107991/\" rel=\"nofollow\">\"Dharamshala Declared Second Capital of Himachal\"</a>. <i>www.hillpost.in</i><span class=\"reference-accessdate\">. Retrieved <span class=\"nowrap\">21 January</span> 2017</span>.</cite><span class=\"Z3988\" title=\"ctx_ver=Z39.88-2004&amp;rft_val_fmt=info%3Aofi%2Ffmt%3Akev%3Amtx%3Ajournal&amp;rft.genre=unknown&amp;rft.jtitle=www.hillpost.in&amp;rft.atitle=Dharamshala+Declared+Second+Capital+of+Himachal&amp;rft_id=http%3A%2F%2Fwww.hillpost.in%2F2017%2F01%2Fdharamshala-declared-second-capital-of-himachal%2F107991%2F&amp;rfr_id=info%3Asid%2Fen.wikipedia.org%3AList+of+state+and+union+territory+capitals+in+India\"></span><link href=\"mw-data:TemplateStyles:r886058088\" rel=\"mw-deduplicated-inline-style\"/></span>\n",
       "</li>\n",
       "<li id=\"cite_note-14\"><span class=\"mw-cite-backlink\"><b><a href=\"#cite_ref-14\">^</a></b></span> <span class=\"reference-text\"><cite class=\"citation news\"><a class=\"external text\" href=\"https://www.thehindu.com/news/national/other-states/what-is-the-darbar-move-in-j-k-all-about/article18409452.ece\" rel=\"nofollow\">\"What is the Darbar Move in J&amp;K all about?\"</a>. <i>The Hindu</i>. 8 May 2017<span class=\"reference-accessdate\">. Retrieved <span class=\"nowrap\">19 March</span> 2019</span>.</cite><span class=\"Z3988\" title=\"ctx_ver=Z39.88-2004&amp;rft_val_fmt=info%3Aofi%2Ffmt%3Akev%3Amtx%3Ajournal&amp;rft.genre=article&amp;rft.jtitle=The+Hindu&amp;rft.atitle=What+is+the+Darbar+Move+in+J%26K+all+about%3F&amp;rft.date=2017-05-08&amp;rft_id=https%3A%2F%2Fwww.thehindu.com%2Fnews%2Fnational%2Fother-states%2Fwhat-is-the-darbar-move-in-j-k-all-about%2Farticle18409452.ece&amp;rfr_id=info%3Asid%2Fen.wikipedia.org%3AList+of+state+and+union+territory+capitals+in+India\"></span><link href=\"mw-data:TemplateStyles:r886058088\" rel=\"mw-deduplicated-inline-style\"/></span>\n",
       "</li>\n",
       "<li id=\"cite_note-FOOTNOTEBoland-CreweLea2002155-15\"><span class=\"mw-cite-backlink\">^ <a href=\"#cite_ref-FOOTNOTEBoland-CreweLea2002155_15-0\"><sup><i><b>a</b></i></sup></a> <a href=\"#cite_ref-FOOTNOTEBoland-CreweLea2002155_15-1\"><sup><i><b>b</b></i></sup></a></span> <span class=\"reference-text\"><a href=\"#CITEREFBoland-CreweLea2002\">Boland-Crewe &amp; Lea 2002</a>, p. 155.</span>\n",
       "</li>\n",
       "<li id=\"cite_note-FOOTNOTEKumāra1998136-16\"><span class=\"mw-cite-backlink\"><b><a href=\"#cite_ref-FOOTNOTEKumāra1998136_16-0\">^</a></b></span> <span class=\"reference-text\"><a href=\"#CITEREFKumāra1998\">Kumāra 1998</a>, p. 136.</span>\n",
       "</li>\n",
       "<li id=\"cite_note-FOOTNOTEKini197434–35-17\"><span class=\"mw-cite-backlink\"><b><a href=\"#cite_ref-FOOTNOTEKini197434–35_17-0\">^</a></b></span> <span class=\"reference-text\"><a href=\"#CITEREFKini1974\">Kini 1974</a>, pp. 34–35.</span>\n",
       "</li>\n",
       "<li id=\"cite_note-FOOTNOTESpate1953200-20\"><span class=\"mw-cite-backlink\"><b><a href=\"#cite_ref-FOOTNOTESpate1953200_20-0\">^</a></b></span> <span class=\"reference-text\"><a href=\"#CITEREFSpate1953\">Spate 1953</a>, p. 200.</span>\n",
       "</li>\n",
       "<li id=\"cite_note-FOOTNOTESatiKumar20049–10-24\"><span class=\"mw-cite-backlink\"><b><a href=\"#cite_ref-FOOTNOTESatiKumar20049–10_24-0\">^</a></b></span> <span class=\"reference-text\"><a href=\"#CITEREFSatiKumar2004\">Sati &amp; Kumar 2004</a>, pp. 9–10.</span>\n",
       "</li>\n",
       "</ol></div></div>\n",
       "<h2><span class=\"mw-headline\" id=\"References\">References</span><span class=\"mw-editsection\"><span class=\"mw-editsection-bracket\">[</span><a href=\"/w/index.php?title=List_of_state_and_union_territory_capitals_in_India&amp;action=edit&amp;section=4\" title=\"Edit section: References\">edit</a><span class=\"mw-editsection-bracket\">]</span></span></h2>\n",
       "<style data-mw-deduplicate=\"TemplateStyles:r886047268\">.mw-parser-output .refbegin{font-size:90%;margin-bottom:0.5em}.mw-parser-output .refbegin-hanging-indents>ul{list-style-type:none;margin-left:0}.mw-parser-output .refbegin-hanging-indents>ul>li,.mw-parser-output .refbegin-hanging-indents>dl>dd{margin-left:0;padding-left:3.2em;text-indent:-3.2em;list-style:none}.mw-parser-output .refbegin-100{font-size:100%}</style><div class=\"refbegin columns references-column-width\" style=\"-moz-column-width: 30em; -webkit-column-width: 30em; column-width: 30em;\">\n",
       "<ul><li><cite class=\"citation book\" id=\"CITEREFBaruah1999\">Baruah, Sanjib (1999). <a class=\"external text\" href=\"https://books.google.com/books?id=8k-irMMTnywC&amp;pg=PR13\" rel=\"nofollow\"><i>India Against Itself: Assam and the Politics of Nationality</i></a>. <a href=\"/wiki/University_of_Pennsylvania_Press\" title=\"University of Pennsylvania Press\">University of Pennsylvania Press</a>. <a href=\"/wiki/International_Standard_Book_Number\" title=\"International Standard Book Number\">ISBN</a> <a href=\"/wiki/Special:BookSources/978-0-8122-3491-6\" title=\"Special:BookSources/978-0-8122-3491-6\"><bdi>978-0-8122-3491-6</bdi></a><span class=\"reference-accessdate\">. Retrieved <span class=\"nowrap\">13 August</span> 2012</span>.</cite><span class=\"Z3988\" title=\"ctx_ver=Z39.88-2004&amp;rft_val_fmt=info%3Aofi%2Ffmt%3Akev%3Amtx%3Abook&amp;rft.genre=book&amp;rft.btitle=India+Against+Itself%3A+Assam+and+the+Politics+of+Nationality&amp;rft.pub=University+of+Pennsylvania+Press&amp;rft.date=1999&amp;rft.isbn=978-0-8122-3491-6&amp;rft.aulast=Baruah&amp;rft.aufirst=Sanjib&amp;rft_id=https%3A%2F%2Fbooks.google.com%2Fbooks%3Fid%3D8k-irMMTnywC%26pg%3DPR13&amp;rfr_id=info%3Asid%2Fen.wikipedia.org%3AList+of+state+and+union+territory+capitals+in+India\"></span><link href=\"mw-data:TemplateStyles:r886058088\" rel=\"mw-deduplicated-inline-style\"/></li>\n",
       "<li><cite class=\"citation book\" id=\"CITEREFBoland-CreweLea2002\">Boland-Crewe, Tara; Lea, David, eds. (15 November 2002). <a class=\"external text\" href=\"https://books.google.com/books?id=JrNCaYCriicC&amp;pg=PA155\" rel=\"nofollow\"><i>The Territories and States of India</i></a>. Europa. <a href=\"/wiki/International_Standard_Book_Number\" title=\"International Standard Book Number\">ISBN</a> <a href=\"/wiki/Special:BookSources/978-1-85743-148-3\" title=\"Special:BookSources/978-1-85743-148-3\"><bdi>978-1-85743-148-3</bdi></a><span class=\"reference-accessdate\">. Retrieved <span class=\"nowrap\">13 August</span> 2012</span>.</cite><span class=\"Z3988\" title=\"ctx_ver=Z39.88-2004&amp;rft_val_fmt=info%3Aofi%2Ffmt%3Akev%3Amtx%3Abook&amp;rft.genre=book&amp;rft.btitle=The+Territories+and+States+of+India&amp;rft.pub=Europa&amp;rft.date=2002-11-15&amp;rft.isbn=978-1-85743-148-3&amp;rft_id=https%3A%2F%2Fbooks.google.com%2Fbooks%3Fid%3DJrNCaYCriicC%26pg%3DPA155&amp;rfr_id=info%3Asid%2Fen.wikipedia.org%3AList+of+state+and+union+territory+capitals+in+India\"></span><link href=\"mw-data:TemplateStyles:r886058088\" rel=\"mw-deduplicated-inline-style\"/></li>\n",
       "<li><cite class=\"citation\" id=\"CITEREFLibrary_of_Congress2004\"><a class=\"external text\" href=\"http://lcweb2.loc.gov/frd/cs/profiles/India.pdf\" rel=\"nofollow\">\"Country Profile: India\"</a> <span class=\"cs1-format\">(PDF)</span>, <i><a href=\"/wiki/Library_of_Congress_Country_Studies\" title=\"Library of Congress Country Studies\">Library of Congress Country Studies</a></i> (5th ed.), <a href=\"/wiki/Library_of_Congress\" title=\"Library of Congress\">Library of Congress</a> <a href=\"/wiki/Federal_Research_Division\" title=\"Federal Research Division\">Federal Research Division</a>, December 2004<span class=\"reference-accessdate\">, retrieved <span class=\"nowrap\">30 September</span> 2011</span></cite><span class=\"Z3988\" title=\"ctx_ver=Z39.88-2004&amp;rft_val_fmt=info%3Aofi%2Ffmt%3Akev%3Amtx%3Ajournal&amp;rft.genre=article&amp;rft.jtitle=Library+of+Congress+Country+Studies&amp;rft.atitle=Country+Profile%3A+India&amp;rft.date=2004-12&amp;rft_id=http%3A%2F%2Flcweb2.loc.gov%2Ffrd%2Fcs%2Fprofiles%2FIndia.pdf&amp;rfr_id=info%3Asid%2Fen.wikipedia.org%3AList+of+state+and+union+territory+capitals+in+India\"></span><link href=\"mw-data:TemplateStyles:r886058088\" rel=\"mw-deduplicated-inline-style\"/></li>\n",
       "<li><cite class=\"citation book\" id=\"CITEREFKhandewale1989\">Khandewale, Shrinivas Vishnu (1989). <a class=\"external text\" href=\"https://books.google.com/books?id=_SDhC12S7q4C&amp;pg=PA21\" rel=\"nofollow\"><i>Industrial Area and Regional Resources: A Case Study of Nagpur Industrial Area</i></a>. Mittal Publications. <a href=\"/wiki/International_Standard_Book_Number\" title=\"International Standard Book Number\">ISBN</a> <a href=\"/wiki/Special:BookSources/978-81-7099-134-2\" title=\"Special:BookSources/978-81-7099-134-2\"><bdi>978-81-7099-134-2</bdi></a><span class=\"reference-accessdate\">. Retrieved <span class=\"nowrap\">13 August</span> 2012</span>.</cite><span class=\"Z3988\" title=\"ctx_ver=Z39.88-2004&amp;rft_val_fmt=info%3Aofi%2Ffmt%3Akev%3Amtx%3Abook&amp;rft.genre=book&amp;rft.btitle=Industrial+Area+and+Regional+Resources%3A+A+Case+Study+of+Nagpur+Industrial+Area&amp;rft.pub=Mittal+Publications&amp;rft.date=1989&amp;rft.isbn=978-81-7099-134-2&amp;rft.aulast=Khandewale&amp;rft.aufirst=Shrinivas+Vishnu&amp;rft_id=https%3A%2F%2Fbooks.google.com%2Fbooks%3Fid%3D_SDhC12S7q4C%26pg%3DPA21&amp;rfr_id=info%3Asid%2Fen.wikipedia.org%3AList+of+state+and+union+territory+capitals+in+India\"></span><link href=\"mw-data:TemplateStyles:r886058088\" rel=\"mw-deduplicated-inline-style\"/></li>\n",
       "<li><cite class=\"citation book\" id=\"CITEREFMathew1995\">Mathew, George (1995). <a class=\"external text\" href=\"https://books.google.com/books?id=H6DQEoh0EJ8C&amp;pg=PA95\" rel=\"nofollow\"><i>Status of Panchayati Raj in the States of India, 1994</i></a>. Concept Publishing Company. <a href=\"/wiki/International_Standard_Book_Number\" title=\"International Standard Book Number\">ISBN</a> <a href=\"/wiki/Special:BookSources/978-81-7022-553-9\" title=\"Special:BookSources/978-81-7022-553-9\"><bdi>978-81-7022-553-9</bdi></a><span class=\"reference-accessdate\">. Retrieved <span class=\"nowrap\">19 August</span> 2012</span>.</cite><span class=\"Z3988\" title=\"ctx_ver=Z39.88-2004&amp;rft_val_fmt=info%3Aofi%2Ffmt%3Akev%3Amtx%3Abook&amp;rft.genre=book&amp;rft.btitle=Status+of+Panchayati+Raj+in+the+States+of+India%2C+1994&amp;rft.pub=Concept+Publishing+Company&amp;rft.date=1995&amp;rft.isbn=978-81-7022-553-9&amp;rft.aulast=Mathew&amp;rft.aufirst=George&amp;rft_id=https%3A%2F%2Fbooks.google.com%2Fbooks%3Fid%3DH6DQEoh0EJ8C%26pg%3DPA95&amp;rfr_id=info%3Asid%2Fen.wikipedia.org%3AList+of+state+and+union+territory+capitals+in+India\"></span><link href=\"mw-data:TemplateStyles:r886058088\" rel=\"mw-deduplicated-inline-style\"/></li>\n",
       "<li><cite class=\"citation book\" id=\"CITEREFKini1974\">Kini, N. G. S. (1974). <a class=\"external text\" href=\"https://books.google.com/books?id=46HcFvAv96sC&amp;pg=PA34\" rel=\"nofollow\"><i>The City Voter in India: A Study of 1967 General Elections in Nagpur</i></a>. Abhinav Publications. <a href=\"/wiki/International_Standard_Book_Number\" title=\"International Standard Book Number\">ISBN</a> <a href=\"/wiki/Special:BookSources/978-0-88386-524-8\" title=\"Special:BookSources/978-0-88386-524-8\"><bdi>978-0-88386-524-8</bdi></a><span class=\"reference-accessdate\">. Retrieved <span class=\"nowrap\">13 August</span> 2012</span>.</cite><span class=\"Z3988\" title=\"ctx_ver=Z39.88-2004&amp;rft_val_fmt=info%3Aofi%2Ffmt%3Akev%3Amtx%3Abook&amp;rft.genre=book&amp;rft.btitle=The+City+Voter+in+India%3A+A+Study+of+1967+General+Elections+in+Nagpur&amp;rft.pub=Abhinav+Publications&amp;rft.date=1974&amp;rft.isbn=978-0-88386-524-8&amp;rft.aulast=Kini&amp;rft.aufirst=N.+G.+S.&amp;rft_id=https%3A%2F%2Fbooks.google.com%2Fbooks%3Fid%3D46HcFvAv96sC%26pg%3DPA34&amp;rfr_id=info%3Asid%2Fen.wikipedia.org%3AList+of+state+and+union+territory+capitals+in+India\"></span><link href=\"mw-data:TemplateStyles:r886058088\" rel=\"mw-deduplicated-inline-style\"/></li>\n",
       "<li><cite class=\"citation book\" id=\"CITEREFKumāra1998\">Kumāra, Braja Bihārī (1 January 1998). <a class=\"external text\" href=\"https://books.google.com/books?id=nKqF_AgDd4gC&amp;pg=PA136\" rel=\"nofollow\"><i>Small States Syndrome In India</i></a>. Concept Publishing Company. <a href=\"/wiki/International_Standard_Book_Number\" title=\"International Standard Book Number\">ISBN</a> <a href=\"/wiki/Special:BookSources/978-81-7022-691-8\" title=\"Special:BookSources/978-81-7022-691-8\"><bdi>978-81-7022-691-8</bdi></a><span class=\"reference-accessdate\">. Retrieved <span class=\"nowrap\">13 August</span> 2012</span>.</cite><span class=\"Z3988\" title=\"ctx_ver=Z39.88-2004&amp;rft_val_fmt=info%3Aofi%2Ffmt%3Akev%3Amtx%3Abook&amp;rft.genre=book&amp;rft.btitle=Small+States+Syndrome+In+India&amp;rft.pub=Concept+Publishing+Company&amp;rft.date=1998-01-01&amp;rft.isbn=978-81-7022-691-8&amp;rft.aulast=Kum%C4%81ra&amp;rft.aufirst=Braja+Bih%C4%81r%C4%AB&amp;rft_id=https%3A%2F%2Fbooks.google.com%2Fbooks%3Fid%3DnKqF_AgDd4gC%26pg%3DPA136&amp;rfr_id=info%3Asid%2Fen.wikipedia.org%3AList+of+state+and+union+territory+capitals+in+India\"></span><link href=\"mw-data:TemplateStyles:r886058088\" rel=\"mw-deduplicated-inline-style\"/></li>\n",
       "<li><cite class=\"citation book\" id=\"CITEREFKippen2006\">Kippen, James (2006). <a class=\"external text\" href=\"https://books.google.com/books?id=sB1AhvY2BSEC\" rel=\"nofollow\"><i>Gurudev's Drumming Legacy: Music, Theory, and Nationalism in the Mr̥daṅg Aur Tablā Vādanpaddhati of Gurudev Patwardhan</i></a>. Ashgate Publishing. <a href=\"/wiki/International_Standard_Book_Number\" title=\"International Standard Book Number\">ISBN</a> <a href=\"/wiki/Special:BookSources/978-0-7546-5424-7\" title=\"Special:BookSources/978-0-7546-5424-7\"><bdi>978-0-7546-5424-7</bdi></a><span class=\"reference-accessdate\">. Retrieved <span class=\"nowrap\">15 August</span> 2012</span>.</cite><span class=\"Z3988\" title=\"ctx_ver=Z39.88-2004&amp;rft_val_fmt=info%3Aofi%2Ffmt%3Akev%3Amtx%3Abook&amp;rft.genre=book&amp;rft.btitle=Gurudev%27s+Drumming+Legacy%3A+Music%2C+Theory%2C+and+Nationalism+in+the+Mr%CC%A5da%E1%B9%85g+Aur+Tabl%C4%81+V%C4%81danpaddhati+of+Gurudev+Patwardhan&amp;rft.pub=Ashgate+Publishing&amp;rft.date=2006&amp;rft.isbn=978-0-7546-5424-7&amp;rft.aulast=Kippen&amp;rft.aufirst=James&amp;rft_id=https%3A%2F%2Fbooks.google.com%2Fbooks%3Fid%3DsB1AhvY2BSEC&amp;rfr_id=info%3Asid%2Fen.wikipedia.org%3AList+of+state+and+union+territory+capitals+in+India\"></span><link href=\"mw-data:TemplateStyles:r886058088\" rel=\"mw-deduplicated-inline-style\"/></li>\n",
       "<li><cite class=\"citation book\" id=\"CITEREFMenonBanerjea2002\">Menon, N. R. Madhava; Banerjea, D. (2002). <a class=\"external text\" href=\"https://books.google.com/books?id=gm_tzXsC12gC\" rel=\"nofollow\"><i>Criminal Justice India Series: Haryana, 2002</i></a>. Allied Publishers in collaboration with National University of Juridical Sciences. <a href=\"/wiki/International_Standard_Book_Number\" title=\"International Standard Book Number\">ISBN</a> <a href=\"/wiki/Special:BookSources/978-81-7764-518-7\" title=\"Special:BookSources/978-81-7764-518-7\"><bdi>978-81-7764-518-7</bdi></a><span class=\"reference-accessdate\">. Retrieved <span class=\"nowrap\">15 August</span> 2012</span>.</cite><span class=\"Z3988\" title=\"ctx_ver=Z39.88-2004&amp;rft_val_fmt=info%3Aofi%2Ffmt%3Akev%3Amtx%3Abook&amp;rft.genre=book&amp;rft.btitle=Criminal+Justice+India+Series%3A+Haryana%2C+2002&amp;rft.pub=Allied+Publishers+in+collaboration+with+National+University+of+Juridical+Sciences&amp;rft.date=2002&amp;rft.isbn=978-81-7764-518-7&amp;rft.aulast=Menon&amp;rft.aufirst=N.+R.+Madhava&amp;rft.au=Banerjea%2C+D.&amp;rft_id=https%3A%2F%2Fbooks.google.com%2Fbooks%3Fid%3Dgm_tzXsC12gC&amp;rfr_id=info%3Asid%2Fen.wikipedia.org%3AList+of+state+and+union+territory+capitals+in+India\"></span><link href=\"mw-data:TemplateStyles:r886058088\" rel=\"mw-deduplicated-inline-style\"/></li>\n",
       "<li><cite class=\"citation\" id=\"CITEREFGovernment_of_Andhra_Pradesh\"><a class=\"external text\" href=\"https://web.archive.org/web/20131220113947/http://www.aponline.gov.in/quick%20links/hist-cult/history_post.html\" rel=\"nofollow\">\"Post-Independence Era\"</a>, <i>History of Andhra Pradesh</i>, Government of Andhra Pradesh, archived from <a class=\"external text\" href=\"http://www.aponline.gov.in/quick%20links/hist-cult/history_post.html\" rel=\"nofollow\">the original</a> on 20 December 2013<span class=\"reference-accessdate\">, retrieved <span class=\"nowrap\">4 August</span> 2012</span></cite><span class=\"Z3988\" title=\"ctx_ver=Z39.88-2004&amp;rft_val_fmt=info%3Aofi%2Ffmt%3Akev%3Amtx%3Ajournal&amp;rft.genre=article&amp;rft.jtitle=History+of+Andhra+Pradesh&amp;rft.atitle=Post-Independence+Era&amp;rft_id=http%3A%2F%2Fwww.aponline.gov.in%2Fquick%2520links%2Fhist-cult%2Fhistory_post.html&amp;rfr_id=info%3Asid%2Fen.wikipedia.org%3AList+of+state+and+union+territory+capitals+in+India\"></span><link href=\"mw-data:TemplateStyles:r886058088\" rel=\"mw-deduplicated-inline-style\"/></li>\n",
       "<li><cite class=\"citation book\" id=\"CITEREFRing1996\">Ring, Trudy (1 January 1996). <a class=\"external text\" href=\"https://books.google.com/books?id=vWLRxJEU49EC&amp;pg=PA288\" rel=\"nofollow\"><i>Asia and Oceania: International Dictionary of Historic Places</i></a>. Taylor &amp; Francis. <a href=\"/wiki/International_Standard_Book_Number\" title=\"International Standard Book Number\">ISBN</a> <a href=\"/wiki/Special:BookSources/978-1-884964-04-6\" title=\"Special:BookSources/978-1-884964-04-6\"><bdi>978-1-884964-04-6</bdi></a><span class=\"reference-accessdate\">. Retrieved <span class=\"nowrap\">13 August</span> 2012</span>.</cite><span class=\"Z3988\" title=\"ctx_ver=Z39.88-2004&amp;rft_val_fmt=info%3Aofi%2Ffmt%3Akev%3Amtx%3Abook&amp;rft.genre=book&amp;rft.btitle=Asia+and+Oceania%3A+International+Dictionary+of+Historic+Places&amp;rft.pub=Taylor+%26+Francis&amp;rft.date=1996-01-01&amp;rft.isbn=978-1-884964-04-6&amp;rft.aulast=Ring&amp;rft.aufirst=Trudy&amp;rft_id=https%3A%2F%2Fbooks.google.com%2Fbooks%3Fid%3DvWLRxJEU49EC%26pg%3DPA288&amp;rfr_id=info%3Asid%2Fen.wikipedia.org%3AList+of+state+and+union+territory+capitals+in+India\"></span><link href=\"mw-data:TemplateStyles:r886058088\" rel=\"mw-deduplicated-inline-style\"/></li>\n",
       "<li><cite class=\"citation book\" id=\"CITEREFSatiKumar2004\">Sati, Vishwambhar Prasad; Kumar, Kamlesh (2004). <a class=\"external text\" href=\"https://books.google.com/books?id=ct6YMRvYJQ4C&amp;pg=PA9\" rel=\"nofollow\"><i>Uttaranchal: Dilemma Of Plenties And Scarcities</i></a>. Mittal Publications. <a href=\"/wiki/International_Standard_Book_Number\" title=\"International Standard Book Number\">ISBN</a> <a href=\"/wiki/Special:BookSources/978-81-7099-898-3\" title=\"Special:BookSources/978-81-7099-898-3\"><bdi>978-81-7099-898-3</bdi></a><span class=\"reference-accessdate\">. Retrieved <span class=\"nowrap\">13 August</span> 2012</span>.</cite><span class=\"Z3988\" title=\"ctx_ver=Z39.88-2004&amp;rft_val_fmt=info%3Aofi%2Ffmt%3Akev%3Amtx%3Abook&amp;rft.genre=book&amp;rft.btitle=Uttaranchal%3A+Dilemma+Of+Plenties+And+Scarcities&amp;rft.pub=Mittal+Publications&amp;rft.date=2004&amp;rft.isbn=978-81-7099-898-3&amp;rft.aulast=Sati&amp;rft.aufirst=Vishwambhar+Prasad&amp;rft.au=Kumar%2C+Kamlesh&amp;rft_id=https%3A%2F%2Fbooks.google.com%2Fbooks%3Fid%3Dct6YMRvYJQ4C%26pg%3DPA9&amp;rfr_id=info%3Asid%2Fen.wikipedia.org%3AList+of+state+and+union+territory+capitals+in+India\"></span><link href=\"mw-data:TemplateStyles:r886058088\" rel=\"mw-deduplicated-inline-style\"/></li>\n",
       "<li><cite class=\"citation book\" id=\"CITEREFSharma2007\">Sharma, B. K. (August 2007). <a class=\"external text\" href=\"https://books.google.com/books?id=srDytmFE3KMC\" rel=\"nofollow\"><i>Introduction to the Constitution of India</i></a> (4th ed.). <a href=\"/wiki/Prentice_Hall\" title=\"Prentice Hall\">Prentice Hall</a>. <a href=\"/wiki/International_Standard_Book_Number\" title=\"International Standard Book Number\">ISBN</a> <a href=\"/wiki/Special:BookSources/978-81-203-3246-1\" title=\"Special:BookSources/978-81-203-3246-1\"><bdi>978-81-203-3246-1</bdi></a>.</cite><span class=\"Z3988\" title=\"ctx_ver=Z39.88-2004&amp;rft_val_fmt=info%3Aofi%2Ffmt%3Akev%3Amtx%3Abook&amp;rft.genre=book&amp;rft.btitle=Introduction+to+the+Constitution+of+India&amp;rft.edition=4th&amp;rft.pub=Prentice+Hall&amp;rft.date=2007-08&amp;rft.isbn=978-81-203-3246-1&amp;rft.aulast=Sharma&amp;rft.aufirst=B.+K.&amp;rft_id=https%3A%2F%2Fbooks.google.com%2Fbooks%3Fid%3DsrDytmFE3KMC&amp;rfr_id=info%3Asid%2Fen.wikipedia.org%3AList+of+state+and+union+territory+capitals+in+India\"></span><link href=\"mw-data:TemplateStyles:r886058088\" rel=\"mw-deduplicated-inline-style\"/></li>\n",
       "<li><cite class=\"citation book\" id=\"CITEREFSpate1953\">Spate, Oskar Hermann Khristian (1953). <a class=\"external text\" href=\"https://books.google.com/books?id=DrgNAAAAQAAJ\" rel=\"nofollow\"><i>The Changing Map Of Asia A Political Geography</i></a>. Taylor &amp; Francis<span class=\"reference-accessdate\">. Retrieved <span class=\"nowrap\">15 August</span> 2012</span>.</cite><span class=\"Z3988\" title=\"ctx_ver=Z39.88-2004&amp;rft_val_fmt=info%3Aofi%2Ffmt%3Akev%3Amtx%3Abook&amp;rft.genre=book&amp;rft.btitle=The+Changing+Map+Of+Asia+A+Political+Geography&amp;rft.pub=Taylor+%26+Francis&amp;rft.date=1953&amp;rft.aulast=Spate&amp;rft.aufirst=Oskar+Hermann+Khristian&amp;rft_id=https%3A%2F%2Fbooks.google.com%2Fbooks%3Fid%3DDrgNAAAAQAAJ&amp;rfr_id=info%3Asid%2Fen.wikipedia.org%3AList+of+state+and+union+territory+capitals+in+India\"></span><link href=\"mw-data:TemplateStyles:r886058088\" rel=\"mw-deduplicated-inline-style\"/></li></ul>\n",
       "</div>\n",
       "<h2><span class=\"mw-headline\" id=\"External_links\">External links</span><span class=\"mw-editsection\"><span class=\"mw-editsection-bracket\">[</span><a href=\"/w/index.php?title=List_of_state_and_union_territory_capitals_in_India&amp;action=edit&amp;section=5\" title=\"Edit section: External links\">edit</a><span class=\"mw-editsection-bracket\">]</span></span></h2>\n",
       "<ul><li><a class=\"external text\" href=\"https://web.archive.org/web/20130528025659/http://www.nic.in/states\" rel=\"nofollow\">List of states in India</a></li>\n",
       "<li><a class=\"external text\" href=\"http://legislativebodiesinindia.nic.in/\" rel=\"nofollow\">Legislative bodies in India</a></li></ul>\n",
       "<div aria-labelledby=\"23x15px&amp;#124;border_&amp;#124;alt=India&amp;#124;link=India_State_and_Union_Territory_capitals_of_India\" class=\"navbox\" role=\"navigation\" style=\"padding:3px\"><table class=\"nowraplinks collapsible autocollapse navbox-inner\" style=\"border-spacing:0;background:transparent;color:inherit\"><tbody><tr><th class=\"navbox-title\" colspan=\"2\" scope=\"col\"><div class=\"plainlinks hlist navbar mini\"><ul><li class=\"nv-view\"><a href=\"/wiki/Template:State_and_Union_Territory_capitals_of_India\" title=\"Template:State and Union Territory capitals of India\"><abbr style=\";;background:none transparent;border:none;-moz-box-shadow:none;-webkit-box-shadow:none;box-shadow:none; padding:0;\" title=\"View this template\">v</abbr></a></li><li class=\"nv-talk\"><a href=\"/wiki/Template_talk:State_and_Union_Territory_capitals_of_India\" title=\"Template talk:State and Union Territory capitals of India\"><abbr style=\";;background:none transparent;border:none;-moz-box-shadow:none;-webkit-box-shadow:none;box-shadow:none; padding:0;\" title=\"Discuss this template\">t</abbr></a></li><li class=\"nv-edit\"><a class=\"external text\" href=\"//en.wikipedia.org/w/index.php?title=Template:State_and_Union_Territory_capitals_of_India&amp;action=edit\"><abbr style=\";;background:none transparent;border:none;-moz-box-shadow:none;-webkit-box-shadow:none;box-shadow:none; padding:0;\" title=\"Edit this template\">e</abbr></a></li></ul></div><div id=\"23x15px&amp;#124;border_&amp;#124;alt=India&amp;#124;link=India_State_and_Union_Territory_capitals_of_India\" style=\"font-size:114%;margin:0 4em\"><span class=\"flagicon\"><a href=\"/wiki/India\" title=\"India\"><img alt=\"India\" class=\"thumbborder\" data-file-height=\"900\" data-file-width=\"1350\" decoding=\"async\" height=\"15\" src=\"//upload.wikimedia.org/wikipedia/en/thumb/4/41/Flag_of_India.svg/23px-Flag_of_India.svg.png\" srcset=\"//upload.wikimedia.org/wikipedia/en/thumb/4/41/Flag_of_India.svg/35px-Flag_of_India.svg.png 1.5x, //upload.wikimedia.org/wikipedia/en/thumb/4/41/Flag_of_India.svg/45px-Flag_of_India.svg.png 2x\" width=\"23\"/></a></span> <a class=\"mw-redirect\" href=\"/wiki/States_and_territories_of_India\" title=\"States and territories of India\">State and Union Territory</a> <a class=\"mw-selflink selflink\">capitals</a> of <a href=\"/wiki/India\" title=\"India\">India</a></div></th></tr><tr><td class=\"navbox-list navbox-odd hlist\" colspan=\"2\" style=\"width:100%;padding:0px\"><div style=\"padding:0em 0.25em\">\n",
       "<ul><li><a href=\"/wiki/Agartala\" title=\"Agartala\">Agartala</a></li>\n",
       "<li><a href=\"/wiki/Aizawl\" title=\"Aizawl\">Aizawl</a></li>\n",
       "<li><a href=\"/wiki/Amaravati\" title=\"Amaravati\">Amaravati</a> (<i>de facto</i>)</li>\n",
       "<li><a class=\"mw-redirect\" href=\"/wiki/Atal_Nagar\" title=\"Atal Nagar\">Atal Nagar</a> (<i>de facto</i>)</li>\n",
       "<li><a href=\"/wiki/Bangalore\" title=\"Bangalore\">Bangalore</a></li>\n",
       "<li><a href=\"/wiki/Bhopal\" title=\"Bhopal\">Bhopal</a></li>\n",
       "<li><a href=\"/wiki/Bhubaneswar\" title=\"Bhubaneswar\">Bhubaneswar</a></li>\n",
       "<li><a href=\"/wiki/Chandigarh\" title=\"Chandigarh\">Chandigarh</a></li>\n",
       "<li><a href=\"/wiki/Chennai\" title=\"Chennai\">Chennai</a></li>\n",
       "<li><a href=\"/wiki/Daman,_Daman_and_Diu\" title=\"Daman, Daman and Diu\">Daman</a></li>\n",
       "<li><a href=\"/wiki/Dharamshala\" title=\"Dharamshala\">Dharamshala</a> (<i>winter</i>)</li>\n",
       "<li><a href=\"/wiki/Dehradun\" title=\"Dehradun\">Dehradun</a> (<i>interim</i>)</li>\n",
       "<li><a href=\"/wiki/New_Delhi\" title=\"New Delhi\">New Delhi</a></li>\n",
       "<li><a href=\"/wiki/Dispur\" title=\"Dispur\">Dispur</a></li>\n",
       "<li><a href=\"/wiki/Gandhinagar\" title=\"Gandhinagar\">Gandhinagar</a></li>\n",
       "<li><a href=\"/wiki/Gangtok\" title=\"Gangtok\">Gangtok</a></li>\n",
       "<li><a href=\"/wiki/Hyderabad\" title=\"Hyderabad\">Hyderabad</a></li>\n",
       "<li><a href=\"/wiki/Imphal\" title=\"Imphal\">Imphal</a></li>\n",
       "<li><a href=\"/wiki/Itanagar\" title=\"Itanagar\">Itanagar</a></li>\n",
       "<li><a href=\"/wiki/Jaipur\" title=\"Jaipur\">Jaipur</a></li>\n",
       "<li><a href=\"/wiki/Jammu\" title=\"Jammu\">Jammu</a> (<i>winter</i>)</li>\n",
       "<li><a href=\"/wiki/Kavaratti\" title=\"Kavaratti\">Kavaratti</a></li>\n",
       "<li><a href=\"/wiki/Kohima\" title=\"Kohima\">Kohima</a></li>\n",
       "<li><a href=\"/wiki/Kolkata\" title=\"Kolkata\">Kolkata</a></li>\n",
       "<li><a href=\"/wiki/Lucknow\" title=\"Lucknow\">Lucknow</a></li>\n",
       "<li><a href=\"/wiki/Mumbai\" title=\"Mumbai\">Mumbai</a> (<i>summer</i>)</li>\n",
       "<li><a href=\"/wiki/Nagpur\" title=\"Nagpur\">Nagpur</a> (<i>winter</i>)</li>\n",
       "<li><a href=\"/wiki/Panaji\" title=\"Panaji\">Panaji</a></li>\n",
       "<li><a href=\"/wiki/Patna\" title=\"Patna\">Patna</a></li>\n",
       "<li><a href=\"/wiki/Pondicherry\" title=\"Pondicherry\">Pondicherry</a></li>\n",
       "<li><a href=\"/wiki/Port_Blair\" title=\"Port Blair\">Port Blair</a></li>\n",
       "<li><a href=\"/wiki/Raipur\" title=\"Raipur\">Raipur</a></li>\n",
       "<li><a href=\"/wiki/Ranchi\" title=\"Ranchi\">Ranchi</a></li>\n",
       "<li><a href=\"/wiki/Shillong\" title=\"Shillong\">Shillong</a></li>\n",
       "<li><a href=\"/wiki/Shimla\" title=\"Shimla\">Shimla</a> (<i>summer</i>)</li>\n",
       "<li><a href=\"/wiki/Silvassa\" title=\"Silvassa\">Silvassa</a></li>\n",
       "<li><a href=\"/wiki/Srinagar\" title=\"Srinagar\">Srinagar</a> (<i>summer</i>)</li>\n",
       "<li><a href=\"/wiki/Thiruvananthapuram\" title=\"Thiruvananthapuram\">Thiruvananthapuram</a></li></ul>\n",
       "</div></td></tr></tbody></table></div>\n",
       "<!-- \n",
       "NewPP limit report\n",
       "Parsed by mw1268\n",
       "Cached time: 20190708134046\n",
       "Cache expiry: 2592000\n",
       "Dynamic content: false\n",
       "Complications: [vary‐revision]\n",
       "CPU time usage: 0.440 seconds\n",
       "Real time usage: 0.551 seconds\n",
       "Preprocessor visited node count: 1926/1000000\n",
       "Preprocessor generated node count: 0/1500000\n",
       "Post‐expand include size: 59486/2097152 bytes\n",
       "Template argument size: 3356/2097152 bytes\n",
       "Highest expansion depth: 12/40\n",
       "Expensive parser function count: 2/500\n",
       "Unstrip recursion depth: 1/20\n",
       "Unstrip post‐expand size: 47728/5000000 bytes\n",
       "Number of Wikibase entities loaded: 0/400\n",
       "Lua time usage: 0.201/10.000 seconds\n",
       "Lua memory usage: 4.32 MB/50 MB\n",
       "-->\n",
       "<!--\n",
       "Transclusion expansion time report (%,ms,calls,template)\n",
       "100.00%  419.355      1 -total\n",
       " 33.27%  139.529      2 Template:Reflist\n",
       " 23.12%   96.949      3 Template:Cite_web\n",
       " 19.38%   81.287     12 Template:Cite_book\n",
       "  7.96%   33.377     11 Template:Efn\n",
       "  7.72%   32.382      1 Template:Use_dmy_dates\n",
       "  6.93%   29.080     11 Template:Sfn\n",
       "  6.59%   27.623      1 Template:State_and_Union_Territory_capitals_of_India\n",
       "  5.96%   25.007      1 Template:India_divisions_by\n",
       "  5.59%   23.462      1 Template:Navbox\n",
       "-->\n",
       "<!-- Saved in parser cache with key enwiki:pcache:idhash:2371868-0!canonical and timestamp 20190708134045 and revision id 904438853\n",
       " -->\n",
       "</div><noscript><img alt=\"\" height=\"1\" src=\"//en.wikipedia.org/wiki/Special:CentralAutoLogin/start?type=1x1\" style=\"border: none; position: absolute;\" title=\"\" width=\"1\"/></noscript></div>\n",
       "<div class=\"printfooter\">Retrieved from \"<a dir=\"ltr\" href=\"https://en.wikipedia.org/w/index.php?title=List_of_state_and_union_territory_capitals_in_India&amp;oldid=904438853\">https://en.wikipedia.org/w/index.php?title=List_of_state_and_union_territory_capitals_in_India&amp;oldid=904438853</a>\"</div>\n",
       "<div class=\"catlinks\" data-mw=\"interface\" id=\"catlinks\"><div class=\"mw-normal-catlinks\" id=\"mw-normal-catlinks\"><a href=\"/wiki/Help:Category\" title=\"Help:Category\">Categories</a>: <ul><li><a href=\"/wiki/Category:States_and_union_territories_of_India-related_lists\" title=\"Category:States and union territories of India-related lists\">States and union territories of India-related lists</a></li><li><a href=\"/wiki/Category:Indian_capital_cities\" title=\"Category:Indian capital cities\">Indian capital cities</a></li><li><a href=\"/wiki/Category:Lists_of_cities_in_India\" title=\"Category:Lists of cities in India\">Lists of cities in India</a></li><li><a href=\"/wiki/Category:Lists_of_capitals_of_country_subdivisions\" title=\"Category:Lists of capitals of country subdivisions\">Lists of capitals of country subdivisions</a></li><li><a href=\"/wiki/Category:Cities_and_towns_in_India_by_state_or_territory\" title=\"Category:Cities and towns in India by state or territory\">Cities and towns in India by state or territory</a></li></ul></div><div class=\"mw-hidden-catlinks mw-hidden-cats-hidden\" id=\"mw-hidden-catlinks\">Hidden categories: <ul><li><a href=\"/wiki/Category:Use_dmy_dates_from_November_2018\" title=\"Category:Use dmy dates from November 2018\">Use dmy dates from November 2018</a></li><li><a href=\"/wiki/Category:Use_Indian_English_from_November_2018\" title=\"Category:Use Indian English from November 2018\">Use Indian English from November 2018</a></li><li><a href=\"/wiki/Category:All_Wikipedia_articles_written_in_Indian_English\" title=\"Category:All Wikipedia articles written in Indian English\">All Wikipedia articles written in Indian English</a></li></ul></div></div>\n",
       "<div class=\"visualClear\"></div>\n",
       "</div>\n",
       "</div>\n",
       "<div id=\"mw-navigation\">\n",
       "<h2>Navigation menu</h2>\n",
       "<div id=\"mw-head\">\n",
       "<div aria-labelledby=\"p-personal-label\" id=\"p-personal\" role=\"navigation\">\n",
       "<h3 id=\"p-personal-label\">Personal tools</h3>\n",
       "<ul>\n",
       "<li id=\"pt-anonuserpage\">Not logged in</li><li id=\"pt-anontalk\"><a accesskey=\"n\" href=\"/wiki/Special:MyTalk\" title=\"Discussion about edits from this IP address [n]\">Talk</a></li><li id=\"pt-anoncontribs\"><a accesskey=\"y\" href=\"/wiki/Special:MyContributions\" title=\"A list of edits made from this IP address [y]\">Contributions</a></li><li id=\"pt-createaccount\"><a href=\"/w/index.php?title=Special:CreateAccount&amp;returnto=List+of+state+and+union+territory+capitals+in+India\" title=\"You are encouraged to create an account and log in; however, it is not mandatory\">Create account</a></li><li id=\"pt-login\"><a accesskey=\"o\" href=\"/w/index.php?title=Special:UserLogin&amp;returnto=List+of+state+and+union+territory+capitals+in+India\" title=\"You're encouraged to log in; however, it's not mandatory. [o]\">Log in</a></li> </ul>\n",
       "</div>\n",
       "<div id=\"left-navigation\">\n",
       "<div aria-labelledby=\"p-namespaces-label\" class=\"vectorTabs\" id=\"p-namespaces\" role=\"navigation\">\n",
       "<h3 id=\"p-namespaces-label\">Namespaces</h3>\n",
       "<ul>\n",
       "<li class=\"selected\" id=\"ca-nstab-main\"><span><a accesskey=\"c\" href=\"/wiki/List_of_state_and_union_territory_capitals_in_India\" title=\"View the content page [c]\">Article</a></span></li><li id=\"ca-talk\"><span><a accesskey=\"t\" href=\"/wiki/Talk:List_of_state_and_union_territory_capitals_in_India\" rel=\"discussion\" title=\"Discussion about the content page [t]\">Talk</a></span></li> </ul>\n",
       "</div>\n",
       "<div aria-labelledby=\"p-variants-label\" class=\"vectorMenu emptyPortlet\" id=\"p-variants\" role=\"navigation\">\n",
       "<input aria-labelledby=\"p-variants-label\" class=\"vectorMenuCheckbox\" type=\"checkbox\"/>\n",
       "<h3 id=\"p-variants-label\">\n",
       "<span>Variants</span>\n",
       "</h3>\n",
       "<ul class=\"menu\">\n",
       "</ul>\n",
       "</div>\n",
       "</div>\n",
       "<div id=\"right-navigation\">\n",
       "<div aria-labelledby=\"p-views-label\" class=\"vectorTabs\" id=\"p-views\" role=\"navigation\">\n",
       "<h3 id=\"p-views-label\">Views</h3>\n",
       "<ul>\n",
       "<li class=\"collapsible selected\" id=\"ca-view\"><span><a href=\"/wiki/List_of_state_and_union_territory_capitals_in_India\">Read</a></span></li><li class=\"collapsible\" id=\"ca-edit\"><span><a accesskey=\"e\" href=\"/w/index.php?title=List_of_state_and_union_territory_capitals_in_India&amp;action=edit\" title=\"Edit this page [e]\">Edit</a></span></li><li class=\"collapsible\" id=\"ca-history\"><span><a accesskey=\"h\" href=\"/w/index.php?title=List_of_state_and_union_territory_capitals_in_India&amp;action=history\" title=\"Past revisions of this page [h]\">View history</a></span></li> </ul>\n",
       "</div>\n",
       "<div aria-labelledby=\"p-cactions-label\" class=\"vectorMenu emptyPortlet\" id=\"p-cactions\" role=\"navigation\">\n",
       "<input aria-labelledby=\"p-cactions-label\" class=\"vectorMenuCheckbox\" type=\"checkbox\"/>\n",
       "<h3 id=\"p-cactions-label\"><span>More</span></h3>\n",
       "<ul class=\"menu\">\n",
       "</ul>\n",
       "</div>\n",
       "<div id=\"p-search\" role=\"search\">\n",
       "<h3>\n",
       "<label for=\"searchInput\">Search</label>\n",
       "</h3>\n",
       "<form action=\"/w/index.php\" id=\"searchform\">\n",
       "<div id=\"simpleSearch\">\n",
       "<input accesskey=\"f\" id=\"searchInput\" name=\"search\" placeholder=\"Search Wikipedia\" title=\"Search Wikipedia [f]\" type=\"search\"/><input name=\"title\" type=\"hidden\" value=\"Special:Search\"/><input class=\"searchButton mw-fallbackSearchButton\" id=\"mw-searchButton\" name=\"fulltext\" title=\"Search Wikipedia for this text\" type=\"submit\" value=\"Search\"/><input class=\"searchButton\" id=\"searchButton\" name=\"go\" title=\"Go to a page with this exact name if it exists\" type=\"submit\" value=\"Go\"/> </div>\n",
       "</form>\n",
       "</div>\n",
       "</div>\n",
       "</div>\n",
       "<div id=\"mw-panel\">\n",
       "<div id=\"p-logo\" role=\"banner\"><a class=\"mw-wiki-logo\" href=\"/wiki/Main_Page\" title=\"Visit the main page\"></a></div>\n",
       "<div aria-labelledby=\"p-navigation-label\" class=\"portal\" id=\"p-navigation\" role=\"navigation\">\n",
       "<h3 id=\"p-navigation-label\">Navigation</h3>\n",
       "<div class=\"body\">\n",
       "<ul>\n",
       "<li id=\"n-mainpage-description\"><a accesskey=\"z\" href=\"/wiki/Main_Page\" title=\"Visit the main page [z]\">Main page</a></li><li id=\"n-contents\"><a href=\"/wiki/Portal:Contents\" title=\"Guides to browsing Wikipedia\">Contents</a></li><li id=\"n-featuredcontent\"><a href=\"/wiki/Portal:Featured_content\" title=\"Featured content – the best of Wikipedia\">Featured content</a></li><li id=\"n-currentevents\"><a href=\"/wiki/Portal:Current_events\" title=\"Find background information on current events\">Current events</a></li><li id=\"n-randompage\"><a accesskey=\"x\" href=\"/wiki/Special:Random\" title=\"Load a random article [x]\">Random article</a></li><li id=\"n-sitesupport\"><a href=\"https://donate.wikimedia.org/wiki/Special:FundraiserRedirector?utm_source=donate&amp;utm_medium=sidebar&amp;utm_campaign=C13_en.wikipedia.org&amp;uselang=en\" title=\"Support us\">Donate to Wikipedia</a></li><li id=\"n-shoplink\"><a href=\"//shop.wikimedia.org\" title=\"Visit the Wikipedia store\">Wikipedia store</a></li> </ul>\n",
       "</div>\n",
       "</div>\n",
       "<div aria-labelledby=\"p-interaction-label\" class=\"portal\" id=\"p-interaction\" role=\"navigation\">\n",
       "<h3 id=\"p-interaction-label\">Interaction</h3>\n",
       "<div class=\"body\">\n",
       "<ul>\n",
       "<li id=\"n-help\"><a href=\"/wiki/Help:Contents\" title=\"Guidance on how to use and edit Wikipedia\">Help</a></li><li id=\"n-aboutsite\"><a href=\"/wiki/Wikipedia:About\" title=\"Find out about Wikipedia\">About Wikipedia</a></li><li id=\"n-portal\"><a href=\"/wiki/Wikipedia:Community_portal\" title=\"About the project, what you can do, where to find things\">Community portal</a></li><li id=\"n-recentchanges\"><a accesskey=\"r\" href=\"/wiki/Special:RecentChanges\" title=\"A list of recent changes in the wiki [r]\">Recent changes</a></li><li id=\"n-contactpage\"><a href=\"//en.wikipedia.org/wiki/Wikipedia:Contact_us\" title=\"How to contact Wikipedia\">Contact page</a></li> </ul>\n",
       "</div>\n",
       "</div>\n",
       "<div aria-labelledby=\"p-tb-label\" class=\"portal\" id=\"p-tb\" role=\"navigation\">\n",
       "<h3 id=\"p-tb-label\">Tools</h3>\n",
       "<div class=\"body\">\n",
       "<ul>\n",
       "<li id=\"t-whatlinkshere\"><a accesskey=\"j\" href=\"/wiki/Special:WhatLinksHere/List_of_state_and_union_territory_capitals_in_India\" title=\"List of all English Wikipedia pages containing links to this page [j]\">What links here</a></li><li id=\"t-recentchangeslinked\"><a accesskey=\"k\" href=\"/wiki/Special:RecentChangesLinked/List_of_state_and_union_territory_capitals_in_India\" rel=\"nofollow\" title=\"Recent changes in pages linked from this page [k]\">Related changes</a></li><li id=\"t-upload\"><a accesskey=\"u\" href=\"/wiki/Wikipedia:File_Upload_Wizard\" title=\"Upload files [u]\">Upload file</a></li><li id=\"t-specialpages\"><a accesskey=\"q\" href=\"/wiki/Special:SpecialPages\" title=\"A list of all special pages [q]\">Special pages</a></li><li id=\"t-permalink\"><a href=\"/w/index.php?title=List_of_state_and_union_territory_capitals_in_India&amp;oldid=904438853\" title=\"Permanent link to this revision of the page\">Permanent link</a></li><li id=\"t-info\"><a href=\"/w/index.php?title=List_of_state_and_union_territory_capitals_in_India&amp;action=info\" title=\"More information about this page\">Page information</a></li><li id=\"t-wikibase\"><a accesskey=\"g\" href=\"https://www.wikidata.org/wiki/Special:EntityPage/Q3518799\" title=\"Link to connected data repository item [g]\">Wikidata item</a></li><li id=\"t-cite\"><a href=\"/w/index.php?title=Special:CiteThisPage&amp;page=List_of_state_and_union_territory_capitals_in_India&amp;id=904438853\" title=\"Information on how to cite this page\">Cite this page</a></li> </ul>\n",
       "</div>\n",
       "</div>\n",
       "<div aria-labelledby=\"p-coll-print_export-label\" class=\"portal\" id=\"p-coll-print_export\" role=\"navigation\">\n",
       "<h3 id=\"p-coll-print_export-label\">Print/export</h3>\n",
       "<div class=\"body\">\n",
       "<ul>\n",
       "<li id=\"coll-create_a_book\"><a href=\"/w/index.php?title=Special:Book&amp;bookcmd=book_creator&amp;referer=List+of+state+and+union+territory+capitals+in+India\">Create a book</a></li><li id=\"coll-download-as-rl\"><a href=\"/w/index.php?title=Special:ElectronPdf&amp;page=List+of+state+and+union+territory+capitals+in+India&amp;action=show-download-screen\">Download as PDF</a></li><li id=\"t-print\"><a accesskey=\"p\" href=\"/w/index.php?title=List_of_state_and_union_territory_capitals_in_India&amp;printable=yes\" title=\"Printable version of this page [p]\">Printable version</a></li> </ul>\n",
       "</div>\n",
       "</div>\n",
       "<div aria-labelledby=\"p-lang-label\" class=\"portal\" id=\"p-lang\" role=\"navigation\">\n",
       "<h3 id=\"p-lang-label\">Languages</h3>\n",
       "<div class=\"body\">\n",
       "<ul>\n",
       "<li class=\"interlanguage-link interwiki-as\"><a class=\"interlanguage-link-target\" href=\"https://as.wikipedia.org/wiki/%E0%A6%AD%E0%A6%BE%E0%A7%B0%E0%A6%A4%E0%A7%B0_%E0%A7%B0%E0%A6%BE%E0%A6%9C%E0%A7%8D%E0%A6%AF_%E0%A6%86%E0%A7%B0%E0%A7%81_%E0%A6%95%E0%A7%87%E0%A6%A8%E0%A7%8D%E0%A6%A6%E0%A7%8D%E0%A7%B0%E0%A7%80%E0%A6%AF%E0%A6%BC%E0%A6%B6%E0%A6%BE%E0%A6%B8%E0%A6%BF%E0%A6%A4_%E0%A6%85%E0%A6%9E%E0%A7%8D%E0%A6%9A%E0%A6%B2%E0%A6%B8%E0%A6%AE%E0%A7%82%E0%A6%B9%E0%A7%B0_%E0%A7%B0%E0%A6%BE%E0%A6%9C%E0%A6%A7%E0%A6%BE%E0%A6%A8%E0%A7%80%E0%A7%B0_%E0%A6%A4%E0%A6%BE%E0%A6%B2%E0%A6%BF%E0%A6%95%E0%A6%BE\" hreflang=\"as\" lang=\"as\" title=\"ভাৰতৰ ৰাজ্য আৰু কেন্দ্ৰীয়শাসিত অঞ্চলসমূহৰ ৰাজধানীৰ তালিকা – Assamese\">অসমীয়া</a></li><li class=\"interlanguage-link interwiki-bn\"><a class=\"interlanguage-link-target\" href=\"https://bn.wikipedia.org/wiki/%E0%A6%AD%E0%A6%BE%E0%A6%B0%E0%A6%A4%E0%A7%87%E0%A6%B0_%E0%A6%B0%E0%A6%BE%E0%A6%9C%E0%A7%8D%E0%A6%AF_%E0%A6%93_%E0%A6%95%E0%A7%87%E0%A6%A8%E0%A7%8D%E0%A6%A6%E0%A7%8D%E0%A6%B0%E0%A6%B6%E0%A6%BE%E0%A6%B8%E0%A6%BF%E0%A6%A4_%E0%A6%85%E0%A6%9E%E0%A7%8D%E0%A6%9A%E0%A6%B2%E0%A6%B8%E0%A6%AE%E0%A7%82%E0%A6%B9%E0%A7%87%E0%A6%B0_%E0%A6%B0%E0%A6%BE%E0%A6%9C%E0%A6%A7%E0%A6%BE%E0%A6%A8%E0%A7%80%E0%A6%B0_%E0%A6%A4%E0%A6%BE%E0%A6%B2%E0%A6%BF%E0%A6%95%E0%A6%BE\" hreflang=\"bn\" lang=\"bn\" title=\"ভারতের রাজ্য ও কেন্দ্রশাসিত অঞ্চলসমূহের রাজধানীর তালিকা – Bangla\">বাংলা</a></li><li class=\"interlanguage-link interwiki-hi\"><a class=\"interlanguage-link-target\" href=\"https://hi.wikipedia.org/wiki/%E0%A4%AD%E0%A4%BE%E0%A4%B0%E0%A4%A4_%E0%A4%95%E0%A5%87_%E0%A4%B0%E0%A4%BE%E0%A4%9C%E0%A5%8D%E0%A4%AF%E0%A5%8B%E0%A4%82_%E0%A4%94%E0%A4%B0_%E0%A4%B8%E0%A4%82%E0%A4%98_%E0%A4%95%E0%A5%8D%E0%A4%B7%E0%A5%87%E0%A4%A4%E0%A5%8D%E0%A4%B0%E0%A5%8B%E0%A4%82_%E0%A4%95%E0%A5%80_%E0%A4%B0%E0%A4%BE%E0%A4%9C%E0%A4%A7%E0%A4%BE%E0%A4%A8%E0%A4%BF%E0%A4%AF%E0%A4%BE%E0%A4%81\" hreflang=\"hi\" lang=\"hi\" title=\"भारत के राज्यों और संघ क्षेत्रों की राजधानियाँ – Hindi\">हिन्दी</a></li><li class=\"interlanguage-link interwiki-id badge-Q17506997 badge-featuredlist\" title=\"featured list\"><a class=\"interlanguage-link-target\" href=\"https://id.wikipedia.org/wiki/Daftar_ibu_kota_negara_bagian_dan_wilayah_di_India\" hreflang=\"id\" lang=\"id\" title=\"Daftar ibu kota negara bagian dan wilayah di India – Indonesian\">Bahasa Indonesia</a></li><li class=\"interlanguage-link interwiki-kn\"><a class=\"interlanguage-link-target\" href=\"https://kn.wikipedia.org/wiki/%E0%B2%AD%E0%B2%BE%E0%B2%B0%E0%B2%A4%E0%B2%A6_%E0%B2%B0%E0%B2%BE%E0%B2%9C%E0%B3%8D%E0%B2%AF_%E0%B2%AE%E0%B2%A4%E0%B3%8D%E0%B2%A4%E0%B3%81_%E0%B2%95%E0%B3%87%E0%B2%82%E0%B2%A6%E0%B3%8D%E0%B2%B0%E0%B2%BE%E0%B2%A1%E0%B2%B3%E0%B2%BF%E0%B2%A4_%E0%B2%AA%E0%B3%8D%E0%B2%B0%E0%B2%A6%E0%B3%87%E0%B2%B6%E0%B2%97%E0%B2%B3_%E0%B2%B0%E0%B2%BE%E0%B2%9C%E0%B2%A7%E0%B2%BE%E0%B2%A8%E0%B2%BF%E0%B2%97%E0%B2%B3%E0%B3%81\" hreflang=\"kn\" lang=\"kn\" title=\"ಭಾರತದ ರಾಜ್ಯ ಮತ್ತು ಕೇಂದ್ರಾಡಳಿತ ಪ್ರದೇಶಗಳ ರಾಜಧಾನಿಗಳು – Kannada\">ಕನ್ನಡ</a></li><li class=\"interlanguage-link interwiki-ml\"><a class=\"interlanguage-link-target\" href=\"https://ml.wikipedia.org/wiki/%E0%B4%87%E0%B4%A8%E0%B5%8D%E0%B4%A4%E0%B5%8D%E0%B4%AF%E0%B4%AF%E0%B4%BF%E0%B4%B2%E0%B5%86_%E0%B4%B8%E0%B4%82%E0%B4%B8%E0%B5%8D%E0%B4%A5%E0%B4%BE%E0%B4%A8%E0%B4%99%E0%B5%8D%E0%B4%99%E0%B4%B3%E0%B5%81%E0%B4%9F%E0%B5%86%E0%B4%AF%E0%B5%81%E0%B4%82_%E0%B4%95%E0%B5%87%E0%B4%A8%E0%B5%8D%E0%B4%A6%E0%B5%8D%E0%B4%B0%E0%B4%AD%E0%B4%B0%E0%B4%A3%E0%B4%AA%E0%B5%8D%E0%B4%B0%E0%B4%A6%E0%B5%87%E0%B4%B6%E0%B4%99%E0%B5%8D%E0%B4%99%E0%B4%B3%E0%B5%81%E0%B4%9F%E0%B5%86%E0%B4%AF%E0%B5%81%E0%B4%82_%E0%B4%A4%E0%B4%B2%E0%B4%B8%E0%B5%8D%E0%B4%A5%E0%B4%BE%E0%B4%A8%E0%B4%99%E0%B5%8D%E0%B4%99%E0%B4%B3%E0%B5%81%E0%B4%9F%E0%B5%86_%E0%B4%AA%E0%B4%9F%E0%B5%8D%E0%B4%9F%E0%B4%BF%E0%B4%95\" hreflang=\"ml\" lang=\"ml\" title=\"ഇന്ത്യയിലെ സംസ്ഥാനങ്ങളുടെയും കേന്ദ്രഭരണപ്രദേശങ്ങളുടെയും തലസ്ഥാനങ്ങളുടെ പട്ടിക – Malayalam\">മലയാളം</a></li><li class=\"interlanguage-link interwiki-mr\"><a class=\"interlanguage-link-target\" href=\"https://mr.wikipedia.org/wiki/%E0%A4%AD%E0%A4%BE%E0%A4%B0%E0%A4%A4%E0%A4%BE%E0%A4%9A%E0%A5%8D%E0%A4%AF%E0%A4%BE_%E0%A4%B0%E0%A4%BE%E0%A4%9C%E0%A5%8D%E0%A4%AF%E0%A5%87_%E0%A4%86%E0%A4%A3%E0%A4%BF_%E0%A4%AA%E0%A5%8D%E0%A4%B0%E0%A4%A6%E0%A5%87%E0%A4%B6%E0%A4%BE%E0%A4%82%E0%A4%9A%E0%A5%8D%E0%A4%AF%E0%A4%BE_%E0%A4%B0%E0%A4%BE%E0%A4%9C%E0%A4%A7%E0%A4%BE%E0%A4%A8%E0%A5%80%E0%A4%9A%E0%A5%80_%E0%A4%B6%E0%A4%B9%E0%A4%B0%E0%A5%87\" hreflang=\"mr\" lang=\"mr\" title=\"भारताच्या राज्ये आणि प्रदेशांच्या राजधानीची शहरे – Marathi\">मराठी</a></li><li class=\"interlanguage-link interwiki-ne\"><a class=\"interlanguage-link-target\" href=\"https://ne.wikipedia.org/wiki/%E0%A4%AD%E0%A4%BE%E0%A4%B0%E0%A4%A4%E0%A4%95%E0%A4%BE_%E0%A4%B0%E0%A4%BE%E0%A4%9C%E0%A5%8D%E0%A4%AF_%E0%A4%A4%E0%A4%A5%E0%A4%BE_%E0%A4%B8%E0%A4%99%E0%A5%8D%E0%A4%98_%E0%A4%B0%E0%A4%BE%E0%A4%9C%E0%A5%8D%E0%A4%AF_%E0%A4%95%E0%A5%8D%E0%A4%B7%E0%A5%87%E0%A4%A4%E0%A5%8D%E0%A4%B0%E0%A4%95%E0%A5%8B_%E0%A4%B0%E0%A4%BE%E0%A4%9C%E0%A4%A7%E0%A4%BE%E0%A4%A8%E0%A5%80%E0%A4%B9%E0%A4%B0%E0%A5%82\" hreflang=\"ne\" lang=\"ne\" title=\"भारतका राज्य तथा सङ्घ राज्य क्षेत्रको राजधानीहरू – Nepali\">नेपाली</a></li><li class=\"interlanguage-link interwiki-or\"><a class=\"interlanguage-link-target\" href=\"https://or.wikipedia.org/wiki/%E0%AC%AD%E0%AC%BE%E0%AC%B0%E0%AC%A4%E0%AC%B0_%E0%AC%B0%E0%AC%BE%E0%AC%9C%E0%AD%8D%E0%AD%9F_%E0%AC%93_%E0%AC%95%E0%AD%87%E0%AC%A8%E0%AD%8D%E0%AC%A6%E0%AD%8D%E0%AC%B0%E0%AC%B6%E0%AC%BE%E0%AC%B8%E0%AC%BF%E0%AC%A4_%E0%AC%85%E0%AC%9E%E0%AD%8D%E0%AC%9A%E0%AC%B3%E0%AC%AE%E0%AC%BE%E0%AC%A8%E0%AC%99%E0%AD%8D%E0%AC%95_%E0%AC%B0%E0%AC%BE%E0%AC%9C%E0%AC%A7%E0%AC%BE%E0%AC%A8%E0%AD%80_%E0%AC%A4%E0%AC%BE%E0%AC%B2%E0%AC%BF%E0%AC%95%E0%AC%BE\" hreflang=\"or\" lang=\"or\" title=\"ଭାରତର ରାଜ୍ୟ ଓ କେନ୍ଦ୍ରଶାସିତ ଅଞ୍ଚଳମାନଙ୍କ ରାଜଧାନୀ ତାଲିକା – Odia\">ଓଡ଼ିଆ</a></li><li class=\"interlanguage-link interwiki-pa\"><a class=\"interlanguage-link-target\" href=\"https://pa.wikipedia.org/wiki/%E0%A8%AD%E0%A8%BE%E0%A8%B0%E0%A8%A4_%E0%A8%A6%E0%A9%87_%E0%A8%B0%E0%A8%BE%E0%A8%9C%E0%A8%BE%E0%A8%82_%E0%A8%85%E0%A8%A4%E0%A9%87_%E0%A8%95%E0%A9%87%E0%A8%82%E0%A8%A6%E0%A8%B0%E0%A9%80_%E0%A8%B8%E0%A8%BC%E0%A8%BE%E0%A8%B8%E0%A8%BC%E0%A8%A4_%E0%A8%AA%E0%A9%8D%E0%A8%B0%E0%A8%A6%E0%A9%87%E0%A8%B8%E0%A8%BE%E0%A8%82_%E0%A8%A6%E0%A9%80_%E0%A8%B8%E0%A9%82%E0%A8%9A%E0%A9%80\" hreflang=\"pa\" lang=\"pa\" title=\"ਭਾਰਤ ਦੇ ਰਾਜਾਂ ਅਤੇ ਕੇਂਦਰੀ ਸ਼ਾਸ਼ਤ ਪ੍ਰਦੇਸਾਂ ਦੀ ਸੂਚੀ – Punjabi\">ਪੰਜਾਬੀ</a></li><li class=\"interlanguage-link interwiki-pnb\"><a class=\"interlanguage-link-target\" href=\"https://pnb.wikipedia.org/wiki/%D9%84%D8%B3%D9%B9_%D8%A8%DA%BE%D8%A7%D8%B1%D8%AA_%D8%AF%DB%8C%D8%A7%DA%BA_%D8%B1%DB%8C%D8%A7%D8%B3%D8%AA%D8%A7%DA%BA_%D8%AA%DB%92_%D8%B9%D9%84%D8%A7%D9%82%DB%92_%D8%A8%D9%84%D8%AD%D8%A7%D8%B8_%D8%AF%D8%A7%D8%B1%D8%A7%D9%84%D8%AD%DA%A9%D9%88%D9%85%D8%AA\" hreflang=\"pnb\" lang=\"pnb\" title=\"لسٹ بھارت دیاں ریاستاں تے علاقے بلحاظ دارالحکومت – Western Punjabi\">پنجابی</a></li><li class=\"interlanguage-link interwiki-pt\"><a class=\"interlanguage-link-target\" href=\"https://pt.wikipedia.org/wiki/Lista_das_capitais_dos_estados_e_territ%C3%B3rios_da_uni%C3%A3o_da_%C3%8Dndia\" hreflang=\"pt\" lang=\"pt\" title=\"Lista das capitais dos estados e territórios da união da Índia – Portuguese\">Português</a></li><li class=\"interlanguage-link interwiki-simple\"><a class=\"interlanguage-link-target\" href=\"https://simple.wikipedia.org/wiki/List_of_state_and_union_territory_capitals_in_India\" hreflang=\"en-simple\" lang=\"en-simple\" title=\"List of state and union territory capitals in India – Simple English\">Simple English</a></li><li class=\"interlanguage-link interwiki-sh\"><a class=\"interlanguage-link-target\" href=\"https://sh.wikipedia.org/wiki/Dr%C5%BEave_i_teritorije_Indije\" hreflang=\"sh\" lang=\"sh\" title=\"Države i teritorije Indije – Serbo-Croatian\">Srpskohrvatski / српскохрватски</a></li><li class=\"interlanguage-link interwiki-sv\"><a class=\"interlanguage-link-target\" href=\"https://sv.wikipedia.org/wiki/Lista_%C3%B6ver_huvudst%C3%A4der_i_Indien\" hreflang=\"sv\" lang=\"sv\" title=\"Lista över huvudstäder i Indien – Swedish\">Svenska</a></li><li class=\"interlanguage-link interwiki-ta\"><a class=\"interlanguage-link-target\" href=\"https://ta.wikipedia.org/wiki/%E0%AE%87%E0%AE%A8%E0%AF%8D%E0%AE%A4%E0%AE%BF%E0%AE%AF_%E0%AE%AE%E0%AE%BE%E0%AE%A8%E0%AE%BF%E0%AE%B2%E0%AE%99%E0%AF%8D%E0%AE%95%E0%AE%B3%E0%AE%BF%E0%AE%A9%E0%AF%8D_%E0%AE%A4%E0%AE%B2%E0%AF%88%E0%AE%A8%E0%AE%95%E0%AE%B0%E0%AE%99%E0%AF%8D%E0%AE%95%E0%AE%B3%E0%AF%81%E0%AE%AE%E0%AF%8D_%E0%AE%92%E0%AE%A9%E0%AF%8D%E0%AE%B1%E0%AE%BF%E0%AE%AF%E0%AE%AA%E0%AF%8D_%E0%AE%AA%E0%AE%95%E0%AF%81%E0%AE%A4%E0%AE%BF%E0%AE%95%E0%AE%B3%E0%AE%BF%E0%AE%A9%E0%AF%8D_%E0%AE%A4%E0%AE%B2%E0%AF%88%E0%AE%A8%E0%AE%95%E0%AE%B0%E0%AE%99%E0%AF%8D%E0%AE%95%E0%AE%B3%E0%AF%81%E0%AE%AE%E0%AF%8D\" hreflang=\"ta\" lang=\"ta\" title=\"இந்திய மாநிலங்களின் தலைநகரங்களும் ஒன்றியப் பகுதிகளின் தலைநகரங்களும் – Tamil\">தமிழ்</a></li><li class=\"interlanguage-link interwiki-te\"><a class=\"interlanguage-link-target\" href=\"https://te.wikipedia.org/wiki/%E0%B0%AD%E0%B0%BE%E0%B0%B0%E0%B0%A4_%E0%B0%A6%E0%B1%87%E0%B0%B6_%E0%B0%B0%E0%B0%BE%E0%B0%B7%E0%B1%8D%E0%B0%9F%E0%B1%8D%E0%B0%B0,_%E0%B0%95%E0%B1%87%E0%B0%82%E0%B0%A6%E0%B1%8D%E0%B0%B0_%E0%B0%AA%E0%B0%BE%E0%B0%B2%E0%B0%BF%E0%B0%A4_%E0%B0%AA%E0%B1%8D%E0%B0%B0%E0%B0%BE%E0%B0%82%E0%B0%A4%E0%B0%BE%E0%B0%B2_%E0%B0%B0%E0%B0%BE%E0%B0%9C%E0%B0%A7%E0%B0%BE%E0%B0%A8%E0%B1%81%E0%B0%B2%E0%B1%81\" hreflang=\"te\" lang=\"te\" title=\"భారత దేశ రాష్ట్ర, కేంద్ర పాలిత ప్రాంతాల రాజధానులు – Telugu\">తెలుగు</a></li><li class=\"interlanguage-link interwiki-ur\"><a class=\"interlanguage-link-target\" href=\"https://ur.wikipedia.org/wiki/%D9%81%DB%81%D8%B1%D8%B3%D8%AA_%D8%A8%DA%BE%D8%A7%D8%B1%D8%AA%DB%8C_%D8%B1%DB%8C%D8%A7%D8%B3%D8%AA%DB%8C%DA%BA_%D8%A7%D9%88%D8%B1_%D8%B9%D9%84%D8%A7%D9%82%DB%81_%D8%AC%D8%A7%D8%AA_%D8%A8%D9%84%D8%AD%D8%A7%D8%B8_%D8%AF%D8%A7%D8%B1%D8%A7%D9%84%D8%AD%DA%A9%D9%88%D9%85%D8%AA\" hreflang=\"ur\" lang=\"ur\" title=\"فہرست بھارتی ریاستیں اور علاقہ جات بلحاظ دارالحکومت – Urdu\">اردو</a></li><li class=\"interlanguage-link interwiki-zh badge-Q17506997 badge-featuredlist\" title=\"featured list\"><a class=\"interlanguage-link-target\" href=\"https://zh.wikipedia.org/wiki/%E5%8D%B0%E5%BA%A6%E5%90%84%E9%82%A6%E5%92%8C%E4%B8%AD%E5%A4%AE%E7%9B%B4%E8%BE%96%E5%8C%BA%E9%A6%96%E5%BA%9C%E5%88%97%E8%A1%A8\" hreflang=\"zh\" lang=\"zh\" title=\"印度各邦和中央直辖区首府列表 – Chinese\">中文</a></li> </ul>\n",
       "<div class=\"after-portlet after-portlet-lang\"><span class=\"wb-langlinks-edit wb-langlinks-link\"><a class=\"wbc-editpage\" href=\"https://www.wikidata.org/wiki/Special:EntityPage/Q3518799#sitelinks-wikipedia\" title=\"Edit interlanguage links\">Edit links</a></span></div> </div>\n",
       "</div>\n",
       "</div>\n",
       "</div>\n",
       "<div id=\"footer\" role=\"contentinfo\">\n",
       "<ul id=\"footer-info\">\n",
       "<li id=\"footer-info-lastmod\"> This page was last edited on 2 July 2019, at 05:23<span class=\"anonymous-show\"> (UTC)</span>.</li>\n",
       "<li id=\"footer-info-copyright\">Text is available under the <a href=\"//en.wikipedia.org/wiki/Wikipedia:Text_of_Creative_Commons_Attribution-ShareAlike_3.0_Unported_License\" rel=\"license\">Creative Commons Attribution-ShareAlike License</a><a href=\"//creativecommons.org/licenses/by-sa/3.0/\" rel=\"license\" style=\"display:none;\"></a>;\n",
       "additional terms may apply.  By using this site, you agree to the <a href=\"//foundation.wikimedia.org/wiki/Terms_of_Use\">Terms of Use</a> and <a href=\"//foundation.wikimedia.org/wiki/Privacy_policy\">Privacy Policy</a>. Wikipedia® is a registered trademark of the <a href=\"//www.wikimediafoundation.org/\">Wikimedia Foundation, Inc.</a>, a non-profit organization.</li>\n",
       "</ul>\n",
       "<ul id=\"footer-places\">\n",
       "<li id=\"footer-places-privacy\"><a class=\"extiw\" href=\"https://foundation.wikimedia.org/wiki/Privacy_policy\" title=\"wmf:Privacy policy\">Privacy policy</a></li>\n",
       "<li id=\"footer-places-about\"><a href=\"/wiki/Wikipedia:About\" title=\"Wikipedia:About\">About Wikipedia</a></li>\n",
       "<li id=\"footer-places-disclaimer\"><a href=\"/wiki/Wikipedia:General_disclaimer\" title=\"Wikipedia:General disclaimer\">Disclaimers</a></li>\n",
       "<li id=\"footer-places-contact\"><a href=\"//en.wikipedia.org/wiki/Wikipedia:Contact_us\">Contact Wikipedia</a></li>\n",
       "<li id=\"footer-places-developers\"><a href=\"https://www.mediawiki.org/wiki/Special:MyLanguage/How_to_contribute\">Developers</a></li>\n",
       "<li id=\"footer-places-cookiestatement\"><a href=\"https://foundation.wikimedia.org/wiki/Cookie_statement\">Cookie statement</a></li>\n",
       "<li id=\"footer-places-mobileview\"><a class=\"noprint stopMobileRedirectToggle\" href=\"//en.m.wikipedia.org/w/index.php?title=List_of_state_and_union_territory_capitals_in_India&amp;mobileaction=toggle_view_mobile\">Mobile view</a></li>\n",
       "</ul>\n",
       "<ul class=\"noprint\" id=\"footer-icons\">\n",
       "<li id=\"footer-copyrightico\">\n",
       "<a href=\"https://wikimediafoundation.org/\"><img alt=\"Wikimedia Foundation\" height=\"31\" src=\"/static/images/wikimedia-button.png\" srcset=\"/static/images/wikimedia-button-1.5x.png 1.5x, /static/images/wikimedia-button-2x.png 2x\" width=\"88\"/></a> </li>\n",
       "<li id=\"footer-poweredbyico\">\n",
       "<a href=\"https://www.mediawiki.org/\"><img alt=\"Powered by MediaWiki\" height=\"31\" src=\"/static/images/poweredby_mediawiki_88x31.png\" srcset=\"/static/images/poweredby_mediawiki_132x47.png 1.5x, /static/images/poweredby_mediawiki_176x62.png 2x\" width=\"88\"/></a> </li>\n",
       "</ul>\n",
       "<div style=\"clear: both;\"></div>\n",
       "</div>\n",
       "<script>(RLQ=window.RLQ||[]).push(function(){mw.config.set({\"wgPageParseReport\":{\"limitreport\":{\"cputime\":\"0.440\",\"walltime\":\"0.551\",\"ppvisitednodes\":{\"value\":1926,\"limit\":1000000},\"ppgeneratednodes\":{\"value\":0,\"limit\":1500000},\"postexpandincludesize\":{\"value\":59486,\"limit\":2097152},\"templateargumentsize\":{\"value\":3356,\"limit\":2097152},\"expansiondepth\":{\"value\":12,\"limit\":40},\"expensivefunctioncount\":{\"value\":2,\"limit\":500},\"unstrip-depth\":{\"value\":1,\"limit\":20},\"unstrip-size\":{\"value\":47728,\"limit\":5000000},\"entityaccesscount\":{\"value\":0,\"limit\":400},\"timingprofile\":[\"100.00%  419.355      1 -total\",\" 33.27%  139.529      2 Template:Reflist\",\" 23.12%   96.949      3 Template:Cite_web\",\" 19.38%   81.287     12 Template:Cite_book\",\"  7.96%   33.377     11 Template:Efn\",\"  7.72%   32.382      1 Template:Use_dmy_dates\",\"  6.93%   29.080     11 Template:Sfn\",\"  6.59%   27.623      1 Template:State_and_Union_Territory_capitals_of_India\",\"  5.96%   25.007      1 Template:India_divisions_by\",\"  5.59%   23.462      1 Template:Navbox\"]},\"scribunto\":{\"limitreport-timeusage\":{\"value\":\"0.201\",\"limit\":\"10.000\"},\"limitreport-memusage\":{\"value\":4529132,\"limit\":52428800}},\"cachereport\":{\"origin\":\"mw1268\",\"timestamp\":\"20190708134046\",\"ttl\":2592000,\"transientcontent\":false}}});});</script>\n",
       "<script type=\"application/ld+json\">{\"@context\":\"https:\\/\\/schema.org\",\"@type\":\"Article\",\"name\":\"List of state and union territory capitals in India\",\"url\":\"https:\\/\\/en.wikipedia.org\\/wiki\\/List_of_state_and_union_territory_capitals_in_India\",\"sameAs\":\"http:\\/\\/www.wikidata.org\\/entity\\/Q3518799\",\"mainEntity\":\"http:\\/\\/www.wikidata.org\\/entity\\/Q3518799\",\"author\":{\"@type\":\"Organization\",\"name\":\"Contributors to Wikimedia projects\"},\"publisher\":{\"@type\":\"Organization\",\"name\":\"Wikimedia Foundation, Inc.\",\"logo\":{\"@type\":\"ImageObject\",\"url\":\"https:\\/\\/www.wikimedia.org\\/static\\/images\\/wmf-hor-googpub.png\"}},\"datePublished\":\"2005-08-03T19:05:35Z\",\"dateModified\":\"2019-07-02T05:23:01Z\",\"headline\":\"Wikimedia list article\"}</script>\n",
       "<script>(RLQ=window.RLQ||[]).push(function(){mw.config.set({\"wgBackendResponseTime\":101,\"wgHostname\":\"mw1256\"});});</script>\n",
       "</body>\n",
       "</html>"
      ]
     },
     "execution_count": 33,
     "metadata": {},
     "output_type": "execute_result"
    }
   ],
   "source": [
    "soup"
   ]
  },
  {
   "cell_type": "markdown",
   "metadata": {},
   "source": [
    "## Extracting Page Title"
   ]
  },
  {
   "cell_type": "code",
   "execution_count": 35,
   "metadata": {},
   "outputs": [
    {
     "data": {
      "text/plain": [
       "'List of state and union territory capitals in India - Wikipedia'"
      ]
     },
     "execution_count": 35,
     "metadata": {},
     "output_type": "execute_result"
    }
   ],
   "source": [
    "soup.title.text"
   ]
  },
  {
   "cell_type": "markdown",
   "metadata": {},
   "source": [
    "## Find All Links From The Page"
   ]
  },
  {
   "cell_type": "code",
   "execution_count": 40,
   "metadata": {},
   "outputs": [
    {
     "data": {
      "text/plain": [
       "[None,\n",
       " '#mw-head',\n",
       " '#p-search',\n",
       " '/wiki/States_and_union_territories_of_India',\n",
       " '/wiki/File:Flag_of_India.svg',\n",
       " '/wiki/List_of_states_and_union_territories_of_India_by_area',\n",
       " '/wiki/List_of_states_and_union_territories_of_India_by_population',\n",
       " '/wiki/List_of_Indian_states_and_union_territories_by_GDP',\n",
       " '/wiki/List_of_Indian_states_and_union_territories_by_GDP_per_capita',\n",
       " '/wiki/ISO_3166-2:IN',\n",
       " None,\n",
       " '/wiki/List_of_Indian_states_by_Child_Nutrition',\n",
       " '/wiki/List_of_states_and_union_territories_of_India_by_crime_rate',\n",
       " '/wiki/List_of_states_and_union_territories_of_India_by_households_having_electricity',\n",
       " '/wiki/List_of_states_and_union_territories_of_India_by_fertility_rate',\n",
       " '/wiki/Forest_cover_by_state_in_India',\n",
       " '/wiki/Ease_of_doing_business_ranking_of_states_of_India',\n",
       " '/wiki/List_of_Indian_states_and_territories_by_highest_point',\n",
       " '/wiki/Indian_states_ranked_by_HIV_awareness',\n",
       " '/wiki/List_of_Indian_states_and_territories_by_Human_Development_Index',\n",
       " '/wiki/Indian_states_ranking_by_families_owning_house',\n",
       " '/wiki/Indian_states_ranking_by_household_size',\n",
       " '/wiki/Indian_states_and_territories_ranked_by_incidents_of_human_trafficking',\n",
       " '/wiki/Indian_states_ranking_by_institutional_delivery',\n",
       " '/wiki/List_of_Indian_states_and_union_territories_by_internet_users',\n",
       " '/wiki/List_of_Indian_states_by_life_expectancy_at_birth',\n",
       " '/wiki/List_of_Indian_states_and_union_territories_by_literacy_rate',\n",
       " '/wiki/Indian_states_ranking_by_media_exposure',\n",
       " '/wiki/Indian_states_ranked_by_number_of_vehicles',\n",
       " '/wiki/List_of_states_and_union_territories_of_India_by_voters',\n",
       " '/wiki/Obesity_in_India',\n",
       " '/wiki/Indian_states_and_union_territories_ranked_by_prevalence_of_open_defecation',\n",
       " '/wiki/List_of_Indian_state_and_union_territory_name_etymologies',\n",
       " '/wiki/List_of_states_and_territories_of_India_by_number_of_places_of_worship',\n",
       " '/wiki/List_of_Indian_states_and_union_territories_by_poverty_rate',\n",
       " '/wiki/States_of_India_by_installed_power_capacity',\n",
       " '/wiki/List_of_Indian_states_and_union_territories_by_access_to_safe_drinking_water',\n",
       " '/wiki/Indian_states_and_territories_ranked_by_safety_of_women',\n",
       " '/wiki/Indian_states_ranked_by_school_enrollment_rate',\n",
       " '/wiki/List_of_states_and_union_territories_of_India_by_sex_ratio',\n",
       " '/wiki/List_of_states_and_union_territories_of_India_by_suicide_rate',\n",
       " '/wiki/List_of_states_and_union_territories_of_India_by_tax_revenues',\n",
       " '/wiki/List_of_states_and_union_territories_of_India_by_television_ownership',\n",
       " '/wiki/Indian_states_and_union_territories_ranked_by_availability_of_toilets',\n",
       " '/wiki/List_of_states_and_union_territories_of_India_by_transport_network',\n",
       " '/wiki/Indian_states_ranking_by_underweight_people',\n",
       " '/wiki/List_of_states_and_union_territories_of_India_by_unemployment_rate',\n",
       " '/wiki/List_of_states_and_union_territories_of_India_by_vaccination_coverage',\n",
       " '/wiki/Template:Lists_of_states_and_territories_of_India',\n",
       " '/wiki/Template_talk:Lists_of_states_and_territories_of_India',\n",
       " '//en.wikipedia.org/w/index.php?title=Template:Lists_of_states_and_territories_of_India&action=edit',\n",
       " '/wiki/India',\n",
       " '/wiki/Demographics_of_India',\n",
       " '/wiki/Democracy',\n",
       " '/wiki/Federalism',\n",
       " '/wiki/Parliamentary_system',\n",
       " '/wiki/States_and_territories_of_India',\n",
       " '#cite_note-FOOTNOTELibrary_of_Congress2004-1',\n",
       " '/wiki/Puducherry',\n",
       " '/wiki/National_Capital_Territory_of_Delhi',\n",
       " '/wiki/Westminster_system',\n",
       " '/wiki/States_Reorganisation_Act',\n",
       " '#cite_note-FOOTNOTESharma200749-2',\n",
       " '/wiki/Himachal_Pradesh',\n",
       " '/wiki/Jammu_and_Kashmir',\n",
       " '/wiki/Maharashtra',\n",
       " '/wiki/Vidhan_Sabha',\n",
       " '/wiki/High_Courts_of_India',\n",
       " '#List',\n",
       " '#Notes',\n",
       " '#Citations',\n",
       " '#References',\n",
       " '#External_links',\n",
       " '/w/index.php?title=List_of_state_and_union_territory_capitals_in_India&action=edit&section=1',\n",
       " '/wiki/Andaman_and_Nicobar_Islands',\n",
       " '/wiki/Port_Blair',\n",
       " '/wiki/Andhra_Pradesh',\n",
       " '/wiki/Hyderabad,_India',\n",
       " '/wiki/Amaravati',\n",
       " '#cite_note-gulte.com-3',\n",
       " '#cite_note-4',\n",
       " '#cite_note-5',\n",
       " '/wiki/Amaravati',\n",
       " '#cite_note-gulte.com-3',\n",
       " '/wiki/Andhra_Pradesh_High_Court',\n",
       " '/wiki/Kurnool',\n",
       " '/wiki/Arunachal_Pradesh',\n",
       " '/wiki/Itanagar',\n",
       " '/wiki/Guwahati',\n",
       " '/wiki/Assam',\n",
       " '/wiki/Dispur',\n",
       " '/wiki/Guwahati',\n",
       " '/wiki/Shillong',\n",
       " '#cite_note-7',\n",
       " '/wiki/Bihar',\n",
       " '/wiki/Patna',\n",
       " '/wiki/Chandigarh',\n",
       " '/wiki/Chandigarh',\n",
       " '#cite_note-9',\n",
       " '/wiki/Chhattisgarh',\n",
       " '/wiki/Raipur',\n",
       " '#cite_note-10',\n",
       " '/wiki/Bilaspur,_Chhattisgarh',\n",
       " '/wiki/Dadra_and_Nagar_Haveli',\n",
       " '/wiki/Silvassa',\n",
       " '/wiki/Mumbai',\n",
       " '/wiki/Panaji',\n",
       " '/wiki/Daman_and_Diu',\n",
       " '/wiki/Daman,_Daman_and_Diu',\n",
       " '/wiki/Mumbai',\n",
       " '/wiki/Ahmedabad',\n",
       " '/wiki/Panaji',\n",
       " '/wiki/Delhi_NCT',\n",
       " '/wiki/New_Delhi',\n",
       " '/wiki/Goa',\n",
       " '/wiki/Panaji',\n",
       " '#cite_note-12',\n",
       " '/wiki/Porvorim',\n",
       " '/wiki/Mumbai',\n",
       " '/wiki/Gujarat',\n",
       " '/wiki/Gandhinagar',\n",
       " '/wiki/Ahmedabad',\n",
       " '/wiki/Ahmedabad',\n",
       " '/wiki/Haryana',\n",
       " '/wiki/Chandigarh',\n",
       " '/wiki/Himachal_Pradesh',\n",
       " '/wiki/Shimla',\n",
       " '/wiki/Dharamsala',\n",
       " '#cite_note-13',\n",
       " '/wiki/Bilaspur,_Himachal_Pradesh',\n",
       " '/wiki/Jammu_and_Kashmir',\n",
       " '/wiki/Srinagar',\n",
       " '#cite_note-14',\n",
       " '/wiki/Jammu',\n",
       " '/wiki/Jharkhand',\n",
       " '/wiki/Ranchi',\n",
       " '/wiki/Karnataka',\n",
       " '/wiki/Bengaluru',\n",
       " '/wiki/Kerala',\n",
       " '/wiki/Thiruvananthapuram',\n",
       " '/wiki/Kochi',\n",
       " '/wiki/Lakshadweep',\n",
       " '/wiki/Kavaratti',\n",
       " '/wiki/Kochi',\n",
       " '/wiki/Madhya_Pradesh',\n",
       " '/wiki/Bhopal',\n",
       " '/wiki/Jabalpur',\n",
       " '/wiki/Nagpur',\n",
       " '#cite_note-18',\n",
       " '/wiki/Maharashtra',\n",
       " '/wiki/Mumbai',\n",
       " '#cite_note-19',\n",
       " '/wiki/Nagpur',\n",
       " '/wiki/Manipur',\n",
       " '/wiki/Imphal',\n",
       " '/wiki/Meghalaya',\n",
       " '/wiki/Shillong',\n",
       " '/wiki/Mizoram',\n",
       " '/wiki/Aizawl',\n",
       " '/wiki/Guwahati',\n",
       " '/wiki/Nagaland',\n",
       " '/wiki/Kohima',\n",
       " '/wiki/Guwahati',\n",
       " '/wiki/Odisha',\n",
       " '/wiki/Bhubaneswar',\n",
       " '/wiki/Cuttack',\n",
       " '/wiki/Cuttack',\n",
       " '/wiki/Puducherry',\n",
       " '/wiki/Puducherry',\n",
       " '/wiki/Chennai',\n",
       " '/wiki/Madras',\n",
       " '/wiki/Punjab,_India',\n",
       " '/wiki/Chandigarh',\n",
       " '/wiki/Rajasthan',\n",
       " '/wiki/Jaipur',\n",
       " '/wiki/Jodhpur',\n",
       " '/wiki/Sikkim',\n",
       " '/wiki/Gangtok',\n",
       " '#cite_note-21',\n",
       " '/wiki/Tamil_Nadu',\n",
       " '/wiki/Chennai',\n",
       " '#cite_note-22',\n",
       " '/wiki/Telangana',\n",
       " '/wiki/Hyderabad',\n",
       " '#cite_note-23',\n",
       " '/wiki/Tripura',\n",
       " '/wiki/Agartala',\n",
       " '/wiki/Uttar_Pradesh',\n",
       " '/wiki/Lucknow',\n",
       " '/wiki/Allahabad',\n",
       " '/wiki/Uttarakhand',\n",
       " '/wiki/Dehradun',\n",
       " '#cite_note-25',\n",
       " '/wiki/Nainital',\n",
       " '/wiki/West_Bengal',\n",
       " '/wiki/Kolkata',\n",
       " '/w/index.php?title=List_of_state_and_union_territory_capitals_in_India&action=edit&section=2',\n",
       " '#cite_ref-5',\n",
       " '/wiki/Andhra_Pradesh_Reorganisation_Act,_2014',\n",
       " '/wiki/Amaravati',\n",
       " '#cite_ref-7',\n",
       " '#cite_note-FOOTNOTEBaruah1999xiii-6',\n",
       " '#cite_ref-9',\n",
       " '#cite_note-FOOTNOTEMenonBanerjea20025-8',\n",
       " '#cite_ref-10',\n",
       " '/wiki/Chhattisgarh',\n",
       " '/wiki/Atal_Nagar',\n",
       " '#cite_ref-12',\n",
       " '/wiki/Portugal',\n",
       " '#cite_note-FOOTNOTERing1996288-11',\n",
       " '#cite_ref-18',\n",
       " '/wiki/Central_Provinces_and_Berar',\n",
       " '#cite_note-FOOTNOTEBoland-CreweLea2002155-15',\n",
       " '/wiki/Madhya_Pradesh',\n",
       " '#cite_note-FOOTNOTEBoland-CreweLea2002155-15',\n",
       " '#cite_note-FOOTNOTEKumāra1998136-16',\n",
       " '/wiki/Central_Provinces_and_Berar',\n",
       " '/wiki/Vidarbha',\n",
       " '/wiki/Madhya_Pradesh',\n",
       " '/wiki/Bombay_State',\n",
       " '/wiki/Maharashtra',\n",
       " '#cite_note-FOOTNOTEKini197434–35-17',\n",
       " '#cite_ref-19',\n",
       " '/wiki/Bombay_Presidency',\n",
       " '/wiki/Bombay_State',\n",
       " '#cite_ref-21',\n",
       " '#cite_note-FOOTNOTESpate1953200-20',\n",
       " '#cite_ref-22',\n",
       " '/wiki/Madras_Presidency',\n",
       " '#cite_ref-23',\n",
       " '/wiki/Andhra_Pradesh_Reorganisation_Act,_2014',\n",
       " '/wiki/Andhra_Pradesh_Capital_City',\n",
       " '#cite_ref-25',\n",
       " '/wiki/Uttarakhand',\n",
       " '/wiki/Gairsain',\n",
       " '#cite_note-FOOTNOTESatiKumar20049–10-24',\n",
       " '/w/index.php?title=List_of_state_and_union_territory_capitals_in_India&action=edit&section=3',\n",
       " '#cite_ref-FOOTNOTELibrary_of_Congress2004_1-0',\n",
       " '#CITEREFLibrary_of_Congress2004',\n",
       " '#cite_ref-FOOTNOTESharma200749_2-0',\n",
       " '#CITEREFSharma2007',\n",
       " '#cite_ref-gulte.com_3-0',\n",
       " '#cite_ref-gulte.com_3-1',\n",
       " 'http://www.gulte.com/news/56377/After-2200-Years-Amaravati-Gets-Back-Power',\n",
       " '#cite_ref-4',\n",
       " 'https://web.archive.org/web/20170803065156/http://www.ap.gov.in/',\n",
       " 'http://www.ap.gov.in/',\n",
       " '#cite_ref-FOOTNOTEBaruah1999xiii_6-0',\n",
       " '#CITEREFBaruah1999',\n",
       " '#cite_ref-FOOTNOTEMenonBanerjea20025_8-0',\n",
       " '#CITEREFMenonBanerjea2002',\n",
       " '#cite_ref-FOOTNOTERing1996288_11-0',\n",
       " '#CITEREFRing1996',\n",
       " '#cite_ref-13',\n",
       " 'http://www.hillpost.in/2017/01/dharamshala-declared-second-capital-of-himachal/107991/',\n",
       " '#cite_ref-14',\n",
       " 'https://www.thehindu.com/news/national/other-states/what-is-the-darbar-move-in-j-k-all-about/article18409452.ece',\n",
       " '#cite_ref-FOOTNOTEBoland-CreweLea2002155_15-0',\n",
       " '#cite_ref-FOOTNOTEBoland-CreweLea2002155_15-1',\n",
       " '#CITEREFBoland-CreweLea2002',\n",
       " '#cite_ref-FOOTNOTEKumāra1998136_16-0',\n",
       " '#CITEREFKumāra1998',\n",
       " '#cite_ref-FOOTNOTEKini197434–35_17-0',\n",
       " '#CITEREFKini1974',\n",
       " '#cite_ref-FOOTNOTESpate1953200_20-0',\n",
       " '#CITEREFSpate1953',\n",
       " '#cite_ref-FOOTNOTESatiKumar20049–10_24-0',\n",
       " '#CITEREFSatiKumar2004',\n",
       " '/w/index.php?title=List_of_state_and_union_territory_capitals_in_India&action=edit&section=4',\n",
       " 'https://books.google.com/books?id=8k-irMMTnywC&pg=PR13',\n",
       " '/wiki/University_of_Pennsylvania_Press',\n",
       " '/wiki/International_Standard_Book_Number',\n",
       " '/wiki/Special:BookSources/978-0-8122-3491-6',\n",
       " 'https://books.google.com/books?id=JrNCaYCriicC&pg=PA155',\n",
       " '/wiki/International_Standard_Book_Number',\n",
       " '/wiki/Special:BookSources/978-1-85743-148-3',\n",
       " 'http://lcweb2.loc.gov/frd/cs/profiles/India.pdf',\n",
       " '/wiki/Library_of_Congress_Country_Studies',\n",
       " '/wiki/Library_of_Congress',\n",
       " '/wiki/Federal_Research_Division',\n",
       " 'https://books.google.com/books?id=_SDhC12S7q4C&pg=PA21',\n",
       " '/wiki/International_Standard_Book_Number',\n",
       " '/wiki/Special:BookSources/978-81-7099-134-2',\n",
       " 'https://books.google.com/books?id=H6DQEoh0EJ8C&pg=PA95',\n",
       " '/wiki/International_Standard_Book_Number',\n",
       " '/wiki/Special:BookSources/978-81-7022-553-9',\n",
       " 'https://books.google.com/books?id=46HcFvAv96sC&pg=PA34',\n",
       " '/wiki/International_Standard_Book_Number',\n",
       " '/wiki/Special:BookSources/978-0-88386-524-8',\n",
       " 'https://books.google.com/books?id=nKqF_AgDd4gC&pg=PA136',\n",
       " '/wiki/International_Standard_Book_Number',\n",
       " '/wiki/Special:BookSources/978-81-7022-691-8',\n",
       " 'https://books.google.com/books?id=sB1AhvY2BSEC',\n",
       " '/wiki/International_Standard_Book_Number',\n",
       " '/wiki/Special:BookSources/978-0-7546-5424-7',\n",
       " 'https://books.google.com/books?id=gm_tzXsC12gC',\n",
       " '/wiki/International_Standard_Book_Number',\n",
       " '/wiki/Special:BookSources/978-81-7764-518-7',\n",
       " 'https://web.archive.org/web/20131220113947/http://www.aponline.gov.in/quick%20links/hist-cult/history_post.html',\n",
       " 'http://www.aponline.gov.in/quick%20links/hist-cult/history_post.html',\n",
       " 'https://books.google.com/books?id=vWLRxJEU49EC&pg=PA288',\n",
       " '/wiki/International_Standard_Book_Number',\n",
       " '/wiki/Special:BookSources/978-1-884964-04-6',\n",
       " 'https://books.google.com/books?id=ct6YMRvYJQ4C&pg=PA9',\n",
       " '/wiki/International_Standard_Book_Number',\n",
       " '/wiki/Special:BookSources/978-81-7099-898-3',\n",
       " 'https://books.google.com/books?id=srDytmFE3KMC',\n",
       " '/wiki/Prentice_Hall',\n",
       " '/wiki/International_Standard_Book_Number',\n",
       " '/wiki/Special:BookSources/978-81-203-3246-1',\n",
       " 'https://books.google.com/books?id=DrgNAAAAQAAJ',\n",
       " '/w/index.php?title=List_of_state_and_union_territory_capitals_in_India&action=edit&section=5',\n",
       " 'https://web.archive.org/web/20130528025659/http://www.nic.in/states',\n",
       " 'http://legislativebodiesinindia.nic.in/',\n",
       " '/wiki/Template:State_and_Union_Territory_capitals_of_India',\n",
       " '/wiki/Template_talk:State_and_Union_Territory_capitals_of_India',\n",
       " '//en.wikipedia.org/w/index.php?title=Template:State_and_Union_Territory_capitals_of_India&action=edit',\n",
       " '/wiki/India',\n",
       " '/wiki/States_and_territories_of_India',\n",
       " None,\n",
       " '/wiki/India',\n",
       " '/wiki/Agartala',\n",
       " '/wiki/Aizawl',\n",
       " '/wiki/Amaravati',\n",
       " '/wiki/Atal_Nagar',\n",
       " '/wiki/Bangalore',\n",
       " '/wiki/Bhopal',\n",
       " '/wiki/Bhubaneswar',\n",
       " '/wiki/Chandigarh',\n",
       " '/wiki/Chennai',\n",
       " '/wiki/Daman,_Daman_and_Diu',\n",
       " '/wiki/Dharamshala',\n",
       " '/wiki/Dehradun',\n",
       " '/wiki/New_Delhi',\n",
       " '/wiki/Dispur',\n",
       " '/wiki/Gandhinagar',\n",
       " '/wiki/Gangtok',\n",
       " '/wiki/Hyderabad',\n",
       " '/wiki/Imphal',\n",
       " '/wiki/Itanagar',\n",
       " '/wiki/Jaipur',\n",
       " '/wiki/Jammu',\n",
       " '/wiki/Kavaratti',\n",
       " '/wiki/Kohima',\n",
       " '/wiki/Kolkata',\n",
       " '/wiki/Lucknow',\n",
       " '/wiki/Mumbai',\n",
       " '/wiki/Nagpur',\n",
       " '/wiki/Panaji',\n",
       " '/wiki/Patna',\n",
       " '/wiki/Pondicherry',\n",
       " '/wiki/Port_Blair',\n",
       " '/wiki/Raipur',\n",
       " '/wiki/Ranchi',\n",
       " '/wiki/Shillong',\n",
       " '/wiki/Shimla',\n",
       " '/wiki/Silvassa',\n",
       " '/wiki/Srinagar',\n",
       " '/wiki/Thiruvananthapuram',\n",
       " 'https://en.wikipedia.org/w/index.php?title=List_of_state_and_union_territory_capitals_in_India&oldid=904438853',\n",
       " '/wiki/Help:Category',\n",
       " '/wiki/Category:States_and_union_territories_of_India-related_lists',\n",
       " '/wiki/Category:Indian_capital_cities',\n",
       " '/wiki/Category:Lists_of_cities_in_India',\n",
       " '/wiki/Category:Lists_of_capitals_of_country_subdivisions',\n",
       " '/wiki/Category:Cities_and_towns_in_India_by_state_or_territory',\n",
       " '/wiki/Category:Use_dmy_dates_from_November_2018',\n",
       " '/wiki/Category:Use_Indian_English_from_November_2018',\n",
       " '/wiki/Category:All_Wikipedia_articles_written_in_Indian_English',\n",
       " '/wiki/Special:MyTalk',\n",
       " '/wiki/Special:MyContributions',\n",
       " '/w/index.php?title=Special:CreateAccount&returnto=List+of+state+and+union+territory+capitals+in+India',\n",
       " '/w/index.php?title=Special:UserLogin&returnto=List+of+state+and+union+territory+capitals+in+India',\n",
       " '/wiki/List_of_state_and_union_territory_capitals_in_India',\n",
       " '/wiki/Talk:List_of_state_and_union_territory_capitals_in_India',\n",
       " '/wiki/List_of_state_and_union_territory_capitals_in_India',\n",
       " '/w/index.php?title=List_of_state_and_union_territory_capitals_in_India&action=edit',\n",
       " '/w/index.php?title=List_of_state_and_union_territory_capitals_in_India&action=history',\n",
       " '/wiki/Main_Page',\n",
       " '/wiki/Main_Page',\n",
       " '/wiki/Portal:Contents',\n",
       " '/wiki/Portal:Featured_content',\n",
       " '/wiki/Portal:Current_events',\n",
       " '/wiki/Special:Random',\n",
       " 'https://donate.wikimedia.org/wiki/Special:FundraiserRedirector?utm_source=donate&utm_medium=sidebar&utm_campaign=C13_en.wikipedia.org&uselang=en',\n",
       " '//shop.wikimedia.org',\n",
       " '/wiki/Help:Contents',\n",
       " '/wiki/Wikipedia:About',\n",
       " '/wiki/Wikipedia:Community_portal',\n",
       " '/wiki/Special:RecentChanges',\n",
       " '//en.wikipedia.org/wiki/Wikipedia:Contact_us',\n",
       " '/wiki/Special:WhatLinksHere/List_of_state_and_union_territory_capitals_in_India',\n",
       " '/wiki/Special:RecentChangesLinked/List_of_state_and_union_territory_capitals_in_India',\n",
       " '/wiki/Wikipedia:File_Upload_Wizard',\n",
       " '/wiki/Special:SpecialPages',\n",
       " '/w/index.php?title=List_of_state_and_union_territory_capitals_in_India&oldid=904438853',\n",
       " '/w/index.php?title=List_of_state_and_union_territory_capitals_in_India&action=info',\n",
       " 'https://www.wikidata.org/wiki/Special:EntityPage/Q3518799',\n",
       " '/w/index.php?title=Special:CiteThisPage&page=List_of_state_and_union_territory_capitals_in_India&id=904438853',\n",
       " '/w/index.php?title=Special:Book&bookcmd=book_creator&referer=List+of+state+and+union+territory+capitals+in+India',\n",
       " '/w/index.php?title=Special:ElectronPdf&page=List+of+state+and+union+territory+capitals+in+India&action=show-download-screen',\n",
       " '/w/index.php?title=List_of_state_and_union_territory_capitals_in_India&printable=yes',\n",
       " 'https://as.wikipedia.org/wiki/%E0%A6%AD%E0%A6%BE%E0%A7%B0%E0%A6%A4%E0%A7%B0_%E0%A7%B0%E0%A6%BE%E0%A6%9C%E0%A7%8D%E0%A6%AF_%E0%A6%86%E0%A7%B0%E0%A7%81_%E0%A6%95%E0%A7%87%E0%A6%A8%E0%A7%8D%E0%A6%A6%E0%A7%8D%E0%A7%B0%E0%A7%80%E0%A6%AF%E0%A6%BC%E0%A6%B6%E0%A6%BE%E0%A6%B8%E0%A6%BF%E0%A6%A4_%E0%A6%85%E0%A6%9E%E0%A7%8D%E0%A6%9A%E0%A6%B2%E0%A6%B8%E0%A6%AE%E0%A7%82%E0%A6%B9%E0%A7%B0_%E0%A7%B0%E0%A6%BE%E0%A6%9C%E0%A6%A7%E0%A6%BE%E0%A6%A8%E0%A7%80%E0%A7%B0_%E0%A6%A4%E0%A6%BE%E0%A6%B2%E0%A6%BF%E0%A6%95%E0%A6%BE',\n",
       " 'https://bn.wikipedia.org/wiki/%E0%A6%AD%E0%A6%BE%E0%A6%B0%E0%A6%A4%E0%A7%87%E0%A6%B0_%E0%A6%B0%E0%A6%BE%E0%A6%9C%E0%A7%8D%E0%A6%AF_%E0%A6%93_%E0%A6%95%E0%A7%87%E0%A6%A8%E0%A7%8D%E0%A6%A6%E0%A7%8D%E0%A6%B0%E0%A6%B6%E0%A6%BE%E0%A6%B8%E0%A6%BF%E0%A6%A4_%E0%A6%85%E0%A6%9E%E0%A7%8D%E0%A6%9A%E0%A6%B2%E0%A6%B8%E0%A6%AE%E0%A7%82%E0%A6%B9%E0%A7%87%E0%A6%B0_%E0%A6%B0%E0%A6%BE%E0%A6%9C%E0%A6%A7%E0%A6%BE%E0%A6%A8%E0%A7%80%E0%A6%B0_%E0%A6%A4%E0%A6%BE%E0%A6%B2%E0%A6%BF%E0%A6%95%E0%A6%BE',\n",
       " 'https://hi.wikipedia.org/wiki/%E0%A4%AD%E0%A4%BE%E0%A4%B0%E0%A4%A4_%E0%A4%95%E0%A5%87_%E0%A4%B0%E0%A4%BE%E0%A4%9C%E0%A5%8D%E0%A4%AF%E0%A5%8B%E0%A4%82_%E0%A4%94%E0%A4%B0_%E0%A4%B8%E0%A4%82%E0%A4%98_%E0%A4%95%E0%A5%8D%E0%A4%B7%E0%A5%87%E0%A4%A4%E0%A5%8D%E0%A4%B0%E0%A5%8B%E0%A4%82_%E0%A4%95%E0%A5%80_%E0%A4%B0%E0%A4%BE%E0%A4%9C%E0%A4%A7%E0%A4%BE%E0%A4%A8%E0%A4%BF%E0%A4%AF%E0%A4%BE%E0%A4%81',\n",
       " 'https://id.wikipedia.org/wiki/Daftar_ibu_kota_negara_bagian_dan_wilayah_di_India',\n",
       " 'https://kn.wikipedia.org/wiki/%E0%B2%AD%E0%B2%BE%E0%B2%B0%E0%B2%A4%E0%B2%A6_%E0%B2%B0%E0%B2%BE%E0%B2%9C%E0%B3%8D%E0%B2%AF_%E0%B2%AE%E0%B2%A4%E0%B3%8D%E0%B2%A4%E0%B3%81_%E0%B2%95%E0%B3%87%E0%B2%82%E0%B2%A6%E0%B3%8D%E0%B2%B0%E0%B2%BE%E0%B2%A1%E0%B2%B3%E0%B2%BF%E0%B2%A4_%E0%B2%AA%E0%B3%8D%E0%B2%B0%E0%B2%A6%E0%B3%87%E0%B2%B6%E0%B2%97%E0%B2%B3_%E0%B2%B0%E0%B2%BE%E0%B2%9C%E0%B2%A7%E0%B2%BE%E0%B2%A8%E0%B2%BF%E0%B2%97%E0%B2%B3%E0%B3%81',\n",
       " 'https://ml.wikipedia.org/wiki/%E0%B4%87%E0%B4%A8%E0%B5%8D%E0%B4%A4%E0%B5%8D%E0%B4%AF%E0%B4%AF%E0%B4%BF%E0%B4%B2%E0%B5%86_%E0%B4%B8%E0%B4%82%E0%B4%B8%E0%B5%8D%E0%B4%A5%E0%B4%BE%E0%B4%A8%E0%B4%99%E0%B5%8D%E0%B4%99%E0%B4%B3%E0%B5%81%E0%B4%9F%E0%B5%86%E0%B4%AF%E0%B5%81%E0%B4%82_%E0%B4%95%E0%B5%87%E0%B4%A8%E0%B5%8D%E0%B4%A6%E0%B5%8D%E0%B4%B0%E0%B4%AD%E0%B4%B0%E0%B4%A3%E0%B4%AA%E0%B5%8D%E0%B4%B0%E0%B4%A6%E0%B5%87%E0%B4%B6%E0%B4%99%E0%B5%8D%E0%B4%99%E0%B4%B3%E0%B5%81%E0%B4%9F%E0%B5%86%E0%B4%AF%E0%B5%81%E0%B4%82_%E0%B4%A4%E0%B4%B2%E0%B4%B8%E0%B5%8D%E0%B4%A5%E0%B4%BE%E0%B4%A8%E0%B4%99%E0%B5%8D%E0%B4%99%E0%B4%B3%E0%B5%81%E0%B4%9F%E0%B5%86_%E0%B4%AA%E0%B4%9F%E0%B5%8D%E0%B4%9F%E0%B4%BF%E0%B4%95',\n",
       " 'https://mr.wikipedia.org/wiki/%E0%A4%AD%E0%A4%BE%E0%A4%B0%E0%A4%A4%E0%A4%BE%E0%A4%9A%E0%A5%8D%E0%A4%AF%E0%A4%BE_%E0%A4%B0%E0%A4%BE%E0%A4%9C%E0%A5%8D%E0%A4%AF%E0%A5%87_%E0%A4%86%E0%A4%A3%E0%A4%BF_%E0%A4%AA%E0%A5%8D%E0%A4%B0%E0%A4%A6%E0%A5%87%E0%A4%B6%E0%A4%BE%E0%A4%82%E0%A4%9A%E0%A5%8D%E0%A4%AF%E0%A4%BE_%E0%A4%B0%E0%A4%BE%E0%A4%9C%E0%A4%A7%E0%A4%BE%E0%A4%A8%E0%A5%80%E0%A4%9A%E0%A5%80_%E0%A4%B6%E0%A4%B9%E0%A4%B0%E0%A5%87',\n",
       " 'https://ne.wikipedia.org/wiki/%E0%A4%AD%E0%A4%BE%E0%A4%B0%E0%A4%A4%E0%A4%95%E0%A4%BE_%E0%A4%B0%E0%A4%BE%E0%A4%9C%E0%A5%8D%E0%A4%AF_%E0%A4%A4%E0%A4%A5%E0%A4%BE_%E0%A4%B8%E0%A4%99%E0%A5%8D%E0%A4%98_%E0%A4%B0%E0%A4%BE%E0%A4%9C%E0%A5%8D%E0%A4%AF_%E0%A4%95%E0%A5%8D%E0%A4%B7%E0%A5%87%E0%A4%A4%E0%A5%8D%E0%A4%B0%E0%A4%95%E0%A5%8B_%E0%A4%B0%E0%A4%BE%E0%A4%9C%E0%A4%A7%E0%A4%BE%E0%A4%A8%E0%A5%80%E0%A4%B9%E0%A4%B0%E0%A5%82',\n",
       " 'https://or.wikipedia.org/wiki/%E0%AC%AD%E0%AC%BE%E0%AC%B0%E0%AC%A4%E0%AC%B0_%E0%AC%B0%E0%AC%BE%E0%AC%9C%E0%AD%8D%E0%AD%9F_%E0%AC%93_%E0%AC%95%E0%AD%87%E0%AC%A8%E0%AD%8D%E0%AC%A6%E0%AD%8D%E0%AC%B0%E0%AC%B6%E0%AC%BE%E0%AC%B8%E0%AC%BF%E0%AC%A4_%E0%AC%85%E0%AC%9E%E0%AD%8D%E0%AC%9A%E0%AC%B3%E0%AC%AE%E0%AC%BE%E0%AC%A8%E0%AC%99%E0%AD%8D%E0%AC%95_%E0%AC%B0%E0%AC%BE%E0%AC%9C%E0%AC%A7%E0%AC%BE%E0%AC%A8%E0%AD%80_%E0%AC%A4%E0%AC%BE%E0%AC%B2%E0%AC%BF%E0%AC%95%E0%AC%BE',\n",
       " 'https://pa.wikipedia.org/wiki/%E0%A8%AD%E0%A8%BE%E0%A8%B0%E0%A8%A4_%E0%A8%A6%E0%A9%87_%E0%A8%B0%E0%A8%BE%E0%A8%9C%E0%A8%BE%E0%A8%82_%E0%A8%85%E0%A8%A4%E0%A9%87_%E0%A8%95%E0%A9%87%E0%A8%82%E0%A8%A6%E0%A8%B0%E0%A9%80_%E0%A8%B8%E0%A8%BC%E0%A8%BE%E0%A8%B8%E0%A8%BC%E0%A8%A4_%E0%A8%AA%E0%A9%8D%E0%A8%B0%E0%A8%A6%E0%A9%87%E0%A8%B8%E0%A8%BE%E0%A8%82_%E0%A8%A6%E0%A9%80_%E0%A8%B8%E0%A9%82%E0%A8%9A%E0%A9%80',\n",
       " 'https://pnb.wikipedia.org/wiki/%D9%84%D8%B3%D9%B9_%D8%A8%DA%BE%D8%A7%D8%B1%D8%AA_%D8%AF%DB%8C%D8%A7%DA%BA_%D8%B1%DB%8C%D8%A7%D8%B3%D8%AA%D8%A7%DA%BA_%D8%AA%DB%92_%D8%B9%D9%84%D8%A7%D9%82%DB%92_%D8%A8%D9%84%D8%AD%D8%A7%D8%B8_%D8%AF%D8%A7%D8%B1%D8%A7%D9%84%D8%AD%DA%A9%D9%88%D9%85%D8%AA',\n",
       " 'https://pt.wikipedia.org/wiki/Lista_das_capitais_dos_estados_e_territ%C3%B3rios_da_uni%C3%A3o_da_%C3%8Dndia',\n",
       " 'https://simple.wikipedia.org/wiki/List_of_state_and_union_territory_capitals_in_India',\n",
       " 'https://sh.wikipedia.org/wiki/Dr%C5%BEave_i_teritorije_Indije',\n",
       " 'https://sv.wikipedia.org/wiki/Lista_%C3%B6ver_huvudst%C3%A4der_i_Indien',\n",
       " 'https://ta.wikipedia.org/wiki/%E0%AE%87%E0%AE%A8%E0%AF%8D%E0%AE%A4%E0%AE%BF%E0%AE%AF_%E0%AE%AE%E0%AE%BE%E0%AE%A8%E0%AE%BF%E0%AE%B2%E0%AE%99%E0%AF%8D%E0%AE%95%E0%AE%B3%E0%AE%BF%E0%AE%A9%E0%AF%8D_%E0%AE%A4%E0%AE%B2%E0%AF%88%E0%AE%A8%E0%AE%95%E0%AE%B0%E0%AE%99%E0%AF%8D%E0%AE%95%E0%AE%B3%E0%AF%81%E0%AE%AE%E0%AF%8D_%E0%AE%92%E0%AE%A9%E0%AF%8D%E0%AE%B1%E0%AE%BF%E0%AE%AF%E0%AE%AA%E0%AF%8D_%E0%AE%AA%E0%AE%95%E0%AF%81%E0%AE%A4%E0%AE%BF%E0%AE%95%E0%AE%B3%E0%AE%BF%E0%AE%A9%E0%AF%8D_%E0%AE%A4%E0%AE%B2%E0%AF%88%E0%AE%A8%E0%AE%95%E0%AE%B0%E0%AE%99%E0%AF%8D%E0%AE%95%E0%AE%B3%E0%AF%81%E0%AE%AE%E0%AF%8D',\n",
       " 'https://te.wikipedia.org/wiki/%E0%B0%AD%E0%B0%BE%E0%B0%B0%E0%B0%A4_%E0%B0%A6%E0%B1%87%E0%B0%B6_%E0%B0%B0%E0%B0%BE%E0%B0%B7%E0%B1%8D%E0%B0%9F%E0%B1%8D%E0%B0%B0,_%E0%B0%95%E0%B1%87%E0%B0%82%E0%B0%A6%E0%B1%8D%E0%B0%B0_%E0%B0%AA%E0%B0%BE%E0%B0%B2%E0%B0%BF%E0%B0%A4_%E0%B0%AA%E0%B1%8D%E0%B0%B0%E0%B0%BE%E0%B0%82%E0%B0%A4%E0%B0%BE%E0%B0%B2_%E0%B0%B0%E0%B0%BE%E0%B0%9C%E0%B0%A7%E0%B0%BE%E0%B0%A8%E0%B1%81%E0%B0%B2%E0%B1%81',\n",
       " 'https://ur.wikipedia.org/wiki/%D9%81%DB%81%D8%B1%D8%B3%D8%AA_%D8%A8%DA%BE%D8%A7%D8%B1%D8%AA%DB%8C_%D8%B1%DB%8C%D8%A7%D8%B3%D8%AA%DB%8C%DA%BA_%D8%A7%D9%88%D8%B1_%D8%B9%D9%84%D8%A7%D9%82%DB%81_%D8%AC%D8%A7%D8%AA_%D8%A8%D9%84%D8%AD%D8%A7%D8%B8_%D8%AF%D8%A7%D8%B1%D8%A7%D9%84%D8%AD%DA%A9%D9%88%D9%85%D8%AA',\n",
       " 'https://zh.wikipedia.org/wiki/%E5%8D%B0%E5%BA%A6%E5%90%84%E9%82%A6%E5%92%8C%E4%B8%AD%E5%A4%AE%E7%9B%B4%E8%BE%96%E5%8C%BA%E9%A6%96%E5%BA%9C%E5%88%97%E8%A1%A8',\n",
       " 'https://www.wikidata.org/wiki/Special:EntityPage/Q3518799#sitelinks-wikipedia',\n",
       " '//en.wikipedia.org/wiki/Wikipedia:Text_of_Creative_Commons_Attribution-ShareAlike_3.0_Unported_License',\n",
       " '//creativecommons.org/licenses/by-sa/3.0/',\n",
       " '//foundation.wikimedia.org/wiki/Terms_of_Use',\n",
       " '//foundation.wikimedia.org/wiki/Privacy_policy',\n",
       " '//www.wikimediafoundation.org/',\n",
       " 'https://foundation.wikimedia.org/wiki/Privacy_policy',\n",
       " '/wiki/Wikipedia:About',\n",
       " '/wiki/Wikipedia:General_disclaimer',\n",
       " '//en.wikipedia.org/wiki/Wikipedia:Contact_us',\n",
       " 'https://www.mediawiki.org/wiki/Special:MyLanguage/How_to_contribute',\n",
       " 'https://foundation.wikimedia.org/wiki/Cookie_statement',\n",
       " '//en.m.wikipedia.org/w/index.php?title=List_of_state_and_union_territory_capitals_in_India&mobileaction=toggle_view_mobile',\n",
       " 'https://wikimediafoundation.org/',\n",
       " 'https://www.mediawiki.org/']"
      ]
     },
     "execution_count": 40,
     "metadata": {},
     "output_type": "execute_result"
    }
   ],
   "source": [
    "linksList = []\n",
    "allLinks= soup.findAll(\"a\")\n",
    "for link in allLinks:\n",
    "    linksList.append(link.get(\"href\"))\n",
    "linksList"
   ]
  },
  {
   "cell_type": "markdown",
   "metadata": {},
   "source": [
    "## Finding Table Element"
   ]
  },
  {
   "cell_type": "code",
   "execution_count": 41,
   "metadata": {},
   "outputs": [],
   "source": [
    "right_table=soup.find('table', class_='wikitable sortable plainrowheaders')"
   ]
  },
  {
   "cell_type": "markdown",
   "metadata": {},
   "source": [
    "## Extracting Information From Table"
   ]
  },
  {
   "cell_type": "code",
   "execution_count": 47,
   "metadata": {},
   "outputs": [],
   "source": [
    "statesList = []\n",
    "for row in right_table.findAll(\"tr\"):\n",
    "    cells = row.findAll('td')\n",
    "    states=row.findAll('th') #To store second column data\n",
    "    stateInfo = {}\n",
    "    if len(cells)==6: #Only extract table body not heading\n",
    "        stateInfo['State/UT']= states[0].find(text=True)\n",
    "        stateInfo['Admin_Capital']= cells[1].find(text=True)\n",
    "        stateInfo['Legislative_Capital']= cells[2].find(text=True)\n",
    "        stateInfo['Judiciary_Capital']= cells[3].find(text=True)\n",
    "        stateInfo['Year_Capital']= cells[4].find(text=True)\n",
    "        stateInfo['Former_Capital']= cells[5].find(text=True)\n",
    "        statesList.append(stateInfo)"
   ]
  },
  {
   "cell_type": "code",
   "execution_count": 48,
   "metadata": {},
   "outputs": [],
   "source": [
    "statesDf = pandas.DataFrame(statesList)\n",
    "statesDf.to_csv(\"states_details.csv\",index=False,encoding='utf-8')"
   ]
  },
  {
   "cell_type": "markdown",
   "metadata": {},
   "source": [
    "# Advanced Scraping Practice"
   ]
  },
  {
   "cell_type": "markdown",
   "metadata": {},
   "source": [
    "## Global Imports"
   ]
  },
  {
   "cell_type": "code",
   "execution_count": 1,
   "metadata": {},
   "outputs": [],
   "source": [
    "from selenium import webdriver\n",
    "import time\n",
    "from bs4 import BeautifulSoup\n",
    "import requests\n",
    "import pandas"
   ]
  },
  {
   "cell_type": "markdown",
   "metadata": {},
   "source": [
    "## Initializing Webdriver"
   ]
  },
  {
   "cell_type": "code",
   "execution_count": 2,
   "metadata": {},
   "outputs": [],
   "source": [
    "driver = webdriver.Chrome(executable_path=\"chromedriver.exe\")"
   ]
  },
  {
   "cell_type": "markdown",
   "metadata": {},
   "source": [
    "## Setting Useragent and Accessing Website"
   ]
  },
  {
   "cell_type": "code",
   "execution_count": 3,
   "metadata": {},
   "outputs": [],
   "source": [
    "headers =  {'User-Agent': 'Mozilla/5.0 (X11; Linux x86_64) AppleWebKit/537.11 (KHTML, like Gecko) Chrome/23.0.1271.64 Safari/537.11',\n",
    "       'Accept': 'text/html,application/xhtml+xml,application/xml;q=0.9,*/*;q=0.8',\n",
    "       'Accept-Charset': 'ISO-8859-1,utf-8;q=0.7,*;q=0.3',\n",
    "       'Accept-Encoding': 'none',\n",
    "       'Accept-Language': 'en-US,en;q=0.8',\n",
    "       'Connection': 'keep-alive'}\n",
    "driver.get(\"https://angel.co/education\")"
   ]
  },
  {
   "cell_type": "markdown",
   "metadata": {},
   "source": [
    "## Finding An Element And Clicking It Ten Times"
   ]
  },
  {
   "cell_type": "code",
   "execution_count": 4,
   "metadata": {},
   "outputs": [],
   "source": [
    "for i in range(1,10):\n",
    "    time.sleep(2)\n",
    "    more = driver.find_element_by_xpath('//div[contains(@class, \"more hidden\")]')\n",
    "    more.click()"
   ]
  },
  {
   "cell_type": "markdown",
   "metadata": {},
   "source": [
    "## Accessing All Companies"
   ]
  },
  {
   "cell_type": "code",
   "execution_count": 5,
   "metadata": {},
   "outputs": [],
   "source": [
    "baseLinks = driver.find_elements_by_xpath('//div[contains(@class, \"base item\")]')"
   ]
  },
  {
   "cell_type": "markdown",
   "metadata": {},
   "source": [
    "## Getting Each Company Details"
   ]
  },
  {
   "cell_type": "code",
   "execution_count": 6,
   "metadata": {},
   "outputs": [],
   "source": [
    "companiesList = []\n",
    "for baseLink in baseLinks:\n",
    "    companyDict = {}\n",
    "    companyDict[\"Name\"] = baseLink.find_element_by_xpath('descendant-or-self::div[contains(@class, \"name\")]').text\n",
    "    companyDict[\"Description\"] = baseLink.find_element_by_xpath('descendant-or-self::div[contains(@class, \"blurb\")]').text\n",
    "    companyDict[\"Location\"] = baseLink.find_element_by_xpath('descendant-or-self::div[contains(@class, \"tags\")]').text\n",
    "    companyDict[\"Links\"] = baseLink.find_element_by_xpath('descendant-or-self::a[contains(@class, \"startup-link\")]').get_attribute(\"href\")\n",
    "    companiesList.append(companyDict)"
   ]
  },
  {
   "cell_type": "markdown",
   "metadata": {},
   "source": [
    "## Wrtiting Out Company Details To CSV"
   ]
  },
  {
   "cell_type": "code",
   "execution_count": 49,
   "metadata": {},
   "outputs": [],
   "source": [
    "companyDf = pandas.DataFrame(companiesList)\n",
    "companyDf.to_csv(\"company_details.csv\",index=False,encoding='utf-8')"
   ]
  },
  {
   "cell_type": "markdown",
   "metadata": {},
   "source": [
    "# Advanced Company Details"
   ]
  },
  {
   "cell_type": "code",
   "execution_count": 77,
   "metadata": {},
   "outputs": [
    {
     "name": "stderr",
     "output_type": "stream",
     "text": [
      "D:\\Program Files\\Python27\\lib\\site-packages\\requests\\packages\\urllib3\\util\\ssl_.py:90: InsecurePlatformWarning: A true SSLContext object is not available. This prevents urllib3 from configuring SSL appropriately and may cause certain SSL connections to fail. For more information, see https://urllib3.readthedocs.org/en/latest/security.html#insecureplatformwarning.\n",
      "  InsecurePlatformWarning\n",
      "D:\\Program Files\\Python27\\lib\\site-packages\\requests\\packages\\urllib3\\util\\ssl_.py:90: InsecurePlatformWarning: A true SSLContext object is not available. This prevents urllib3 from configuring SSL appropriately and may cause certain SSL connections to fail. For more information, see https://urllib3.readthedocs.org/en/latest/security.html#insecureplatformwarning.\n",
      "  InsecurePlatformWarning\n"
     ]
    },
    {
     "name": "stdout",
     "output_type": "stream",
     "text": [
      "miso-media 0\n",
      "skillshare 8\n",
      "looksharp"
     ]
    },
    {
     "name": "stderr",
     "output_type": "stream",
     "text": [
      "D:\\Program Files\\Python27\\lib\\site-packages\\requests\\packages\\urllib3\\util\\ssl_.py:90: InsecurePlatformWarning: A true SSLContext object is not available. This prevents urllib3 from configuring SSL appropriately and may cause certain SSL connections to fail. For more information, see https://urllib3.readthedocs.org/en/latest/security.html#insecureplatformwarning.\n",
      "  InsecurePlatformWarning\n",
      "D:\\Program Files\\Python27\\lib\\site-packages\\requests\\packages\\urllib3\\util\\ssl_.py:90: InsecurePlatformWarning: A true SSLContext object is not available. This prevents urllib3 from configuring SSL appropriately and may cause certain SSL connections to fail. For more information, see https://urllib3.readthedocs.org/en/latest/security.html#insecureplatformwarning.\n",
      "  InsecurePlatformWarning\n"
     ]
    },
    {
     "name": "stdout",
     "output_type": "stream",
     "text": [
      " 0\n",
      "elevate 0\n",
      "motion-math"
     ]
    },
    {
     "name": "stderr",
     "output_type": "stream",
     "text": [
      "D:\\Program Files\\Python27\\lib\\site-packages\\requests\\packages\\urllib3\\util\\ssl_.py:90: InsecurePlatformWarning: A true SSLContext object is not available. This prevents urllib3 from configuring SSL appropriately and may cause certain SSL connections to fail. For more information, see https://urllib3.readthedocs.org/en/latest/security.html#insecureplatformwarning.\n",
      "  InsecurePlatformWarning\n",
      "D:\\Program Files\\Python27\\lib\\site-packages\\requests\\packages\\urllib3\\util\\ssl_.py:90: InsecurePlatformWarning: A true SSLContext object is not available. This prevents urllib3 from configuring SSL appropriately and may cause certain SSL connections to fail. For more information, see https://urllib3.readthedocs.org/en/latest/security.html#insecureplatformwarning.\n",
      "  InsecurePlatformWarning\n"
     ]
    },
    {
     "name": "stdout",
     "output_type": "stream",
     "text": [
      " 1\n",
      "chromatik 3\n",
      "colingo"
     ]
    },
    {
     "name": "stderr",
     "output_type": "stream",
     "text": [
      "D:\\Program Files\\Python27\\lib\\site-packages\\requests\\packages\\urllib3\\util\\ssl_.py:90: InsecurePlatformWarning: A true SSLContext object is not available. This prevents urllib3 from configuring SSL appropriately and may cause certain SSL connections to fail. For more information, see https://urllib3.readthedocs.org/en/latest/security.html#insecureplatformwarning.\n",
      "  InsecurePlatformWarning\n",
      "D:\\Program Files\\Python27\\lib\\site-packages\\requests\\packages\\urllib3\\util\\ssl_.py:90: InsecurePlatformWarning: A true SSLContext object is not available. This prevents urllib3 from configuring SSL appropriately and may cause certain SSL connections to fail. For more information, see https://urllib3.readthedocs.org/en/latest/security.html#insecureplatformwarning.\n",
      "  InsecurePlatformWarning\n"
     ]
    },
    {
     "name": "stdout",
     "output_type": "stream",
     "text": [
      " 0\n",
      "after-school 0\n",
      "udemy"
     ]
    },
    {
     "name": "stderr",
     "output_type": "stream",
     "text": [
      "D:\\Program Files\\Python27\\lib\\site-packages\\requests\\packages\\urllib3\\util\\ssl_.py:90: InsecurePlatformWarning: A true SSLContext object is not available. This prevents urllib3 from configuring SSL appropriately and may cause certain SSL connections to fail. For more information, see https://urllib3.readthedocs.org/en/latest/security.html#insecureplatformwarning.\n",
      "  InsecurePlatformWarning\n",
      "D:\\Program Files\\Python27\\lib\\site-packages\\requests\\packages\\urllib3\\util\\ssl_.py:90: InsecurePlatformWarning: A true SSLContext object is not available. This prevents urllib3 from configuring SSL appropriately and may cause certain SSL connections to fail. For more information, see https://urllib3.readthedocs.org/en/latest/security.html#insecureplatformwarning.\n",
      "  InsecurePlatformWarning\n"
     ]
    },
    {
     "name": "stdout",
     "output_type": "stream",
     "text": [
      " 1\n",
      "memrise 4\n",
      "open-air-publishing"
     ]
    },
    {
     "name": "stderr",
     "output_type": "stream",
     "text": [
      "D:\\Program Files\\Python27\\lib\\site-packages\\requests\\packages\\urllib3\\util\\ssl_.py:90: InsecurePlatformWarning: A true SSLContext object is not available. This prevents urllib3 from configuring SSL appropriately and may cause certain SSL connections to fail. For more information, see https://urllib3.readthedocs.org/en/latest/security.html#insecureplatformwarning.\n",
      "  InsecurePlatformWarning\n",
      "D:\\Program Files\\Python27\\lib\\site-packages\\requests\\packages\\urllib3\\util\\ssl_.py:90: InsecurePlatformWarning: A true SSLContext object is not available. This prevents urllib3 from configuring SSL appropriately and may cause certain SSL connections to fail. For more information, see https://urllib3.readthedocs.org/en/latest/security.html#insecureplatformwarning.\n",
      "  InsecurePlatformWarning\n"
     ]
    },
    {
     "name": "stdout",
     "output_type": "stream",
     "text": [
      " 0\n",
      "showme 0\n",
      "coachup"
     ]
    },
    {
     "name": "stderr",
     "output_type": "stream",
     "text": [
      "D:\\Program Files\\Python27\\lib\\site-packages\\requests\\packages\\urllib3\\util\\ssl_.py:90: InsecurePlatformWarning: A true SSLContext object is not available. This prevents urllib3 from configuring SSL appropriately and may cause certain SSL connections to fail. For more information, see https://urllib3.readthedocs.org/en/latest/security.html#insecureplatformwarning.\n",
      "  InsecurePlatformWarning\n",
      "D:\\Program Files\\Python27\\lib\\site-packages\\requests\\packages\\urllib3\\util\\ssl_.py:90: InsecurePlatformWarning: A true SSLContext object is not available. This prevents urllib3 from configuring SSL appropriately and may cause certain SSL connections to fail. For more information, see https://urllib3.readthedocs.org/en/latest/security.html#insecureplatformwarning.\n",
      "  InsecurePlatformWarning\n"
     ]
    },
    {
     "name": "stdout",
     "output_type": "stream",
     "text": [
      " 0\n",
      "remind 2\n",
      "tutorspree"
     ]
    },
    {
     "name": "stderr",
     "output_type": "stream",
     "text": [
      "D:\\Program Files\\Python27\\lib\\site-packages\\requests\\packages\\urllib3\\util\\ssl_.py:90: InsecurePlatformWarning: A true SSLContext object is not available. This prevents urllib3 from configuring SSL appropriately and may cause certain SSL connections to fail. For more information, see https://urllib3.readthedocs.org/en/latest/security.html#insecureplatformwarning.\n",
      "  InsecurePlatformWarning\n",
      "D:\\Program Files\\Python27\\lib\\site-packages\\requests\\packages\\urllib3\\util\\ssl_.py:90: InsecurePlatformWarning: A true SSLContext object is not available. This prevents urllib3 from configuring SSL appropriately and may cause certain SSL connections to fail. For more information, see https://urllib3.readthedocs.org/en/latest/security.html#insecureplatformwarning.\n",
      "  InsecurePlatformWarning\n"
     ]
    },
    {
     "name": "stdout",
     "output_type": "stream",
     "text": [
      " 0\n",
      "knewton 0\n",
      "minted"
     ]
    },
    {
     "name": "stderr",
     "output_type": "stream",
     "text": [
      "D:\\Program Files\\Python27\\lib\\site-packages\\requests\\packages\\urllib3\\util\\ssl_.py:90: InsecurePlatformWarning: A true SSLContext object is not available. This prevents urllib3 from configuring SSL appropriately and may cause certain SSL connections to fail. For more information, see https://urllib3.readthedocs.org/en/latest/security.html#insecureplatformwarning.\n",
      "  InsecurePlatformWarning\n",
      "D:\\Program Files\\Python27\\lib\\site-packages\\requests\\packages\\urllib3\\util\\ssl_.py:90: InsecurePlatformWarning: A true SSLContext object is not available. This prevents urllib3 from configuring SSL appropriately and may cause certain SSL connections to fail. For more information, see https://urllib3.readthedocs.org/en/latest/security.html#insecureplatformwarning.\n",
      "  InsecurePlatformWarning\n"
     ]
    },
    {
     "name": "stdout",
     "output_type": "stream",
     "text": [
      " 6\n",
      "cornerstone-ondemand 0\n",
      "simpletuition"
     ]
    },
    {
     "name": "stderr",
     "output_type": "stream",
     "text": [
      "D:\\Program Files\\Python27\\lib\\site-packages\\requests\\packages\\urllib3\\util\\ssl_.py:90: InsecurePlatformWarning: A true SSLContext object is not available. This prevents urllib3 from configuring SSL appropriately and may cause certain SSL connections to fail. For more information, see https://urllib3.readthedocs.org/en/latest/security.html#insecureplatformwarning.\n",
      "  InsecurePlatformWarning\n",
      "D:\\Program Files\\Python27\\lib\\site-packages\\requests\\packages\\urllib3\\util\\ssl_.py:90: InsecurePlatformWarning: A true SSLContext object is not available. This prevents urllib3 from configuring SSL appropriately and may cause certain SSL connections to fail. For more information, see https://urllib3.readthedocs.org/en/latest/security.html#insecureplatformwarning.\n",
      "  InsecurePlatformWarning\n"
     ]
    },
    {
     "name": "stdout",
     "output_type": "stream",
     "text": [
      " 0\n",
      "flat-world 0\n",
      "wikihow"
     ]
    },
    {
     "name": "stderr",
     "output_type": "stream",
     "text": [
      "D:\\Program Files\\Python27\\lib\\site-packages\\requests\\packages\\urllib3\\util\\ssl_.py:90: InsecurePlatformWarning: A true SSLContext object is not available. This prevents urllib3 from configuring SSL appropriately and may cause certain SSL connections to fail. For more information, see https://urllib3.readthedocs.org/en/latest/security.html#insecureplatformwarning.\n",
      "  InsecurePlatformWarning\n",
      "D:\\Program Files\\Python27\\lib\\site-packages\\requests\\packages\\urllib3\\util\\ssl_.py:90: InsecurePlatformWarning: A true SSLContext object is not available. This prevents urllib3 from configuring SSL appropriately and may cause certain SSL connections to fail. For more information, see https://urllib3.readthedocs.org/en/latest/security.html#insecureplatformwarning.\n",
      "  InsecurePlatformWarning\n"
     ]
    },
    {
     "name": "stdout",
     "output_type": "stream",
     "text": [
      " 0\n",
      "edmodo 0\n",
      "silverrail-technologies"
     ]
    },
    {
     "name": "stderr",
     "output_type": "stream",
     "text": [
      "D:\\Program Files\\Python27\\lib\\site-packages\\requests\\packages\\urllib3\\util\\ssl_.py:90: InsecurePlatformWarning: A true SSLContext object is not available. This prevents urllib3 from configuring SSL appropriately and may cause certain SSL connections to fail. For more information, see https://urllib3.readthedocs.org/en/latest/security.html#insecureplatformwarning.\n",
      "  InsecurePlatformWarning\n",
      "D:\\Program Files\\Python27\\lib\\site-packages\\requests\\packages\\urllib3\\util\\ssl_.py:90: InsecurePlatformWarning: A true SSLContext object is not available. This prevents urllib3 from configuring SSL appropriately and may cause certain SSL connections to fail. For more information, see https://urllib3.readthedocs.org/en/latest/security.html#insecureplatformwarning.\n",
      "  InsecurePlatformWarning\n"
     ]
    },
    {
     "name": "stdout",
     "output_type": "stream",
     "text": [
      " 0\n",
      "gamesalad 0\n",
      "voxy"
     ]
    },
    {
     "name": "stderr",
     "output_type": "stream",
     "text": [
      "D:\\Program Files\\Python27\\lib\\site-packages\\requests\\packages\\urllib3\\util\\ssl_.py:90: InsecurePlatformWarning: A true SSLContext object is not available. This prevents urllib3 from configuring SSL appropriately and may cause certain SSL connections to fail. For more information, see https://urllib3.readthedocs.org/en/latest/security.html#insecureplatformwarning.\n",
      "  InsecurePlatformWarning\n",
      "D:\\Program Files\\Python27\\lib\\site-packages\\requests\\packages\\urllib3\\util\\ssl_.py:90: InsecurePlatformWarning: A true SSLContext object is not available. This prevents urllib3 from configuring SSL appropriately and may cause certain SSL connections to fail. For more information, see https://urllib3.readthedocs.org/en/latest/security.html#insecureplatformwarning.\n",
      "  InsecurePlatformWarning\n"
     ]
    },
    {
     "name": "stdout",
     "output_type": "stream",
     "text": [
      " 0\n",
      "altius-education 0\n",
      "kno"
     ]
    },
    {
     "name": "stderr",
     "output_type": "stream",
     "text": [
      "D:\\Program Files\\Python27\\lib\\site-packages\\requests\\packages\\urllib3\\util\\ssl_.py:90: InsecurePlatformWarning: A true SSLContext object is not available. This prevents urllib3 from configuring SSL appropriately and may cause certain SSL connections to fail. For more information, see https://urllib3.readthedocs.org/en/latest/security.html#insecureplatformwarning.\n",
      "  InsecurePlatformWarning\n",
      "D:\\Program Files\\Python27\\lib\\site-packages\\requests\\packages\\urllib3\\util\\ssl_.py:90: InsecurePlatformWarning: A true SSLContext object is not available. This prevents urllib3 from configuring SSL appropriately and may cause certain SSL connections to fail. For more information, see https://urllib3.readthedocs.org/en/latest/security.html#insecureplatformwarning.\n",
      "  InsecurePlatformWarning\n"
     ]
    },
    {
     "name": "stdout",
     "output_type": "stream",
     "text": [
      " 0\n",
      "piazza 0\n",
      "dailybreak"
     ]
    },
    {
     "name": "stderr",
     "output_type": "stream",
     "text": [
      "D:\\Program Files\\Python27\\lib\\site-packages\\requests\\packages\\urllib3\\util\\ssl_.py:90: InsecurePlatformWarning: A true SSLContext object is not available. This prevents urllib3 from configuring SSL appropriately and may cause certain SSL connections to fail. For more information, see https://urllib3.readthedocs.org/en/latest/security.html#insecureplatformwarning.\n",
      "  InsecurePlatformWarning\n",
      "D:\\Program Files\\Python27\\lib\\site-packages\\requests\\packages\\urllib3\\util\\ssl_.py:90: InsecurePlatformWarning: A true SSLContext object is not available. This prevents urllib3 from configuring SSL appropriately and may cause certain SSL connections to fail. For more information, see https://urllib3.readthedocs.org/en/latest/security.html#insecureplatformwarning.\n",
      "  InsecurePlatformWarning\n"
     ]
    },
    {
     "name": "stdout",
     "output_type": "stream",
     "text": [
      " 0\n",
      "boundless 0\n",
      "codecademy"
     ]
    },
    {
     "name": "stderr",
     "output_type": "stream",
     "text": [
      "D:\\Program Files\\Python27\\lib\\site-packages\\requests\\packages\\urllib3\\util\\ssl_.py:90: InsecurePlatformWarning: A true SSLContext object is not available. This prevents urllib3 from configuring SSL appropriately and may cause certain SSL connections to fail. For more information, see https://urllib3.readthedocs.org/en/latest/security.html#insecureplatformwarning.\n",
      "  InsecurePlatformWarning\n",
      "D:\\Program Files\\Python27\\lib\\site-packages\\requests\\packages\\urllib3\\util\\ssl_.py:90: InsecurePlatformWarning: A true SSLContext object is not available. This prevents urllib3 from configuring SSL appropriately and may cause certain SSL connections to fail. For more information, see https://urllib3.readthedocs.org/en/latest/security.html#insecureplatformwarning.\n",
      "  InsecurePlatformWarning\n"
     ]
    },
    {
     "name": "stdout",
     "output_type": "stream",
     "text": [
      " 4\n",
      "hullabalu 3\n",
      "classdojo"
     ]
    },
    {
     "name": "stderr",
     "output_type": "stream",
     "text": [
      "D:\\Program Files\\Python27\\lib\\site-packages\\requests\\packages\\urllib3\\util\\ssl_.py:90: InsecurePlatformWarning: A true SSLContext object is not available. This prevents urllib3 from configuring SSL appropriately and may cause certain SSL connections to fail. For more information, see https://urllib3.readthedocs.org/en/latest/security.html#insecureplatformwarning.\n",
      "  InsecurePlatformWarning\n",
      "D:\\Program Files\\Python27\\lib\\site-packages\\requests\\packages\\urllib3\\util\\ssl_.py:90: InsecurePlatformWarning: A true SSLContext object is not available. This prevents urllib3 from configuring SSL appropriately and may cause certain SSL connections to fail. For more information, see https://urllib3.readthedocs.org/en/latest/security.html#insecureplatformwarning.\n",
      "  InsecurePlatformWarning\n"
     ]
    },
    {
     "name": "stdout",
     "output_type": "stream",
     "text": [
      " 2\n",
      "brit-+-co 0\n",
      "peertransfer"
     ]
    },
    {
     "name": "stderr",
     "output_type": "stream",
     "text": [
      "D:\\Program Files\\Python27\\lib\\site-packages\\requests\\packages\\urllib3\\util\\ssl_.py:90: InsecurePlatformWarning: A true SSLContext object is not available. This prevents urllib3 from configuring SSL appropriately and may cause certain SSL connections to fail. For more information, see https://urllib3.readthedocs.org/en/latest/security.html#insecureplatformwarning.\n",
      "  InsecurePlatformWarning\n",
      "D:\\Program Files\\Python27\\lib\\site-packages\\requests\\packages\\urllib3\\util\\ssl_.py:90: InsecurePlatformWarning: A true SSLContext object is not available. This prevents urllib3 from configuring SSL appropriately and may cause certain SSL connections to fail. For more information, see https://urllib3.readthedocs.org/en/latest/security.html#insecureplatformwarning.\n",
      "  InsecurePlatformWarning\n"
     ]
    },
    {
     "name": "stdout",
     "output_type": "stream",
     "text": [
      " 0\n",
      "treehouse 0\n",
      "mightybell"
     ]
    },
    {
     "name": "stderr",
     "output_type": "stream",
     "text": [
      "D:\\Program Files\\Python27\\lib\\site-packages\\requests\\packages\\urllib3\\util\\ssl_.py:90: InsecurePlatformWarning: A true SSLContext object is not available. This prevents urllib3 from configuring SSL appropriately and may cause certain SSL connections to fail. For more information, see https://urllib3.readthedocs.org/en/latest/security.html#insecureplatformwarning.\n",
      "  InsecurePlatformWarning\n",
      "D:\\Program Files\\Python27\\lib\\site-packages\\requests\\packages\\urllib3\\util\\ssl_.py:90: InsecurePlatformWarning: A true SSLContext object is not available. This prevents urllib3 from configuring SSL appropriately and may cause certain SSL connections to fail. For more information, see https://urllib3.readthedocs.org/en/latest/security.html#insecureplatformwarning.\n",
      "  InsecurePlatformWarning\n"
     ]
    },
    {
     "name": "stdout",
     "output_type": "stream",
     "text": [
      " 0\n",
      "'NoneType' object has no attribute 'text' hireart\n",
      "lore"
     ]
    },
    {
     "name": "stderr",
     "output_type": "stream",
     "text": [
      "D:\\Program Files\\Python27\\lib\\site-packages\\requests\\packages\\urllib3\\util\\ssl_.py:90: InsecurePlatformWarning: A true SSLContext object is not available. This prevents urllib3 from configuring SSL appropriately and may cause certain SSL connections to fail. For more information, see https://urllib3.readthedocs.org/en/latest/security.html#insecureplatformwarning.\n",
      "  InsecurePlatformWarning\n",
      "D:\\Program Files\\Python27\\lib\\site-packages\\requests\\packages\\urllib3\\util\\ssl_.py:90: InsecurePlatformWarning: A true SSLContext object is not available. This prevents urllib3 from configuring SSL appropriately and may cause certain SSL connections to fail. For more information, see https://urllib3.readthedocs.org/en/latest/security.html#insecureplatformwarning.\n",
      "  InsecurePlatformWarning\n"
     ]
    },
    {
     "name": "stdout",
     "output_type": "stream",
     "text": [
      " 0\n",
      "nitrous 2\n",
      "nitrous"
     ]
    },
    {
     "name": "stderr",
     "output_type": "stream",
     "text": [
      "D:\\Program Files\\Python27\\lib\\site-packages\\requests\\packages\\urllib3\\util\\ssl_.py:90: InsecurePlatformWarning: A true SSLContext object is not available. This prevents urllib3 from configuring SSL appropriately and may cause certain SSL connections to fail. For more information, see https://urllib3.readthedocs.org/en/latest/security.html#insecureplatformwarning.\n",
      "  InsecurePlatformWarning\n",
      "D:\\Program Files\\Python27\\lib\\site-packages\\requests\\packages\\urllib3\\util\\ssl_.py:90: InsecurePlatformWarning: A true SSLContext object is not available. This prevents urllib3 from configuring SSL appropriately and may cause certain SSL connections to fail. For more information, see https://urllib3.readthedocs.org/en/latest/security.html#insecureplatformwarning.\n",
      "  InsecurePlatformWarning\n"
     ]
    },
    {
     "name": "stdout",
     "output_type": "stream",
     "text": [
      " 2\n",
      "minerva-project 2\n",
      "clever"
     ]
    },
    {
     "name": "stderr",
     "output_type": "stream",
     "text": [
      "D:\\Program Files\\Python27\\lib\\site-packages\\requests\\packages\\urllib3\\util\\ssl_.py:90: InsecurePlatformWarning: A true SSLContext object is not available. This prevents urllib3 from configuring SSL appropriately and may cause certain SSL connections to fail. For more information, see https://urllib3.readthedocs.org/en/latest/security.html#insecureplatformwarning.\n",
      "  InsecurePlatformWarning\n",
      "D:\\Program Files\\Python27\\lib\\site-packages\\requests\\packages\\urllib3\\util\\ssl_.py:90: InsecurePlatformWarning: A true SSLContext object is not available. This prevents urllib3 from configuring SSL appropriately and may cause certain SSL connections to fail. For more information, see https://urllib3.readthedocs.org/en/latest/security.html#insecureplatformwarning.\n",
      "  InsecurePlatformWarning\n"
     ]
    },
    {
     "name": "stdout",
     "output_type": "stream",
     "text": [
      " 13\n",
      "noredink 1\n",
      "wufoo"
     ]
    },
    {
     "name": "stderr",
     "output_type": "stream",
     "text": [
      "D:\\Program Files\\Python27\\lib\\site-packages\\requests\\packages\\urllib3\\util\\ssl_.py:90: InsecurePlatformWarning: A true SSLContext object is not available. This prevents urllib3 from configuring SSL appropriately and may cause certain SSL connections to fail. For more information, see https://urllib3.readthedocs.org/en/latest/security.html#insecureplatformwarning.\n",
      "  InsecurePlatformWarning\n",
      "D:\\Program Files\\Python27\\lib\\site-packages\\requests\\packages\\urllib3\\util\\ssl_.py:90: InsecurePlatformWarning: A true SSLContext object is not available. This prevents urllib3 from configuring SSL appropriately and may cause certain SSL connections to fail. For more information, see https://urllib3.readthedocs.org/en/latest/security.html#insecureplatformwarning.\n",
      "  InsecurePlatformWarning\n"
     ]
    },
    {
     "name": "stdout",
     "output_type": "stream",
     "text": [
      " 0\n",
      "okpanda 2\n",
      "duolingo"
     ]
    },
    {
     "name": "stderr",
     "output_type": "stream",
     "text": [
      "D:\\Program Files\\Python27\\lib\\site-packages\\requests\\packages\\urllib3\\util\\ssl_.py:90: InsecurePlatformWarning: A true SSLContext object is not available. This prevents urllib3 from configuring SSL appropriately and may cause certain SSL connections to fail. For more information, see https://urllib3.readthedocs.org/en/latest/security.html#insecureplatformwarning.\n",
      "  InsecurePlatformWarning\n",
      "D:\\Program Files\\Python27\\lib\\site-packages\\requests\\packages\\urllib3\\util\\ssl_.py:90: InsecurePlatformWarning: A true SSLContext object is not available. This prevents urllib3 from configuring SSL appropriately and may cause certain SSL connections to fail. For more information, see https://urllib3.readthedocs.org/en/latest/security.html#insecureplatformwarning.\n",
      "  InsecurePlatformWarning\n"
     ]
    },
    {
     "name": "stdout",
     "output_type": "stream",
     "text": [
      " 0\n",
      "one-month 2\n",
      "panorama-education"
     ]
    },
    {
     "name": "stderr",
     "output_type": "stream",
     "text": [
      "D:\\Program Files\\Python27\\lib\\site-packages\\requests\\packages\\urllib3\\util\\ssl_.py:90: InsecurePlatformWarning: A true SSLContext object is not available. This prevents urllib3 from configuring SSL appropriately and may cause certain SSL connections to fail. For more information, see https://urllib3.readthedocs.org/en/latest/security.html#insecureplatformwarning.\n",
      "  InsecurePlatformWarning\n",
      "D:\\Program Files\\Python27\\lib\\site-packages\\requests\\packages\\urllib3\\util\\ssl_.py:90: InsecurePlatformWarning: A true SSLContext object is not available. This prevents urllib3 from configuring SSL appropriately and may cause certain SSL connections to fail. For more information, see https://urllib3.readthedocs.org/en/latest/security.html#insecureplatformwarning.\n",
      "  InsecurePlatformWarning\n"
     ]
    },
    {
     "name": "stdout",
     "output_type": "stream",
     "text": [
      " 8\n",
      "padlet 1\n",
      "takelessons"
     ]
    },
    {
     "name": "stderr",
     "output_type": "stream",
     "text": [
      "D:\\Program Files\\Python27\\lib\\site-packages\\requests\\packages\\urllib3\\util\\ssl_.py:90: InsecurePlatformWarning: A true SSLContext object is not available. This prevents urllib3 from configuring SSL appropriately and may cause certain SSL connections to fail. For more information, see https://urllib3.readthedocs.org/en/latest/security.html#insecureplatformwarning.\n",
      "  InsecurePlatformWarning\n",
      "D:\\Program Files\\Python27\\lib\\site-packages\\requests\\packages\\urllib3\\util\\ssl_.py:90: InsecurePlatformWarning: A true SSLContext object is not available. This prevents urllib3 from configuring SSL appropriately and may cause certain SSL connections to fail. For more information, see https://urllib3.readthedocs.org/en/latest/security.html#insecureplatformwarning.\n",
      "  InsecurePlatformWarning\n"
     ]
    },
    {
     "name": "stdout",
     "output_type": "stream",
     "text": [
      " 0\n",
      "evertrue 3\n",
      "smack"
     ]
    },
    {
     "name": "stderr",
     "output_type": "stream",
     "text": [
      "D:\\Program Files\\Python27\\lib\\site-packages\\requests\\packages\\urllib3\\util\\ssl_.py:90: InsecurePlatformWarning: A true SSLContext object is not available. This prevents urllib3 from configuring SSL appropriately and may cause certain SSL connections to fail. For more information, see https://urllib3.readthedocs.org/en/latest/security.html#insecureplatformwarning.\n",
      "  InsecurePlatformWarning\n",
      "D:\\Program Files\\Python27\\lib\\site-packages\\requests\\packages\\urllib3\\util\\ssl_.py:90: InsecurePlatformWarning: A true SSLContext object is not available. This prevents urllib3 from configuring SSL appropriately and may cause certain SSL connections to fail. For more information, see https://urllib3.readthedocs.org/en/latest/security.html#insecureplatformwarning.\n",
      "  InsecurePlatformWarning\n"
     ]
    },
    {
     "name": "stdout",
     "output_type": "stream",
     "text": [
      " 0\n",
      "kiwi-crate 0\n",
      "verbling"
     ]
    },
    {
     "name": "stderr",
     "output_type": "stream",
     "text": [
      "D:\\Program Files\\Python27\\lib\\site-packages\\requests\\packages\\urllib3\\util\\ssl_.py:90: InsecurePlatformWarning: A true SSLContext object is not available. This prevents urllib3 from configuring SSL appropriately and may cause certain SSL connections to fail. For more information, see https://urllib3.readthedocs.org/en/latest/security.html#insecureplatformwarning.\n",
      "  InsecurePlatformWarning\n",
      "D:\\Program Files\\Python27\\lib\\site-packages\\requests\\packages\\urllib3\\util\\ssl_.py:90: InsecurePlatformWarning: A true SSLContext object is not available. This prevents urllib3 from configuring SSL appropriately and may cause certain SSL connections to fail. For more information, see https://urllib3.readthedocs.org/en/latest/security.html#insecureplatformwarning.\n",
      "  InsecurePlatformWarning\n"
     ]
    },
    {
     "name": "stdout",
     "output_type": "stream",
     "text": [
      " 0\n",
      "seamless-toy-company 0\n",
      "tioki"
     ]
    },
    {
     "name": "stderr",
     "output_type": "stream",
     "text": [
      "D:\\Program Files\\Python27\\lib\\site-packages\\requests\\packages\\urllib3\\util\\ssl_.py:90: InsecurePlatformWarning: A true SSLContext object is not available. This prevents urllib3 from configuring SSL appropriately and may cause certain SSL connections to fail. For more information, see https://urllib3.readthedocs.org/en/latest/security.html#insecureplatformwarning.\n",
      "  InsecurePlatformWarning\n",
      "D:\\Program Files\\Python27\\lib\\site-packages\\requests\\packages\\urllib3\\util\\ssl_.py:90: InsecurePlatformWarning: A true SSLContext object is not available. This prevents urllib3 from configuring SSL appropriately and may cause certain SSL connections to fail. For more information, see https://urllib3.readthedocs.org/en/latest/security.html#insecureplatformwarning.\n",
      "  InsecurePlatformWarning\n"
     ]
    },
    {
     "name": "stdout",
     "output_type": "stream",
     "text": [
      " 0\n",
      "allclasses 0\n",
      "codefights"
     ]
    },
    {
     "name": "stderr",
     "output_type": "stream",
     "text": [
      "D:\\Program Files\\Python27\\lib\\site-packages\\requests\\packages\\urllib3\\util\\ssl_.py:90: InsecurePlatformWarning: A true SSLContext object is not available. This prevents urllib3 from configuring SSL appropriately and may cause certain SSL connections to fail. For more information, see https://urllib3.readthedocs.org/en/latest/security.html#insecureplatformwarning.\n",
      "  InsecurePlatformWarning\n",
      "D:\\Program Files\\Python27\\lib\\site-packages\\requests\\packages\\urllib3\\util\\ssl_.py:90: InsecurePlatformWarning: A true SSLContext object is not available. This prevents urllib3 from configuring SSL appropriately and may cause certain SSL connections to fail. For more information, see https://urllib3.readthedocs.org/en/latest/security.html#insecureplatformwarning.\n",
      "  InsecurePlatformWarning\n"
     ]
    },
    {
     "name": "stdout",
     "output_type": "stream",
     "text": [
      " 4\n",
      "brilliant 1\n",
      "make-school"
     ]
    },
    {
     "name": "stderr",
     "output_type": "stream",
     "text": [
      "D:\\Program Files\\Python27\\lib\\site-packages\\requests\\packages\\urllib3\\util\\ssl_.py:90: InsecurePlatformWarning: A true SSLContext object is not available. This prevents urllib3 from configuring SSL appropriately and may cause certain SSL connections to fail. For more information, see https://urllib3.readthedocs.org/en/latest/security.html#insecureplatformwarning.\n",
      "  InsecurePlatformWarning\n",
      "D:\\Program Files\\Python27\\lib\\site-packages\\requests\\packages\\urllib3\\util\\ssl_.py:90: InsecurePlatformWarning: A true SSLContext object is not available. This prevents urllib3 from configuring SSL appropriately and may cause certain SSL connections to fail. For more information, see https://urllib3.readthedocs.org/en/latest/security.html#insecureplatformwarning.\n",
      "  InsecurePlatformWarning\n"
     ]
    },
    {
     "name": "stdout",
     "output_type": "stream",
     "text": [
      " 0\n",
      "benchprep 0\n",
      "learnsprout"
     ]
    },
    {
     "name": "stderr",
     "output_type": "stream",
     "text": [
      "D:\\Program Files\\Python27\\lib\\site-packages\\requests\\packages\\urllib3\\util\\ssl_.py:90: InsecurePlatformWarning: A true SSLContext object is not available. This prevents urllib3 from configuring SSL appropriately and may cause certain SSL connections to fail. For more information, see https://urllib3.readthedocs.org/en/latest/security.html#insecureplatformwarning.\n",
      "  InsecurePlatformWarning\n",
      "D:\\Program Files\\Python27\\lib\\site-packages\\requests\\packages\\urllib3\\util\\ssl_.py:90: InsecurePlatformWarning: A true SSLContext object is not available. This prevents urllib3 from configuring SSL appropriately and may cause certain SSL connections to fail. For more information, see https://urllib3.readthedocs.org/en/latest/security.html#insecureplatformwarning.\n",
      "  InsecurePlatformWarning\n"
     ]
    },
    {
     "name": "stdout",
     "output_type": "stream",
     "text": [
      " 0\n",
      "'NoneType' object has no attribute 'text' vittana\n",
      "englishcentral"
     ]
    },
    {
     "name": "stderr",
     "output_type": "stream",
     "text": [
      "D:\\Program Files\\Python27\\lib\\site-packages\\requests\\packages\\urllib3\\util\\ssl_.py:90: InsecurePlatformWarning: A true SSLContext object is not available. This prevents urllib3 from configuring SSL appropriately and may cause certain SSL connections to fail. For more information, see https://urllib3.readthedocs.org/en/latest/security.html#insecureplatformwarning.\n",
      "  InsecurePlatformWarning\n",
      "D:\\Program Files\\Python27\\lib\\site-packages\\requests\\packages\\urllib3\\util\\ssl_.py:90: InsecurePlatformWarning: A true SSLContext object is not available. This prevents urllib3 from configuring SSL appropriately and may cause certain SSL connections to fail. For more information, see https://urllib3.readthedocs.org/en/latest/security.html#insecureplatformwarning.\n",
      "  InsecurePlatformWarning\n"
     ]
    },
    {
     "name": "stdout",
     "output_type": "stream",
     "text": [
      " 4\n",
      "uvize 0\n",
      "masteryconnect"
     ]
    },
    {
     "name": "stderr",
     "output_type": "stream",
     "text": [
      "D:\\Program Files\\Python27\\lib\\site-packages\\requests\\packages\\urllib3\\util\\ssl_.py:90: InsecurePlatformWarning: A true SSLContext object is not available. This prevents urllib3 from configuring SSL appropriately and may cause certain SSL connections to fail. For more information, see https://urllib3.readthedocs.org/en/latest/security.html#insecureplatformwarning.\n",
      "  InsecurePlatformWarning\n",
      "D:\\Program Files\\Python27\\lib\\site-packages\\requests\\packages\\urllib3\\util\\ssl_.py:90: InsecurePlatformWarning: A true SSLContext object is not available. This prevents urllib3 from configuring SSL appropriately and may cause certain SSL connections to fail. For more information, see https://urllib3.readthedocs.org/en/latest/security.html#insecureplatformwarning.\n",
      "  InsecurePlatformWarning\n"
     ]
    },
    {
     "name": "stdout",
     "output_type": "stream",
     "text": [
      " 0\n",
      "codespark 0\n",
      "codewars"
     ]
    },
    {
     "name": "stderr",
     "output_type": "stream",
     "text": [
      "D:\\Program Files\\Python27\\lib\\site-packages\\requests\\packages\\urllib3\\util\\ssl_.py:90: InsecurePlatformWarning: A true SSLContext object is not available. This prevents urllib3 from configuring SSL appropriately and may cause certain SSL connections to fail. For more information, see https://urllib3.readthedocs.org/en/latest/security.html#insecureplatformwarning.\n",
      "  InsecurePlatformWarning\n",
      "D:\\Program Files\\Python27\\lib\\site-packages\\requests\\packages\\urllib3\\util\\ssl_.py:90: InsecurePlatformWarning: A true SSLContext object is not available. This prevents urllib3 from configuring SSL appropriately and may cause certain SSL connections to fail. For more information, see https://urllib3.readthedocs.org/en/latest/security.html#insecureplatformwarning.\n",
      "  InsecurePlatformWarning\n"
     ]
    },
    {
     "name": "stdout",
     "output_type": "stream",
     "text": [
      " 0\n",
      "codehs 4\n",
      "highlighter"
     ]
    },
    {
     "name": "stderr",
     "output_type": "stream",
     "text": [
      "D:\\Program Files\\Python27\\lib\\site-packages\\requests\\packages\\urllib3\\util\\ssl_.py:90: InsecurePlatformWarning: A true SSLContext object is not available. This prevents urllib3 from configuring SSL appropriately and may cause certain SSL connections to fail. For more information, see https://urllib3.readthedocs.org/en/latest/security.html#insecureplatformwarning.\n",
      "  InsecurePlatformWarning\n",
      "D:\\Program Files\\Python27\\lib\\site-packages\\requests\\packages\\urllib3\\util\\ssl_.py:90: InsecurePlatformWarning: A true SSLContext object is not available. This prevents urllib3 from configuring SSL appropriately and may cause certain SSL connections to fail. For more information, see https://urllib3.readthedocs.org/en/latest/security.html#insecureplatformwarning.\n",
      "  InsecurePlatformWarning\n"
     ]
    },
    {
     "name": "stdout",
     "output_type": "stream",
     "text": [
      " 0\n",
      "everfi 0\n",
      "untangle"
     ]
    },
    {
     "name": "stderr",
     "output_type": "stream",
     "text": [
      "D:\\Program Files\\Python27\\lib\\site-packages\\requests\\packages\\urllib3\\util\\ssl_.py:90: InsecurePlatformWarning: A true SSLContext object is not available. This prevents urllib3 from configuring SSL appropriately and may cause certain SSL connections to fail. For more information, see https://urllib3.readthedocs.org/en/latest/security.html#insecureplatformwarning.\n",
      "  InsecurePlatformWarning\n",
      "D:\\Program Files\\Python27\\lib\\site-packages\\requests\\packages\\urllib3\\util\\ssl_.py:90: InsecurePlatformWarning: A true SSLContext object is not available. This prevents urllib3 from configuring SSL appropriately and may cause certain SSL connections to fail. For more information, see https://urllib3.readthedocs.org/en/latest/security.html#insecureplatformwarning.\n",
      "  InsecurePlatformWarning\n"
     ]
    },
    {
     "name": "stdout",
     "output_type": "stream",
     "text": [
      " 0\n",
      "educents 20\n",
      "diy"
     ]
    },
    {
     "name": "stderr",
     "output_type": "stream",
     "text": [
      "D:\\Program Files\\Python27\\lib\\site-packages\\requests\\packages\\urllib3\\util\\ssl_.py:90: InsecurePlatformWarning: A true SSLContext object is not available. This prevents urllib3 from configuring SSL appropriately and may cause certain SSL connections to fail. For more information, see https://urllib3.readthedocs.org/en/latest/security.html#insecureplatformwarning.\n",
      "  InsecurePlatformWarning\n",
      "D:\\Program Files\\Python27\\lib\\site-packages\\requests\\packages\\urllib3\\util\\ssl_.py:90: InsecurePlatformWarning: A true SSLContext object is not available. This prevents urllib3 from configuring SSL appropriately and may cause certain SSL connections to fail. For more information, see https://urllib3.readthedocs.org/en/latest/security.html#insecureplatformwarning.\n",
      "  InsecurePlatformWarning\n"
     ]
    },
    {
     "name": "stdout",
     "output_type": "stream",
     "text": [
      " 0\n",
      "enuma 0\n",
      "codementor"
     ]
    },
    {
     "name": "stderr",
     "output_type": "stream",
     "text": [
      "D:\\Program Files\\Python27\\lib\\site-packages\\requests\\packages\\urllib3\\util\\ssl_.py:90: InsecurePlatformWarning: A true SSLContext object is not available. This prevents urllib3 from configuring SSL appropriately and may cause certain SSL connections to fail. For more information, see https://urllib3.readthedocs.org/en/latest/security.html#insecureplatformwarning.\n",
      "  InsecurePlatformWarning\n",
      "D:\\Program Files\\Python27\\lib\\site-packages\\requests\\packages\\urllib3\\util\\ssl_.py:90: InsecurePlatformWarning: A true SSLContext object is not available. This prevents urllib3 from configuring SSL appropriately and may cause certain SSL connections to fail. For more information, see https://urllib3.readthedocs.org/en/latest/security.html#insecureplatformwarning.\n",
      "  InsecurePlatformWarning\n"
     ]
    },
    {
     "name": "stdout",
     "output_type": "stream",
     "text": [
      " 2\n",
      "classkick 0\n",
      "kidblog"
     ]
    },
    {
     "name": "stderr",
     "output_type": "stream",
     "text": [
      "D:\\Program Files\\Python27\\lib\\site-packages\\requests\\packages\\urllib3\\util\\ssl_.py:90: InsecurePlatformWarning: A true SSLContext object is not available. This prevents urllib3 from configuring SSL appropriately and may cause certain SSL connections to fail. For more information, see https://urllib3.readthedocs.org/en/latest/security.html#insecureplatformwarning.\n",
      "  InsecurePlatformWarning\n",
      "D:\\Program Files\\Python27\\lib\\site-packages\\requests\\packages\\urllib3\\util\\ssl_.py:90: InsecurePlatformWarning: A true SSLContext object is not available. This prevents urllib3 from configuring SSL appropriately and may cause certain SSL connections to fail. For more information, see https://urllib3.readthedocs.org/en/latest/security.html#insecureplatformwarning.\n",
      "  InsecurePlatformWarning\n"
     ]
    },
    {
     "name": "stdout",
     "output_type": "stream",
     "text": [
      " 0\n",
      "verbalizeit 0\n",
      "cambly"
     ]
    },
    {
     "name": "stderr",
     "output_type": "stream",
     "text": [
      "D:\\Program Files\\Python27\\lib\\site-packages\\requests\\packages\\urllib3\\util\\ssl_.py:90: InsecurePlatformWarning: A true SSLContext object is not available. This prevents urllib3 from configuring SSL appropriately and may cause certain SSL connections to fail. For more information, see https://urllib3.readthedocs.org/en/latest/security.html#insecureplatformwarning.\n",
      "  InsecurePlatformWarning\n",
      "D:\\Program Files\\Python27\\lib\\site-packages\\requests\\packages\\urllib3\\util\\ssl_.py:90: InsecurePlatformWarning: A true SSLContext object is not available. This prevents urllib3 from configuring SSL appropriately and may cause certain SSL connections to fail. For more information, see https://urllib3.readthedocs.org/en/latest/security.html#insecureplatformwarning.\n",
      "  InsecurePlatformWarning\n"
     ]
    },
    {
     "name": "stdout",
     "output_type": "stream",
     "text": [
      " 0\n",
      "learnup 6\n",
      "teachable"
     ]
    },
    {
     "name": "stderr",
     "output_type": "stream",
     "text": [
      "D:\\Program Files\\Python27\\lib\\site-packages\\requests\\packages\\urllib3\\util\\ssl_.py:90: InsecurePlatformWarning: A true SSLContext object is not available. This prevents urllib3 from configuring SSL appropriately and may cause certain SSL connections to fail. For more information, see https://urllib3.readthedocs.org/en/latest/security.html#insecureplatformwarning.\n",
      "  InsecurePlatformWarning\n",
      "D:\\Program Files\\Python27\\lib\\site-packages\\requests\\packages\\urllib3\\util\\ssl_.py:90: InsecurePlatformWarning: A true SSLContext object is not available. This prevents urllib3 from configuring SSL appropriately and may cause certain SSL connections to fail. For more information, see https://urllib3.readthedocs.org/en/latest/security.html#insecureplatformwarning.\n",
      "  InsecurePlatformWarning\n"
     ]
    },
    {
     "name": "stdout",
     "output_type": "stream",
     "text": [
      " 0\n",
      "brightbytes 0\n",
      "enki"
     ]
    },
    {
     "name": "stderr",
     "output_type": "stream",
     "text": [
      "D:\\Program Files\\Python27\\lib\\site-packages\\requests\\packages\\urllib3\\util\\ssl_.py:90: InsecurePlatformWarning: A true SSLContext object is not available. This prevents urllib3 from configuring SSL appropriately and may cause certain SSL connections to fail. For more information, see https://urllib3.readthedocs.org/en/latest/security.html#insecureplatformwarning.\n",
      "  InsecurePlatformWarning\n",
      "D:\\Program Files\\Python27\\lib\\site-packages\\requests\\packages\\urllib3\\util\\ssl_.py:90: InsecurePlatformWarning: A true SSLContext object is not available. This prevents urllib3 from configuring SSL appropriately and may cause certain SSL connections to fail. For more information, see https://urllib3.readthedocs.org/en/latest/security.html#insecureplatformwarning.\n",
      "  InsecurePlatformWarning\n"
     ]
    },
    {
     "name": "stdout",
     "output_type": "stream",
     "text": [
      " 4\n",
      "descomplica 1\n",
      "flashnotes"
     ]
    },
    {
     "name": "stderr",
     "output_type": "stream",
     "text": [
      "D:\\Program Files\\Python27\\lib\\site-packages\\requests\\packages\\urllib3\\util\\ssl_.py:90: InsecurePlatformWarning: A true SSLContext object is not available. This prevents urllib3 from configuring SSL appropriately and may cause certain SSL connections to fail. For more information, see https://urllib3.readthedocs.org/en/latest/security.html#insecureplatformwarning.\n",
      "  InsecurePlatformWarning\n",
      "D:\\Program Files\\Python27\\lib\\site-packages\\requests\\packages\\urllib3\\util\\ssl_.py:90: InsecurePlatformWarning: A true SSLContext object is not available. This prevents urllib3 from configuring SSL appropriately and may cause certain SSL connections to fail. For more information, see https://urllib3.readthedocs.org/en/latest/security.html#insecureplatformwarning.\n",
      "  InsecurePlatformWarning\n"
     ]
    },
    {
     "name": "stdout",
     "output_type": "stream",
     "text": [
      " 0\n",
      "camperoo 0\n",
      "kidaptive"
     ]
    },
    {
     "name": "stderr",
     "output_type": "stream",
     "text": [
      "D:\\Program Files\\Python27\\lib\\site-packages\\requests\\packages\\urllib3\\util\\ssl_.py:90: InsecurePlatformWarning: A true SSLContext object is not available. This prevents urllib3 from configuring SSL appropriately and may cause certain SSL connections to fail. For more information, see https://urllib3.readthedocs.org/en/latest/security.html#insecureplatformwarning.\n",
      "  InsecurePlatformWarning\n",
      "D:\\Program Files\\Python27\\lib\\site-packages\\requests\\packages\\urllib3\\util\\ssl_.py:90: InsecurePlatformWarning: A true SSLContext object is not available. This prevents urllib3 from configuring SSL appropriately and may cause certain SSL connections to fail. For more information, see https://urllib3.readthedocs.org/en/latest/security.html#insecureplatformwarning.\n",
      "  InsecurePlatformWarning\n"
     ]
    },
    {
     "name": "stdout",
     "output_type": "stream",
     "text": [
      " 2\n",
      "ctrl+console 0\n",
      "checkio"
     ]
    },
    {
     "name": "stderr",
     "output_type": "stream",
     "text": [
      "D:\\Program Files\\Python27\\lib\\site-packages\\requests\\packages\\urllib3\\util\\ssl_.py:90: InsecurePlatformWarning: A true SSLContext object is not available. This prevents urllib3 from configuring SSL appropriately and may cause certain SSL connections to fail. For more information, see https://urllib3.readthedocs.org/en/latest/security.html#insecureplatformwarning.\n",
      "  InsecurePlatformWarning\n",
      "D:\\Program Files\\Python27\\lib\\site-packages\\requests\\packages\\urllib3\\util\\ssl_.py:90: InsecurePlatformWarning: A true SSLContext object is not available. This prevents urllib3 from configuring SSL appropriately and may cause certain SSL connections to fail. For more information, see https://urllib3.readthedocs.org/en/latest/security.html#insecureplatformwarning.\n",
      "  InsecurePlatformWarning\n"
     ]
    },
    {
     "name": "stdout",
     "output_type": "stream",
     "text": [
      " 0\n",
      "tinybop 0\n",
      "betterlesson"
     ]
    },
    {
     "name": "stderr",
     "output_type": "stream",
     "text": [
      "D:\\Program Files\\Python27\\lib\\site-packages\\requests\\packages\\urllib3\\util\\ssl_.py:90: InsecurePlatformWarning: A true SSLContext object is not available. This prevents urllib3 from configuring SSL appropriately and may cause certain SSL connections to fail. For more information, see https://urllib3.readthedocs.org/en/latest/security.html#insecureplatformwarning.\n",
      "  InsecurePlatformWarning\n",
      "D:\\Program Files\\Python27\\lib\\site-packages\\requests\\packages\\urllib3\\util\\ssl_.py:90: InsecurePlatformWarning: A true SSLContext object is not available. This prevents urllib3 from configuring SSL appropriately and may cause certain SSL connections to fail. For more information, see https://urllib3.readthedocs.org/en/latest/security.html#insecureplatformwarning.\n",
      "  InsecurePlatformWarning\n"
     ]
    },
    {
     "name": "stdout",
     "output_type": "stream",
     "text": [
      " 0\n",
      "speakaboos 0\n",
      "tynker"
     ]
    },
    {
     "name": "stderr",
     "output_type": "stream",
     "text": [
      "D:\\Program Files\\Python27\\lib\\site-packages\\requests\\packages\\urllib3\\util\\ssl_.py:90: InsecurePlatformWarning: A true SSLContext object is not available. This prevents urllib3 from configuring SSL appropriately and may cause certain SSL connections to fail. For more information, see https://urllib3.readthedocs.org/en/latest/security.html#insecureplatformwarning.\n",
      "  InsecurePlatformWarning\n",
      "D:\\Program Files\\Python27\\lib\\site-packages\\requests\\packages\\urllib3\\util\\ssl_.py:90: InsecurePlatformWarning: A true SSLContext object is not available. This prevents urllib3 from configuring SSL appropriately and may cause certain SSL connections to fail. For more information, see https://urllib3.readthedocs.org/en/latest/security.html#insecureplatformwarning.\n",
      "  InsecurePlatformWarning\n"
     ]
    },
    {
     "name": "stdout",
     "output_type": "stream",
     "text": [
      " 0\n",
      "nextlesson 0\n",
      "campus-explorer"
     ]
    },
    {
     "name": "stderr",
     "output_type": "stream",
     "text": [
      "D:\\Program Files\\Python27\\lib\\site-packages\\requests\\packages\\urllib3\\util\\ssl_.py:90: InsecurePlatformWarning: A true SSLContext object is not available. This prevents urllib3 from configuring SSL appropriately and may cause certain SSL connections to fail. For more information, see https://urllib3.readthedocs.org/en/latest/security.html#insecureplatformwarning.\n",
      "  InsecurePlatformWarning\n",
      "D:\\Program Files\\Python27\\lib\\site-packages\\requests\\packages\\urllib3\\util\\ssl_.py:90: InsecurePlatformWarning: A true SSLContext object is not available. This prevents urllib3 from configuring SSL appropriately and may cause certain SSL connections to fail. For more information, see https://urllib3.readthedocs.org/en/latest/security.html#insecureplatformwarning.\n",
      "  InsecurePlatformWarning\n"
     ]
    },
    {
     "name": "stdout",
     "output_type": "stream",
     "text": [
      " 0\n",
      "popexpert 2\n",
      "schoolmint"
     ]
    },
    {
     "name": "stderr",
     "output_type": "stream",
     "text": [
      "D:\\Program Files\\Python27\\lib\\site-packages\\requests\\packages\\urllib3\\util\\ssl_.py:90: InsecurePlatformWarning: A true SSLContext object is not available. This prevents urllib3 from configuring SSL appropriately and may cause certain SSL connections to fail. For more information, see https://urllib3.readthedocs.org/en/latest/security.html#insecureplatformwarning.\n",
      "  InsecurePlatformWarning\n",
      "D:\\Program Files\\Python27\\lib\\site-packages\\requests\\packages\\urllib3\\util\\ssl_.py:90: InsecurePlatformWarning: A true SSLContext object is not available. This prevents urllib3 from configuring SSL appropriately and may cause certain SSL connections to fail. For more information, see https://urllib3.readthedocs.org/en/latest/security.html#insecureplatformwarning.\n",
      "  InsecurePlatformWarning\n"
     ]
    },
    {
     "name": "stdout",
     "output_type": "stream",
     "text": [
      " 5\n",
      "astrid-francesca-walk 0\n",
      "togetherville"
     ]
    },
    {
     "name": "stderr",
     "output_type": "stream",
     "text": [
      "D:\\Program Files\\Python27\\lib\\site-packages\\requests\\packages\\urllib3\\util\\ssl_.py:90: InsecurePlatformWarning: A true SSLContext object is not available. This prevents urllib3 from configuring SSL appropriately and may cause certain SSL connections to fail. For more information, see https://urllib3.readthedocs.org/en/latest/security.html#insecureplatformwarning.\n",
      "  InsecurePlatformWarning\n",
      "D:\\Program Files\\Python27\\lib\\site-packages\\requests\\packages\\urllib3\\util\\ssl_.py:90: InsecurePlatformWarning: A true SSLContext object is not available. This prevents urllib3 from configuring SSL appropriately and may cause certain SSL connections to fail. For more information, see https://urllib3.readthedocs.org/en/latest/security.html#insecureplatformwarning.\n",
      "  InsecurePlatformWarning\n"
     ]
    },
    {
     "name": "stdout",
     "output_type": "stream",
     "text": [
      " 0\n",
      "skilljar 5\n",
      "yogome"
     ]
    },
    {
     "name": "stderr",
     "output_type": "stream",
     "text": [
      "D:\\Program Files\\Python27\\lib\\site-packages\\requests\\packages\\urllib3\\util\\ssl_.py:90: InsecurePlatformWarning: A true SSLContext object is not available. This prevents urllib3 from configuring SSL appropriately and may cause certain SSL connections to fail. For more information, see https://urllib3.readthedocs.org/en/latest/security.html#insecureplatformwarning.\n",
      "  InsecurePlatformWarning\n",
      "D:\\Program Files\\Python27\\lib\\site-packages\\requests\\packages\\urllib3\\util\\ssl_.py:90: InsecurePlatformWarning: A true SSLContext object is not available. This prevents urllib3 from configuring SSL appropriately and may cause certain SSL connections to fail. For more information, see https://urllib3.readthedocs.org/en/latest/security.html#insecureplatformwarning.\n",
      "  InsecurePlatformWarning\n"
     ]
    },
    {
     "name": "stdout",
     "output_type": "stream",
     "text": [
      " 0\n",
      "schoolzilla 0\n",
      "magoosh"
     ]
    },
    {
     "name": "stderr",
     "output_type": "stream",
     "text": [
      "D:\\Program Files\\Python27\\lib\\site-packages\\requests\\packages\\urllib3\\util\\ssl_.py:90: InsecurePlatformWarning: A true SSLContext object is not available. This prevents urllib3 from configuring SSL appropriately and may cause certain SSL connections to fail. For more information, see https://urllib3.readthedocs.org/en/latest/security.html#insecureplatformwarning.\n",
      "  InsecurePlatformWarning\n",
      "D:\\Program Files\\Python27\\lib\\site-packages\\requests\\packages\\urllib3\\util\\ssl_.py:90: InsecurePlatformWarning: A true SSLContext object is not available. This prevents urllib3 from configuring SSL appropriately and may cause certain SSL connections to fail. For more information, see https://urllib3.readthedocs.org/en/latest/security.html#insecureplatformwarning.\n",
      "  InsecurePlatformWarning\n"
     ]
    },
    {
     "name": "stdout",
     "output_type": "stream",
     "text": [
      " 2\n",
      "littlebits 0\n",
      "scorebeyond"
     ]
    },
    {
     "name": "stderr",
     "output_type": "stream",
     "text": [
      "D:\\Program Files\\Python27\\lib\\site-packages\\requests\\packages\\urllib3\\util\\ssl_.py:90: InsecurePlatformWarning: A true SSLContext object is not available. This prevents urllib3 from configuring SSL appropriately and may cause certain SSL connections to fail. For more information, see https://urllib3.readthedocs.org/en/latest/security.html#insecureplatformwarning.\n",
      "  InsecurePlatformWarning\n",
      "D:\\Program Files\\Python27\\lib\\site-packages\\requests\\packages\\urllib3\\util\\ssl_.py:90: InsecurePlatformWarning: A true SSLContext object is not available. This prevents urllib3 from configuring SSL appropriately and may cause certain SSL connections to fail. For more information, see https://urllib3.readthedocs.org/en/latest/security.html#insecureplatformwarning.\n",
      "  InsecurePlatformWarning\n"
     ]
    },
    {
     "name": "stdout",
     "output_type": "stream",
     "text": [
      " 10\n",
      "greengar 0\n",
      "5min-media"
     ]
    },
    {
     "name": "stderr",
     "output_type": "stream",
     "text": [
      "D:\\Program Files\\Python27\\lib\\site-packages\\requests\\packages\\urllib3\\util\\ssl_.py:90: InsecurePlatformWarning: A true SSLContext object is not available. This prevents urllib3 from configuring SSL appropriately and may cause certain SSL connections to fail. For more information, see https://urllib3.readthedocs.org/en/latest/security.html#insecureplatformwarning.\n",
      "  InsecurePlatformWarning\n",
      "D:\\Program Files\\Python27\\lib\\site-packages\\requests\\packages\\urllib3\\util\\ssl_.py:90: InsecurePlatformWarning: A true SSLContext object is not available. This prevents urllib3 from configuring SSL appropriately and may cause certain SSL connections to fail. For more information, see https://urllib3.readthedocs.org/en/latest/security.html#insecureplatformwarning.\n",
      "  InsecurePlatformWarning\n"
     ]
    },
    {
     "name": "stdout",
     "output_type": "stream",
     "text": [
      " 0\n",
      "tuition.io 0\n",
      "front-row-education"
     ]
    },
    {
     "name": "stderr",
     "output_type": "stream",
     "text": [
      "D:\\Program Files\\Python27\\lib\\site-packages\\requests\\packages\\urllib3\\util\\ssl_.py:90: InsecurePlatformWarning: A true SSLContext object is not available. This prevents urllib3 from configuring SSL appropriately and may cause certain SSL connections to fail. For more information, see https://urllib3.readthedocs.org/en/latest/security.html#insecureplatformwarning.\n",
      "  InsecurePlatformWarning\n",
      "D:\\Program Files\\Python27\\lib\\site-packages\\requests\\packages\\urllib3\\util\\ssl_.py:90: InsecurePlatformWarning: A true SSLContext object is not available. This prevents urllib3 from configuring SSL appropriately and may cause certain SSL connections to fail. For more information, see https://urllib3.readthedocs.org/en/latest/security.html#insecureplatformwarning.\n",
      "  InsecurePlatformWarning\n"
     ]
    },
    {
     "name": "stdout",
     "output_type": "stream",
     "text": [
      " 4\n",
      "accredible 0\n",
      "instaedu"
     ]
    },
    {
     "name": "stderr",
     "output_type": "stream",
     "text": [
      "D:\\Program Files\\Python27\\lib\\site-packages\\requests\\packages\\urllib3\\util\\ssl_.py:90: InsecurePlatformWarning: A true SSLContext object is not available. This prevents urllib3 from configuring SSL appropriately and may cause certain SSL connections to fail. For more information, see https://urllib3.readthedocs.org/en/latest/security.html#insecureplatformwarning.\n",
      "  InsecurePlatformWarning\n",
      "D:\\Program Files\\Python27\\lib\\site-packages\\requests\\packages\\urllib3\\util\\ssl_.py:90: InsecurePlatformWarning: A true SSLContext object is not available. This prevents urllib3 from configuring SSL appropriately and may cause certain SSL connections to fail. For more information, see https://urllib3.readthedocs.org/en/latest/security.html#insecureplatformwarning.\n",
      "  InsecurePlatformWarning\n"
     ]
    },
    {
     "name": "stdout",
     "output_type": "stream",
     "text": [
      " 0\n",
      "chalkable 0\n",
      "coursehorse"
     ]
    },
    {
     "name": "stderr",
     "output_type": "stream",
     "text": [
      "D:\\Program Files\\Python27\\lib\\site-packages\\requests\\packages\\urllib3\\util\\ssl_.py:90: InsecurePlatformWarning: A true SSLContext object is not available. This prevents urllib3 from configuring SSL appropriately and may cause certain SSL connections to fail. For more information, see https://urllib3.readthedocs.org/en/latest/security.html#insecureplatformwarning.\n",
      "  InsecurePlatformWarning\n",
      "D:\\Program Files\\Python27\\lib\\site-packages\\requests\\packages\\urllib3\\util\\ssl_.py:90: InsecurePlatformWarning: A true SSLContext object is not available. This prevents urllib3 from configuring SSL appropriately and may cause certain SSL connections to fail. For more information, see https://urllib3.readthedocs.org/en/latest/security.html#insecureplatformwarning.\n",
      "  InsecurePlatformWarning\n"
     ]
    },
    {
     "name": "stdout",
     "output_type": "stream",
     "text": [
      " 6\n",
      "bloc 0\n",
      "educreations"
     ]
    },
    {
     "name": "stderr",
     "output_type": "stream",
     "text": [
      "D:\\Program Files\\Python27\\lib\\site-packages\\requests\\packages\\urllib3\\util\\ssl_.py:90: InsecurePlatformWarning: A true SSLContext object is not available. This prevents urllib3 from configuring SSL appropriately and may cause certain SSL connections to fail. For more information, see https://urllib3.readthedocs.org/en/latest/security.html#insecureplatformwarning.\n",
      "  InsecurePlatformWarning\n",
      "D:\\Program Files\\Python27\\lib\\site-packages\\requests\\packages\\urllib3\\util\\ssl_.py:90: InsecurePlatformWarning: A true SSLContext object is not available. This prevents urllib3 from configuring SSL appropriately and may cause certain SSL connections to fail. For more information, see https://urllib3.readthedocs.org/en/latest/security.html#insecureplatformwarning.\n",
      "  InsecurePlatformWarning\n"
     ]
    },
    {
     "name": "stdout",
     "output_type": "stream",
     "text": [
      " 0\n",
      "grovo 2\n",
      "startupdigest"
     ]
    },
    {
     "name": "stderr",
     "output_type": "stream",
     "text": [
      "D:\\Program Files\\Python27\\lib\\site-packages\\requests\\packages\\urllib3\\util\\ssl_.py:90: InsecurePlatformWarning: A true SSLContext object is not available. This prevents urllib3 from configuring SSL appropriately and may cause certain SSL connections to fail. For more information, see https://urllib3.readthedocs.org/en/latest/security.html#insecureplatformwarning.\n",
      "  InsecurePlatformWarning\n",
      "D:\\Program Files\\Python27\\lib\\site-packages\\requests\\packages\\urllib3\\util\\ssl_.py:90: InsecurePlatformWarning: A true SSLContext object is not available. This prevents urllib3 from configuring SSL appropriately and may cause certain SSL connections to fail. For more information, see https://urllib3.readthedocs.org/en/latest/security.html#insecureplatformwarning.\n",
      "  InsecurePlatformWarning\n"
     ]
    },
    {
     "name": "stdout",
     "output_type": "stream",
     "text": [
      " 1\n",
      "mystery-science 0\n",
      "homer"
     ]
    },
    {
     "name": "stderr",
     "output_type": "stream",
     "text": [
      "D:\\Program Files\\Python27\\lib\\site-packages\\requests\\packages\\urllib3\\util\\ssl_.py:90: InsecurePlatformWarning: A true SSLContext object is not available. This prevents urllib3 from configuring SSL appropriately and may cause certain SSL connections to fail. For more information, see https://urllib3.readthedocs.org/en/latest/security.html#insecureplatformwarning.\n",
      "  InsecurePlatformWarning\n",
      "D:\\Program Files\\Python27\\lib\\site-packages\\requests\\packages\\urllib3\\util\\ssl_.py:90: InsecurePlatformWarning: A true SSLContext object is not available. This prevents urllib3 from configuring SSL appropriately and may cause certain SSL connections to fail. For more information, see https://urllib3.readthedocs.org/en/latest/security.html#insecureplatformwarning.\n",
      "  InsecurePlatformWarning\n"
     ]
    },
    {
     "name": "stdout",
     "output_type": "stream",
     "text": [
      " 0\n",
      "quad 0\n",
      "tykoon"
     ]
    },
    {
     "name": "stderr",
     "output_type": "stream",
     "text": [
      "D:\\Program Files\\Python27\\lib\\site-packages\\requests\\packages\\urllib3\\util\\ssl_.py:90: InsecurePlatformWarning: A true SSLContext object is not available. This prevents urllib3 from configuring SSL appropriately and may cause certain SSL connections to fail. For more information, see https://urllib3.readthedocs.org/en/latest/security.html#insecureplatformwarning.\n",
      "  InsecurePlatformWarning\n",
      "D:\\Program Files\\Python27\\lib\\site-packages\\requests\\packages\\urllib3\\util\\ssl_.py:90: InsecurePlatformWarning: A true SSLContext object is not available. This prevents urllib3 from configuring SSL appropriately and may cause certain SSL connections to fail. For more information, see https://urllib3.readthedocs.org/en/latest/security.html#insecureplatformwarning.\n",
      "  InsecurePlatformWarning\n"
     ]
    },
    {
     "name": "stdout",
     "output_type": "stream",
     "text": [
      " 0\n",
      "newsela 0\n",
      "dailydrip"
     ]
    },
    {
     "name": "stderr",
     "output_type": "stream",
     "text": [
      "D:\\Program Files\\Python27\\lib\\site-packages\\requests\\packages\\urllib3\\util\\ssl_.py:90: InsecurePlatformWarning: A true SSLContext object is not available. This prevents urllib3 from configuring SSL appropriately and may cause certain SSL connections to fail. For more information, see https://urllib3.readthedocs.org/en/latest/security.html#insecureplatformwarning.\n",
      "  InsecurePlatformWarning\n",
      "D:\\Program Files\\Python27\\lib\\site-packages\\requests\\packages\\urllib3\\util\\ssl_.py:90: InsecurePlatformWarning: A true SSLContext object is not available. This prevents urllib3 from configuring SSL appropriately and may cause certain SSL connections to fail. For more information, see https://urllib3.readthedocs.org/en/latest/security.html#insecureplatformwarning.\n",
      "  InsecurePlatformWarning\n"
     ]
    },
    {
     "name": "stdout",
     "output_type": "stream",
     "text": [
      " 0\n",
      "schoola 0\n",
      "curriculet"
     ]
    },
    {
     "name": "stderr",
     "output_type": "stream",
     "text": [
      "D:\\Program Files\\Python27\\lib\\site-packages\\requests\\packages\\urllib3\\util\\ssl_.py:90: InsecurePlatformWarning: A true SSLContext object is not available. This prevents urllib3 from configuring SSL appropriately and may cause certain SSL connections to fail. For more information, see https://urllib3.readthedocs.org/en/latest/security.html#insecureplatformwarning.\n",
      "  InsecurePlatformWarning\n",
      "D:\\Program Files\\Python27\\lib\\site-packages\\requests\\packages\\urllib3\\util\\ssl_.py:90: InsecurePlatformWarning: A true SSLContext object is not available. This prevents urllib3 from configuring SSL appropriately and may cause certain SSL connections to fail. For more information, see https://urllib3.readthedocs.org/en/latest/security.html#insecureplatformwarning.\n",
      "  InsecurePlatformWarning\n"
     ]
    },
    {
     "name": "stdout",
     "output_type": "stream",
     "text": [
      " 0\n",
      "panopen 4\n",
      "wheelhouse.io"
     ]
    },
    {
     "name": "stderr",
     "output_type": "stream",
     "text": [
      "D:\\Program Files\\Python27\\lib\\site-packages\\requests\\packages\\urllib3\\util\\ssl_.py:90: InsecurePlatformWarning: A true SSLContext object is not available. This prevents urllib3 from configuring SSL appropriately and may cause certain SSL connections to fail. For more information, see https://urllib3.readthedocs.org/en/latest/security.html#insecureplatformwarning.\n",
      "  InsecurePlatformWarning\n",
      "D:\\Program Files\\Python27\\lib\\site-packages\\requests\\packages\\urllib3\\util\\ssl_.py:90: InsecurePlatformWarning: A true SSLContext object is not available. This prevents urllib3 from configuring SSL appropriately and may cause certain SSL connections to fail. For more information, see https://urllib3.readthedocs.org/en/latest/security.html#insecureplatformwarning.\n",
      "  InsecurePlatformWarning\n"
     ]
    },
    {
     "name": "stdout",
     "output_type": "stream",
     "text": [
      " 0\n",
      "degreed 0\n",
      "mentormob"
     ]
    },
    {
     "name": "stderr",
     "output_type": "stream",
     "text": [
      "D:\\Program Files\\Python27\\lib\\site-packages\\requests\\packages\\urllib3\\util\\ssl_.py:90: InsecurePlatformWarning: A true SSLContext object is not available. This prevents urllib3 from configuring SSL appropriately and may cause certain SSL connections to fail. For more information, see https://urllib3.readthedocs.org/en/latest/security.html#insecureplatformwarning.\n",
      "  InsecurePlatformWarning\n",
      "D:\\Program Files\\Python27\\lib\\site-packages\\requests\\packages\\urllib3\\util\\ssl_.py:90: InsecurePlatformWarning: A true SSLContext object is not available. This prevents urllib3 from configuring SSL appropriately and may cause certain SSL connections to fail. For more information, see https://urllib3.readthedocs.org/en/latest/security.html#insecureplatformwarning.\n",
      "  InsecurePlatformWarning\n"
     ]
    },
    {
     "name": "stdout",
     "output_type": "stream",
     "text": [
      " 0\n",
      "brightwheel 5\n",
      "berecruited"
     ]
    },
    {
     "name": "stderr",
     "output_type": "stream",
     "text": [
      "D:\\Program Files\\Python27\\lib\\site-packages\\requests\\packages\\urllib3\\util\\ssl_.py:90: InsecurePlatformWarning: A true SSLContext object is not available. This prevents urllib3 from configuring SSL appropriately and may cause certain SSL connections to fail. For more information, see https://urllib3.readthedocs.org/en/latest/security.html#insecureplatformwarning.\n",
      "  InsecurePlatformWarning\n",
      "D:\\Program Files\\Python27\\lib\\site-packages\\requests\\packages\\urllib3\\util\\ssl_.py:90: InsecurePlatformWarning: A true SSLContext object is not available. This prevents urllib3 from configuring SSL appropriately and may cause certain SSL connections to fail. For more information, see https://urllib3.readthedocs.org/en/latest/security.html#insecureplatformwarning.\n",
      "  InsecurePlatformWarning\n"
     ]
    },
    {
     "name": "stdout",
     "output_type": "stream",
     "text": [
      " 0\n",
      "keepy 2\n",
      "mytonomy"
     ]
    },
    {
     "name": "stderr",
     "output_type": "stream",
     "text": [
      "D:\\Program Files\\Python27\\lib\\site-packages\\requests\\packages\\urllib3\\util\\ssl_.py:90: InsecurePlatformWarning: A true SSLContext object is not available. This prevents urllib3 from configuring SSL appropriately and may cause certain SSL connections to fail. For more information, see https://urllib3.readthedocs.org/en/latest/security.html#insecureplatformwarning.\n",
      "  InsecurePlatformWarning\n",
      "D:\\Program Files\\Python27\\lib\\site-packages\\requests\\packages\\urllib3\\util\\ssl_.py:90: InsecurePlatformWarning: A true SSLContext object is not available. This prevents urllib3 from configuring SSL appropriately and may cause certain SSL connections to fail. For more information, see https://urllib3.readthedocs.org/en/latest/security.html#insecureplatformwarning.\n",
      "  InsecurePlatformWarning\n"
     ]
    },
    {
     "name": "stdout",
     "output_type": "stream",
     "text": [
      " 0\n",
      "rentlord 0\n",
      "top-hat"
     ]
    },
    {
     "name": "stderr",
     "output_type": "stream",
     "text": [
      "D:\\Program Files\\Python27\\lib\\site-packages\\requests\\packages\\urllib3\\util\\ssl_.py:90: InsecurePlatformWarning: A true SSLContext object is not available. This prevents urllib3 from configuring SSL appropriately and may cause certain SSL connections to fail. For more information, see https://urllib3.readthedocs.org/en/latest/security.html#insecureplatformwarning.\n",
      "  InsecurePlatformWarning\n",
      "D:\\Program Files\\Python27\\lib\\site-packages\\requests\\packages\\urllib3\\util\\ssl_.py:90: InsecurePlatformWarning: A true SSLContext object is not available. This prevents urllib3 from configuring SSL appropriately and may cause certain SSL connections to fail. For more information, see https://urllib3.readthedocs.org/en/latest/security.html#insecureplatformwarning.\n",
      "  InsecurePlatformWarning\n"
     ]
    },
    {
     "name": "stdout",
     "output_type": "stream",
     "text": [
      " 14\n",
      "koofers 0\n",
      "wonder-workshop"
     ]
    },
    {
     "name": "stderr",
     "output_type": "stream",
     "text": [
      "D:\\Program Files\\Python27\\lib\\site-packages\\requests\\packages\\urllib3\\util\\ssl_.py:90: InsecurePlatformWarning: A true SSLContext object is not available. This prevents urllib3 from configuring SSL appropriately and may cause certain SSL connections to fail. For more information, see https://urllib3.readthedocs.org/en/latest/security.html#insecureplatformwarning.\n",
      "  InsecurePlatformWarning\n",
      "D:\\Program Files\\Python27\\lib\\site-packages\\requests\\packages\\urllib3\\util\\ssl_.py:90: InsecurePlatformWarning: A true SSLContext object is not available. This prevents urllib3 from configuring SSL appropriately and may cause certain SSL connections to fail. For more information, see https://urllib3.readthedocs.org/en/latest/security.html#insecureplatformwarning.\n",
      "  InsecurePlatformWarning\n"
     ]
    },
    {
     "name": "stdout",
     "output_type": "stream",
     "text": [
      " 1\n",
      "edify 0\n",
      "peak"
     ]
    },
    {
     "name": "stderr",
     "output_type": "stream",
     "text": [
      "D:\\Program Files\\Python27\\lib\\site-packages\\requests\\packages\\urllib3\\util\\ssl_.py:90: InsecurePlatformWarning: A true SSLContext object is not available. This prevents urllib3 from configuring SSL appropriately and may cause certain SSL connections to fail. For more information, see https://urllib3.readthedocs.org/en/latest/security.html#insecureplatformwarning.\n",
      "  InsecurePlatformWarning\n",
      "D:\\Program Files\\Python27\\lib\\site-packages\\requests\\packages\\urllib3\\util\\ssl_.py:90: InsecurePlatformWarning: A true SSLContext object is not available. This prevents urllib3 from configuring SSL appropriately and may cause certain SSL connections to fail. For more information, see https://urllib3.readthedocs.org/en/latest/security.html#insecureplatformwarning.\n",
      "  InsecurePlatformWarning\n"
     ]
    },
    {
     "name": "stdout",
     "output_type": "stream",
     "text": [
      " 0\n",
      "khan-academy 0\n",
      "prosky"
     ]
    },
    {
     "name": "stderr",
     "output_type": "stream",
     "text": [
      "D:\\Program Files\\Python27\\lib\\site-packages\\requests\\packages\\urllib3\\util\\ssl_.py:90: InsecurePlatformWarning: A true SSLContext object is not available. This prevents urllib3 from configuring SSL appropriately and may cause certain SSL connections to fail. For more information, see https://urllib3.readthedocs.org/en/latest/security.html#insecureplatformwarning.\n",
      "  InsecurePlatformWarning\n",
      "D:\\Program Files\\Python27\\lib\\site-packages\\requests\\packages\\urllib3\\util\\ssl_.py:90: InsecurePlatformWarning: A true SSLContext object is not available. This prevents urllib3 from configuring SSL appropriately and may cause certain SSL connections to fail. For more information, see https://urllib3.readthedocs.org/en/latest/security.html#insecureplatformwarning.\n",
      "  InsecurePlatformWarning\n"
     ]
    },
    {
     "name": "stdout",
     "output_type": "stream",
     "text": [
      " 2\n",
      "iq-technologies 0\n",
      "learnzillion"
     ]
    },
    {
     "name": "stderr",
     "output_type": "stream",
     "text": [
      "D:\\Program Files\\Python27\\lib\\site-packages\\requests\\packages\\urllib3\\util\\ssl_.py:90: InsecurePlatformWarning: A true SSLContext object is not available. This prevents urllib3 from configuring SSL appropriately and may cause certain SSL connections to fail. For more information, see https://urllib3.readthedocs.org/en/latest/security.html#insecureplatformwarning.\n",
      "  InsecurePlatformWarning\n",
      "D:\\Program Files\\Python27\\lib\\site-packages\\requests\\packages\\urllib3\\util\\ssl_.py:90: InsecurePlatformWarning: A true SSLContext object is not available. This prevents urllib3 from configuring SSL appropriately and may cause certain SSL connections to fail. For more information, see https://urllib3.readthedocs.org/en/latest/security.html#insecureplatformwarning.\n",
      "  InsecurePlatformWarning\n"
     ]
    },
    {
     "name": "stdout",
     "output_type": "stream",
     "text": [
      " 0\n",
      "socrative 0\n",
      "studysoup"
     ]
    },
    {
     "name": "stderr",
     "output_type": "stream",
     "text": [
      "D:\\Program Files\\Python27\\lib\\site-packages\\requests\\packages\\urllib3\\util\\ssl_.py:90: InsecurePlatformWarning: A true SSLContext object is not available. This prevents urllib3 from configuring SSL appropriately and may cause certain SSL connections to fail. For more information, see https://urllib3.readthedocs.org/en/latest/security.html#insecureplatformwarning.\n",
      "  InsecurePlatformWarning\n",
      "D:\\Program Files\\Python27\\lib\\site-packages\\requests\\packages\\urllib3\\util\\ssl_.py:90: InsecurePlatformWarning: A true SSLContext object is not available. This prevents urllib3 from configuring SSL appropriately and may cause certain SSL connections to fail. For more information, see https://urllib3.readthedocs.org/en/latest/security.html#insecureplatformwarning.\n",
      "  InsecurePlatformWarning\n"
     ]
    },
    {
     "name": "stdout",
     "output_type": "stream",
     "text": [
      " 12\n",
      "uguru.me 0\n",
      "collegefeed"
     ]
    },
    {
     "name": "stderr",
     "output_type": "stream",
     "text": [
      "D:\\Program Files\\Python27\\lib\\site-packages\\requests\\packages\\urllib3\\util\\ssl_.py:90: InsecurePlatformWarning: A true SSLContext object is not available. This prevents urllib3 from configuring SSL appropriately and may cause certain SSL connections to fail. For more information, see https://urllib3.readthedocs.org/en/latest/security.html#insecureplatformwarning.\n",
      "  InsecurePlatformWarning\n",
      "D:\\Program Files\\Python27\\lib\\site-packages\\requests\\packages\\urllib3\\util\\ssl_.py:90: InsecurePlatformWarning: A true SSLContext object is not available. This prevents urllib3 from configuring SSL appropriately and may cause certain SSL connections to fail. For more information, see https://urllib3.readthedocs.org/en/latest/security.html#insecureplatformwarning.\n",
      "  InsecurePlatformWarning\n"
     ]
    },
    {
     "name": "stdout",
     "output_type": "stream",
     "text": [
      " 0\n",
      "plastiq 9\n",
      "zeal"
     ]
    },
    {
     "name": "stderr",
     "output_type": "stream",
     "text": [
      "D:\\Program Files\\Python27\\lib\\site-packages\\requests\\packages\\urllib3\\util\\ssl_.py:90: InsecurePlatformWarning: A true SSLContext object is not available. This prevents urllib3 from configuring SSL appropriately and may cause certain SSL connections to fail. For more information, see https://urllib3.readthedocs.org/en/latest/security.html#insecureplatformwarning.\n",
      "  InsecurePlatformWarning\n",
      "D:\\Program Files\\Python27\\lib\\site-packages\\requests\\packages\\urllib3\\util\\ssl_.py:90: InsecurePlatformWarning: A true SSLContext object is not available. This prevents urllib3 from configuring SSL appropriately and may cause certain SSL connections to fail. For more information, see https://urllib3.readthedocs.org/en/latest/security.html#insecureplatformwarning.\n",
      "  InsecurePlatformWarning\n"
     ]
    },
    {
     "name": "stdout",
     "output_type": "stream",
     "text": [
      " 1\n",
      "avanoo 2\n",
      "curios.me"
     ]
    },
    {
     "name": "stderr",
     "output_type": "stream",
     "text": [
      "D:\\Program Files\\Python27\\lib\\site-packages\\requests\\packages\\urllib3\\util\\ssl_.py:90: InsecurePlatformWarning: A true SSLContext object is not available. This prevents urllib3 from configuring SSL appropriately and may cause certain SSL connections to fail. For more information, see https://urllib3.readthedocs.org/en/latest/security.html#insecureplatformwarning.\n",
      "  InsecurePlatformWarning\n",
      "D:\\Program Files\\Python27\\lib\\site-packages\\requests\\packages\\urllib3\\util\\ssl_.py:90: InsecurePlatformWarning: A true SSLContext object is not available. This prevents urllib3 from configuring SSL appropriately and may cause certain SSL connections to fail. For more information, see https://urllib3.readthedocs.org/en/latest/security.html#insecureplatformwarning.\n",
      "  InsecurePlatformWarning\n"
     ]
    },
    {
     "name": "stdout",
     "output_type": "stream",
     "text": [
      " 0\n",
      "brainscape 0\n",
      "ranku"
     ]
    },
    {
     "name": "stderr",
     "output_type": "stream",
     "text": [
      "D:\\Program Files\\Python27\\lib\\site-packages\\requests\\packages\\urllib3\\util\\ssl_.py:90: InsecurePlatformWarning: A true SSLContext object is not available. This prevents urllib3 from configuring SSL appropriately and may cause certain SSL connections to fail. For more information, see https://urllib3.readthedocs.org/en/latest/security.html#insecureplatformwarning.\n",
      "  InsecurePlatformWarning\n",
      "D:\\Program Files\\Python27\\lib\\site-packages\\requests\\packages\\urllib3\\util\\ssl_.py:90: InsecurePlatformWarning: A true SSLContext object is not available. This prevents urllib3 from configuring SSL appropriately and may cause certain SSL connections to fail. For more information, see https://urllib3.readthedocs.org/en/latest/security.html#insecureplatformwarning.\n",
      "  InsecurePlatformWarning\n"
     ]
    },
    {
     "name": "stdout",
     "output_type": "stream",
     "text": [
      " 0\n",
      "girls-in-tech 0\n",
      "puzzle-piece"
     ]
    },
    {
     "name": "stderr",
     "output_type": "stream",
     "text": [
      "D:\\Program Files\\Python27\\lib\\site-packages\\requests\\packages\\urllib3\\util\\ssl_.py:90: InsecurePlatformWarning: A true SSLContext object is not available. This prevents urllib3 from configuring SSL appropriately and may cause certain SSL connections to fail. For more information, see https://urllib3.readthedocs.org/en/latest/security.html#insecureplatformwarning.\n",
      "  InsecurePlatformWarning\n",
      "D:\\Program Files\\Python27\\lib\\site-packages\\requests\\packages\\urllib3\\util\\ssl_.py:90: InsecurePlatformWarning: A true SSLContext object is not available. This prevents urllib3 from configuring SSL appropriately and may cause certain SSL connections to fail. For more information, see https://urllib3.readthedocs.org/en/latest/security.html#insecureplatformwarning.\n",
      "  InsecurePlatformWarning\n"
     ]
    },
    {
     "name": "stdout",
     "output_type": "stream",
     "text": [
      " 0\n",
      "timbuktu-labs 0\n",
      "designlab"
     ]
    },
    {
     "name": "stderr",
     "output_type": "stream",
     "text": [
      "D:\\Program Files\\Python27\\lib\\site-packages\\requests\\packages\\urllib3\\util\\ssl_.py:90: InsecurePlatformWarning: A true SSLContext object is not available. This prevents urllib3 from configuring SSL appropriately and may cause certain SSL connections to fail. For more information, see https://urllib3.readthedocs.org/en/latest/security.html#insecureplatformwarning.\n",
      "  InsecurePlatformWarning\n",
      "D:\\Program Files\\Python27\\lib\\site-packages\\requests\\packages\\urllib3\\util\\ssl_.py:90: InsecurePlatformWarning: A true SSLContext object is not available. This prevents urllib3 from configuring SSL appropriately and may cause certain SSL connections to fail. For more information, see https://urllib3.readthedocs.org/en/latest/security.html#insecureplatformwarning.\n",
      "  InsecurePlatformWarning\n"
     ]
    },
    {
     "name": "stdout",
     "output_type": "stream",
     "text": [
      " 2\n",
      "nanoracks 0\n",
      "cognifit"
     ]
    },
    {
     "name": "stderr",
     "output_type": "stream",
     "text": [
      "D:\\Program Files\\Python27\\lib\\site-packages\\requests\\packages\\urllib3\\util\\ssl_.py:90: InsecurePlatformWarning: A true SSLContext object is not available. This prevents urllib3 from configuring SSL appropriately and may cause certain SSL connections to fail. For more information, see https://urllib3.readthedocs.org/en/latest/security.html#insecureplatformwarning.\n",
      "  InsecurePlatformWarning\n",
      "D:\\Program Files\\Python27\\lib\\site-packages\\requests\\packages\\urllib3\\util\\ssl_.py:90: InsecurePlatformWarning: A true SSLContext object is not available. This prevents urllib3 from configuring SSL appropriately and may cause certain SSL connections to fail. For more information, see https://urllib3.readthedocs.org/en/latest/security.html#insecureplatformwarning.\n",
      "  InsecurePlatformWarning\n"
     ]
    },
    {
     "name": "stdout",
     "output_type": "stream",
     "text": [
      " 1\n",
      "floqq 0\n",
      "storypanda"
     ]
    },
    {
     "name": "stderr",
     "output_type": "stream",
     "text": [
      "D:\\Program Files\\Python27\\lib\\site-packages\\requests\\packages\\urllib3\\util\\ssl_.py:90: InsecurePlatformWarning: A true SSLContext object is not available. This prevents urllib3 from configuring SSL appropriately and may cause certain SSL connections to fail. For more information, see https://urllib3.readthedocs.org/en/latest/security.html#insecureplatformwarning.\n",
      "  InsecurePlatformWarning\n",
      "D:\\Program Files\\Python27\\lib\\site-packages\\requests\\packages\\urllib3\\util\\ssl_.py:90: InsecurePlatformWarning: A true SSLContext object is not available. This prevents urllib3 from configuring SSL appropriately and may cause certain SSL connections to fail. For more information, see https://urllib3.readthedocs.org/en/latest/security.html#insecureplatformwarning.\n",
      "  InsecurePlatformWarning\n"
     ]
    },
    {
     "name": "stdout",
     "output_type": "stream",
     "text": [
      " 0\n",
      "storybird 0\n",
      "instinct"
     ]
    },
    {
     "name": "stderr",
     "output_type": "stream",
     "text": [
      "D:\\Program Files\\Python27\\lib\\site-packages\\requests\\packages\\urllib3\\util\\ssl_.py:90: InsecurePlatformWarning: A true SSLContext object is not available. This prevents urllib3 from configuring SSL appropriately and may cause certain SSL connections to fail. For more information, see https://urllib3.readthedocs.org/en/latest/security.html#insecureplatformwarning.\n",
      "  InsecurePlatformWarning\n",
      "D:\\Program Files\\Python27\\lib\\site-packages\\requests\\packages\\urllib3\\util\\ssl_.py:90: InsecurePlatformWarning: A true SSLContext object is not available. This prevents urllib3 from configuring SSL appropriately and may cause certain SSL connections to fail. For more information, see https://urllib3.readthedocs.org/en/latest/security.html#insecureplatformwarning.\n",
      "  InsecurePlatformWarning\n"
     ]
    },
    {
     "name": "stdout",
     "output_type": "stream",
     "text": [
      " 0\n",
      "kodable 2\n",
      "socratic"
     ]
    },
    {
     "name": "stderr",
     "output_type": "stream",
     "text": [
      "D:\\Program Files\\Python27\\lib\\site-packages\\requests\\packages\\urllib3\\util\\ssl_.py:90: InsecurePlatformWarning: A true SSLContext object is not available. This prevents urllib3 from configuring SSL appropriately and may cause certain SSL connections to fail. For more information, see https://urllib3.readthedocs.org/en/latest/security.html#insecureplatformwarning.\n",
      "  InsecurePlatformWarning\n",
      "D:\\Program Files\\Python27\\lib\\site-packages\\requests\\packages\\urllib3\\util\\ssl_.py:90: InsecurePlatformWarning: A true SSLContext object is not available. This prevents urllib3 from configuring SSL appropriately and may cause certain SSL connections to fail. For more information, see https://urllib3.readthedocs.org/en/latest/security.html#insecureplatformwarning.\n",
      "  InsecurePlatformWarning\n"
     ]
    },
    {
     "name": "stdout",
     "output_type": "stream",
     "text": [
      " 0\n",
      "volunteerspot 0\n",
      "campusquad"
     ]
    },
    {
     "name": "stderr",
     "output_type": "stream",
     "text": [
      "D:\\Program Files\\Python27\\lib\\site-packages\\requests\\packages\\urllib3\\util\\ssl_.py:90: InsecurePlatformWarning: A true SSLContext object is not available. This prevents urllib3 from configuring SSL appropriately and may cause certain SSL connections to fail. For more information, see https://urllib3.readthedocs.org/en/latest/security.html#insecureplatformwarning.\n",
      "  InsecurePlatformWarning\n",
      "D:\\Program Files\\Python27\\lib\\site-packages\\requests\\packages\\urllib3\\util\\ssl_.py:90: InsecurePlatformWarning: A true SSLContext object is not available. This prevents urllib3 from configuring SSL appropriately and may cause certain SSL connections to fail. For more information, see https://urllib3.readthedocs.org/en/latest/security.html#insecureplatformwarning.\n",
      "  InsecurePlatformWarning\n"
     ]
    },
    {
     "name": "stdout",
     "output_type": "stream",
     "text": [
      " 0\n",
      "visitdays 2\n",
      "pathgather"
     ]
    },
    {
     "name": "stderr",
     "output_type": "stream",
     "text": [
      "D:\\Program Files\\Python27\\lib\\site-packages\\requests\\packages\\urllib3\\util\\ssl_.py:90: InsecurePlatformWarning: A true SSLContext object is not available. This prevents urllib3 from configuring SSL appropriately and may cause certain SSL connections to fail. For more information, see https://urllib3.readthedocs.org/en/latest/security.html#insecureplatformwarning.\n",
      "  InsecurePlatformWarning\n",
      "D:\\Program Files\\Python27\\lib\\site-packages\\requests\\packages\\urllib3\\util\\ssl_.py:90: InsecurePlatformWarning: A true SSLContext object is not available. This prevents urllib3 from configuring SSL appropriately and may cause certain SSL connections to fail. For more information, see https://urllib3.readthedocs.org/en/latest/security.html#insecureplatformwarning.\n",
      "  InsecurePlatformWarning\n"
     ]
    },
    {
     "name": "stdout",
     "output_type": "stream",
     "text": [
      " 2\n",
      "edsurge 2\n",
      "aristotle-circle"
     ]
    },
    {
     "name": "stderr",
     "output_type": "stream",
     "text": [
      "D:\\Program Files\\Python27\\lib\\site-packages\\requests\\packages\\urllib3\\util\\ssl_.py:90: InsecurePlatformWarning: A true SSLContext object is not available. This prevents urllib3 from configuring SSL appropriately and may cause certain SSL connections to fail. For more information, see https://urllib3.readthedocs.org/en/latest/security.html#insecureplatformwarning.\n",
      "  InsecurePlatformWarning\n",
      "D:\\Program Files\\Python27\\lib\\site-packages\\requests\\packages\\urllib3\\util\\ssl_.py:90: InsecurePlatformWarning: A true SSLContext object is not available. This prevents urllib3 from configuring SSL appropriately and may cause certain SSL connections to fail. For more information, see https://urllib3.readthedocs.org/en/latest/security.html#insecureplatformwarning.\n",
      "  InsecurePlatformWarning\n"
     ]
    },
    {
     "name": "stdout",
     "output_type": "stream",
     "text": [
      " 0\n",
      "openstudy 0\n",
      "zoobean"
     ]
    },
    {
     "name": "stderr",
     "output_type": "stream",
     "text": [
      "D:\\Program Files\\Python27\\lib\\site-packages\\requests\\packages\\urllib3\\util\\ssl_.py:90: InsecurePlatformWarning: A true SSLContext object is not available. This prevents urllib3 from configuring SSL appropriately and may cause certain SSL connections to fail. For more information, see https://urllib3.readthedocs.org/en/latest/security.html#insecureplatformwarning.\n",
      "  InsecurePlatformWarning\n",
      "D:\\Program Files\\Python27\\lib\\site-packages\\requests\\packages\\urllib3\\util\\ssl_.py:90: InsecurePlatformWarning: A true SSLContext object is not available. This prevents urllib3 from configuring SSL appropriately and may cause certain SSL connections to fail. For more information, see https://urllib3.readthedocs.org/en/latest/security.html#insecureplatformwarning.\n",
      "  InsecurePlatformWarning\n"
     ]
    },
    {
     "name": "stdout",
     "output_type": "stream",
     "text": [
      " 0\n",
      "veduca 0\n",
      "envoynow"
     ]
    },
    {
     "name": "stderr",
     "output_type": "stream",
     "text": [
      "D:\\Program Files\\Python27\\lib\\site-packages\\requests\\packages\\urllib3\\util\\ssl_.py:90: InsecurePlatformWarning: A true SSLContext object is not available. This prevents urllib3 from configuring SSL appropriately and may cause certain SSL connections to fail. For more information, see https://urllib3.readthedocs.org/en/latest/security.html#insecureplatformwarning.\n",
      "  InsecurePlatformWarning\n",
      "D:\\Program Files\\Python27\\lib\\site-packages\\requests\\packages\\urllib3\\util\\ssl_.py:90: InsecurePlatformWarning: A true SSLContext object is not available. This prevents urllib3 from configuring SSL appropriately and may cause certain SSL connections to fail. For more information, see https://urllib3.readthedocs.org/en/latest/security.html#insecureplatformwarning.\n",
      "  InsecurePlatformWarning\n"
     ]
    },
    {
     "name": "stdout",
     "output_type": "stream",
     "text": [
      " 0\n",
      "codecombat 0\n",
      "mediacore-(acquired-by-workday)"
     ]
    },
    {
     "name": "stderr",
     "output_type": "stream",
     "text": [
      "D:\\Program Files\\Python27\\lib\\site-packages\\requests\\packages\\urllib3\\util\\ssl_.py:90: InsecurePlatformWarning: A true SSLContext object is not available. This prevents urllib3 from configuring SSL appropriately and may cause certain SSL connections to fail. For more information, see https://urllib3.readthedocs.org/en/latest/security.html#insecureplatformwarning.\n",
      "  InsecurePlatformWarning\n",
      "D:\\Program Files\\Python27\\lib\\site-packages\\requests\\packages\\urllib3\\util\\ssl_.py:90: InsecurePlatformWarning: A true SSLContext object is not available. This prevents urllib3 from configuring SSL appropriately and may cause certain SSL connections to fail. For more information, see https://urllib3.readthedocs.org/en/latest/security.html#insecureplatformwarning.\n",
      "  InsecurePlatformWarning\n"
     ]
    },
    {
     "name": "stdout",
     "output_type": "stream",
     "text": [
      " 0\n",
      "bravenew 0\n",
      "creativelive"
     ]
    },
    {
     "name": "stderr",
     "output_type": "stream",
     "text": [
      "D:\\Program Files\\Python27\\lib\\site-packages\\requests\\packages\\urllib3\\util\\ssl_.py:90: InsecurePlatformWarning: A true SSLContext object is not available. This prevents urllib3 from configuring SSL appropriately and may cause certain SSL connections to fail. For more information, see https://urllib3.readthedocs.org/en/latest/security.html#insecureplatformwarning.\n",
      "  InsecurePlatformWarning\n",
      "D:\\Program Files\\Python27\\lib\\site-packages\\requests\\packages\\urllib3\\util\\ssl_.py:90: InsecurePlatformWarning: A true SSLContext object is not available. This prevents urllib3 from configuring SSL appropriately and may cause certain SSL connections to fail. For more information, see https://urllib3.readthedocs.org/en/latest/security.html#insecureplatformwarning.\n",
      "  InsecurePlatformWarning\n"
     ]
    },
    {
     "name": "stdout",
     "output_type": "stream",
     "text": [
      " 5\n",
      "inkling 0\n",
      "thread"
     ]
    },
    {
     "name": "stderr",
     "output_type": "stream",
     "text": [
      "D:\\Program Files\\Python27\\lib\\site-packages\\requests\\packages\\urllib3\\util\\ssl_.py:90: InsecurePlatformWarning: A true SSLContext object is not available. This prevents urllib3 from configuring SSL appropriately and may cause certain SSL connections to fail. For more information, see https://urllib3.readthedocs.org/en/latest/security.html#insecureplatformwarning.\n",
      "  InsecurePlatformWarning\n",
      "D:\\Program Files\\Python27\\lib\\site-packages\\requests\\packages\\urllib3\\util\\ssl_.py:90: InsecurePlatformWarning: A true SSLContext object is not available. This prevents urllib3 from configuring SSL appropriately and may cause certain SSL connections to fail. For more information, see https://urllib3.readthedocs.org/en/latest/security.html#insecureplatformwarning.\n",
      "  InsecurePlatformWarning\n"
     ]
    },
    {
     "name": "stdout",
     "output_type": "stream",
     "text": [
      " 0\n",
      "clutch-prep 1\n",
      "general-assembly"
     ]
    },
    {
     "name": "stderr",
     "output_type": "stream",
     "text": [
      "D:\\Program Files\\Python27\\lib\\site-packages\\requests\\packages\\urllib3\\util\\ssl_.py:90: InsecurePlatformWarning: A true SSLContext object is not available. This prevents urllib3 from configuring SSL appropriately and may cause certain SSL connections to fail. For more information, see https://urllib3.readthedocs.org/en/latest/security.html#insecureplatformwarning.\n",
      "  InsecurePlatformWarning\n",
      "D:\\Program Files\\Python27\\lib\\site-packages\\requests\\packages\\urllib3\\util\\ssl_.py:90: InsecurePlatformWarning: A true SSLContext object is not available. This prevents urllib3 from configuring SSL appropriately and may cause certain SSL connections to fail. For more information, see https://urllib3.readthedocs.org/en/latest/security.html#insecureplatformwarning.\n",
      "  InsecurePlatformWarning\n"
     ]
    },
    {
     "name": "stdout",
     "output_type": "stream",
     "text": [
      " 24\n",
      "hopscotch 1\n",
      "jamalon"
     ]
    },
    {
     "name": "stderr",
     "output_type": "stream",
     "text": [
      "D:\\Program Files\\Python27\\lib\\site-packages\\requests\\packages\\urllib3\\util\\ssl_.py:90: InsecurePlatformWarning: A true SSLContext object is not available. This prevents urllib3 from configuring SSL appropriately and may cause certain SSL connections to fail. For more information, see https://urllib3.readthedocs.org/en/latest/security.html#insecureplatformwarning.\n",
      "  InsecurePlatformWarning\n",
      "D:\\Program Files\\Python27\\lib\\site-packages\\requests\\packages\\urllib3\\util\\ssl_.py:90: InsecurePlatformWarning: A true SSLContext object is not available. This prevents urllib3 from configuring SSL appropriately and may cause certain SSL connections to fail. For more information, see https://urllib3.readthedocs.org/en/latest/security.html#insecureplatformwarning.\n",
      "  InsecurePlatformWarning\n"
     ]
    },
    {
     "name": "stdout",
     "output_type": "stream",
     "text": [
      " 0\n",
      "busuu 5\n",
      "fullstack-academy"
     ]
    },
    {
     "name": "stderr",
     "output_type": "stream",
     "text": [
      "D:\\Program Files\\Python27\\lib\\site-packages\\requests\\packages\\urllib3\\util\\ssl_.py:90: InsecurePlatformWarning: A true SSLContext object is not available. This prevents urllib3 from configuring SSL appropriately and may cause certain SSL connections to fail. For more information, see https://urllib3.readthedocs.org/en/latest/security.html#insecureplatformwarning.\n",
      "  InsecurePlatformWarning\n",
      "D:\\Program Files\\Python27\\lib\\site-packages\\requests\\packages\\urllib3\\util\\ssl_.py:90: InsecurePlatformWarning: A true SSLContext object is not available. This prevents urllib3 from configuring SSL appropriately and may cause certain SSL connections to fail. For more information, see https://urllib3.readthedocs.org/en/latest/security.html#insecureplatformwarning.\n",
      "  InsecurePlatformWarning\n"
     ]
    },
    {
     "name": "stdout",
     "output_type": "stream",
     "text": [
      " 1\n",
      "savvy 0\n",
      "feast"
     ]
    },
    {
     "name": "stderr",
     "output_type": "stream",
     "text": [
      "D:\\Program Files\\Python27\\lib\\site-packages\\requests\\packages\\urllib3\\util\\ssl_.py:90: InsecurePlatformWarning: A true SSLContext object is not available. This prevents urllib3 from configuring SSL appropriately and may cause certain SSL connections to fail. For more information, see https://urllib3.readthedocs.org/en/latest/security.html#insecureplatformwarning.\n",
      "  InsecurePlatformWarning\n",
      "D:\\Program Files\\Python27\\lib\\site-packages\\requests\\packages\\urllib3\\util\\ssl_.py:90: InsecurePlatformWarning: A true SSLContext object is not available. This prevents urllib3 from configuring SSL appropriately and may cause certain SSL connections to fail. For more information, see https://urllib3.readthedocs.org/en/latest/security.html#insecureplatformwarning.\n",
      "  InsecurePlatformWarning\n"
     ]
    },
    {
     "name": "stdout",
     "output_type": "stream",
     "text": [
      " 0\n",
      "gojimo 6\n",
      "notehall-(acquired-by-chegg-6/11)"
     ]
    },
    {
     "name": "stderr",
     "output_type": "stream",
     "text": [
      "D:\\Program Files\\Python27\\lib\\site-packages\\requests\\packages\\urllib3\\util\\ssl_.py:90: InsecurePlatformWarning: A true SSLContext object is not available. This prevents urllib3 from configuring SSL appropriately and may cause certain SSL connections to fail. For more information, see https://urllib3.readthedocs.org/en/latest/security.html#insecureplatformwarning.\n",
      "  InsecurePlatformWarning\n",
      "D:\\Program Files\\Python27\\lib\\site-packages\\requests\\packages\\urllib3\\util\\ssl_.py:90: InsecurePlatformWarning: A true SSLContext object is not available. This prevents urllib3 from configuring SSL appropriately and may cause certain SSL connections to fail. For more information, see https://urllib3.readthedocs.org/en/latest/security.html#insecureplatformwarning.\n",
      "  InsecurePlatformWarning\n"
     ]
    },
    {
     "name": "stdout",
     "output_type": "stream",
     "text": [
      " 0\n",
      "betterup 0\n",
      "kibin"
     ]
    },
    {
     "name": "stderr",
     "output_type": "stream",
     "text": [
      "D:\\Program Files\\Python27\\lib\\site-packages\\requests\\packages\\urllib3\\util\\ssl_.py:90: InsecurePlatformWarning: A true SSLContext object is not available. This prevents urllib3 from configuring SSL appropriately and may cause certain SSL connections to fail. For more information, see https://urllib3.readthedocs.org/en/latest/security.html#insecureplatformwarning.\n",
      "  InsecurePlatformWarning\n",
      "D:\\Program Files\\Python27\\lib\\site-packages\\requests\\packages\\urllib3\\util\\ssl_.py:90: InsecurePlatformWarning: A true SSLContext object is not available. This prevents urllib3 from configuring SSL appropriately and may cause certain SSL connections to fail. For more information, see https://urllib3.readthedocs.org/en/latest/security.html#insecureplatformwarning.\n",
      "  InsecurePlatformWarning\n"
     ]
    },
    {
     "name": "stdout",
     "output_type": "stream",
     "text": [
      " 0\n",
      "kitereaders 0\n",
      "admission-table"
     ]
    },
    {
     "name": "stderr",
     "output_type": "stream",
     "text": [
      "D:\\Program Files\\Python27\\lib\\site-packages\\requests\\packages\\urllib3\\util\\ssl_.py:90: InsecurePlatformWarning: A true SSLContext object is not available. This prevents urllib3 from configuring SSL appropriately and may cause certain SSL connections to fail. For more information, see https://urllib3.readthedocs.org/en/latest/security.html#insecureplatformwarning.\n",
      "  InsecurePlatformWarning\n",
      "D:\\Program Files\\Python27\\lib\\site-packages\\requests\\packages\\urllib3\\util\\ssl_.py:90: InsecurePlatformWarning: A true SSLContext object is not available. This prevents urllib3 from configuring SSL appropriately and may cause certain SSL connections to fail. For more information, see https://urllib3.readthedocs.org/en/latest/security.html#insecureplatformwarning.\n",
      "  InsecurePlatformWarning\n"
     ]
    },
    {
     "name": "stdout",
     "output_type": "stream",
     "text": [
      " 1\n",
      "academize 0\n",
      "espark-learning"
     ]
    },
    {
     "name": "stderr",
     "output_type": "stream",
     "text": [
      "D:\\Program Files\\Python27\\lib\\site-packages\\requests\\packages\\urllib3\\util\\ssl_.py:90: InsecurePlatformWarning: A true SSLContext object is not available. This prevents urllib3 from configuring SSL appropriately and may cause certain SSL connections to fail. For more information, see https://urllib3.readthedocs.org/en/latest/security.html#insecureplatformwarning.\n",
      "  InsecurePlatformWarning\n",
      "D:\\Program Files\\Python27\\lib\\site-packages\\requests\\packages\\urllib3\\util\\ssl_.py:90: InsecurePlatformWarning: A true SSLContext object is not available. This prevents urllib3 from configuring SSL appropriately and may cause certain SSL connections to fail. For more information, see https://urllib3.readthedocs.org/en/latest/security.html#insecureplatformwarning.\n",
      "  InsecurePlatformWarning\n"
     ]
    },
    {
     "name": "stdout",
     "output_type": "stream",
     "text": [
      " 6\n",
      "yamli 0\n",
      "platzi"
     ]
    },
    {
     "name": "stderr",
     "output_type": "stream",
     "text": [
      "D:\\Program Files\\Python27\\lib\\site-packages\\requests\\packages\\urllib3\\util\\ssl_.py:90: InsecurePlatformWarning: A true SSLContext object is not available. This prevents urllib3 from configuring SSL appropriately and may cause certain SSL connections to fail. For more information, see https://urllib3.readthedocs.org/en/latest/security.html#insecureplatformwarning.\n",
      "  InsecurePlatformWarning\n",
      "D:\\Program Files\\Python27\\lib\\site-packages\\requests\\packages\\urllib3\\util\\ssl_.py:90: InsecurePlatformWarning: A true SSLContext object is not available. This prevents urllib3 from configuring SSL appropriately and may cause certain SSL connections to fail. For more information, see https://urllib3.readthedocs.org/en/latest/security.html#insecureplatformwarning.\n",
      "  InsecurePlatformWarning\n"
     ]
    },
    {
     "name": "stdout",
     "output_type": "stream",
     "text": [
      " 0\n",
      "swivl 2\n",
      "joytunes"
     ]
    },
    {
     "name": "stderr",
     "output_type": "stream",
     "text": [
      "D:\\Program Files\\Python27\\lib\\site-packages\\requests\\packages\\urllib3\\util\\ssl_.py:90: InsecurePlatformWarning: A true SSLContext object is not available. This prevents urllib3 from configuring SSL appropriately and may cause certain SSL connections to fail. For more information, see https://urllib3.readthedocs.org/en/latest/security.html#insecureplatformwarning.\n",
      "  InsecurePlatformWarning\n",
      "D:\\Program Files\\Python27\\lib\\site-packages\\requests\\packages\\urllib3\\util\\ssl_.py:90: InsecurePlatformWarning: A true SSLContext object is not available. This prevents urllib3 from configuring SSL appropriately and may cause certain SSL connections to fail. For more information, see https://urllib3.readthedocs.org/en/latest/security.html#insecureplatformwarning.\n",
      "  InsecurePlatformWarning\n"
     ]
    },
    {
     "name": "stdout",
     "output_type": "stream",
     "text": [
      " 0\n",
      "firsthand 5\n",
      "hunie"
     ]
    },
    {
     "name": "stderr",
     "output_type": "stream",
     "text": [
      "D:\\Program Files\\Python27\\lib\\site-packages\\requests\\packages\\urllib3\\util\\ssl_.py:90: InsecurePlatformWarning: A true SSLContext object is not available. This prevents urllib3 from configuring SSL appropriately and may cause certain SSL connections to fail. For more information, see https://urllib3.readthedocs.org/en/latest/security.html#insecureplatformwarning.\n",
      "  InsecurePlatformWarning\n",
      "D:\\Program Files\\Python27\\lib\\site-packages\\requests\\packages\\urllib3\\util\\ssl_.py:90: InsecurePlatformWarning: A true SSLContext object is not available. This prevents urllib3 from configuring SSL appropriately and may cause certain SSL connections to fail. For more information, see https://urllib3.readthedocs.org/en/latest/security.html#insecureplatformwarning.\n",
      "  InsecurePlatformWarning\n"
     ]
    },
    {
     "name": "stdout",
     "output_type": "stream",
     "text": [
      " 0\n",
      "chesscademy 0\n",
      "rota-dos-concursos"
     ]
    },
    {
     "name": "stderr",
     "output_type": "stream",
     "text": [
      "D:\\Program Files\\Python27\\lib\\site-packages\\requests\\packages\\urllib3\\util\\ssl_.py:90: InsecurePlatformWarning: A true SSLContext object is not available. This prevents urllib3 from configuring SSL appropriately and may cause certain SSL connections to fail. For more information, see https://urllib3.readthedocs.org/en/latest/security.html#insecureplatformwarning.\n",
      "  InsecurePlatformWarning\n",
      "D:\\Program Files\\Python27\\lib\\site-packages\\requests\\packages\\urllib3\\util\\ssl_.py:90: InsecurePlatformWarning: A true SSLContext object is not available. This prevents urllib3 from configuring SSL appropriately and may cause certain SSL connections to fail. For more information, see https://urllib3.readthedocs.org/en/latest/security.html#insecureplatformwarning.\n",
      "  InsecurePlatformWarning\n"
     ]
    },
    {
     "name": "stdout",
     "output_type": "stream",
     "text": [
      " 0\n",
      "springboard 7\n",
      "kira-talent"
     ]
    },
    {
     "name": "stderr",
     "output_type": "stream",
     "text": [
      "D:\\Program Files\\Python27\\lib\\site-packages\\requests\\packages\\urllib3\\util\\ssl_.py:90: InsecurePlatformWarning: A true SSLContext object is not available. This prevents urllib3 from configuring SSL appropriately and may cause certain SSL connections to fail. For more information, see https://urllib3.readthedocs.org/en/latest/security.html#insecureplatformwarning.\n",
      "  InsecurePlatformWarning\n",
      "D:\\Program Files\\Python27\\lib\\site-packages\\requests\\packages\\urllib3\\util\\ssl_.py:90: InsecurePlatformWarning: A true SSLContext object is not available. This prevents urllib3 from configuring SSL appropriately and may cause certain SSL connections to fail. For more information, see https://urllib3.readthedocs.org/en/latest/security.html#insecureplatformwarning.\n",
      "  InsecurePlatformWarning\n"
     ]
    },
    {
     "name": "stdout",
     "output_type": "stream",
     "text": [
      " 0\n",
      "binu 0\n",
      "ubi-interactive"
     ]
    },
    {
     "name": "stderr",
     "output_type": "stream",
     "text": [
      "D:\\Program Files\\Python27\\lib\\site-packages\\requests\\packages\\urllib3\\util\\ssl_.py:90: InsecurePlatformWarning: A true SSLContext object is not available. This prevents urllib3 from configuring SSL appropriately and may cause certain SSL connections to fail. For more information, see https://urllib3.readthedocs.org/en/latest/security.html#insecureplatformwarning.\n",
      "  InsecurePlatformWarning\n",
      "D:\\Program Files\\Python27\\lib\\site-packages\\requests\\packages\\urllib3\\util\\ssl_.py:90: InsecurePlatformWarning: A true SSLContext object is not available. This prevents urllib3 from configuring SSL appropriately and may cause certain SSL connections to fail. For more information, see https://urllib3.readthedocs.org/en/latest/security.html#insecureplatformwarning.\n",
      "  InsecurePlatformWarning\n"
     ]
    },
    {
     "name": "stdout",
     "output_type": "stream",
     "text": [
      " 0\n",
      "junyo 0\n",
      "startup-institute"
     ]
    },
    {
     "name": "stderr",
     "output_type": "stream",
     "text": [
      "D:\\Program Files\\Python27\\lib\\site-packages\\requests\\packages\\urllib3\\util\\ssl_.py:90: InsecurePlatformWarning: A true SSLContext object is not available. This prevents urllib3 from configuring SSL appropriately and may cause certain SSL connections to fail. For more information, see https://urllib3.readthedocs.org/en/latest/security.html#insecureplatformwarning.\n",
      "  InsecurePlatformWarning\n",
      "D:\\Program Files\\Python27\\lib\\site-packages\\requests\\packages\\urllib3\\util\\ssl_.py:90: InsecurePlatformWarning: A true SSLContext object is not available. This prevents urllib3 from configuring SSL appropriately and may cause certain SSL connections to fail. For more information, see https://urllib3.readthedocs.org/en/latest/security.html#insecureplatformwarning.\n",
      "  InsecurePlatformWarning\n"
     ]
    },
    {
     "name": "stdout",
     "output_type": "stream",
     "text": [
      " 1\n",
      "quizlet 12\n",
      "brainrewards"
     ]
    },
    {
     "name": "stderr",
     "output_type": "stream",
     "text": [
      "D:\\Program Files\\Python27\\lib\\site-packages\\requests\\packages\\urllib3\\util\\ssl_.py:90: InsecurePlatformWarning: A true SSLContext object is not available. This prevents urllib3 from configuring SSL appropriately and may cause certain SSL connections to fail. For more information, see https://urllib3.readthedocs.org/en/latest/security.html#insecureplatformwarning.\n",
      "  InsecurePlatformWarning\n",
      "D:\\Program Files\\Python27\\lib\\site-packages\\requests\\packages\\urllib3\\util\\ssl_.py:90: InsecurePlatformWarning: A true SSLContext object is not available. This prevents urllib3 from configuring SSL appropriately and may cause certain SSL connections to fail. For more information, see https://urllib3.readthedocs.org/en/latest/security.html#insecureplatformwarning.\n",
      "  InsecurePlatformWarning\n"
     ]
    },
    {
     "name": "stdout",
     "output_type": "stream",
     "text": [
      " 0\n",
      "branching-minds 1\n",
      "italki"
     ]
    },
    {
     "name": "stderr",
     "output_type": "stream",
     "text": [
      "D:\\Program Files\\Python27\\lib\\site-packages\\requests\\packages\\urllib3\\util\\ssl_.py:90: InsecurePlatformWarning: A true SSLContext object is not available. This prevents urllib3 from configuring SSL appropriately and may cause certain SSL connections to fail. For more information, see https://urllib3.readthedocs.org/en/latest/security.html#insecureplatformwarning.\n",
      "  InsecurePlatformWarning\n",
      "D:\\Program Files\\Python27\\lib\\site-packages\\requests\\packages\\urllib3\\util\\ssl_.py:90: InsecurePlatformWarning: A true SSLContext object is not available. This prevents urllib3 from configuring SSL appropriately and may cause certain SSL connections to fail. For more information, see https://urllib3.readthedocs.org/en/latest/security.html#insecureplatformwarning.\n",
      "  InsecurePlatformWarning\n"
     ]
    },
    {
     "name": "stdout",
     "output_type": "stream",
     "text": [
      " 0\n",
      "blendspace-by-tes 0\n",
      "opencurriculum"
     ]
    },
    {
     "name": "stderr",
     "output_type": "stream",
     "text": [
      "D:\\Program Files\\Python27\\lib\\site-packages\\requests\\packages\\urllib3\\util\\ssl_.py:90: InsecurePlatformWarning: A true SSLContext object is not available. This prevents urllib3 from configuring SSL appropriately and may cause certain SSL connections to fail. For more information, see https://urllib3.readthedocs.org/en/latest/security.html#insecureplatformwarning.\n",
      "  InsecurePlatformWarning\n",
      "D:\\Program Files\\Python27\\lib\\site-packages\\requests\\packages\\urllib3\\util\\ssl_.py:90: InsecurePlatformWarning: A true SSLContext object is not available. This prevents urllib3 from configuring SSL appropriately and may cause certain SSL connections to fail. For more information, see https://urllib3.readthedocs.org/en/latest/security.html#insecureplatformwarning.\n",
      "  InsecurePlatformWarning\n"
     ]
    },
    {
     "name": "stdout",
     "output_type": "stream",
     "text": [
      " 0\n",
      "piper 6\n",
      "zzish"
     ]
    },
    {
     "name": "stderr",
     "output_type": "stream",
     "text": [
      "D:\\Program Files\\Python27\\lib\\site-packages\\requests\\packages\\urllib3\\util\\ssl_.py:90: InsecurePlatformWarning: A true SSLContext object is not available. This prevents urllib3 from configuring SSL appropriately and may cause certain SSL connections to fail. For more information, see https://urllib3.readthedocs.org/en/latest/security.html#insecureplatformwarning.\n",
      "  InsecurePlatformWarning\n",
      "D:\\Program Files\\Python27\\lib\\site-packages\\requests\\packages\\urllib3\\util\\ssl_.py:90: InsecurePlatformWarning: A true SSLContext object is not available. This prevents urllib3 from configuring SSL appropriately and may cause certain SSL connections to fail. For more information, see https://urllib3.readthedocs.org/en/latest/security.html#insecureplatformwarning.\n",
      "  InsecurePlatformWarning\n"
     ]
    },
    {
     "name": "stdout",
     "output_type": "stream",
     "text": [
      " 0\n",
      "cloudacademy 0\n",
      "datacamp"
     ]
    },
    {
     "name": "stderr",
     "output_type": "stream",
     "text": [
      "D:\\Program Files\\Python27\\lib\\site-packages\\requests\\packages\\urllib3\\util\\ssl_.py:90: InsecurePlatformWarning: A true SSLContext object is not available. This prevents urllib3 from configuring SSL appropriately and may cause certain SSL connections to fail. For more information, see https://urllib3.readthedocs.org/en/latest/security.html#insecureplatformwarning.\n",
      "  InsecurePlatformWarning\n",
      "D:\\Program Files\\Python27\\lib\\site-packages\\requests\\packages\\urllib3\\util\\ssl_.py:90: InsecurePlatformWarning: A true SSLContext object is not available. This prevents urllib3 from configuring SSL appropriately and may cause certain SSL connections to fail. For more information, see https://urllib3.readthedocs.org/en/latest/security.html#insecureplatformwarning.\n",
      "  InsecurePlatformWarning\n"
     ]
    },
    {
     "name": "stdout",
     "output_type": "stream",
     "text": [
      " 8\n",
      "chalk-schools 0\n",
      "novoed"
     ]
    },
    {
     "name": "stderr",
     "output_type": "stream",
     "text": [
      "D:\\Program Files\\Python27\\lib\\site-packages\\requests\\packages\\urllib3\\util\\ssl_.py:90: InsecurePlatformWarning: A true SSLContext object is not available. This prevents urllib3 from configuring SSL appropriately and may cause certain SSL connections to fail. For more information, see https://urllib3.readthedocs.org/en/latest/security.html#insecureplatformwarning.\n",
      "  InsecurePlatformWarning\n",
      "D:\\Program Files\\Python27\\lib\\site-packages\\requests\\packages\\urllib3\\util\\ssl_.py:90: InsecurePlatformWarning: A true SSLContext object is not available. This prevents urllib3 from configuring SSL appropriately and may cause certain SSL connections to fail. For more information, see https://urllib3.readthedocs.org/en/latest/security.html#insecureplatformwarning.\n",
      "  InsecurePlatformWarning\n"
     ]
    },
    {
     "name": "stdout",
     "output_type": "stream",
     "text": [
      " 4\n",
      "kaizena 0\n",
      "parachute"
     ]
    },
    {
     "name": "stderr",
     "output_type": "stream",
     "text": [
      "D:\\Program Files\\Python27\\lib\\site-packages\\requests\\packages\\urllib3\\util\\ssl_.py:90: InsecurePlatformWarning: A true SSLContext object is not available. This prevents urllib3 from configuring SSL appropriately and may cause certain SSL connections to fail. For more information, see https://urllib3.readthedocs.org/en/latest/security.html#insecureplatformwarning.\n",
      "  InsecurePlatformWarning\n",
      "D:\\Program Files\\Python27\\lib\\site-packages\\requests\\packages\\urllib3\\util\\ssl_.py:90: InsecurePlatformWarning: A true SSLContext object is not available. This prevents urllib3 from configuring SSL appropriately and may cause certain SSL connections to fail. For more information, see https://urllib3.readthedocs.org/en/latest/security.html#insecureplatformwarning.\n",
      "  InsecurePlatformWarning\n"
     ]
    },
    {
     "name": "stdout",
     "output_type": "stream",
     "text": [
      " 2\n",
      "applykit 0\n",
      "playsay"
     ]
    },
    {
     "name": "stderr",
     "output_type": "stream",
     "text": [
      "D:\\Program Files\\Python27\\lib\\site-packages\\requests\\packages\\urllib3\\util\\ssl_.py:90: InsecurePlatformWarning: A true SSLContext object is not available. This prevents urllib3 from configuring SSL appropriately and may cause certain SSL connections to fail. For more information, see https://urllib3.readthedocs.org/en/latest/security.html#insecureplatformwarning.\n",
      "  InsecurePlatformWarning\n",
      "D:\\Program Files\\Python27\\lib\\site-packages\\requests\\packages\\urllib3\\util\\ssl_.py:90: InsecurePlatformWarning: A true SSLContext object is not available. This prevents urllib3 from configuring SSL appropriately and may cause certain SSL connections to fail. For more information, see https://urllib3.readthedocs.org/en/latest/security.html#insecureplatformwarning.\n",
      "  InsecurePlatformWarning\n"
     ]
    },
    {
     "name": "stdout",
     "output_type": "stream",
     "text": [
      " 0\n",
      "dreambox-learning 0\n",
      "mindmixer"
     ]
    },
    {
     "name": "stderr",
     "output_type": "stream",
     "text": [
      "D:\\Program Files\\Python27\\lib\\site-packages\\requests\\packages\\urllib3\\util\\ssl_.py:90: InsecurePlatformWarning: A true SSLContext object is not available. This prevents urllib3 from configuring SSL appropriately and may cause certain SSL connections to fail. For more information, see https://urllib3.readthedocs.org/en/latest/security.html#insecureplatformwarning.\n",
      "  InsecurePlatformWarning\n",
      "D:\\Program Files\\Python27\\lib\\site-packages\\requests\\packages\\urllib3\\util\\ssl_.py:90: InsecurePlatformWarning: A true SSLContext object is not available. This prevents urllib3 from configuring SSL appropriately and may cause certain SSL connections to fail. For more information, see https://urllib3.readthedocs.org/en/latest/security.html#insecureplatformwarning.\n",
      "  InsecurePlatformWarning\n"
     ]
    },
    {
     "name": "stdout",
     "output_type": "stream",
     "text": [
      " 0\n",
      "curiosityville 0\n",
      "curious-hat"
     ]
    },
    {
     "name": "stderr",
     "output_type": "stream",
     "text": [
      "D:\\Program Files\\Python27\\lib\\site-packages\\requests\\packages\\urllib3\\util\\ssl_.py:90: InsecurePlatformWarning: A true SSLContext object is not available. This prevents urllib3 from configuring SSL appropriately and may cause certain SSL connections to fail. For more information, see https://urllib3.readthedocs.org/en/latest/security.html#insecureplatformwarning.\n",
      "  InsecurePlatformWarning\n",
      "D:\\Program Files\\Python27\\lib\\site-packages\\requests\\packages\\urllib3\\util\\ssl_.py:90: InsecurePlatformWarning: A true SSLContext object is not available. This prevents urllib3 from configuring SSL appropriately and may cause certain SSL connections to fail. For more information, see https://urllib3.readthedocs.org/en/latest/security.html#insecureplatformwarning.\n",
      "  InsecurePlatformWarning\n"
     ]
    },
    {
     "name": "stdout",
     "output_type": "stream",
     "text": [
      " 0\n",
      "shearwater-international-(techstars-‘15) 0\n",
      "penpal-schools"
     ]
    },
    {
     "name": "stderr",
     "output_type": "stream",
     "text": [
      "D:\\Program Files\\Python27\\lib\\site-packages\\requests\\packages\\urllib3\\util\\ssl_.py:90: InsecurePlatformWarning: A true SSLContext object is not available. This prevents urllib3 from configuring SSL appropriately and may cause certain SSL connections to fail. For more information, see https://urllib3.readthedocs.org/en/latest/security.html#insecureplatformwarning.\n",
      "  InsecurePlatformWarning\n",
      "D:\\Program Files\\Python27\\lib\\site-packages\\requests\\packages\\urllib3\\util\\ssl_.py:90: InsecurePlatformWarning: A true SSLContext object is not available. This prevents urllib3 from configuring SSL appropriately and may cause certain SSL connections to fail. For more information, see https://urllib3.readthedocs.org/en/latest/security.html#insecureplatformwarning.\n",
      "  InsecurePlatformWarning\n"
     ]
    },
    {
     "name": "stdout",
     "output_type": "stream",
     "text": [
      " 0\n",
      "gotit! 0\n",
      "digital-currency-council"
     ]
    },
    {
     "name": "stderr",
     "output_type": "stream",
     "text": [
      "D:\\Program Files\\Python27\\lib\\site-packages\\requests\\packages\\urllib3\\util\\ssl_.py:90: InsecurePlatformWarning: A true SSLContext object is not available. This prevents urllib3 from configuring SSL appropriately and may cause certain SSL connections to fail. For more information, see https://urllib3.readthedocs.org/en/latest/security.html#insecureplatformwarning.\n",
      "  InsecurePlatformWarning\n",
      "D:\\Program Files\\Python27\\lib\\site-packages\\requests\\packages\\urllib3\\util\\ssl_.py:90: InsecurePlatformWarning: A true SSLContext object is not available. This prevents urllib3 from configuring SSL appropriately and may cause certain SSL connections to fail. For more information, see https://urllib3.readthedocs.org/en/latest/security.html#insecureplatformwarning.\n",
      "  InsecurePlatformWarning\n"
     ]
    },
    {
     "name": "stdout",
     "output_type": "stream",
     "text": [
      " 0\n",
      "primo-toys 0\n",
      "isoccer"
     ]
    },
    {
     "name": "stderr",
     "output_type": "stream",
     "text": [
      "D:\\Program Files\\Python27\\lib\\site-packages\\requests\\packages\\urllib3\\util\\ssl_.py:90: InsecurePlatformWarning: A true SSLContext object is not available. This prevents urllib3 from configuring SSL appropriately and may cause certain SSL connections to fail. For more information, see https://urllib3.readthedocs.org/en/latest/security.html#insecureplatformwarning.\n",
      "  InsecurePlatformWarning\n",
      "D:\\Program Files\\Python27\\lib\\site-packages\\requests\\packages\\urllib3\\util\\ssl_.py:90: InsecurePlatformWarning: A true SSLContext object is not available. This prevents urllib3 from configuring SSL appropriately and may cause certain SSL connections to fail. For more information, see https://urllib3.readthedocs.org/en/latest/security.html#insecureplatformwarning.\n",
      "  InsecurePlatformWarning\n"
     ]
    },
    {
     "name": "stdout",
     "output_type": "stream",
     "text": [
      " 0\n",
      "craftsy 0\n",
      "admittedly"
     ]
    },
    {
     "name": "stderr",
     "output_type": "stream",
     "text": [
      "D:\\Program Files\\Python27\\lib\\site-packages\\requests\\packages\\urllib3\\util\\ssl_.py:90: InsecurePlatformWarning: A true SSLContext object is not available. This prevents urllib3 from configuring SSL appropriately and may cause certain SSL connections to fail. For more information, see https://urllib3.readthedocs.org/en/latest/security.html#insecureplatformwarning.\n",
      "  InsecurePlatformWarning\n",
      "D:\\Program Files\\Python27\\lib\\site-packages\\requests\\packages\\urllib3\\util\\ssl_.py:90: InsecurePlatformWarning: A true SSLContext object is not available. This prevents urllib3 from configuring SSL appropriately and may cause certain SSL connections to fail. For more information, see https://urllib3.readthedocs.org/en/latest/security.html#insecureplatformwarning.\n",
      "  InsecurePlatformWarning\n"
     ]
    },
    {
     "name": "stdout",
     "output_type": "stream",
     "text": [
      " 0\n",
      "linguatrip 0\n",
      "springest"
     ]
    },
    {
     "name": "stderr",
     "output_type": "stream",
     "text": [
      "D:\\Program Files\\Python27\\lib\\site-packages\\requests\\packages\\urllib3\\util\\ssl_.py:90: InsecurePlatformWarning: A true SSLContext object is not available. This prevents urllib3 from configuring SSL appropriately and may cause certain SSL connections to fail. For more information, see https://urllib3.readthedocs.org/en/latest/security.html#insecureplatformwarning.\n",
      "  InsecurePlatformWarning\n",
      "D:\\Program Files\\Python27\\lib\\site-packages\\requests\\packages\\urllib3\\util\\ssl_.py:90: InsecurePlatformWarning: A true SSLContext object is not available. This prevents urllib3 from configuring SSL appropriately and may cause certain SSL connections to fail. For more information, see https://urllib3.readthedocs.org/en/latest/security.html#insecureplatformwarning.\n",
      "  InsecurePlatformWarning\n"
     ]
    },
    {
     "name": "stdout",
     "output_type": "stream",
     "text": [
      " 0\n",
      "skilloop 0\n",
      "playrific"
     ]
    },
    {
     "name": "stderr",
     "output_type": "stream",
     "text": [
      "D:\\Program Files\\Python27\\lib\\site-packages\\requests\\packages\\urllib3\\util\\ssl_.py:90: InsecurePlatformWarning: A true SSLContext object is not available. This prevents urllib3 from configuring SSL appropriately and may cause certain SSL connections to fail. For more information, see https://urllib3.readthedocs.org/en/latest/security.html#insecureplatformwarning.\n",
      "  InsecurePlatformWarning\n",
      "D:\\Program Files\\Python27\\lib\\site-packages\\requests\\packages\\urllib3\\util\\ssl_.py:90: InsecurePlatformWarning: A true SSLContext object is not available. This prevents urllib3 from configuring SSL appropriately and may cause certain SSL connections to fail. For more information, see https://urllib3.readthedocs.org/en/latest/security.html#insecureplatformwarning.\n",
      "  InsecurePlatformWarning\n"
     ]
    },
    {
     "name": "stdout",
     "output_type": "stream",
     "text": [
      " 0\n",
      "authorbee 0\n",
      "allovue"
     ]
    },
    {
     "name": "stderr",
     "output_type": "stream",
     "text": [
      "D:\\Program Files\\Python27\\lib\\site-packages\\requests\\packages\\urllib3\\util\\ssl_.py:90: InsecurePlatformWarning: A true SSLContext object is not available. This prevents urllib3 from configuring SSL appropriately and may cause certain SSL connections to fail. For more information, see https://urllib3.readthedocs.org/en/latest/security.html#insecureplatformwarning.\n",
      "  InsecurePlatformWarning\n",
      "D:\\Program Files\\Python27\\lib\\site-packages\\requests\\packages\\urllib3\\util\\ssl_.py:90: InsecurePlatformWarning: A true SSLContext object is not available. This prevents urllib3 from configuring SSL appropriately and may cause certain SSL connections to fail. For more information, see https://urllib3.readthedocs.org/en/latest/security.html#insecureplatformwarning.\n",
      "  InsecurePlatformWarning\n"
     ]
    },
    {
     "name": "stdout",
     "output_type": "stream",
     "text": [
      " 0\n",
      "learnmetrics 0\n",
      "policygenius"
     ]
    },
    {
     "name": "stderr",
     "output_type": "stream",
     "text": [
      "D:\\Program Files\\Python27\\lib\\site-packages\\requests\\packages\\urllib3\\util\\ssl_.py:90: InsecurePlatformWarning: A true SSLContext object is not available. This prevents urllib3 from configuring SSL appropriately and may cause certain SSL connections to fail. For more information, see https://urllib3.readthedocs.org/en/latest/security.html#insecureplatformwarning.\n",
      "  InsecurePlatformWarning\n",
      "D:\\Program Files\\Python27\\lib\\site-packages\\requests\\packages\\urllib3\\util\\ssl_.py:90: InsecurePlatformWarning: A true SSLContext object is not available. This prevents urllib3 from configuring SSL appropriately and may cause certain SSL connections to fail. For more information, see https://urllib3.readthedocs.org/en/latest/security.html#insecureplatformwarning.\n",
      "  InsecurePlatformWarning\n"
     ]
    },
    {
     "name": "stdout",
     "output_type": "stream",
     "text": [
      " 9\n",
      "abpathfinder 0\n",
      "omada-health"
     ]
    },
    {
     "name": "stderr",
     "output_type": "stream",
     "text": [
      "D:\\Program Files\\Python27\\lib\\site-packages\\requests\\packages\\urllib3\\util\\ssl_.py:90: InsecurePlatformWarning: A true SSLContext object is not available. This prevents urllib3 from configuring SSL appropriately and may cause certain SSL connections to fail. For more information, see https://urllib3.readthedocs.org/en/latest/security.html#insecureplatformwarning.\n",
      "  InsecurePlatformWarning\n",
      "D:\\Program Files\\Python27\\lib\\site-packages\\requests\\packages\\urllib3\\util\\ssl_.py:90: InsecurePlatformWarning: A true SSLContext object is not available. This prevents urllib3 from configuring SSL appropriately and may cause certain SSL connections to fail. For more information, see https://urllib3.readthedocs.org/en/latest/security.html#insecureplatformwarning.\n",
      "  InsecurePlatformWarning\n"
     ]
    },
    {
     "name": "stdout",
     "output_type": "stream",
     "text": [
      " 0\n",
      "udacity 5\n",
      "'NoneType' object has no attribute 'text'"
     ]
    },
    {
     "name": "stderr",
     "output_type": "stream",
     "text": [
      "D:\\Program Files\\Python27\\lib\\site-packages\\requests\\packages\\urllib3\\util\\ssl_.py:90: InsecurePlatformWarning: A true SSLContext object is not available. This prevents urllib3 from configuring SSL appropriately and may cause certain SSL connections to fail. For more information, see https://urllib3.readthedocs.org/en/latest/security.html#insecureplatformwarning.\n",
      "  InsecurePlatformWarning\n",
      "D:\\Program Files\\Python27\\lib\\site-packages\\requests\\packages\\urllib3\\util\\ssl_.py:90: InsecurePlatformWarning: A true SSLContext object is not available. This prevents urllib3 from configuring SSL appropriately and may cause certain SSL connections to fail. For more information, see https://urllib3.readthedocs.org/en/latest/security.html#insecureplatformwarning.\n",
      "  InsecurePlatformWarning\n"
     ]
    },
    {
     "name": "stdout",
     "output_type": "stream",
     "text": [
      " citelighter\n",
      "zyante 0\n",
      "smartup.io"
     ]
    },
    {
     "name": "stderr",
     "output_type": "stream",
     "text": [
      "D:\\Program Files\\Python27\\lib\\site-packages\\requests\\packages\\urllib3\\util\\ssl_.py:90: InsecurePlatformWarning: A true SSLContext object is not available. This prevents urllib3 from configuring SSL appropriately and may cause certain SSL connections to fail. For more information, see https://urllib3.readthedocs.org/en/latest/security.html#insecureplatformwarning.\n",
      "  InsecurePlatformWarning\n",
      "D:\\Program Files\\Python27\\lib\\site-packages\\requests\\packages\\urllib3\\util\\ssl_.py:90: InsecurePlatformWarning: A true SSLContext object is not available. This prevents urllib3 from configuring SSL appropriately and may cause certain SSL connections to fail. For more information, see https://urllib3.readthedocs.org/en/latest/security.html#insecureplatformwarning.\n",
      "  InsecurePlatformWarning\n"
     ]
    },
    {
     "name": "stdout",
     "output_type": "stream",
     "text": [
      " 0\n",
      "sage-hero 1\n",
      "tales2go"
     ]
    },
    {
     "name": "stderr",
     "output_type": "stream",
     "text": [
      "D:\\Program Files\\Python27\\lib\\site-packages\\requests\\packages\\urllib3\\util\\ssl_.py:90: InsecurePlatformWarning: A true SSLContext object is not available. This prevents urllib3 from configuring SSL appropriately and may cause certain SSL connections to fail. For more information, see https://urllib3.readthedocs.org/en/latest/security.html#insecureplatformwarning.\n",
      "  InsecurePlatformWarning\n",
      "D:\\Program Files\\Python27\\lib\\site-packages\\requests\\packages\\urllib3\\util\\ssl_.py:90: InsecurePlatformWarning: A true SSLContext object is not available. This prevents urllib3 from configuring SSL appropriately and may cause certain SSL connections to fail. For more information, see https://urllib3.readthedocs.org/en/latest/security.html#insecureplatformwarning.\n",
      "  InsecurePlatformWarning\n"
     ]
    },
    {
     "name": "stdout",
     "output_type": "stream",
     "text": [
      " 0\n",
      "goalbook 1\n",
      "edupath"
     ]
    },
    {
     "name": "stderr",
     "output_type": "stream",
     "text": [
      "D:\\Program Files\\Python27\\lib\\site-packages\\requests\\packages\\urllib3\\util\\ssl_.py:90: InsecurePlatformWarning: A true SSLContext object is not available. This prevents urllib3 from configuring SSL appropriately and may cause certain SSL connections to fail. For more information, see https://urllib3.readthedocs.org/en/latest/security.html#insecureplatformwarning.\n",
      "  InsecurePlatformWarning\n",
      "D:\\Program Files\\Python27\\lib\\site-packages\\requests\\packages\\urllib3\\util\\ssl_.py:90: InsecurePlatformWarning: A true SSLContext object is not available. This prevents urllib3 from configuring SSL appropriately and may cause certain SSL connections to fail. For more information, see https://urllib3.readthedocs.org/en/latest/security.html#insecureplatformwarning.\n",
      "  InsecurePlatformWarning\n"
     ]
    },
    {
     "name": "stdout",
     "output_type": "stream",
     "text": [
      " 1\n",
      "modern-guild 0\n",
      "schooladmissions"
     ]
    },
    {
     "name": "stderr",
     "output_type": "stream",
     "text": [
      "D:\\Program Files\\Python27\\lib\\site-packages\\requests\\packages\\urllib3\\util\\ssl_.py:90: InsecurePlatformWarning: A true SSLContext object is not available. This prevents urllib3 from configuring SSL appropriately and may cause certain SSL connections to fail. For more information, see https://urllib3.readthedocs.org/en/latest/security.html#insecureplatformwarning.\n",
      "  InsecurePlatformWarning\n",
      "D:\\Program Files\\Python27\\lib\\site-packages\\requests\\packages\\urllib3\\util\\ssl_.py:90: InsecurePlatformWarning: A true SSLContext object is not available. This prevents urllib3 from configuring SSL appropriately and may cause certain SSL connections to fail. For more information, see https://urllib3.readthedocs.org/en/latest/security.html#insecureplatformwarning.\n",
      "  InsecurePlatformWarning\n"
     ]
    },
    {
     "name": "stdout",
     "output_type": "stream",
     "text": [
      " 0\n",
      "opensesame 0\n",
      "uncubed"
     ]
    },
    {
     "name": "stderr",
     "output_type": "stream",
     "text": [
      "D:\\Program Files\\Python27\\lib\\site-packages\\requests\\packages\\urllib3\\util\\ssl_.py:90: InsecurePlatformWarning: A true SSLContext object is not available. This prevents urllib3 from configuring SSL appropriately and may cause certain SSL connections to fail. For more information, see https://urllib3.readthedocs.org/en/latest/security.html#insecureplatformwarning.\n",
      "  InsecurePlatformWarning\n",
      "D:\\Program Files\\Python27\\lib\\site-packages\\requests\\packages\\urllib3\\util\\ssl_.py:90: InsecurePlatformWarning: A true SSLContext object is not available. This prevents urllib3 from configuring SSL appropriately and may cause certain SSL connections to fail. For more information, see https://urllib3.readthedocs.org/en/latest/security.html#insecureplatformwarning.\n",
      "  InsecurePlatformWarning\n"
     ]
    },
    {
     "name": "stdout",
     "output_type": "stream",
     "text": [
      " 0\n",
      "exo-labs 0\n",
      "oneroom"
     ]
    },
    {
     "name": "stderr",
     "output_type": "stream",
     "text": [
      "D:\\Program Files\\Python27\\lib\\site-packages\\requests\\packages\\urllib3\\util\\ssl_.py:90: InsecurePlatformWarning: A true SSLContext object is not available. This prevents urllib3 from configuring SSL appropriately and may cause certain SSL connections to fail. For more information, see https://urllib3.readthedocs.org/en/latest/security.html#insecureplatformwarning.\n",
      "  InsecurePlatformWarning\n",
      "D:\\Program Files\\Python27\\lib\\site-packages\\requests\\packages\\urllib3\\util\\ssl_.py:90: InsecurePlatformWarning: A true SSLContext object is not available. This prevents urllib3 from configuring SSL appropriately and may cause certain SSL connections to fail. For more information, see https://urllib3.readthedocs.org/en/latest/security.html#insecureplatformwarning.\n",
      "  InsecurePlatformWarning\n"
     ]
    },
    {
     "name": "stdout",
     "output_type": "stream",
     "text": [
      " 0\n",
      "always-prepped 0\n",
      "admitsee"
     ]
    },
    {
     "name": "stderr",
     "output_type": "stream",
     "text": [
      "D:\\Program Files\\Python27\\lib\\site-packages\\requests\\packages\\urllib3\\util\\ssl_.py:90: InsecurePlatformWarning: A true SSLContext object is not available. This prevents urllib3 from configuring SSL appropriately and may cause certain SSL connections to fail. For more information, see https://urllib3.readthedocs.org/en/latest/security.html#insecureplatformwarning.\n",
      "  InsecurePlatformWarning\n",
      "D:\\Program Files\\Python27\\lib\\site-packages\\requests\\packages\\urllib3\\util\\ssl_.py:90: InsecurePlatformWarning: A true SSLContext object is not available. This prevents urllib3 from configuring SSL appropriately and may cause certain SSL connections to fail. For more information, see https://urllib3.readthedocs.org/en/latest/security.html#insecureplatformwarning.\n",
      "  InsecurePlatformWarning\n"
     ]
    },
    {
     "name": "stdout",
     "output_type": "stream",
     "text": [
      " 3\n",
      "quipper 0\n",
      "studyroom"
     ]
    },
    {
     "name": "stderr",
     "output_type": "stream",
     "text": [
      "D:\\Program Files\\Python27\\lib\\site-packages\\requests\\packages\\urllib3\\util\\ssl_.py:90: InsecurePlatformWarning: A true SSLContext object is not available. This prevents urllib3 from configuring SSL appropriately and may cause certain SSL connections to fail. For more information, see https://urllib3.readthedocs.org/en/latest/security.html#insecureplatformwarning.\n",
      "  InsecurePlatformWarning\n",
      "D:\\Program Files\\Python27\\lib\\site-packages\\requests\\packages\\urllib3\\util\\ssl_.py:90: InsecurePlatformWarning: A true SSLContext object is not available. This prevents urllib3 from configuring SSL appropriately and may cause certain SSL connections to fail. For more information, see https://urllib3.readthedocs.org/en/latest/security.html#insecureplatformwarning.\n",
      "  InsecurePlatformWarning\n"
     ]
    },
    {
     "name": "stdout",
     "output_type": "stream",
     "text": [
      " 0\n",
      "memorang 2\n",
      "ginkgotree"
     ]
    },
    {
     "name": "stderr",
     "output_type": "stream",
     "text": [
      "D:\\Program Files\\Python27\\lib\\site-packages\\requests\\packages\\urllib3\\util\\ssl_.py:90: InsecurePlatformWarning: A true SSLContext object is not available. This prevents urllib3 from configuring SSL appropriately and may cause certain SSL connections to fail. For more information, see https://urllib3.readthedocs.org/en/latest/security.html#insecureplatformwarning.\n",
      "  InsecurePlatformWarning\n",
      "D:\\Program Files\\Python27\\lib\\site-packages\\requests\\packages\\urllib3\\util\\ssl_.py:90: InsecurePlatformWarning: A true SSLContext object is not available. This prevents urllib3 from configuring SSL appropriately and may cause certain SSL connections to fail. For more information, see https://urllib3.readthedocs.org/en/latest/security.html#insecureplatformwarning.\n",
      "  InsecurePlatformWarning\n"
     ]
    },
    {
     "name": "stdout",
     "output_type": "stream",
     "text": [
      " 0\n",
      "if-you-can 0\n",
      "cybrary"
     ]
    },
    {
     "name": "stderr",
     "output_type": "stream",
     "text": [
      "D:\\Program Files\\Python27\\lib\\site-packages\\requests\\packages\\urllib3\\util\\ssl_.py:90: InsecurePlatformWarning: A true SSLContext object is not available. This prevents urllib3 from configuring SSL appropriately and may cause certain SSL connections to fail. For more information, see https://urllib3.readthedocs.org/en/latest/security.html#insecureplatformwarning.\n",
      "  InsecurePlatformWarning\n",
      "D:\\Program Files\\Python27\\lib\\site-packages\\requests\\packages\\urllib3\\util\\ssl_.py:90: InsecurePlatformWarning: A true SSLContext object is not available. This prevents urllib3 from configuring SSL appropriately and may cause certain SSL connections to fail. For more information, see https://urllib3.readthedocs.org/en/latest/security.html#insecureplatformwarning.\n",
      "  InsecurePlatformWarning\n"
     ]
    },
    {
     "name": "stdout",
     "output_type": "stream",
     "text": [
      " 0\n",
      "handshake 2\n",
      "higher-learning-technologies"
     ]
    },
    {
     "name": "stderr",
     "output_type": "stream",
     "text": [
      "D:\\Program Files\\Python27\\lib\\site-packages\\requests\\packages\\urllib3\\util\\ssl_.py:90: InsecurePlatformWarning: A true SSLContext object is not available. This prevents urllib3 from configuring SSL appropriately and may cause certain SSL connections to fail. For more information, see https://urllib3.readthedocs.org/en/latest/security.html#insecureplatformwarning.\n",
      "  InsecurePlatformWarning\n",
      "D:\\Program Files\\Python27\\lib\\site-packages\\requests\\packages\\urllib3\\util\\ssl_.py:90: InsecurePlatformWarning: A true SSLContext object is not available. This prevents urllib3 from configuring SSL appropriately and may cause certain SSL connections to fail. For more information, see https://urllib3.readthedocs.org/en/latest/security.html#insecureplatformwarning.\n",
      "  InsecurePlatformWarning\n"
     ]
    },
    {
     "name": "stdout",
     "output_type": "stream",
     "text": [
      " 0\n",
      "twigtale 0\n",
      "apptuto"
     ]
    },
    {
     "name": "stderr",
     "output_type": "stream",
     "text": [
      "D:\\Program Files\\Python27\\lib\\site-packages\\requests\\packages\\urllib3\\util\\ssl_.py:90: InsecurePlatformWarning: A true SSLContext object is not available. This prevents urllib3 from configuring SSL appropriately and may cause certain SSL connections to fail. For more information, see https://urllib3.readthedocs.org/en/latest/security.html#insecureplatformwarning.\n",
      "  InsecurePlatformWarning\n",
      "D:\\Program Files\\Python27\\lib\\site-packages\\requests\\packages\\urllib3\\util\\ssl_.py:90: InsecurePlatformWarning: A true SSLContext object is not available. This prevents urllib3 from configuring SSL appropriately and may cause certain SSL connections to fail. For more information, see https://urllib3.readthedocs.org/en/latest/security.html#insecureplatformwarning.\n",
      "  InsecurePlatformWarning\n"
     ]
    },
    {
     "name": "stdout",
     "output_type": "stream",
     "text": [
      " 0\n",
      "straighterline 0\n",
      "mendeley"
     ]
    },
    {
     "name": "stderr",
     "output_type": "stream",
     "text": [
      "D:\\Program Files\\Python27\\lib\\site-packages\\requests\\packages\\urllib3\\util\\ssl_.py:90: InsecurePlatformWarning: A true SSLContext object is not available. This prevents urllib3 from configuring SSL appropriately and may cause certain SSL connections to fail. For more information, see https://urllib3.readthedocs.org/en/latest/security.html#insecureplatformwarning.\n",
      "  InsecurePlatformWarning\n",
      "D:\\Program Files\\Python27\\lib\\site-packages\\requests\\packages\\urllib3\\util\\ssl_.py:90: InsecurePlatformWarning: A true SSLContext object is not available. This prevents urllib3 from configuring SSL appropriately and may cause certain SSL connections to fail. For more information, see https://urllib3.readthedocs.org/en/latest/security.html#insecureplatformwarning.\n",
      "  InsecurePlatformWarning\n"
     ]
    },
    {
     "name": "stdout",
     "output_type": "stream",
     "text": [
      " 0\n",
      "fidelis-education 0\n",
      "slader"
     ]
    },
    {
     "name": "stderr",
     "output_type": "stream",
     "text": [
      "D:\\Program Files\\Python27\\lib\\site-packages\\requests\\packages\\urllib3\\util\\ssl_.py:90: InsecurePlatformWarning: A true SSLContext object is not available. This prevents urllib3 from configuring SSL appropriately and may cause certain SSL connections to fail. For more information, see https://urllib3.readthedocs.org/en/latest/security.html#insecureplatformwarning.\n",
      "  InsecurePlatformWarning\n",
      "D:\\Program Files\\Python27\\lib\\site-packages\\requests\\packages\\urllib3\\util\\ssl_.py:90: InsecurePlatformWarning: A true SSLContext object is not available. This prevents urllib3 from configuring SSL appropriately and may cause certain SSL connections to fail. For more information, see https://urllib3.readthedocs.org/en/latest/security.html#insecureplatformwarning.\n",
      "  InsecurePlatformWarning\n"
     ]
    },
    {
     "name": "stdout",
     "output_type": "stream",
     "text": [
      " 0\n",
      "guidekick 0\n",
      "myedmatch"
     ]
    },
    {
     "name": "stderr",
     "output_type": "stream",
     "text": [
      "D:\\Program Files\\Python27\\lib\\site-packages\\requests\\packages\\urllib3\\util\\ssl_.py:90: InsecurePlatformWarning: A true SSLContext object is not available. This prevents urllib3 from configuring SSL appropriately and may cause certain SSL connections to fail. For more information, see https://urllib3.readthedocs.org/en/latest/security.html#insecureplatformwarning.\n",
      "  InsecurePlatformWarning\n",
      "D:\\Program Files\\Python27\\lib\\site-packages\\requests\\packages\\urllib3\\util\\ssl_.py:90: InsecurePlatformWarning: A true SSLContext object is not available. This prevents urllib3 from configuring SSL appropriately and may cause certain SSL connections to fail. For more information, see https://urllib3.readthedocs.org/en/latest/security.html#insecureplatformwarning.\n",
      "  InsecurePlatformWarning\n"
     ]
    },
    {
     "name": "stdout",
     "output_type": "stream",
     "text": [
      " 0\n",
      "culturealley 0\n",
      "acceptd"
     ]
    },
    {
     "name": "stderr",
     "output_type": "stream",
     "text": [
      "D:\\Program Files\\Python27\\lib\\site-packages\\requests\\packages\\urllib3\\util\\ssl_.py:90: InsecurePlatformWarning: A true SSLContext object is not available. This prevents urllib3 from configuring SSL appropriately and may cause certain SSL connections to fail. For more information, see https://urllib3.readthedocs.org/en/latest/security.html#insecureplatformwarning.\n",
      "  InsecurePlatformWarning\n",
      "D:\\Program Files\\Python27\\lib\\site-packages\\requests\\packages\\urllib3\\util\\ssl_.py:90: InsecurePlatformWarning: A true SSLContext object is not available. This prevents urllib3 from configuring SSL appropriately and may cause certain SSL connections to fail. For more information, see https://urllib3.readthedocs.org/en/latest/security.html#insecureplatformwarning.\n",
      "  InsecurePlatformWarning\n"
     ]
    },
    {
     "name": "stdout",
     "output_type": "stream",
     "text": [
      " 0\n",
      "trinket 0\n",
      "meducation"
     ]
    },
    {
     "name": "stderr",
     "output_type": "stream",
     "text": [
      "D:\\Program Files\\Python27\\lib\\site-packages\\requests\\packages\\urllib3\\util\\ssl_.py:90: InsecurePlatformWarning: A true SSLContext object is not available. This prevents urllib3 from configuring SSL appropriately and may cause certain SSL connections to fail. For more information, see https://urllib3.readthedocs.org/en/latest/security.html#insecureplatformwarning.\n",
      "  InsecurePlatformWarning\n",
      "D:\\Program Files\\Python27\\lib\\site-packages\\requests\\packages\\urllib3\\util\\ssl_.py:90: InsecurePlatformWarning: A true SSLContext object is not available. This prevents urllib3 from configuring SSL appropriately and may cause certain SSL connections to fail. For more information, see https://urllib3.readthedocs.org/en/latest/security.html#insecureplatformwarning.\n",
      "  InsecurePlatformWarning\n"
     ]
    },
    {
     "name": "stdout",
     "output_type": "stream",
     "text": [
      " 0\n",
      "gradible 0\n",
      "ilos"
     ]
    },
    {
     "name": "stderr",
     "output_type": "stream",
     "text": [
      "D:\\Program Files\\Python27\\lib\\site-packages\\requests\\packages\\urllib3\\util\\ssl_.py:90: InsecurePlatformWarning: A true SSLContext object is not available. This prevents urllib3 from configuring SSL appropriately and may cause certain SSL connections to fail. For more information, see https://urllib3.readthedocs.org/en/latest/security.html#insecureplatformwarning.\n",
      "  InsecurePlatformWarning\n",
      "D:\\Program Files\\Python27\\lib\\site-packages\\requests\\packages\\urllib3\\util\\ssl_.py:90: InsecurePlatformWarning: A true SSLContext object is not available. This prevents urllib3 from configuring SSL appropriately and may cause certain SSL connections to fail. For more information, see https://urllib3.readthedocs.org/en/latest/security.html#insecureplatformwarning.\n",
      "  InsecurePlatformWarning\n"
     ]
    },
    {
     "name": "stdout",
     "output_type": "stream",
     "text": [
      " 1\n",
      "tactilize 0\n",
      "lightup"
     ]
    },
    {
     "name": "stderr",
     "output_type": "stream",
     "text": [
      "D:\\Program Files\\Python27\\lib\\site-packages\\requests\\packages\\urllib3\\util\\ssl_.py:90: InsecurePlatformWarning: A true SSLContext object is not available. This prevents urllib3 from configuring SSL appropriately and may cause certain SSL connections to fail. For more information, see https://urllib3.readthedocs.org/en/latest/security.html#insecureplatformwarning.\n",
      "  InsecurePlatformWarning\n",
      "D:\\Program Files\\Python27\\lib\\site-packages\\requests\\packages\\urllib3\\util\\ssl_.py:90: InsecurePlatformWarning: A true SSLContext object is not available. This prevents urllib3 from configuring SSL appropriately and may cause certain SSL connections to fail. For more information, see https://urllib3.readthedocs.org/en/latest/security.html#insecureplatformwarning.\n",
      "  InsecurePlatformWarning\n"
     ]
    },
    {
     "name": "stdout",
     "output_type": "stream",
     "text": [
      " 0\n",
      "course-hero 8\n",
      "seelio"
     ]
    },
    {
     "name": "stderr",
     "output_type": "stream",
     "text": [
      "D:\\Program Files\\Python27\\lib\\site-packages\\requests\\packages\\urllib3\\util\\ssl_.py:90: InsecurePlatformWarning: A true SSLContext object is not available. This prevents urllib3 from configuring SSL appropriately and may cause certain SSL connections to fail. For more information, see https://urllib3.readthedocs.org/en/latest/security.html#insecureplatformwarning.\n",
      "  InsecurePlatformWarning\n",
      "D:\\Program Files\\Python27\\lib\\site-packages\\requests\\packages\\urllib3\\util\\ssl_.py:90: InsecurePlatformWarning: A true SSLContext object is not available. This prevents urllib3 from configuring SSL appropriately and may cause certain SSL connections to fail. For more information, see https://urllib3.readthedocs.org/en/latest/security.html#insecureplatformwarning.\n",
      "  InsecurePlatformWarning\n"
     ]
    },
    {
     "name": "stdout",
     "output_type": "stream",
     "text": [
      " 0\n",
      "wikibrains 0\n",
      "gap-year"
     ]
    },
    {
     "name": "stderr",
     "output_type": "stream",
     "text": [
      "D:\\Program Files\\Python27\\lib\\site-packages\\requests\\packages\\urllib3\\util\\ssl_.py:90: InsecurePlatformWarning: A true SSLContext object is not available. This prevents urllib3 from configuring SSL appropriately and may cause certain SSL connections to fail. For more information, see https://urllib3.readthedocs.org/en/latest/security.html#insecureplatformwarning.\n",
      "  InsecurePlatformWarning\n",
      "D:\\Program Files\\Python27\\lib\\site-packages\\requests\\packages\\urllib3\\util\\ssl_.py:90: InsecurePlatformWarning: A true SSLContext object is not available. This prevents urllib3 from configuring SSL appropriately and may cause certain SSL connections to fail. For more information, see https://urllib3.readthedocs.org/en/latest/security.html#insecureplatformwarning.\n",
      "  InsecurePlatformWarning\n"
     ]
    },
    {
     "name": "stdout",
     "output_type": "stream",
     "text": [
      " 0\n",
      "crowdmark 0\n",
      "clusterflunk"
     ]
    },
    {
     "name": "stderr",
     "output_type": "stream",
     "text": [
      "D:\\Program Files\\Python27\\lib\\site-packages\\requests\\packages\\urllib3\\util\\ssl_.py:90: InsecurePlatformWarning: A true SSLContext object is not available. This prevents urllib3 from configuring SSL appropriately and may cause certain SSL connections to fail. For more information, see https://urllib3.readthedocs.org/en/latest/security.html#insecureplatformwarning.\n",
      "  InsecurePlatformWarning\n",
      "D:\\Program Files\\Python27\\lib\\site-packages\\requests\\packages\\urllib3\\util\\ssl_.py:90: InsecurePlatformWarning: A true SSLContext object is not available. This prevents urllib3 from configuring SSL appropriately and may cause certain SSL connections to fail. For more information, see https://urllib3.readthedocs.org/en/latest/security.html#insecureplatformwarning.\n",
      "  InsecurePlatformWarning\n"
     ]
    },
    {
     "name": "stdout",
     "output_type": "stream",
     "text": [
      " 0\n",
      "asku 0\n",
      "edthena"
     ]
    },
    {
     "name": "stderr",
     "output_type": "stream",
     "text": [
      "D:\\Program Files\\Python27\\lib\\site-packages\\requests\\packages\\urllib3\\util\\ssl_.py:90: InsecurePlatformWarning: A true SSLContext object is not available. This prevents urllib3 from configuring SSL appropriately and may cause certain SSL connections to fail. For more information, see https://urllib3.readthedocs.org/en/latest/security.html#insecureplatformwarning.\n",
      "  InsecurePlatformWarning\n",
      "D:\\Program Files\\Python27\\lib\\site-packages\\requests\\packages\\urllib3\\util\\ssl_.py:90: InsecurePlatformWarning: A true SSLContext object is not available. This prevents urllib3 from configuring SSL appropriately and may cause certain SSL connections to fail. For more information, see https://urllib3.readthedocs.org/en/latest/security.html#insecureplatformwarning.\n",
      "  InsecurePlatformWarning\n"
     ]
    },
    {
     "name": "stdout",
     "output_type": "stream",
     "text": [
      " 1\n",
      "room-choice 4\n",
      "curiosity.com"
     ]
    },
    {
     "name": "stderr",
     "output_type": "stream",
     "text": [
      "D:\\Program Files\\Python27\\lib\\site-packages\\requests\\packages\\urllib3\\util\\ssl_.py:90: InsecurePlatformWarning: A true SSLContext object is not available. This prevents urllib3 from configuring SSL appropriately and may cause certain SSL connections to fail. For more information, see https://urllib3.readthedocs.org/en/latest/security.html#insecureplatformwarning.\n",
      "  InsecurePlatformWarning\n",
      "D:\\Program Files\\Python27\\lib\\site-packages\\requests\\packages\\urllib3\\util\\ssl_.py:90: InsecurePlatformWarning: A true SSLContext object is not available. This prevents urllib3 from configuring SSL appropriately and may cause certain SSL connections to fail. For more information, see https://urllib3.readthedocs.org/en/latest/security.html#insecureplatformwarning.\n",
      "  InsecurePlatformWarning\n"
     ]
    },
    {
     "name": "stdout",
     "output_type": "stream",
     "text": [
      " 0\n",
      "codarica 0\n",
      "sokanu"
     ]
    },
    {
     "name": "stderr",
     "output_type": "stream",
     "text": [
      "D:\\Program Files\\Python27\\lib\\site-packages\\requests\\packages\\urllib3\\util\\ssl_.py:90: InsecurePlatformWarning: A true SSLContext object is not available. This prevents urllib3 from configuring SSL appropriately and may cause certain SSL connections to fail. For more information, see https://urllib3.readthedocs.org/en/latest/security.html#insecureplatformwarning.\n",
      "  InsecurePlatformWarning\n",
      "D:\\Program Files\\Python27\\lib\\site-packages\\requests\\packages\\urllib3\\util\\ssl_.py:90: InsecurePlatformWarning: A true SSLContext object is not available. This prevents urllib3 from configuring SSL appropriately and may cause certain SSL connections to fail. For more information, see https://urllib3.readthedocs.org/en/latest/security.html#insecureplatformwarning.\n",
      "  InsecurePlatformWarning\n"
     ]
    },
    {
     "name": "stdout",
     "output_type": "stream",
     "text": [
      " 5\n",
      "neverware 0\n",
      "gitbook"
     ]
    },
    {
     "name": "stderr",
     "output_type": "stream",
     "text": [
      "D:\\Program Files\\Python27\\lib\\site-packages\\requests\\packages\\urllib3\\util\\ssl_.py:90: InsecurePlatformWarning: A true SSLContext object is not available. This prevents urllib3 from configuring SSL appropriately and may cause certain SSL connections to fail. For more information, see https://urllib3.readthedocs.org/en/latest/security.html#insecureplatformwarning.\n",
      "  InsecurePlatformWarning\n",
      "D:\\Program Files\\Python27\\lib\\site-packages\\requests\\packages\\urllib3\\util\\ssl_.py:90: InsecurePlatformWarning: A true SSLContext object is not available. This prevents urllib3 from configuring SSL appropriately and may cause certain SSL connections to fail. For more information, see https://urllib3.readthedocs.org/en/latest/security.html#insecureplatformwarning.\n",
      "  InsecurePlatformWarning\n"
     ]
    },
    {
     "name": "stdout",
     "output_type": "stream",
     "text": [
      " 0\n",
      "jumble 0\n",
      "bookrenter"
     ]
    },
    {
     "name": "stderr",
     "output_type": "stream",
     "text": [
      "D:\\Program Files\\Python27\\lib\\site-packages\\requests\\packages\\urllib3\\util\\ssl_.py:90: InsecurePlatformWarning: A true SSLContext object is not available. This prevents urllib3 from configuring SSL appropriately and may cause certain SSL connections to fail. For more information, see https://urllib3.readthedocs.org/en/latest/security.html#insecureplatformwarning.\n",
      "  InsecurePlatformWarning\n",
      "D:\\Program Files\\Python27\\lib\\site-packages\\requests\\packages\\urllib3\\util\\ssl_.py:90: InsecurePlatformWarning: A true SSLContext object is not available. This prevents urllib3 from configuring SSL appropriately and may cause certain SSL connections to fail. For more information, see https://urllib3.readthedocs.org/en/latest/security.html#insecureplatformwarning.\n",
      "  InsecurePlatformWarning\n"
     ]
    },
    {
     "name": "stdout",
     "output_type": "stream",
     "text": [
      " 0\n",
      "freetextbooks 3\n",
      "edukart"
     ]
    },
    {
     "name": "stderr",
     "output_type": "stream",
     "text": [
      "D:\\Program Files\\Python27\\lib\\site-packages\\requests\\packages\\urllib3\\util\\ssl_.py:90: InsecurePlatformWarning: A true SSLContext object is not available. This prevents urllib3 from configuring SSL appropriately and may cause certain SSL connections to fail. For more information, see https://urllib3.readthedocs.org/en/latest/security.html#insecureplatformwarning.\n",
      "  InsecurePlatformWarning\n",
      "D:\\Program Files\\Python27\\lib\\site-packages\\requests\\packages\\urllib3\\util\\ssl_.py:90: InsecurePlatformWarning: A true SSLContext object is not available. This prevents urllib3 from configuring SSL appropriately and may cause certain SSL connections to fail. For more information, see https://urllib3.readthedocs.org/en/latest/security.html#insecureplatformwarning.\n",
      "  InsecurePlatformWarning\n"
     ]
    },
    {
     "name": "stdout",
     "output_type": "stream",
     "text": [
      " 0\n",
      "raise.me 0\n",
      "reach-robotics"
     ]
    },
    {
     "name": "stderr",
     "output_type": "stream",
     "text": [
      "D:\\Program Files\\Python27\\lib\\site-packages\\requests\\packages\\urllib3\\util\\ssl_.py:90: InsecurePlatformWarning: A true SSLContext object is not available. This prevents urllib3 from configuring SSL appropriately and may cause certain SSL connections to fail. For more information, see https://urllib3.readthedocs.org/en/latest/security.html#insecureplatformwarning.\n",
      "  InsecurePlatformWarning\n",
      "D:\\Program Files\\Python27\\lib\\site-packages\\requests\\packages\\urllib3\\util\\ssl_.py:90: InsecurePlatformWarning: A true SSLContext object is not available. This prevents urllib3 from configuring SSL appropriately and may cause certain SSL connections to fail. For more information, see https://urllib3.readthedocs.org/en/latest/security.html#insecureplatformwarning.\n",
      "  InsecurePlatformWarning\n"
     ]
    },
    {
     "name": "stdout",
     "output_type": "stream",
     "text": [
      " 0\n",
      "sagecrowd 0\n",
      "edpuzzle"
     ]
    },
    {
     "name": "stderr",
     "output_type": "stream",
     "text": [
      "D:\\Program Files\\Python27\\lib\\site-packages\\requests\\packages\\urllib3\\util\\ssl_.py:90: InsecurePlatformWarning: A true SSLContext object is not available. This prevents urllib3 from configuring SSL appropriately and may cause certain SSL connections to fail. For more information, see https://urllib3.readthedocs.org/en/latest/security.html#insecureplatformwarning.\n",
      "  InsecurePlatformWarning\n",
      "D:\\Program Files\\Python27\\lib\\site-packages\\requests\\packages\\urllib3\\util\\ssl_.py:90: InsecurePlatformWarning: A true SSLContext object is not available. This prevents urllib3 from configuring SSL appropriately and may cause certain SSL connections to fail. For more information, see https://urllib3.readthedocs.org/en/latest/security.html#insecureplatformwarning.\n",
      "  InsecurePlatformWarning\n"
     ]
    },
    {
     "name": "stdout",
     "output_type": "stream",
     "text": [
      " 3\n",
      "expii 6\n",
      "masterclass"
     ]
    },
    {
     "name": "stderr",
     "output_type": "stream",
     "text": [
      "D:\\Program Files\\Python27\\lib\\site-packages\\requests\\packages\\urllib3\\util\\ssl_.py:90: InsecurePlatformWarning: A true SSLContext object is not available. This prevents urllib3 from configuring SSL appropriately and may cause certain SSL connections to fail. For more information, see https://urllib3.readthedocs.org/en/latest/security.html#insecureplatformwarning.\n",
      "  InsecurePlatformWarning\n",
      "D:\\Program Files\\Python27\\lib\\site-packages\\requests\\packages\\urllib3\\util\\ssl_.py:90: InsecurePlatformWarning: A true SSLContext object is not available. This prevents urllib3 from configuring SSL appropriately and may cause certain SSL connections to fail. For more information, see https://urllib3.readthedocs.org/en/latest/security.html#insecureplatformwarning.\n",
      "  InsecurePlatformWarning\n"
     ]
    },
    {
     "name": "stdout",
     "output_type": "stream",
     "text": [
      " 6\n",
      "braingenie 0\n",
      "4soils"
     ]
    },
    {
     "name": "stderr",
     "output_type": "stream",
     "text": [
      "D:\\Program Files\\Python27\\lib\\site-packages\\requests\\packages\\urllib3\\util\\ssl_.py:90: InsecurePlatformWarning: A true SSLContext object is not available. This prevents urllib3 from configuring SSL appropriately and may cause certain SSL connections to fail. For more information, see https://urllib3.readthedocs.org/en/latest/security.html#insecureplatformwarning.\n",
      "  InsecurePlatformWarning\n",
      "D:\\Program Files\\Python27\\lib\\site-packages\\requests\\packages\\urllib3\\util\\ssl_.py:90: InsecurePlatformWarning: A true SSLContext object is not available. This prevents urllib3 from configuring SSL appropriately and may cause certain SSL connections to fail. For more information, see https://urllib3.readthedocs.org/en/latest/security.html#insecureplatformwarning.\n",
      "  InsecurePlatformWarning\n"
     ]
    },
    {
     "name": "stdout",
     "output_type": "stream",
     "text": [
      " 0\n",
      "akdemia 0\n",
      "aceable"
     ]
    },
    {
     "name": "stderr",
     "output_type": "stream",
     "text": [
      "D:\\Program Files\\Python27\\lib\\site-packages\\requests\\packages\\urllib3\\util\\ssl_.py:90: InsecurePlatformWarning: A true SSLContext object is not available. This prevents urllib3 from configuring SSL appropriately and may cause certain SSL connections to fail. For more information, see https://urllib3.readthedocs.org/en/latest/security.html#insecureplatformwarning.\n",
      "  InsecurePlatformWarning\n",
      "D:\\Program Files\\Python27\\lib\\site-packages\\requests\\packages\\urllib3\\util\\ssl_.py:90: InsecurePlatformWarning: A true SSLContext object is not available. This prevents urllib3 from configuring SSL appropriately and may cause certain SSL connections to fail. For more information, see https://urllib3.readthedocs.org/en/latest/security.html#insecureplatformwarning.\n",
      "  InsecurePlatformWarning\n"
     ]
    },
    {
     "name": "stdout",
     "output_type": "stream",
     "text": [
      " 0\n",
      "testmax 1\n",
      "gummii"
     ]
    },
    {
     "name": "stderr",
     "output_type": "stream",
     "text": [
      "D:\\Program Files\\Python27\\lib\\site-packages\\requests\\packages\\urllib3\\util\\ssl_.py:90: InsecurePlatformWarning: A true SSLContext object is not available. This prevents urllib3 from configuring SSL appropriately and may cause certain SSL connections to fail. For more information, see https://urllib3.readthedocs.org/en/latest/security.html#insecureplatformwarning.\n",
      "  InsecurePlatformWarning\n",
      "D:\\Program Files\\Python27\\lib\\site-packages\\requests\\packages\\urllib3\\util\\ssl_.py:90: InsecurePlatformWarning: A true SSLContext object is not available. This prevents urllib3 from configuring SSL appropriately and may cause certain SSL connections to fail. For more information, see https://urllib3.readthedocs.org/en/latest/security.html#insecureplatformwarning.\n",
      "  InsecurePlatformWarning\n"
     ]
    },
    {
     "name": "stdout",
     "output_type": "stream",
     "text": [
      " 0\n",
      "storyjumper 0\n",
      "bridgeu"
     ]
    },
    {
     "name": "stderr",
     "output_type": "stream",
     "text": [
      "D:\\Program Files\\Python27\\lib\\site-packages\\requests\\packages\\urllib3\\util\\ssl_.py:90: InsecurePlatformWarning: A true SSLContext object is not available. This prevents urllib3 from configuring SSL appropriately and may cause certain SSL connections to fail. For more information, see https://urllib3.readthedocs.org/en/latest/security.html#insecureplatformwarning.\n",
      "  InsecurePlatformWarning\n",
      "D:\\Program Files\\Python27\\lib\\site-packages\\requests\\packages\\urllib3\\util\\ssl_.py:90: InsecurePlatformWarning: A true SSLContext object is not available. This prevents urllib3 from configuring SSL appropriately and may cause certain SSL connections to fail. For more information, see https://urllib3.readthedocs.org/en/latest/security.html#insecureplatformwarning.\n",
      "  InsecurePlatformWarning\n"
     ]
    },
    {
     "name": "stdout",
     "output_type": "stream",
     "text": [
      " 3\n",
      "getbonkers 0\n",
      "albert.io"
     ]
    },
    {
     "name": "stderr",
     "output_type": "stream",
     "text": [
      "D:\\Program Files\\Python27\\lib\\site-packages\\requests\\packages\\urllib3\\util\\ssl_.py:90: InsecurePlatformWarning: A true SSLContext object is not available. This prevents urllib3 from configuring SSL appropriately and may cause certain SSL connections to fail. For more information, see https://urllib3.readthedocs.org/en/latest/security.html#insecureplatformwarning.\n",
      "  InsecurePlatformWarning\n",
      "D:\\Program Files\\Python27\\lib\\site-packages\\requests\\packages\\urllib3\\util\\ssl_.py:90: InsecurePlatformWarning: A true SSLContext object is not available. This prevents urllib3 from configuring SSL appropriately and may cause certain SSL connections to fail. For more information, see https://urllib3.readthedocs.org/en/latest/security.html#insecureplatformwarning.\n",
      "  InsecurePlatformWarning\n"
     ]
    },
    {
     "name": "stdout",
     "output_type": "stream",
     "text": [
      " 0\n",
      "classowl 0\n",
      "desmos"
     ]
    },
    {
     "name": "stderr",
     "output_type": "stream",
     "text": [
      "D:\\Program Files\\Python27\\lib\\site-packages\\requests\\packages\\urllib3\\util\\ssl_.py:90: InsecurePlatformWarning: A true SSLContext object is not available. This prevents urllib3 from configuring SSL appropriately and may cause certain SSL connections to fail. For more information, see https://urllib3.readthedocs.org/en/latest/security.html#insecureplatformwarning.\n",
      "  InsecurePlatformWarning\n",
      "D:\\Program Files\\Python27\\lib\\site-packages\\requests\\packages\\urllib3\\util\\ssl_.py:90: InsecurePlatformWarning: A true SSLContext object is not available. This prevents urllib3 from configuring SSL appropriately and may cause certain SSL connections to fail. For more information, see https://urllib3.readthedocs.org/en/latest/security.html#insecureplatformwarning.\n",
      "  InsecurePlatformWarning\n"
     ]
    },
    {
     "name": "stdout",
     "output_type": "stream",
     "text": [
      " 1\n",
      "marcopolo-learning 0\n",
      "121nexus"
     ]
    },
    {
     "name": "stderr",
     "output_type": "stream",
     "text": [
      "D:\\Program Files\\Python27\\lib\\site-packages\\requests\\packages\\urllib3\\util\\ssl_.py:90: InsecurePlatformWarning: A true SSLContext object is not available. This prevents urllib3 from configuring SSL appropriately and may cause certain SSL connections to fail. For more information, see https://urllib3.readthedocs.org/en/latest/security.html#insecureplatformwarning.\n",
      "  InsecurePlatformWarning\n",
      "D:\\Program Files\\Python27\\lib\\site-packages\\requests\\packages\\urllib3\\util\\ssl_.py:90: InsecurePlatformWarning: A true SSLContext object is not available. This prevents urllib3 from configuring SSL appropriately and may cause certain SSL connections to fail. For more information, see https://urllib3.readthedocs.org/en/latest/security.html#insecureplatformwarning.\n",
      "  InsecurePlatformWarning\n"
     ]
    },
    {
     "name": "stdout",
     "output_type": "stream",
     "text": [
      " 0\n",
      "hustle-con 0\n",
      "gigabryte-(formerly-tinkertags)"
     ]
    },
    {
     "name": "stderr",
     "output_type": "stream",
     "text": [
      "D:\\Program Files\\Python27\\lib\\site-packages\\requests\\packages\\urllib3\\util\\ssl_.py:90: InsecurePlatformWarning: A true SSLContext object is not available. This prevents urllib3 from configuring SSL appropriately and may cause certain SSL connections to fail. For more information, see https://urllib3.readthedocs.org/en/latest/security.html#insecureplatformwarning.\n",
      "  InsecurePlatformWarning\n",
      "D:\\Program Files\\Python27\\lib\\site-packages\\requests\\packages\\urllib3\\util\\ssl_.py:90: InsecurePlatformWarning: A true SSLContext object is not available. This prevents urllib3 from configuring SSL appropriately and may cause certain SSL connections to fail. For more information, see https://urllib3.readthedocs.org/en/latest/security.html#insecureplatformwarning.\n",
      "  InsecurePlatformWarning\n"
     ]
    },
    {
     "name": "stdout",
     "output_type": "stream",
     "text": [
      " 0\n",
      "three-ring 0\n",
      "lingvist"
     ]
    },
    {
     "name": "stderr",
     "output_type": "stream",
     "text": [
      "D:\\Program Files\\Python27\\lib\\site-packages\\requests\\packages\\urllib3\\util\\ssl_.py:90: InsecurePlatformWarning: A true SSLContext object is not available. This prevents urllib3 from configuring SSL appropriately and may cause certain SSL connections to fail. For more information, see https://urllib3.readthedocs.org/en/latest/security.html#insecureplatformwarning.\n",
      "  InsecurePlatformWarning\n",
      "D:\\Program Files\\Python27\\lib\\site-packages\\requests\\packages\\urllib3\\util\\ssl_.py:90: InsecurePlatformWarning: A true SSLContext object is not available. This prevents urllib3 from configuring SSL appropriately and may cause certain SSL connections to fail. For more information, see https://urllib3.readthedocs.org/en/latest/security.html#insecureplatformwarning.\n",
      "  InsecurePlatformWarning\n"
     ]
    },
    {
     "name": "stdout",
     "output_type": "stream",
     "text": [
      " 0\n",
      "betterfly 0\n",
      "principly"
     ]
    },
    {
     "name": "stderr",
     "output_type": "stream",
     "text": [
      "D:\\Program Files\\Python27\\lib\\site-packages\\requests\\packages\\urllib3\\util\\ssl_.py:90: InsecurePlatformWarning: A true SSLContext object is not available. This prevents urllib3 from configuring SSL appropriately and may cause certain SSL connections to fail. For more information, see https://urllib3.readthedocs.org/en/latest/security.html#insecureplatformwarning.\n",
      "  InsecurePlatformWarning\n",
      "D:\\Program Files\\Python27\\lib\\site-packages\\requests\\packages\\urllib3\\util\\ssl_.py:90: InsecurePlatformWarning: A true SSLContext object is not available. This prevents urllib3 from configuring SSL appropriately and may cause certain SSL connections to fail. For more information, see https://urllib3.readthedocs.org/en/latest/security.html#insecureplatformwarning.\n",
      "  InsecurePlatformWarning\n"
     ]
    },
    {
     "name": "stdout",
     "output_type": "stream",
     "text": [
      " 0\n",
      "nearpod 0\n",
      "kaymbu"
     ]
    },
    {
     "name": "stderr",
     "output_type": "stream",
     "text": [
      "D:\\Program Files\\Python27\\lib\\site-packages\\requests\\packages\\urllib3\\util\\ssl_.py:90: InsecurePlatformWarning: A true SSLContext object is not available. This prevents urllib3 from configuring SSL appropriately and may cause certain SSL connections to fail. For more information, see https://urllib3.readthedocs.org/en/latest/security.html#insecureplatformwarning.\n",
      "  InsecurePlatformWarning\n",
      "D:\\Program Files\\Python27\\lib\\site-packages\\requests\\packages\\urllib3\\util\\ssl_.py:90: InsecurePlatformWarning: A true SSLContext object is not available. This prevents urllib3 from configuring SSL appropriately and may cause certain SSL connections to fail. For more information, see https://urllib3.readthedocs.org/en/latest/security.html#insecureplatformwarning.\n",
      "  InsecurePlatformWarning\n"
     ]
    },
    {
     "name": "stdout",
     "output_type": "stream",
     "text": [
      " 2\n",
      "junior-explorers 2\n",
      "testive"
     ]
    },
    {
     "name": "stderr",
     "output_type": "stream",
     "text": [
      "D:\\Program Files\\Python27\\lib\\site-packages\\requests\\packages\\urllib3\\util\\ssl_.py:90: InsecurePlatformWarning: A true SSLContext object is not available. This prevents urllib3 from configuring SSL appropriately and may cause certain SSL connections to fail. For more information, see https://urllib3.readthedocs.org/en/latest/security.html#insecureplatformwarning.\n",
      "  InsecurePlatformWarning\n",
      "D:\\Program Files\\Python27\\lib\\site-packages\\requests\\packages\\urllib3\\util\\ssl_.py:90: InsecurePlatformWarning: A true SSLContext object is not available. This prevents urllib3 from configuring SSL appropriately and may cause certain SSL connections to fail. For more information, see https://urllib3.readthedocs.org/en/latest/security.html#insecureplatformwarning.\n",
      "  InsecurePlatformWarning\n"
     ]
    },
    {
     "name": "stdout",
     "output_type": "stream",
     "text": [
      " 1\n",
      "opened 2\n",
      "student-loan-hero"
     ]
    },
    {
     "name": "stderr",
     "output_type": "stream",
     "text": [
      "D:\\Program Files\\Python27\\lib\\site-packages\\requests\\packages\\urllib3\\util\\ssl_.py:90: InsecurePlatformWarning: A true SSLContext object is not available. This prevents urllib3 from configuring SSL appropriately and may cause certain SSL connections to fail. For more information, see https://urllib3.readthedocs.org/en/latest/security.html#insecureplatformwarning.\n",
      "  InsecurePlatformWarning\n",
      "D:\\Program Files\\Python27\\lib\\site-packages\\requests\\packages\\urllib3\\util\\ssl_.py:90: InsecurePlatformWarning: A true SSLContext object is not available. This prevents urllib3 from configuring SSL appropriately and may cause certain SSL connections to fail. For more information, see https://urllib3.readthedocs.org/en/latest/security.html#insecureplatformwarning.\n",
      "  InsecurePlatformWarning\n"
     ]
    },
    {
     "name": "stdout",
     "output_type": "stream",
     "text": [
      " 0\n",
      "zaption 0\n",
      "showbie"
     ]
    },
    {
     "name": "stderr",
     "output_type": "stream",
     "text": [
      "D:\\Program Files\\Python27\\lib\\site-packages\\requests\\packages\\urllib3\\util\\ssl_.py:90: InsecurePlatformWarning: A true SSLContext object is not available. This prevents urllib3 from configuring SSL appropriately and may cause certain SSL connections to fail. For more information, see https://urllib3.readthedocs.org/en/latest/security.html#insecureplatformwarning.\n",
      "  InsecurePlatformWarning\n",
      "D:\\Program Files\\Python27\\lib\\site-packages\\requests\\packages\\urllib3\\util\\ssl_.py:90: InsecurePlatformWarning: A true SSLContext object is not available. This prevents urllib3 from configuring SSL appropriately and may cause certain SSL connections to fail. For more information, see https://urllib3.readthedocs.org/en/latest/security.html#insecureplatformwarning.\n",
      "  InsecurePlatformWarning\n"
     ]
    },
    {
     "name": "stdout",
     "output_type": "stream",
     "text": [
      " 0\n",
      "meritful 0\n",
      "monkimun"
     ]
    },
    {
     "name": "stderr",
     "output_type": "stream",
     "text": [
      "D:\\Program Files\\Python27\\lib\\site-packages\\requests\\packages\\urllib3\\util\\ssl_.py:90: InsecurePlatformWarning: A true SSLContext object is not available. This prevents urllib3 from configuring SSL appropriately and may cause certain SSL connections to fail. For more information, see https://urllib3.readthedocs.org/en/latest/security.html#insecureplatformwarning.\n",
      "  InsecurePlatformWarning\n",
      "D:\\Program Files\\Python27\\lib\\site-packages\\requests\\packages\\urllib3\\util\\ssl_.py:90: InsecurePlatformWarning: A true SSLContext object is not available. This prevents urllib3 from configuring SSL appropriately and may cause certain SSL connections to fail. For more information, see https://urllib3.readthedocs.org/en/latest/security.html#insecureplatformwarning.\n",
      "  InsecurePlatformWarning\n"
     ]
    },
    {
     "name": "stdout",
     "output_type": "stream",
     "text": [
      " 4\n",
      "pragya-systems 0\n",
      "learncore"
     ]
    },
    {
     "name": "stderr",
     "output_type": "stream",
     "text": [
      "D:\\Program Files\\Python27\\lib\\site-packages\\requests\\packages\\urllib3\\util\\ssl_.py:90: InsecurePlatformWarning: A true SSLContext object is not available. This prevents urllib3 from configuring SSL appropriately and may cause certain SSL connections to fail. For more information, see https://urllib3.readthedocs.org/en/latest/security.html#insecureplatformwarning.\n",
      "  InsecurePlatformWarning\n",
      "D:\\Program Files\\Python27\\lib\\site-packages\\requests\\packages\\urllib3\\util\\ssl_.py:90: InsecurePlatformWarning: A true SSLContext object is not available. This prevents urllib3 from configuring SSL appropriately and may cause certain SSL connections to fail. For more information, see https://urllib3.readthedocs.org/en/latest/security.html#insecureplatformwarning.\n",
      "  InsecurePlatformWarning\n"
     ]
    },
    {
     "name": "stdout",
     "output_type": "stream",
     "text": [
      " 5\n",
      "unbound-concepts 0\n",
      "yaklass"
     ]
    },
    {
     "name": "stderr",
     "output_type": "stream",
     "text": [
      "D:\\Program Files\\Python27\\lib\\site-packages\\requests\\packages\\urllib3\\util\\ssl_.py:90: InsecurePlatformWarning: A true SSLContext object is not available. This prevents urllib3 from configuring SSL appropriately and may cause certain SSL connections to fail. For more information, see https://urllib3.readthedocs.org/en/latest/security.html#insecureplatformwarning.\n",
      "  InsecurePlatformWarning\n",
      "D:\\Program Files\\Python27\\lib\\site-packages\\requests\\packages\\urllib3\\util\\ssl_.py:90: InsecurePlatformWarning: A true SSLContext object is not available. This prevents urllib3 from configuring SSL appropriately and may cause certain SSL connections to fail. For more information, see https://urllib3.readthedocs.org/en/latest/security.html#insecureplatformwarning.\n",
      "  InsecurePlatformWarning\n"
     ]
    },
    {
     "name": "stdout",
     "output_type": "stream",
     "text": [
      " 0\n",
      "oneclass 3\n",
      "goldbean"
     ]
    },
    {
     "name": "stderr",
     "output_type": "stream",
     "text": [
      "D:\\Program Files\\Python27\\lib\\site-packages\\requests\\packages\\urllib3\\util\\ssl_.py:90: InsecurePlatformWarning: A true SSLContext object is not available. This prevents urllib3 from configuring SSL appropriately and may cause certain SSL connections to fail. For more information, see https://urllib3.readthedocs.org/en/latest/security.html#insecureplatformwarning.\n",
      "  InsecurePlatformWarning\n",
      "D:\\Program Files\\Python27\\lib\\site-packages\\requests\\packages\\urllib3\\util\\ssl_.py:90: InsecurePlatformWarning: A true SSLContext object is not available. This prevents urllib3 from configuring SSL appropriately and may cause certain SSL connections to fail. For more information, see https://urllib3.readthedocs.org/en/latest/security.html#insecureplatformwarning.\n",
      "  InsecurePlatformWarning\n"
     ]
    },
    {
     "name": "stdout",
     "output_type": "stream",
     "text": [
      " 1\n",
      "scholarpro 0\n",
      "schoology"
     ]
    },
    {
     "name": "stderr",
     "output_type": "stream",
     "text": [
      "D:\\Program Files\\Python27\\lib\\site-packages\\requests\\packages\\urllib3\\util\\ssl_.py:90: InsecurePlatformWarning: A true SSLContext object is not available. This prevents urllib3 from configuring SSL appropriately and may cause certain SSL connections to fail. For more information, see https://urllib3.readthedocs.org/en/latest/security.html#insecureplatformwarning.\n",
      "  InsecurePlatformWarning\n",
      "D:\\Program Files\\Python27\\lib\\site-packages\\requests\\packages\\urllib3\\util\\ssl_.py:90: InsecurePlatformWarning: A true SSLContext object is not available. This prevents urllib3 from configuring SSL appropriately and may cause certain SSL connections to fail. For more information, see https://urllib3.readthedocs.org/en/latest/security.html#insecureplatformwarning.\n",
      "  InsecurePlatformWarning\n"
     ]
    },
    {
     "name": "stdout",
     "output_type": "stream",
     "text": [
      " 8\n",
      "dabble 0\n",
      "swagger-(formerly-co-ed-supply)"
     ]
    },
    {
     "name": "stderr",
     "output_type": "stream",
     "text": [
      "D:\\Program Files\\Python27\\lib\\site-packages\\requests\\packages\\urllib3\\util\\ssl_.py:90: InsecurePlatformWarning: A true SSLContext object is not available. This prevents urllib3 from configuring SSL appropriately and may cause certain SSL connections to fail. For more information, see https://urllib3.readthedocs.org/en/latest/security.html#insecureplatformwarning.\n",
      "  InsecurePlatformWarning\n",
      "D:\\Program Files\\Python27\\lib\\site-packages\\requests\\packages\\urllib3\\util\\ssl_.py:90: InsecurePlatformWarning: A true SSLContext object is not available. This prevents urllib3 from configuring SSL appropriately and may cause certain SSL connections to fail. For more information, see https://urllib3.readthedocs.org/en/latest/security.html#insecureplatformwarning.\n",
      "  InsecurePlatformWarning\n"
     ]
    },
    {
     "name": "stdout",
     "output_type": "stream",
     "text": [
      " 0\n",
      "edools 0\n",
      "booktrack"
     ]
    },
    {
     "name": "stderr",
     "output_type": "stream",
     "text": [
      "D:\\Program Files\\Python27\\lib\\site-packages\\requests\\packages\\urllib3\\util\\ssl_.py:90: InsecurePlatformWarning: A true SSLContext object is not available. This prevents urllib3 from configuring SSL appropriately and may cause certain SSL connections to fail. For more information, see https://urllib3.readthedocs.org/en/latest/security.html#insecureplatformwarning.\n",
      "  InsecurePlatformWarning\n",
      "D:\\Program Files\\Python27\\lib\\site-packages\\requests\\packages\\urllib3\\util\\ssl_.py:90: InsecurePlatformWarning: A true SSLContext object is not available. This prevents urllib3 from configuring SSL appropriately and may cause certain SSL connections to fail. For more information, see https://urllib3.readthedocs.org/en/latest/security.html#insecureplatformwarning.\n",
      "  InsecurePlatformWarning\n"
     ]
    },
    {
     "name": "stdout",
     "output_type": "stream",
     "text": [
      " 0\n",
      "thinkful 1\n",
      "switchboard"
     ]
    },
    {
     "name": "stderr",
     "output_type": "stream",
     "text": [
      "D:\\Program Files\\Python27\\lib\\site-packages\\requests\\packages\\urllib3\\util\\ssl_.py:90: InsecurePlatformWarning: A true SSLContext object is not available. This prevents urllib3 from configuring SSL appropriately and may cause certain SSL connections to fail. For more information, see https://urllib3.readthedocs.org/en/latest/security.html#insecureplatformwarning.\n",
      "  InsecurePlatformWarning\n",
      "D:\\Program Files\\Python27\\lib\\site-packages\\requests\\packages\\urllib3\\util\\ssl_.py:90: InsecurePlatformWarning: A true SSLContext object is not available. This prevents urllib3 from configuring SSL appropriately and may cause certain SSL connections to fail. For more information, see https://urllib3.readthedocs.org/en/latest/security.html#insecureplatformwarning.\n",
      "  InsecurePlatformWarning\n"
     ]
    },
    {
     "name": "stdout",
     "output_type": "stream",
     "text": [
      " 0\n",
      "pi 0\n",
      "edutise"
     ]
    },
    {
     "name": "stderr",
     "output_type": "stream",
     "text": [
      "D:\\Program Files\\Python27\\lib\\site-packages\\requests\\packages\\urllib3\\util\\ssl_.py:90: InsecurePlatformWarning: A true SSLContext object is not available. This prevents urllib3 from configuring SSL appropriately and may cause certain SSL connections to fail. For more information, see https://urllib3.readthedocs.org/en/latest/security.html#insecureplatformwarning.\n",
      "  InsecurePlatformWarning\n",
      "D:\\Program Files\\Python27\\lib\\site-packages\\requests\\packages\\urllib3\\util\\ssl_.py:90: InsecurePlatformWarning: A true SSLContext object is not available. This prevents urllib3 from configuring SSL appropriately and may cause certain SSL connections to fail. For more information, see https://urllib3.readthedocs.org/en/latest/security.html#insecureplatformwarning.\n",
      "  InsecurePlatformWarning\n"
     ]
    },
    {
     "name": "stdout",
     "output_type": "stream",
     "text": [
      " 0\n",
      "transtutors.com 0\n",
      "cuethink"
     ]
    },
    {
     "name": "stderr",
     "output_type": "stream",
     "text": [
      "D:\\Program Files\\Python27\\lib\\site-packages\\requests\\packages\\urllib3\\util\\ssl_.py:90: InsecurePlatformWarning: A true SSLContext object is not available. This prevents urllib3 from configuring SSL appropriately and may cause certain SSL connections to fail. For more information, see https://urllib3.readthedocs.org/en/latest/security.html#insecureplatformwarning.\n",
      "  InsecurePlatformWarning\n",
      "D:\\Program Files\\Python27\\lib\\site-packages\\requests\\packages\\urllib3\\util\\ssl_.py:90: InsecurePlatformWarning: A true SSLContext object is not available. This prevents urllib3 from configuring SSL appropriately and may cause certain SSL connections to fail. For more information, see https://urllib3.readthedocs.org/en/latest/security.html#insecureplatformwarning.\n",
      "  InsecurePlatformWarning\n"
     ]
    },
    {
     "name": "stdout",
     "output_type": "stream",
     "text": [
      " 0\n",
      "cursostotales.com 0\n",
      "education-funding-partners"
     ]
    },
    {
     "name": "stderr",
     "output_type": "stream",
     "text": [
      "D:\\Program Files\\Python27\\lib\\site-packages\\requests\\packages\\urllib3\\util\\ssl_.py:90: InsecurePlatformWarning: A true SSLContext object is not available. This prevents urllib3 from configuring SSL appropriately and may cause certain SSL connections to fail. For more information, see https://urllib3.readthedocs.org/en/latest/security.html#insecureplatformwarning.\n",
      "  InsecurePlatformWarning\n",
      "D:\\Program Files\\Python27\\lib\\site-packages\\requests\\packages\\urllib3\\util\\ssl_.py:90: InsecurePlatformWarning: A true SSLContext object is not available. This prevents urllib3 from configuring SSL appropriately and may cause certain SSL connections to fail. For more information, see https://urllib3.readthedocs.org/en/latest/security.html#insecureplatformwarning.\n",
      "  InsecurePlatformWarning\n"
     ]
    },
    {
     "name": "stdout",
     "output_type": "stream",
     "text": [
      " 0\n",
      "actively-learn 0\n",
      "solidoodle"
     ]
    },
    {
     "name": "stderr",
     "output_type": "stream",
     "text": [
      "D:\\Program Files\\Python27\\lib\\site-packages\\requests\\packages\\urllib3\\util\\ssl_.py:90: InsecurePlatformWarning: A true SSLContext object is not available. This prevents urllib3 from configuring SSL appropriately and may cause certain SSL connections to fail. For more information, see https://urllib3.readthedocs.org/en/latest/security.html#insecureplatformwarning.\n",
      "  InsecurePlatformWarning\n",
      "D:\\Program Files\\Python27\\lib\\site-packages\\requests\\packages\\urllib3\\util\\ssl_.py:90: InsecurePlatformWarning: A true SSLContext object is not available. This prevents urllib3 from configuring SSL appropriately and may cause certain SSL connections to fail. For more information, see https://urllib3.readthedocs.org/en/latest/security.html#insecureplatformwarning.\n",
      "  InsecurePlatformWarning\n"
     ]
    },
    {
     "name": "stdout",
     "output_type": "stream",
     "text": [
      " 0\n",
      "i3zif.com 0\n",
      "tackl"
     ]
    },
    {
     "name": "stderr",
     "output_type": "stream",
     "text": [
      "D:\\Program Files\\Python27\\lib\\site-packages\\requests\\packages\\urllib3\\util\\ssl_.py:90: InsecurePlatformWarning: A true SSLContext object is not available. This prevents urllib3 from configuring SSL appropriately and may cause certain SSL connections to fail. For more information, see https://urllib3.readthedocs.org/en/latest/security.html#insecureplatformwarning.\n",
      "  InsecurePlatformWarning\n",
      "D:\\Program Files\\Python27\\lib\\site-packages\\requests\\packages\\urllib3\\util\\ssl_.py:90: InsecurePlatformWarning: A true SSLContext object is not available. This prevents urllib3 from configuring SSL appropriately and may cause certain SSL connections to fail. For more information, see https://urllib3.readthedocs.org/en/latest/security.html#insecureplatformwarning.\n",
      "  InsecurePlatformWarning\n"
     ]
    },
    {
     "name": "stdout",
     "output_type": "stream",
     "text": [
      " 0\n",
      "launchpilots 0\n",
      "impact-hub-oakland"
     ]
    },
    {
     "name": "stderr",
     "output_type": "stream",
     "text": [
      "D:\\Program Files\\Python27\\lib\\site-packages\\requests\\packages\\urllib3\\util\\ssl_.py:90: InsecurePlatformWarning: A true SSLContext object is not available. This prevents urllib3 from configuring SSL appropriately and may cause certain SSL connections to fail. For more information, see https://urllib3.readthedocs.org/en/latest/security.html#insecureplatformwarning.\n",
      "  InsecurePlatformWarning\n",
      "D:\\Program Files\\Python27\\lib\\site-packages\\requests\\packages\\urllib3\\util\\ssl_.py:90: InsecurePlatformWarning: A true SSLContext object is not available. This prevents urllib3 from configuring SSL appropriately and may cause certain SSL connections to fail. For more information, see https://urllib3.readthedocs.org/en/latest/security.html#insecureplatformwarning.\n",
      "  InsecurePlatformWarning\n"
     ]
    },
    {
     "name": "stdout",
     "output_type": "stream",
     "text": [
      " 0\n",
      "mision-admision 0\n",
      "lesson.ly"
     ]
    },
    {
     "name": "stderr",
     "output_type": "stream",
     "text": [
      "D:\\Program Files\\Python27\\lib\\site-packages\\requests\\packages\\urllib3\\util\\ssl_.py:90: InsecurePlatformWarning: A true SSLContext object is not available. This prevents urllib3 from configuring SSL appropriately and may cause certain SSL connections to fail. For more information, see https://urllib3.readthedocs.org/en/latest/security.html#insecureplatformwarning.\n",
      "  InsecurePlatformWarning\n",
      "D:\\Program Files\\Python27\\lib\\site-packages\\requests\\packages\\urllib3\\util\\ssl_.py:90: InsecurePlatformWarning: A true SSLContext object is not available. This prevents urllib3 from configuring SSL appropriately and may cause certain SSL connections to fail. For more information, see https://urllib3.readthedocs.org/en/latest/security.html#insecureplatformwarning.\n",
      "  InsecurePlatformWarning\n"
     ]
    },
    {
     "name": "stdout",
     "output_type": "stream",
     "text": [
      " 0\n",
      "board-vitals 0\n",
      "fluent-city"
     ]
    },
    {
     "name": "stderr",
     "output_type": "stream",
     "text": [
      "D:\\Program Files\\Python27\\lib\\site-packages\\requests\\packages\\urllib3\\util\\ssl_.py:90: InsecurePlatformWarning: A true SSLContext object is not available. This prevents urllib3 from configuring SSL appropriately and may cause certain SSL connections to fail. For more information, see https://urllib3.readthedocs.org/en/latest/security.html#insecureplatformwarning.\n",
      "  InsecurePlatformWarning\n",
      "D:\\Program Files\\Python27\\lib\\site-packages\\requests\\packages\\urllib3\\util\\ssl_.py:90: InsecurePlatformWarning: A true SSLContext object is not available. This prevents urllib3 from configuring SSL appropriately and may cause certain SSL connections to fail. For more information, see https://urllib3.readthedocs.org/en/latest/security.html#insecureplatformwarning.\n",
      "  InsecurePlatformWarning\n"
     ]
    },
    {
     "name": "stdout",
     "output_type": "stream",
     "text": [
      " 4\n",
      "sokikom 1\n",
      "classbadges"
     ]
    },
    {
     "name": "stderr",
     "output_type": "stream",
     "text": [
      "D:\\Program Files\\Python27\\lib\\site-packages\\requests\\packages\\urllib3\\util\\ssl_.py:90: InsecurePlatformWarning: A true SSLContext object is not available. This prevents urllib3 from configuring SSL appropriately and may cause certain SSL connections to fail. For more information, see https://urllib3.readthedocs.org/en/latest/security.html#insecureplatformwarning.\n",
      "  InsecurePlatformWarning\n",
      "D:\\Program Files\\Python27\\lib\\site-packages\\requests\\packages\\urllib3\\util\\ssl_.py:90: InsecurePlatformWarning: A true SSLContext object is not available. This prevents urllib3 from configuring SSL appropriately and may cause certain SSL connections to fail. For more information, see https://urllib3.readthedocs.org/en/latest/security.html#insecureplatformwarning.\n",
      "  InsecurePlatformWarning\n"
     ]
    },
    {
     "name": "stdout",
     "output_type": "stream",
     "text": [
      " 0\n",
      "raisy 0\n",
      "6dot-innovations"
     ]
    },
    {
     "name": "stderr",
     "output_type": "stream",
     "text": [
      "D:\\Program Files\\Python27\\lib\\site-packages\\requests\\packages\\urllib3\\util\\ssl_.py:90: InsecurePlatformWarning: A true SSLContext object is not available. This prevents urllib3 from configuring SSL appropriately and may cause certain SSL connections to fail. For more information, see https://urllib3.readthedocs.org/en/latest/security.html#insecureplatformwarning.\n",
      "  InsecurePlatformWarning\n",
      "D:\\Program Files\\Python27\\lib\\site-packages\\requests\\packages\\urllib3\\util\\ssl_.py:90: InsecurePlatformWarning: A true SSLContext object is not available. This prevents urllib3 from configuring SSL appropriately and may cause certain SSL connections to fail. For more information, see https://urllib3.readthedocs.org/en/latest/security.html#insecureplatformwarning.\n",
      "  InsecurePlatformWarning\n"
     ]
    },
    {
     "name": "stdout",
     "output_type": "stream",
     "text": [
      " 0\n",
      "tuva-labs 0\n",
      "pathsource"
     ]
    },
    {
     "name": "stderr",
     "output_type": "stream",
     "text": [
      "D:\\Program Files\\Python27\\lib\\site-packages\\requests\\packages\\urllib3\\util\\ssl_.py:90: InsecurePlatformWarning: A true SSLContext object is not available. This prevents urllib3 from configuring SSL appropriately and may cause certain SSL connections to fail. For more information, see https://urllib3.readthedocs.org/en/latest/security.html#insecureplatformwarning.\n",
      "  InsecurePlatformWarning\n",
      "D:\\Program Files\\Python27\\lib\\site-packages\\requests\\packages\\urllib3\\util\\ssl_.py:90: InsecurePlatformWarning: A true SSLContext object is not available. This prevents urllib3 from configuring SSL appropriately and may cause certain SSL connections to fail. For more information, see https://urllib3.readthedocs.org/en/latest/security.html#insecureplatformwarning.\n",
      "  InsecurePlatformWarning\n"
     ]
    },
    {
     "name": "stdout",
     "output_type": "stream",
     "text": [
      " 2\n",
      "kinderloop 0\n",
      "formative"
     ]
    },
    {
     "name": "stderr",
     "output_type": "stream",
     "text": [
      "D:\\Program Files\\Python27\\lib\\site-packages\\requests\\packages\\urllib3\\util\\ssl_.py:90: InsecurePlatformWarning: A true SSLContext object is not available. This prevents urllib3 from configuring SSL appropriately and may cause certain SSL connections to fail. For more information, see https://urllib3.readthedocs.org/en/latest/security.html#insecureplatformwarning.\n",
      "  InsecurePlatformWarning\n",
      "D:\\Program Files\\Python27\\lib\\site-packages\\requests\\packages\\urllib3\\util\\ssl_.py:90: InsecurePlatformWarning: A true SSLContext object is not available. This prevents urllib3 from configuring SSL appropriately and may cause certain SSL connections to fail. For more information, see https://urllib3.readthedocs.org/en/latest/security.html#insecureplatformwarning.\n",
      "  InsecurePlatformWarning\n"
     ]
    },
    {
     "name": "stdout",
     "output_type": "stream",
     "text": [
      " 2\n",
      "tanaza 5\n",
      "ardusat"
     ]
    },
    {
     "name": "stderr",
     "output_type": "stream",
     "text": [
      "D:\\Program Files\\Python27\\lib\\site-packages\\requests\\packages\\urllib3\\util\\ssl_.py:90: InsecurePlatformWarning: A true SSLContext object is not available. This prevents urllib3 from configuring SSL appropriately and may cause certain SSL connections to fail. For more information, see https://urllib3.readthedocs.org/en/latest/security.html#insecureplatformwarning.\n",
      "  InsecurePlatformWarning\n",
      "D:\\Program Files\\Python27\\lib\\site-packages\\requests\\packages\\urllib3\\util\\ssl_.py:90: InsecurePlatformWarning: A true SSLContext object is not available. This prevents urllib3 from configuring SSL appropriately and may cause certain SSL connections to fail. For more information, see https://urllib3.readthedocs.org/en/latest/security.html#insecureplatformwarning.\n",
      "  InsecurePlatformWarning\n"
     ]
    },
    {
     "name": "stdout",
     "output_type": "stream",
     "text": [
      " 0\n",
      "packback 3\n",
      "tradecraft"
     ]
    },
    {
     "name": "stderr",
     "output_type": "stream",
     "text": [
      "D:\\Program Files\\Python27\\lib\\site-packages\\requests\\packages\\urllib3\\util\\ssl_.py:90: InsecurePlatformWarning: A true SSLContext object is not available. This prevents urllib3 from configuring SSL appropriately and may cause certain SSL connections to fail. For more information, see https://urllib3.readthedocs.org/en/latest/security.html#insecureplatformwarning.\n",
      "  InsecurePlatformWarning\n",
      "D:\\Program Files\\Python27\\lib\\site-packages\\requests\\packages\\urllib3\\util\\ssl_.py:90: InsecurePlatformWarning: A true SSLContext object is not available. This prevents urllib3 from configuring SSL appropriately and may cause certain SSL connections to fail. For more information, see https://urllib3.readthedocs.org/en/latest/security.html#insecureplatformwarning.\n",
      "  InsecurePlatformWarning\n"
     ]
    },
    {
     "name": "stdout",
     "output_type": "stream",
     "text": [
      " 0\n",
      "entangled-ventures 0\n",
      "inclass"
     ]
    },
    {
     "name": "stderr",
     "output_type": "stream",
     "text": [
      "D:\\Program Files\\Python27\\lib\\site-packages\\requests\\packages\\urllib3\\util\\ssl_.py:90: InsecurePlatformWarning: A true SSLContext object is not available. This prevents urllib3 from configuring SSL appropriately and may cause certain SSL connections to fail. For more information, see https://urllib3.readthedocs.org/en/latest/security.html#insecureplatformwarning.\n",
      "  InsecurePlatformWarning\n",
      "D:\\Program Files\\Python27\\lib\\site-packages\\requests\\packages\\urllib3\\util\\ssl_.py:90: InsecurePlatformWarning: A true SSLContext object is not available. This prevents urllib3 from configuring SSL appropriately and may cause certain SSL connections to fail. For more information, see https://urllib3.readthedocs.org/en/latest/security.html#insecureplatformwarning.\n",
      "  InsecurePlatformWarning\n"
     ]
    },
    {
     "name": "stdout",
     "output_type": "stream",
     "text": [
      " 0\n",
      "spirit-shop 0\n",
      "deeno"
     ]
    },
    {
     "name": "stderr",
     "output_type": "stream",
     "text": [
      "D:\\Program Files\\Python27\\lib\\site-packages\\requests\\packages\\urllib3\\util\\ssl_.py:90: InsecurePlatformWarning: A true SSLContext object is not available. This prevents urllib3 from configuring SSL appropriately and may cause certain SSL connections to fail. For more information, see https://urllib3.readthedocs.org/en/latest/security.html#insecureplatformwarning.\n",
      "  InsecurePlatformWarning\n",
      "D:\\Program Files\\Python27\\lib\\site-packages\\requests\\packages\\urllib3\\util\\ssl_.py:90: InsecurePlatformWarning: A true SSLContext object is not available. This prevents urllib3 from configuring SSL appropriately and may cause certain SSL connections to fail. For more information, see https://urllib3.readthedocs.org/en/latest/security.html#insecureplatformwarning.\n",
      "  InsecurePlatformWarning\n"
     ]
    },
    {
     "name": "stdout",
     "output_type": "stream",
     "text": [
      " 0\n",
      "yellowdig 3\n",
      "eduadvisor"
     ]
    },
    {
     "name": "stderr",
     "output_type": "stream",
     "text": [
      "D:\\Program Files\\Python27\\lib\\site-packages\\requests\\packages\\urllib3\\util\\ssl_.py:90: InsecurePlatformWarning: A true SSLContext object is not available. This prevents urllib3 from configuring SSL appropriately and may cause certain SSL connections to fail. For more information, see https://urllib3.readthedocs.org/en/latest/security.html#insecureplatformwarning.\n",
      "  InsecurePlatformWarning\n",
      "D:\\Program Files\\Python27\\lib\\site-packages\\requests\\packages\\urllib3\\util\\ssl_.py:90: InsecurePlatformWarning: A true SSLContext object is not available. This prevents urllib3 from configuring SSL appropriately and may cause certain SSL connections to fail. For more information, see https://urllib3.readthedocs.org/en/latest/security.html#insecureplatformwarning.\n",
      "  InsecurePlatformWarning\n"
     ]
    },
    {
     "name": "stdout",
     "output_type": "stream",
     "text": [
      " 0\n",
      "kinobi 0\n",
      "edshelf"
     ]
    },
    {
     "name": "stderr",
     "output_type": "stream",
     "text": [
      "D:\\Program Files\\Python27\\lib\\site-packages\\requests\\packages\\urllib3\\util\\ssl_.py:90: InsecurePlatformWarning: A true SSLContext object is not available. This prevents urllib3 from configuring SSL appropriately and may cause certain SSL connections to fail. For more information, see https://urllib3.readthedocs.org/en/latest/security.html#insecureplatformwarning.\n",
      "  InsecurePlatformWarning\n",
      "D:\\Program Files\\Python27\\lib\\site-packages\\requests\\packages\\urllib3\\util\\ssl_.py:90: InsecurePlatformWarning: A true SSLContext object is not available. This prevents urllib3 from configuring SSL appropriately and may cause certain SSL connections to fail. For more information, see https://urllib3.readthedocs.org/en/latest/security.html#insecureplatformwarning.\n",
      "  InsecurePlatformWarning\n"
     ]
    },
    {
     "name": "stdout",
     "output_type": "stream",
     "text": [
      " 0\n",
      "fullbox 0\n",
      "the-lab-miami"
     ]
    },
    {
     "name": "stderr",
     "output_type": "stream",
     "text": [
      "D:\\Program Files\\Python27\\lib\\site-packages\\requests\\packages\\urllib3\\util\\ssl_.py:90: InsecurePlatformWarning: A true SSLContext object is not available. This prevents urllib3 from configuring SSL appropriately and may cause certain SSL connections to fail. For more information, see https://urllib3.readthedocs.org/en/latest/security.html#insecureplatformwarning.\n",
      "  InsecurePlatformWarning\n",
      "D:\\Program Files\\Python27\\lib\\site-packages\\requests\\packages\\urllib3\\util\\ssl_.py:90: InsecurePlatformWarning: A true SSLContext object is not available. This prevents urllib3 from configuring SSL appropriately and may cause certain SSL connections to fail. For more information, see https://urllib3.readthedocs.org/en/latest/security.html#insecureplatformwarning.\n",
      "  InsecurePlatformWarning\n"
     ]
    },
    {
     "name": "stdout",
     "output_type": "stream",
     "text": [
      " 0\n",
      "kami-(formerly-notable-pdf) 0\n",
      "oohlala-mobile"
     ]
    },
    {
     "name": "stderr",
     "output_type": "stream",
     "text": [
      "D:\\Program Files\\Python27\\lib\\site-packages\\requests\\packages\\urllib3\\util\\ssl_.py:90: InsecurePlatformWarning: A true SSLContext object is not available. This prevents urllib3 from configuring SSL appropriately and may cause certain SSL connections to fail. For more information, see https://urllib3.readthedocs.org/en/latest/security.html#insecureplatformwarning.\n",
      "  InsecurePlatformWarning\n",
      "D:\\Program Files\\Python27\\lib\\site-packages\\requests\\packages\\urllib3\\util\\ssl_.py:90: InsecurePlatformWarning: A true SSLContext object is not available. This prevents urllib3 from configuring SSL appropriately and may cause certain SSL connections to fail. For more information, see https://urllib3.readthedocs.org/en/latest/security.html#insecureplatformwarning.\n",
      "  InsecurePlatformWarning\n"
     ]
    },
    {
     "name": "stdout",
     "output_type": "stream",
     "text": [
      " 0\n",
      "log(n) 0\n"
     ]
    }
   ],
   "source": [
    "newList = []\n",
    "for companyDetails in companiesList:\n",
    "    try:\n",
    "        time.sleep(2)\n",
    "        companyName = companyDetails[\"name\"].lower().replace(\" \",\"-\")\n",
    "        response  = requests.get(\"https://angel.co/\"+companyName,headers=headers).text\n",
    "        soup = BeautifulSoup(response)\n",
    "        links = soup.find_all('div', class_=\"show section\")\n",
    "        for link in links:\n",
    "            linknum = links.index(link) + 1\n",
    "            companyDetails[\"FundRaised_\" +str(linknum)] = link.find(\"div\",class_=\"raised\").text.strip()\n",
    "            companyDetails[\"Date_\"+str(linknum)] = link.find(\"div\",class_=\"date_display\").text.strip()\n",
    "        joblinks = soup.find_all('div', class_=\"job\")\n",
    "        print companyName,len(joblinks)\n",
    "        for joblink in joblinks:\n",
    "            joblinknum = joblinks.index(joblink) + 1\n",
    "            companyDetails[\"JobTitle_\" +str(joblinknum)] = joblink.find(\"div\",class_=\"job_title\").text.strip()\n",
    "            companyDetails[\"JobLocation_\" +str(joblinknum)]= joblink.findAll(\"div\",class_=\"tags\")[0].text.strip()\n",
    "            companyDetails[\"Salary_\" +str(joblinknum)]= joblink.findAll(\"div\",class_=\"tags\")[1].text.strip()\n",
    "        newList.append(companyDetails)\n",
    "    except Exception,e:\n",
    "        print e,companyName\n",
    "        newList.append(companyDetails)"
   ]
  }
 ],
 "metadata": {
  "kernelspec": {
   "display_name": "Python 3",
   "language": "python",
   "name": "python3"
  },
  "language_info": {
   "codemirror_mode": {
    "name": "ipython",
    "version": 3
   },
   "file_extension": ".py",
   "mimetype": "text/x-python",
   "name": "python",
   "nbconvert_exporter": "python",
   "pygments_lexer": "ipython3",
   "version": "3.6.5"
  }
 },
 "nbformat": 4,
 "nbformat_minor": 1
}
